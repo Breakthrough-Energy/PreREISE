{
 "cells": [
  {
   "cell_type": "markdown",
   "metadata": {},
   "source": [
    "# Irradiance Data From NREL NSRDB\n",
    "---\n",
    "**NREL**: National Renewable Energy Laboratory (NREL)  \n",
    "\n",
    "**NSRDB**: National Solar Radiation Database  \n",
    "Information can be found at https://nsrdb.nrel.gov  \n",
    "API: https://developer.nrel.gov/docs/solar/nsrdb/psm3_data_download/\n",
    "\n",
    "**SAM**: System Advisor Model from NREL  \n",
    "Information can be found at https://sam.nrel.gov/  \n",
    "SDK: https://sam.nrel.gov/sdk  \n",
    "Patch: https://github.com/sjschneider/py3samsdk\n",
    "\n",
    "The NSRDB is a serially complete collection of meteorological and solar irradiance data sets for the United States. A physics-based modeling (PSM: Physical Solar Model) approach that provides solar radiation data for the entire United States in gridded segments (4 km x 4 km) using geostationary satellites is used."
   ]
  },
  {
   "cell_type": "markdown",
   "metadata": {},
   "source": [
    "## 1. Sites location\n",
    "The location (longitude and latitude) of the solar plant in the Western grid are chosen."
   ]
  },
  {
   "cell_type": "code",
   "execution_count": 1,
   "metadata": {},
   "outputs": [
    {
     "name": "stdout",
     "output_type": "stream",
     "text": [
      "Loading sub\n",
      "Loading bus2sub\n",
      "Loading bus\n",
      "Loading genbus\n",
      "Loading branches\n",
      "Done loading\n"
     ]
    }
   ],
   "source": [
    "import westernintnet\n",
    "grid = westernintnet.WesternIntNet()"
   ]
  },
  {
   "cell_type": "code",
   "execution_count": 2,
   "metadata": {},
   "outputs": [],
   "source": [
    "solar_plant = grid.genbus.groupby('type').get_group('solar')"
   ]
  },
  {
   "cell_type": "code",
   "execution_count": 3,
   "metadata": {},
   "outputs": [
    {
     "name": "stdout",
     "output_type": "stream",
     "text": [
      "There are 391 solar plants in the Western grid.\n"
     ]
    },
    {
     "data": {
      "text/html": [
       "<div>\n",
       "<style scoped>\n",
       "    .dataframe tbody tr th:only-of-type {\n",
       "        vertical-align: middle;\n",
       "    }\n",
       "\n",
       "    .dataframe tbody tr th {\n",
       "        vertical-align: top;\n",
       "    }\n",
       "\n",
       "    .dataframe thead th {\n",
       "        text-align: right;\n",
       "    }\n",
       "</style>\n",
       "<table border=\"1\" class=\"dataframe\">\n",
       "  <thead>\n",
       "    <tr style=\"text-align: right;\">\n",
       "      <th></th>\n",
       "      <th>busID</th>\n",
       "      <th>Pg</th>\n",
       "      <th>Qg</th>\n",
       "      <th>Qmax</th>\n",
       "      <th>Qmin</th>\n",
       "      <th>Vg</th>\n",
       "      <th>mBase</th>\n",
       "      <th>status</th>\n",
       "      <th>Pmax</th>\n",
       "      <th>Pmin</th>\n",
       "      <th>...</th>\n",
       "      <th>mu_Pmax</th>\n",
       "      <th>mu_Pmin</th>\n",
       "      <th>mu_Qmax</th>\n",
       "      <th>mu_Qmin</th>\n",
       "      <th>type</th>\n",
       "      <th>lat</th>\n",
       "      <th>lon</th>\n",
       "      <th>GenMWMax</th>\n",
       "      <th>GenMWMin</th>\n",
       "      <th>base_color</th>\n",
       "    </tr>\n",
       "    <tr>\n",
       "      <th>plantID</th>\n",
       "      <th></th>\n",
       "      <th></th>\n",
       "      <th></th>\n",
       "      <th></th>\n",
       "      <th></th>\n",
       "      <th></th>\n",
       "      <th></th>\n",
       "      <th></th>\n",
       "      <th></th>\n",
       "      <th></th>\n",
       "      <th></th>\n",
       "      <th></th>\n",
       "      <th></th>\n",
       "      <th></th>\n",
       "      <th></th>\n",
       "      <th></th>\n",
       "      <th></th>\n",
       "      <th></th>\n",
       "      <th></th>\n",
       "      <th></th>\n",
       "      <th></th>\n",
       "    </tr>\n",
       "  </thead>\n",
       "  <tbody>\n",
       "    <tr>\n",
       "      <th>51</th>\n",
       "      <td>10760</td>\n",
       "      <td>0.00</td>\n",
       "      <td>0.0</td>\n",
       "      <td>0.0</td>\n",
       "      <td>0.0</td>\n",
       "      <td>1.0400</td>\n",
       "      <td>69.12</td>\n",
       "      <td>0</td>\n",
       "      <td>61.50</td>\n",
       "      <td>13.06</td>\n",
       "      <td>...</td>\n",
       "      <td>0.0</td>\n",
       "      <td>0.0</td>\n",
       "      <td>0.0</td>\n",
       "      <td>0.0000;</td>\n",
       "      <td>solar</td>\n",
       "      <td>45.584722</td>\n",
       "      <td>-122.405600</td>\n",
       "      <td>61.500001</td>\n",
       "      <td>13.060357</td>\n",
       "      <td>#feb308</td>\n",
       "    </tr>\n",
       "    <tr>\n",
       "      <th>57</th>\n",
       "      <td>10776</td>\n",
       "      <td>0.00</td>\n",
       "      <td>0.0</td>\n",
       "      <td>0.0</td>\n",
       "      <td>0.0</td>\n",
       "      <td>1.0318</td>\n",
       "      <td>32.07</td>\n",
       "      <td>0</td>\n",
       "      <td>28.00</td>\n",
       "      <td>3.77</td>\n",
       "      <td>...</td>\n",
       "      <td>0.0</td>\n",
       "      <td>0.0</td>\n",
       "      <td>0.0</td>\n",
       "      <td>0.0000;</td>\n",
       "      <td>solar</td>\n",
       "      <td>48.448100</td>\n",
       "      <td>-122.433100</td>\n",
       "      <td>28.000000</td>\n",
       "      <td>3.770000</td>\n",
       "      <td>#feb308</td>\n",
       "    </tr>\n",
       "    <tr>\n",
       "      <th>58</th>\n",
       "      <td>10776</td>\n",
       "      <td>14.32</td>\n",
       "      <td>0.0</td>\n",
       "      <td>0.0</td>\n",
       "      <td>0.0</td>\n",
       "      <td>1.0318</td>\n",
       "      <td>23.98</td>\n",
       "      <td>1</td>\n",
       "      <td>14.32</td>\n",
       "      <td>14.32</td>\n",
       "      <td>...</td>\n",
       "      <td>0.0</td>\n",
       "      <td>0.0</td>\n",
       "      <td>0.0</td>\n",
       "      <td>0.0000;</td>\n",
       "      <td>solar</td>\n",
       "      <td>48.448100</td>\n",
       "      <td>-122.433100</td>\n",
       "      <td>20.000000</td>\n",
       "      <td>6.145376</td>\n",
       "      <td>#feb308</td>\n",
       "    </tr>\n",
       "    <tr>\n",
       "      <th>61</th>\n",
       "      <td>10782</td>\n",
       "      <td>13.43</td>\n",
       "      <td>0.0</td>\n",
       "      <td>0.0</td>\n",
       "      <td>0.0</td>\n",
       "      <td>1.0162</td>\n",
       "      <td>27.32</td>\n",
       "      <td>1</td>\n",
       "      <td>13.43</td>\n",
       "      <td>13.43</td>\n",
       "      <td>...</td>\n",
       "      <td>0.0</td>\n",
       "      <td>0.0</td>\n",
       "      <td>0.0</td>\n",
       "      <td>0.0000;</td>\n",
       "      <td>solar</td>\n",
       "      <td>46.103887</td>\n",
       "      <td>-122.918429</td>\n",
       "      <td>18.333334</td>\n",
       "      <td>6.396563</td>\n",
       "      <td>#feb308</td>\n",
       "    </tr>\n",
       "    <tr>\n",
       "      <th>62</th>\n",
       "      <td>10782</td>\n",
       "      <td>14.65</td>\n",
       "      <td>0.0</td>\n",
       "      <td>0.0</td>\n",
       "      <td>0.0</td>\n",
       "      <td>1.0162</td>\n",
       "      <td>18.63</td>\n",
       "      <td>1</td>\n",
       "      <td>14.65</td>\n",
       "      <td>14.65</td>\n",
       "      <td>...</td>\n",
       "      <td>0.0</td>\n",
       "      <td>0.0</td>\n",
       "      <td>0.0</td>\n",
       "      <td>0.0000;</td>\n",
       "      <td>solar</td>\n",
       "      <td>46.103887</td>\n",
       "      <td>-122.918429</td>\n",
       "      <td>18.333334</td>\n",
       "      <td>7.370976</td>\n",
       "      <td>#feb308</td>\n",
       "    </tr>\n",
       "    <tr>\n",
       "      <th>63</th>\n",
       "      <td>10783</td>\n",
       "      <td>13.24</td>\n",
       "      <td>0.0</td>\n",
       "      <td>0.0</td>\n",
       "      <td>0.0</td>\n",
       "      <td>1.0155</td>\n",
       "      <td>22.11</td>\n",
       "      <td>1</td>\n",
       "      <td>13.24</td>\n",
       "      <td>13.24</td>\n",
       "      <td>...</td>\n",
       "      <td>0.0</td>\n",
       "      <td>0.0</td>\n",
       "      <td>0.0</td>\n",
       "      <td>0.0000;</td>\n",
       "      <td>solar</td>\n",
       "      <td>46.103887</td>\n",
       "      <td>-122.918429</td>\n",
       "      <td>18.333334</td>\n",
       "      <td>3.485166</td>\n",
       "      <td>#feb308</td>\n",
       "    </tr>\n",
       "    <tr>\n",
       "      <th>64</th>\n",
       "      <td>10784</td>\n",
       "      <td>17.21</td>\n",
       "      <td>0.0</td>\n",
       "      <td>0.0</td>\n",
       "      <td>0.0</td>\n",
       "      <td>1.0192</td>\n",
       "      <td>43.83</td>\n",
       "      <td>1</td>\n",
       "      <td>17.21</td>\n",
       "      <td>17.21</td>\n",
       "      <td>...</td>\n",
       "      <td>0.0</td>\n",
       "      <td>0.0</td>\n",
       "      <td>0.0</td>\n",
       "      <td>0.0000;</td>\n",
       "      <td>solar</td>\n",
       "      <td>48.746000</td>\n",
       "      <td>-122.486000</td>\n",
       "      <td>39.399999</td>\n",
       "      <td>5.247873</td>\n",
       "      <td>#feb308</td>\n",
       "    </tr>\n",
       "    <tr>\n",
       "      <th>65</th>\n",
       "      <td>10784</td>\n",
       "      <td>42.83</td>\n",
       "      <td>0.0</td>\n",
       "      <td>0.0</td>\n",
       "      <td>0.0</td>\n",
       "      <td>1.0192</td>\n",
       "      <td>64.64</td>\n",
       "      <td>1</td>\n",
       "      <td>42.83</td>\n",
       "      <td>42.83</td>\n",
       "      <td>...</td>\n",
       "      <td>0.0</td>\n",
       "      <td>0.0</td>\n",
       "      <td>0.0</td>\n",
       "      <td>0.0000;</td>\n",
       "      <td>solar</td>\n",
       "      <td>48.746000</td>\n",
       "      <td>-122.486000</td>\n",
       "      <td>58.200002</td>\n",
       "      <td>15.390000</td>\n",
       "      <td>#feb308</td>\n",
       "    </tr>\n",
       "    <tr>\n",
       "      <th>66</th>\n",
       "      <td>10785</td>\n",
       "      <td>39.40</td>\n",
       "      <td>0.0</td>\n",
       "      <td>0.0</td>\n",
       "      <td>0.0</td>\n",
       "      <td>1.0192</td>\n",
       "      <td>44.46</td>\n",
       "      <td>1</td>\n",
       "      <td>39.40</td>\n",
       "      <td>39.40</td>\n",
       "      <td>...</td>\n",
       "      <td>0.0</td>\n",
       "      <td>0.0</td>\n",
       "      <td>0.0</td>\n",
       "      <td>0.0000;</td>\n",
       "      <td>solar</td>\n",
       "      <td>48.746000</td>\n",
       "      <td>-122.486000</td>\n",
       "      <td>39.399999</td>\n",
       "      <td>6.690000</td>\n",
       "      <td>#feb308</td>\n",
       "    </tr>\n",
       "    <tr>\n",
       "      <th>67</th>\n",
       "      <td>10785</td>\n",
       "      <td>31.08</td>\n",
       "      <td>0.0</td>\n",
       "      <td>0.0</td>\n",
       "      <td>0.0</td>\n",
       "      <td>1.0192</td>\n",
       "      <td>49.64</td>\n",
       "      <td>1</td>\n",
       "      <td>31.08</td>\n",
       "      <td>31.08</td>\n",
       "      <td>...</td>\n",
       "      <td>0.0</td>\n",
       "      <td>0.0</td>\n",
       "      <td>0.0</td>\n",
       "      <td>0.0000;</td>\n",
       "      <td>solar</td>\n",
       "      <td>48.746000</td>\n",
       "      <td>-122.486000</td>\n",
       "      <td>39.399999</td>\n",
       "      <td>16.120000</td>\n",
       "      <td>#feb308</td>\n",
       "    </tr>\n",
       "  </tbody>\n",
       "</table>\n",
       "<p>10 rows × 31 columns</p>\n",
       "</div>"
      ],
      "text/plain": [
       "         busID     Pg   Qg  Qmax  Qmin      Vg  mBase  status   Pmax   Pmin  \\\n",
       "plantID                                                                       \n",
       "51       10760   0.00  0.0   0.0   0.0  1.0400  69.12       0  61.50  13.06   \n",
       "57       10776   0.00  0.0   0.0   0.0  1.0318  32.07       0  28.00   3.77   \n",
       "58       10776  14.32  0.0   0.0   0.0  1.0318  23.98       1  14.32  14.32   \n",
       "61       10782  13.43  0.0   0.0   0.0  1.0162  27.32       1  13.43  13.43   \n",
       "62       10782  14.65  0.0   0.0   0.0  1.0162  18.63       1  14.65  14.65   \n",
       "63       10783  13.24  0.0   0.0   0.0  1.0155  22.11       1  13.24  13.24   \n",
       "64       10784  17.21  0.0   0.0   0.0  1.0192  43.83       1  17.21  17.21   \n",
       "65       10784  42.83  0.0   0.0   0.0  1.0192  64.64       1  42.83  42.83   \n",
       "66       10785  39.40  0.0   0.0   0.0  1.0192  44.46       1  39.40  39.40   \n",
       "67       10785  31.08  0.0   0.0   0.0  1.0192  49.64       1  31.08  31.08   \n",
       "\n",
       "            ...      mu_Pmax  mu_Pmin  mu_Qmax  mu_Qmin   type        lat  \\\n",
       "plantID     ...                                                             \n",
       "51          ...          0.0      0.0      0.0  0.0000;  solar  45.584722   \n",
       "57          ...          0.0      0.0      0.0  0.0000;  solar  48.448100   \n",
       "58          ...          0.0      0.0      0.0  0.0000;  solar  48.448100   \n",
       "61          ...          0.0      0.0      0.0  0.0000;  solar  46.103887   \n",
       "62          ...          0.0      0.0      0.0  0.0000;  solar  46.103887   \n",
       "63          ...          0.0      0.0      0.0  0.0000;  solar  46.103887   \n",
       "64          ...          0.0      0.0      0.0  0.0000;  solar  48.746000   \n",
       "65          ...          0.0      0.0      0.0  0.0000;  solar  48.746000   \n",
       "66          ...          0.0      0.0      0.0  0.0000;  solar  48.746000   \n",
       "67          ...          0.0      0.0      0.0  0.0000;  solar  48.746000   \n",
       "\n",
       "                lon   GenMWMax   GenMWMin  base_color  \n",
       "plantID                                                \n",
       "51      -122.405600  61.500001  13.060357     #feb308  \n",
       "57      -122.433100  28.000000   3.770000     #feb308  \n",
       "58      -122.433100  20.000000   6.145376     #feb308  \n",
       "61      -122.918429  18.333334   6.396563     #feb308  \n",
       "62      -122.918429  18.333334   7.370976     #feb308  \n",
       "63      -122.918429  18.333334   3.485166     #feb308  \n",
       "64      -122.486000  39.399999   5.247873     #feb308  \n",
       "65      -122.486000  58.200002  15.390000     #feb308  \n",
       "66      -122.486000  39.399999   6.690000     #feb308  \n",
       "67      -122.486000  39.399999  16.120000     #feb308  \n",
       "\n",
       "[10 rows x 31 columns]"
      ]
     },
     "execution_count": 3,
     "metadata": {},
     "output_type": "execute_result"
    }
   ],
   "source": [
    "print(\"There are %d solar plants in the Western grid.\" % len(solar_plant))\n",
    "solar_plant.head(n=10)"
   ]
  },
  {
   "cell_type": "markdown",
   "metadata": {},
   "source": [
    "Note that that multiple solar plants can share the same location. The reason is that portions of the same plant can differ by their technology and, consequently, have different output power (GenMWMax). A dictionary where the keys are the coordinates and the values are the indices of the plants is created below."
   ]
  },
  {
   "cell_type": "code",
   "execution_count": 4,
   "metadata": {},
   "outputs": [
    {
     "name": "stdout",
     "output_type": "stream",
     "text": [
      "There are 150 unique locations.\n"
     ]
    }
   ],
   "source": [
    "coord = {}\n",
    "for i in range(len(solar_plant)):\n",
    "    key = (solar_plant.lon.values[i],solar_plant.lat.values[i])\n",
    "    if key not in coord.keys():\n",
    "        coord[key] = [(solar_plant.index[i],solar_plant.GenMWMax.values[i])]\n",
    "    else:\n",
    "        coord[key].append((solar_plant.index[i],solar_plant.GenMWMax.values[i]))\n",
    "print(\"There are %d unique locations.\" % len(coord))"
   ]
  },
  {
   "cell_type": "markdown",
   "metadata": {},
   "source": [
    "## 2. Irradiance Data"
   ]
  },
  {
   "cell_type": "code",
   "execution_count": 5,
   "metadata": {},
   "outputs": [],
   "source": [
    "import pandas as pd\n",
    "import random"
   ]
  },
  {
   "cell_type": "markdown",
   "metadata": {},
   "source": [
    "The Physical Solar Model (PSM) v3 API is used to collect and download, as CSV, a configurable set of solar and meteoroligical data fields from The NSRDB."
   ]
  },
  {
   "cell_type": "code",
   "execution_count": 6,
   "metadata": {},
   "outputs": [],
   "source": [
    "# api key\n",
    "api_key = '0neC1BX0VMIGFJWIXYA7Y9ZCjbmHeceLHjWiPjdf'\n",
    "\n",
    "# year\n",
    "year, leap_year = 2016, 'false'\n",
    "\n",
    "# Set the attributes to extract\n",
    "attributes = 'ghi,dhi,dni,wind_speed,air_temperature,solar_zenith_angle'\n",
    "\n",
    "# Set time interval in minutes, i.e., '30' is half hour intervals.\n",
    "# Valid intervals are 30 & 60.\n",
    "interval = '60'\n",
    "\n",
    "# Specify Coordinated Universal Time (UTC), 'true' will use UTC, 'false' will\n",
    "# use the local time zone of the data. NOTE: In order to use the NSRDB data in\n",
    "# SAM, you must specify UTC as 'false'. SAM requires the data to be in the\n",
    "# local time zone.\n",
    "utc = 'false'\n",
    "\n",
    "# Full name\n",
    "name = 'Benjamin+Rouille+d+Orfeuil'\n",
    "\n",
    "# Reason for using the NSRDB.\n",
    "reason = 'Renewable+Energy+Studies'\n",
    "\n",
    "# Affiliation\n",
    "affiliation = 'Intellectual+Ventures'\n",
    "\n",
    "# Email address\n",
    "email = 'brdo@intven.com'\n",
    "\n",
    "# Mailing list subscription\n",
    "list = 'false'"
   ]
  },
  {
   "cell_type": "markdown",
   "metadata": {},
   "source": [
    "The url containing all the relevant information is constructed."
   ]
  },
  {
   "cell_type": "code",
   "execution_count": 7,
   "metadata": {},
   "outputs": [],
   "source": [
    "url = 'http://developer.nrel.gov/api/solar/nsrdb_psm3_download.csv?'\n",
    "url = url + 'api_key={key}'.format(key=api_key)\n",
    "\n",
    "payload = 'names={year}'.format(year=year) + '&' + \\\n",
    "          'leap_day={leap}'.format(leap=leap_year) + '&' + \\\n",
    "          'interval={interval}'.format(interval=interval) + '&' + \\\n",
    "          'utc={utc}'.format(utc=utc) + '&' + \\\n",
    "          'full_name={name}'.format(name=name) + '&' + \\\n",
    "          'email={email}'.format(email=email) + '&' + \\\n",
    "          'affiliation={affiliation}'.format(affiliation=affiliation) + '&' + \\\n",
    "          'mailing_list={mailing_list}'.format(mailing_list=list) + '&' + \\\n",
    "          'reason={reason}'.format(reason=reason) + '&' + \\\n",
    "          'attributes={attr}'.format(attr=attributes)"
   ]
  },
  {
   "cell_type": "markdown",
   "metadata": {},
   "source": [
    "One site is picked randomly among all the solar plants location."
   ]
  },
  {
   "cell_type": "code",
   "execution_count": 8,
   "metadata": {
    "scrolled": true
   },
   "outputs": [
    {
     "name": "stdout",
     "output_type": "stream",
     "text": [
      "Site location: (-115.394, 33.823)\n"
     ]
    }
   ],
   "source": [
    "site = random.choice([ll for ll in coord.keys()])\n",
    "print(\"Site location: (%.3f, %.3f)\" % (site[0], site[1]))"
   ]
  },
  {
   "cell_type": "markdown",
   "metadata": {},
   "source": [
    "Data are loaded in a data frame."
   ]
  },
  {
   "cell_type": "code",
   "execution_count": 9,
   "metadata": {
    "scrolled": false
   },
   "outputs": [],
   "source": [
    "query = 'wkt=POINT({lon}%20{lat})'.format(lon=str(site[0]), lat=str(site[1]))\n",
    "\n",
    "info = pd.read_csv(url+'&'+payload+'&'+query, nrows=1)\n",
    "timezone, elevation = info['Local Time Zone'], info['Elevation']\n",
    "\n",
    "data = pd.read_csv(url+'&'+payload+'&'+query, skiprows=2)"
   ]
  },
  {
   "cell_type": "code",
   "execution_count": 10,
   "metadata": {},
   "outputs": [],
   "source": [
    "data = data.set_index(pd.date_range(start='1/1/{yr}'.format(yr=year), freq='H', periods=365*24*60/int(interval)))"
   ]
  },
  {
   "cell_type": "code",
   "execution_count": 11,
   "metadata": {},
   "outputs": [
    {
     "data": {
      "text/html": [
       "<div>\n",
       "<style scoped>\n",
       "    .dataframe tbody tr th:only-of-type {\n",
       "        vertical-align: middle;\n",
       "    }\n",
       "\n",
       "    .dataframe tbody tr th {\n",
       "        vertical-align: top;\n",
       "    }\n",
       "\n",
       "    .dataframe thead th {\n",
       "        text-align: right;\n",
       "    }\n",
       "</style>\n",
       "<table border=\"1\" class=\"dataframe\">\n",
       "  <thead>\n",
       "    <tr style=\"text-align: right;\">\n",
       "      <th></th>\n",
       "      <th>Year</th>\n",
       "      <th>Month</th>\n",
       "      <th>Day</th>\n",
       "      <th>Hour</th>\n",
       "      <th>Minute</th>\n",
       "      <th>GHI</th>\n",
       "      <th>DHI</th>\n",
       "      <th>DNI</th>\n",
       "      <th>Wind Speed</th>\n",
       "      <th>Temperature</th>\n",
       "      <th>Solar Zenith Angle</th>\n",
       "    </tr>\n",
       "  </thead>\n",
       "  <tbody>\n",
       "    <tr>\n",
       "      <th>2016-01-01 00:00:00</th>\n",
       "      <td>2016</td>\n",
       "      <td>1</td>\n",
       "      <td>1</td>\n",
       "      <td>0</td>\n",
       "      <td>30</td>\n",
       "      <td>0</td>\n",
       "      <td>0</td>\n",
       "      <td>0</td>\n",
       "      <td>2.0</td>\n",
       "      <td>1</td>\n",
       "      <td>165.35</td>\n",
       "    </tr>\n",
       "    <tr>\n",
       "      <th>2016-01-01 01:00:00</th>\n",
       "      <td>2016</td>\n",
       "      <td>1</td>\n",
       "      <td>1</td>\n",
       "      <td>1</td>\n",
       "      <td>30</td>\n",
       "      <td>0</td>\n",
       "      <td>0</td>\n",
       "      <td>0</td>\n",
       "      <td>2.0</td>\n",
       "      <td>1</td>\n",
       "      <td>154.58</td>\n",
       "    </tr>\n",
       "    <tr>\n",
       "      <th>2016-01-01 02:00:00</th>\n",
       "      <td>2016</td>\n",
       "      <td>1</td>\n",
       "      <td>1</td>\n",
       "      <td>2</td>\n",
       "      <td>30</td>\n",
       "      <td>0</td>\n",
       "      <td>0</td>\n",
       "      <td>0</td>\n",
       "      <td>2.0</td>\n",
       "      <td>1</td>\n",
       "      <td>142.38</td>\n",
       "    </tr>\n",
       "    <tr>\n",
       "      <th>2016-01-01 03:00:00</th>\n",
       "      <td>2016</td>\n",
       "      <td>1</td>\n",
       "      <td>1</td>\n",
       "      <td>3</td>\n",
       "      <td>30</td>\n",
       "      <td>0</td>\n",
       "      <td>0</td>\n",
       "      <td>0</td>\n",
       "      <td>2.0</td>\n",
       "      <td>0</td>\n",
       "      <td>129.94</td>\n",
       "    </tr>\n",
       "    <tr>\n",
       "      <th>2016-01-01 04:00:00</th>\n",
       "      <td>2016</td>\n",
       "      <td>1</td>\n",
       "      <td>1</td>\n",
       "      <td>4</td>\n",
       "      <td>30</td>\n",
       "      <td>0</td>\n",
       "      <td>0</td>\n",
       "      <td>0</td>\n",
       "      <td>2.1</td>\n",
       "      <td>0</td>\n",
       "      <td>117.57</td>\n",
       "    </tr>\n",
       "  </tbody>\n",
       "</table>\n",
       "</div>"
      ],
      "text/plain": [
       "                     Year  Month  Day  Hour  Minute  GHI  DHI  DNI  \\\n",
       "2016-01-01 00:00:00  2016      1    1     0      30    0    0    0   \n",
       "2016-01-01 01:00:00  2016      1    1     1      30    0    0    0   \n",
       "2016-01-01 02:00:00  2016      1    1     2      30    0    0    0   \n",
       "2016-01-01 03:00:00  2016      1    1     3      30    0    0    0   \n",
       "2016-01-01 04:00:00  2016      1    1     4      30    0    0    0   \n",
       "\n",
       "                     Wind Speed  Temperature  Solar Zenith Angle  \n",
       "2016-01-01 00:00:00         2.0            1              165.35  \n",
       "2016-01-01 01:00:00         2.0            1              154.58  \n",
       "2016-01-01 02:00:00         2.0            1              142.38  \n",
       "2016-01-01 03:00:00         2.0            0              129.94  \n",
       "2016-01-01 04:00:00         2.1            0              117.57  "
      ]
     },
     "execution_count": 11,
     "metadata": {},
     "output_type": "execute_result"
    }
   ],
   "source": [
    "data.head()"
   ]
  },
  {
   "cell_type": "markdown",
   "metadata": {},
   "source": [
    "## 3. SAM\n",
    "The solar and meteoroligical data collected from the NSRDB as weel as some variables defining the system configuration are used to construct a SSC (SAM Simulation Core) object."
   ]
  },
  {
   "cell_type": "code",
   "execution_count": 12,
   "metadata": {},
   "outputs": [],
   "source": [
    "from py3samsdk import PySSC\n",
    "\n",
    "ssc_lib = 'U:\\\\SAM\\\\2017-9-5-r4\\\\win64\\\\'\n",
    "ssc = PySSC(ssc_lib)"
   ]
  },
  {
   "cell_type": "code",
   "execution_count": 13,
   "metadata": {},
   "outputs": [],
   "source": [
    "# Resource inputs for SAM model:\n",
    "SAM_resource = ssc.data_create()\n",
    "ssc.data_set_number(SAM_resource, 'lat', site[1])\n",
    "ssc.data_set_number(SAM_resource, 'lon', site[0])\n",
    "ssc.data_set_number(SAM_resource, 'tz', timezone)\n",
    "ssc.data_set_number(SAM_resource, 'elev', elevation)\n",
    "ssc.data_set_array(SAM_resource, 'year', data.index.year)\n",
    "ssc.data_set_array(SAM_resource, 'month', data.index.month)\n",
    "ssc.data_set_array(SAM_resource, 'day', data.index.day)\n",
    "ssc.data_set_array(SAM_resource, 'hour', data.index.hour)\n",
    "ssc.data_set_array(SAM_resource, 'minute', data.index.minute)\n",
    "ssc.data_set_array(SAM_resource, 'dn', data['DNI'])\n",
    "ssc.data_set_array(SAM_resource, 'df', data['DHI'])\n",
    "ssc.data_set_array(SAM_resource, 'wspd', data['Wind Speed'])\n",
    "ssc.data_set_array(SAM_resource, 'tdry', data['Temperature'])\n",
    "\n",
    "# Create SAM compliant object  \n",
    "SAM_core = ssc.data_create()\n",
    "ssc.data_set_table(SAM_core, 'solar_resource_data', SAM_resource)\n",
    "ssc.data_free(SAM_resource)\n",
    "\n",
    "# Specify the system Configuration\n",
    "# Set system capacity in MW\n",
    "system_capacity = coord[(site[0],site[1])][0][1]\n",
    "ssc.data_set_number(SAM_core, 'system_capacity', system_capacity)\n",
    "# Set DC/AC ratio (or power ratio). See \n",
    "# https://sam.nrel.gov/sites/default/files/content/virtual_conf_july_2013/07-sam-virtual-conference-2013-woodcock.pdf\n",
    "ssc.data_set_number(SAM_core, 'dc_ac_ratio', 1.1)\n",
    "# Set tilt of system in degrees\n",
    "ssc.data_set_number(SAM_core, 'tilt', 25)\n",
    "# Set azimuth angle (in degrees) from north (0 degrees)\n",
    "ssc.data_set_number(SAM_core, 'azimuth', 180)\n",
    "# Set the inverter efficency\n",
    "ssc.data_set_number(SAM_core, 'inv_eff', 96)\n",
    "# Set the system losses, in percent\n",
    "ssc.data_set_number(SAM_core, 'losses', 14.0757)\n",
    "# Specify fixed tilt system (0=Fixed, 1=Fixed Roof, 2=1 Axis Tracker, 3=Backtracted, 4=2 Axis Tracker)\n",
    "ssc.data_set_number(SAM_core, 'array_type', 0)\n",
    "# Set ground coverage ratio\n",
    "ssc.data_set_number(SAM_core, 'gcr', 0.4)\n",
    "# Set constant loss adjustment\n",
    "ssc.data_set_number(SAM_core, 'adjust:constant', 0)"
   ]
  },
  {
   "cell_type": "markdown",
   "metadata": {},
   "source": [
    "The solar power output can now be generated. The results are added to the original dataset."
   ]
  },
  {
   "cell_type": "code",
   "execution_count": 14,
   "metadata": {},
   "outputs": [],
   "source": [
    "import numpy as np\n",
    "\n",
    "mod = ssc.module_create('pvwattsv5')\n",
    "ssc.module_exec(mod, SAM_core)\n",
    "data['Pout'] = np.array(ssc.data_get_array(SAM_core, 'gen'))\n",
    "\n",
    "# free the memory\n",
    "ssc.data_free(SAM_core)\n",
    "ssc.module_free(mod)"
   ]
  },
  {
   "cell_type": "markdown",
   "metadata": {},
   "source": [
    "The irrdiance data along with the solar power output are plotted for comparison. The naive calculation of the solar power output (see [`naive.py`](naive.py)) is also included."
   ]
  },
  {
   "cell_type": "code",
   "execution_count": 15,
   "metadata": {},
   "outputs": [],
   "source": [
    "%matplotlib inline\n",
    "from matplotlib import pyplot as plt\n",
    "\n",
    "def plot_interval(df, i, length):\n",
    "    var = ['GHI','DNI','DHI','Solar Zenith Angle','90 Degree Zenith']\n",
    "    style = {'90 Degree Zenith':'--y','Solar Zenith Angle':'-o','DNI':'-o','DHI':'-o','GHI':'-'}\n",
    "    \n",
    "    fig = plt.figure()\n",
    "    ax = fig.add_subplot(111)\n",
    "    ax2 = ax.twinx()\n",
    "    df['90 Degree Zenith'] = 90\n",
    "    df['naive Pout'] = system_capacity*df['GHI']/df['GHI'].max()\n",
    "    df[var][i:i+length].plot(ax=ax, figsize=(15,8), style=style, legend=False)\n",
    "    df[['Pout','naive Pout']][i:i+length].plot(ax=ax2, style={'Pout':'m-o', 'naive Pout':'mo'})\n",
    "    \n",
    "    ax.grid()\n",
    "    ax.set_ylabel('W/m2')\n",
    "    ax2.set_ylabel('MW')\n",
    "    ax.legend(loc=2, frameon=False)\n",
    "    ax2.legend(loc=1, frameon=False)"
   ]
  },
  {
   "cell_type": "code",
   "execution_count": 16,
   "metadata": {
    "scrolled": false
   },
   "outputs": [
    {
     "data": {
      "image/png": "[encoded data removed]",
      "text/plain": [
       "<Figure size 1080x576 with 2 Axes>"
      ]
     },
     "metadata": {},
     "output_type": "display_data"
    }
   ],
   "source": [
    "plot_interval(data, 4320, 24)"
   ]
  },
  {
   "cell_type": "markdown",
   "metadata": {},
   "source": [
    "The capacity of the chosen plant, i.e., the unitless ratio of an actual electrical power output over a given period of time to the maximum possible electrical power output over that period is given below."
   ]
  },
  {
   "cell_type": "code",
   "execution_count": 17,
   "metadata": {},
   "outputs": [
    {
     "name": "stdout",
     "output_type": "stream",
     "text": [
      "Capacity Factor: 0.201\n"
     ]
    }
   ],
   "source": [
    "print(\"Capacity Factor: %.3f\" % (data['Pout'].sum() / (365*24*60/int(interval) * system_capacity)))"
   ]
  },
  {
   "cell_type": "markdown",
   "metadata": {},
   "source": [
    "The total solar power out over the given period is:"
   ]
  },
  {
   "cell_type": "code",
   "execution_count": 18,
   "metadata": {},
   "outputs": [
    {
     "name": "stdout",
     "output_type": "stream",
     "text": [
      "Total Energy produced: 92060 MWh\n"
     ]
    }
   ],
   "source": [
    "print(\"Total Energy produced: %d MWh\" % data['Pout'].sum())"
   ]
  },
  {
   "cell_type": "code",
   "execution_count": 19,
   "metadata": {},
   "outputs": [],
   "source": [
    "def plot_year(df):\n",
    "    fig, axes = plt.subplots(1, 2, figsize=(16, 8))\n",
    "\n",
    "    axes[0].hist(df.GHI, bins = 25, log=True, color='b')\n",
    "    axes[0].set_title('GHI (W/m$^2$)')\n",
    "\n",
    "    axes[1].hist(df.Pout, bins = 25, log=True, color='r')\n",
    "    axes[1].set_title('Solar Power Output (MW)')"
   ]
  },
  {
   "cell_type": "code",
   "execution_count": 20,
   "metadata": {},
   "outputs": [
    {
     "data": {
      "image/png": "[encoded data removed]",
      "text/plain": [
       "<Figure size 1152x576 with 2 Axes>"
      ]
     },
     "metadata": {},
     "output_type": "display_data"
    }
   ],
   "source": [
    "plot_year(data)"
   ]
  },
  {
   "cell_type": "code",
   "execution_count": 21,
   "metadata": {},
   "outputs": [
    {
     "name": "stdout",
     "output_type": "stream",
     "text": [
      "Maximum Power Output: 43.8 MW\n",
      "System Capacity: 52.3 MW\n"
     ]
    }
   ],
   "source": [
    "print(\"Maximum Power Output: %.1f MW\" % data['Pout'].max())\n",
    "print(\"System Capacity: %.1f MW\" % system_capacity)"
   ]
  }
 ],
 "metadata": {
  "kernelspec": {
   "display_name": "Python 2",
   "language": "python",
   "name": "python2"
  },
  "language_info": {
   "codemirror_mode": {
    "name": "ipython",
    "version": 2
   },
   "file_extension": ".py",
   "mimetype": "text/x-python",
   "name": "python",
   "nbconvert_exporter": "python",
   "pygments_lexer": "ipython2",
   "version": "2.7.15"
  }
 },
 "nbformat": 4,
 "nbformat_minor": 2
}
