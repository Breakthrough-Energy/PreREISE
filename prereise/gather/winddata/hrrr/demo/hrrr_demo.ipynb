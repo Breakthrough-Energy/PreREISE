{
 "cells": [
  {
   "cell_type": "markdown",
   "source": [
    "# Wind Data From NOAA's High-Resolution Rapid Refresh\n",
    "---\n",
    "\n",
    "**NOAA**: National Oceanic and Atmospheric Administration\n",
    "\n",
    "**HRRR**: High-Resolution Rapid Refresh\n",
    "\n",
    "See documentation for more detail."
   ],
   "metadata": {}
  },
  {
   "cell_type": "code",
   "execution_count": 1,
   "source": [
    "from datetime import datetime\n",
    "from prereise.gather.winddata.hrrr.hrrr import retrieve_data\n",
    "from prereise.gather.winddata.hrrr.calculations import calculate_pout\n",
    "from powersimdata.input.grid import Grid\n",
    "\n",
    "start_dt = datetime.fromisoformat(\"2016-01-01\")\n",
    "end_dt = datetime.fromisoformat(\"2016-01-02\")\n",
    "directory = \"./\"\n",
    "\n",
    "grid = Grid([\"Texas\",\"Western\"])\n",
    "wind_farms = grid.plant.groupby(\"type\").get_group(\"wind\")\n",
    "retrieve_data(start_dt=start_dt, end_dt=end_dt, directory=directory)\n",
    "df = calculate_pout(wind_farms=wind_farms, start_dt=start_dt, end_dt=end_dt, directory=directory)\n",
    "print(df.head())"
   ],
   "outputs": [],
   "metadata": {}
  }
 ],
 "metadata": {
  "kernelspec": {
   "display_name": "Python 3",
   "language": "python",
   "name": "python3"
  },
  "language_info": {
   "codemirror_mode": {
    "name": "ipython",
    "version": 3
   },
   "file_extension": ".py",
   "mimetype": "text/x-python",
   "name": "python",
   "nbconvert_exporter": "python",
   "pygments_lexer": "ipython3",
   "version": "3.8.3"
  }
 },
 "nbformat": 4,
 "nbformat_minor": 4
}