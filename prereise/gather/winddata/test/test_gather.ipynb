{
 "cells": [
  {
   "cell_type": "code",
   "execution_count": null,
   "metadata": {},
   "outputs": [],
   "source": [
    "import sys\n",
    "sys.path.append(\"..\")"
   ]
  },
  {
   "cell_type": "code",
   "execution_count": null,
   "metadata": {},
   "outputs": [],
   "source": [
    "import gather_winddata as gather"
   ]
  },
  {
   "cell_type": "code",
   "execution_count": null,
   "metadata": {},
   "outputs": [],
   "source": [
    "all_siteID_NREL  = gather.get_all_NREL_siteID_for_states(['WA'])"
   ]
  },
  {
   "cell_type": "code",
   "execution_count": null,
   "metadata": {},
   "outputs": [],
   "source": [
    "wind_farm_bus = gather.win.genbus.groupby('type').get_group('wind')\n",
    "wind_farm_bus.lat.unique().size"
   ]
  },
  {
   "cell_type": "code",
   "execution_count": null,
   "metadata": {},
   "outputs": [],
   "source": [
    "closest_NREL_siteID = gather.find_NREL_siteID_closest_to_windfarm(all_siteID_NREL, wind_farm_bus[['lat','lon']])"
   ]
  },
  {
   "cell_type": "code",
   "execution_count": null,
   "metadata": {},
   "outputs": [],
   "source": [
    "data_start = gather.pd.Timestamp('2010-01-01')\n",
    "#data_end = gather.pd.Timestamp('2012-12-31 23:55:00')\n",
    "data_end = gather.pd.Timestamp('2010-01-01 23:55:00')\n",
    "data_range = gather.pd.date_range(data_start, data_end,freq = '5min')"
   ]
  },
  {
   "cell_type": "code",
   "execution_count": null,
   "metadata": {
    "scrolled": true
   },
   "outputs": [],
   "source": [
    "data = gather.get_data_from_NREL_server(closest_NREL_siteID, data_range)"
   ]
  },
  {
   "cell_type": "code",
   "execution_count": null,
   "metadata": {
    "scrolled": true
   },
   "outputs": [],
   "source": [
    "[power,wind_speed] = gather.dict_to_DataFrame(data, data_range, closest_NREL_siteID)"
   ]
  },
  {
   "cell_type": "code",
   "execution_count": null,
   "metadata": {},
   "outputs": [],
   "source": [
    "mp = gather.scale_and_save_power_for_matpower(power, wind_farm_bus, closest_NREL_siteID)"
   ]
  },
  {
   "cell_type": "code",
   "execution_count": null,
   "metadata": {},
   "outputs": [],
   "source": [
    "gather.get_and_save_NREL_data()"
   ]
  },
  {
   "cell_type": "code",
   "execution_count": null,
   "metadata": {},
   "outputs": [],
   "source": []
  }
 ],
 "metadata": {
  "kernelspec": {
   "display_name": "Python 3",
   "language": "python",
   "name": "python3"
  }
 },
 "nbformat": 4,
 "nbformat_minor": 2
}
