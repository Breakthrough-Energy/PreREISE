{
 "cells": [
  {
   "cell_type": "markdown",
   "id": "checked-pipeline",
   "metadata": {},
   "source": [
    "## RAP File Structure"
   ]
  },
  {
   "cell_type": "code",
   "execution_count": 1,
   "id": "dress-slovenia",
   "metadata": {},
   "outputs": [],
   "source": [
    "import os\n",
    "import urllib.request\n",
    "from netCDF4 import Dataset"
   ]
  },
  {
   "cell_type": "markdown",
   "id": "secret-skill",
   "metadata": {},
   "source": [
    "Let's download one file using the same query parameters than in the `rap` module. The bounding box is the one of the Western interconnect."
   ]
  },
  {
   "cell_type": "code",
   "execution_count": 2,
   "id": "chinese-subscriber",
   "metadata": {},
   "outputs": [
    {
     "name": "stdout",
     "output_type": "stream",
     "text": [
      "Beginning data download\n"
     ]
    },
    {
     "data": {
      "text/plain": [
       "('./rap_example.nc', <http.client.HTTPMessage at 0x11051d8e0>)"
      ]
     },
     "execution_count": 2,
     "metadata": {},
     "output_type": "execute_result"
    }
   ],
   "source": [
    "print(\"Beginning data download\")\n",
    "url = (\"https://www.ncei.noaa.gov/thredds/ncss/model-rap130/202101/20210118/rap_130_20210118_0300_000.grb2?\"\n",
    "       \"var=u-component_of_wind_height_above_ground&\"\n",
    "       \"var=v-component_of_wind_height_above_ground&\"\n",
    "       \"disableProjSubset=on&\"\n",
    "       \"horizStride=1&\"\n",
    "       \"addLatLon=true&\"\n",
    "       \"accept=netCDF&\"\n",
    "       \"north=49.8203&\"\n",
    "       \"south=31.5543&\"\n",
    "       \"west=-122.855&\"\n",
    "       \"east=-101.353\")\n",
    "urllib.request.urlretrieve(url, \"./rap_example.nc\")"
   ]
  },
  {
   "cell_type": "code",
   "execution_count": 3,
   "id": "bronze-advancement",
   "metadata": {},
   "outputs": [],
   "source": [
    "def nc_structure(data, verb=True):\n",
    "    \"\"\"Output data information.\n",
    "\n",
    "    :param netCdF4.Dataset data: a netCDF4 dateset object.\n",
    "    :param bool verb: whether information is printed.\n",
    "    :return: (*tuple*) -- lists of data global attributes, dimensions and variables\n",
    "    \"\"\"\n",
    "\n",
    "    def print_ncattr(key):\n",
    "        \"\"\"Prints data attributes for a given key.\n",
    "\n",
    "        :param str key: unicode\n",
    "        \"\"\"\n",
    "        try:\n",
    "            print(\"\\t\\ttype:\", repr(data.variables[key].dtype))\n",
    "            for ncattr in data.variables[key].ncattrs():\n",
    "                print(\"\\t\\t%s:\" % ncattr, repr(data.variables[key].getncattr(ncattr)))\n",
    "        except KeyError:\n",
    "            print(\"\\t\\tWARNING: %s does not contain variable attributes\" % key)\n",
    "\n",
    "    # NetCDF global attributes\n",
    "    nc_attrs = data.ncattrs()\n",
    "    if verb:\n",
    "        print(\"NetCDF Global Attributes:\")\n",
    "        for nc_attr in nc_attrs:\n",
    "            print(\"\\t%s:\" % nc_attr, repr(data.getncattr(nc_attr)))\n",
    "    nc_dims = [dim for dim in data.dimensions]  # list of nc dimensions\n",
    "    # Dimension shape information.\n",
    "    if verb:\n",
    "        print(\"NetCDF dimension information:\")\n",
    "        for dim in nc_dims:\n",
    "            print(\"\\tName:\", dim)\n",
    "            print(\"\\t\\tsize:\", len\n",
    "                  (data.dimensions[dim]))\n",
    "            print_ncattr(dim)\n",
    "    # Variable information.\n",
    "    nc_vars = [var for var in data.variables]  # list of nc variables\n",
    "    if verb:\n",
    "        print(\"NetCDF variable information:\")\n",
    "        for var in nc_vars:\n",
    "            if var not in nc_dims:\n",
    "                print(\"\\tName:\"), var\n",
    "                print(\"\\t\\tdimensions:\", data.variables[var].dimensions)\n",
    "                print(\"\\t\\tsize:\", data.variables[var].size)\n",
    "                print_ncattr(var)\n",
    "    return nc_attrs, nc_dims, nc_vars"
   ]
  },
  {
   "cell_type": "code",
   "execution_count": 4,
   "id": "statewide-triumph",
   "metadata": {
    "scrolled": false
   },
   "outputs": [
    {
     "name": "stdout",
     "output_type": "stream",
     "text": [
      "NetCDF Global Attributes:\n",
      "\tOriginating_or_generating_Center: 'US National Weather Service, National Centres for Environmental Prediction (NCEP)'\n",
      "\tOriginating_or_generating_Subcenter: '0'\n",
      "\tGRIB_table_version: '2,1'\n",
      "\tType_of_generating_process: 'Forecast'\n",
      "\tAnalysis_or_forecast_generating_process_identifier_defined_by_originating_centre: 'Rapid Refresh (RAP)'\n",
      "\tConventions: 'CF-1.6'\n",
      "\thistory: 'Read using CDM IOSP GribCollection v3'\n",
      "\tfeatureType: 'GRID'\n",
      "\tHistory: 'Translated to CF-1.0 Conventions by Netcdf-Java CDM (CFGridWriter2)\\nOriginal Dataset = /modeldata3/published/rapid-refresh/access/rap-130-13km/forecast/202101/20210118/rap_130_20210118_0300_000.grb2; Translation Date = 2021-03-01T18:05:30.662Z'\n",
      "\tgeospatial_lat_min: 29.163452141623054\n",
      "\tgeospatial_lat_max: 51.59138140554875\n",
      "\tgeospatial_lon_min: -128.2667587035812\n",
      "\tgeospatial_lon_max: -100.1816027596006\n",
      "NetCDF dimension information:\n",
      "\tName: time\n",
      "\t\tsize: 1\n",
      "\t\ttype: dtype('float64')\n",
      "\t\tunits: 'Hour since 2021-01-18T03:00:00Z'\n",
      "\t\tstandard_name: 'time'\n",
      "\t\tlong_name: 'GRIB forecast or observation time'\n",
      "\t\tcalendar: 'proleptic_gregorian'\n",
      "\t\t_CoordinateAxisType: 'Time'\n",
      "\tName: height_above_ground5\n",
      "\t\tsize: 2\n",
      "\t\ttype: dtype('float32')\n",
      "\t\tunits: 'm'\n",
      "\t\tlong_name: 'Specified height level above ground'\n",
      "\t\tpositive: 'up'\n",
      "\t\tGrib_level_type: 103\n",
      "\t\tdatum: 'ground'\n",
      "\t\t_CoordinateAxisType: 'Height'\n",
      "\t\t_CoordinateZisPositive: 'up'\n",
      "\tName: y\n",
      "\t\tsize: 174\n",
      "\t\ttype: dtype('float32')\n",
      "\t\tstandard_name: 'projection_y_coordinate'\n",
      "\t\tunits: 'km'\n",
      "\t\t_CoordinateAxisType: 'GeoY'\n",
      "\tName: x\n",
      "\t\tsize: 159\n",
      "\t\ttype: dtype('float32')\n",
      "\t\tstandard_name: 'projection_x_coordinate'\n",
      "\t\tunits: 'km'\n",
      "\t\t_CoordinateAxisType: 'GeoX'\n",
      "NetCDF variable information:\n",
      "\tName:\n",
      "\t\tdimensions: ('time', 'height_above_ground5', 'y', 'x')\n",
      "\t\tsize: 55332\n",
      "\t\ttype: dtype('float32')\n",
      "\t\tlong_name: 'u-component of wind @ Specified height level above ground'\n",
      "\t\tunits: 'm/s'\n",
      "\t\tabbreviation: 'UGRD'\n",
      "\t\tmissing_value: nan\n",
      "\t\tgrid_mapping: 'LambertConformal_Projection'\n",
      "\t\tcoordinates: 'time height_above_ground5 y x '\n",
      "\t\tGrib_Variable_Id: 'VAR_0-2-2_L103'\n",
      "\t\tGrib2_Parameter: array([0, 2, 2], dtype=int32)\n",
      "\t\tGrib2_Parameter_Discipline: 'Meteorological products'\n",
      "\t\tGrib2_Parameter_Category: 'Momentum'\n",
      "\t\tGrib2_Parameter_Name: 'u-component of wind'\n",
      "\t\tGrib2_Level_Type: 103\n",
      "\t\tGrib2_Level_Desc: 'Specified height level above ground'\n",
      "\t\tGrib2_Generating_Process_Type: 'Forecast'\n",
      "\tName:\n",
      "\t\tdimensions: ()\n",
      "\t\tsize: 1\n",
      "\t\ttype: dtype('int32')\n",
      "\t\tgrid_mapping_name: 'lambert_conformal_conic'\n",
      "\t\tlatitude_of_projection_origin: 25.0\n",
      "\t\tlongitude_of_central_meridian: 265.0\n",
      "\t\tstandard_parallel: 25.0\n",
      "\t\tearth_radius: 6371229.0\n",
      "\t\t_CoordinateTransformType: 'Projection'\n",
      "\t\t_CoordinateAxisTypes: 'GeoX GeoY'\n",
      "\tName:\n",
      "\t\tdimensions: ('y', 'x')\n",
      "\t\tsize: 27666\n",
      "\t\ttype: dtype('float64')\n",
      "\t\tunits: 'degrees_north'\n",
      "\t\tlong_name: 'latitude coordinate'\n",
      "\t\tstandard_name: 'latitude'\n",
      "\t\t_CoordinateAxisType: 'Lat'\n",
      "\tName:\n",
      "\t\tdimensions: ('y', 'x')\n",
      "\t\tsize: 27666\n",
      "\t\ttype: dtype('float64')\n",
      "\t\tunits: 'degrees_east'\n",
      "\t\tlong_name: 'longitude coordinate'\n",
      "\t\tstandard_name: 'longitude'\n",
      "\t\t_CoordinateAxisType: 'Lon'\n",
      "\tName:\n",
      "\t\tdimensions: ('time', 'height_above_ground5', 'y', 'x')\n",
      "\t\tsize: 55332\n",
      "\t\ttype: dtype('float32')\n",
      "\t\tlong_name: 'v-component of wind @ Specified height level above ground'\n",
      "\t\tunits: 'm/s'\n",
      "\t\tabbreviation: 'VGRD'\n",
      "\t\tmissing_value: nan\n",
      "\t\tgrid_mapping: 'LambertConformal_Projection'\n",
      "\t\tcoordinates: 'time height_above_ground5 y x '\n",
      "\t\tGrib_Variable_Id: 'VAR_0-2-3_L103'\n",
      "\t\tGrib2_Parameter: array([0, 2, 3], dtype=int32)\n",
      "\t\tGrib2_Parameter_Discipline: 'Meteorological products'\n",
      "\t\tGrib2_Parameter_Category: 'Momentum'\n",
      "\t\tGrib2_Parameter_Name: 'v-component of wind'\n",
      "\t\tGrib2_Level_Type: 103\n",
      "\t\tGrib2_Level_Desc: 'Specified height level above ground'\n",
      "\t\tGrib2_Generating_Process_Type: 'Forecast'\n"
     ]
    }
   ],
   "source": [
    "data = Dataset(\"./rap_example.nc\", \"r\")\n",
    "nc_attrs, nc_dims, nc_vars = nc_structure(data)"
   ]
  },
  {
   "cell_type": "code",
   "execution_count": 5,
   "id": "bizarre-bicycle",
   "metadata": {},
   "outputs": [
    {
     "data": {
      "text/plain": [
       "['Originating_or_generating_Center',\n",
       " 'Originating_or_generating_Subcenter',\n",
       " 'GRIB_table_version',\n",
       " 'Type_of_generating_process',\n",
       " 'Analysis_or_forecast_generating_process_identifier_defined_by_originating_centre',\n",
       " 'Conventions',\n",
       " 'history',\n",
       " 'featureType',\n",
       " 'History',\n",
       " 'geospatial_lat_min',\n",
       " 'geospatial_lat_max',\n",
       " 'geospatial_lon_min',\n",
       " 'geospatial_lon_max']"
      ]
     },
     "execution_count": 5,
     "metadata": {},
     "output_type": "execute_result"
    }
   ],
   "source": [
    "nc_attrs"
   ]
  },
  {
   "cell_type": "code",
   "execution_count": 6,
   "id": "considered-athletics",
   "metadata": {},
   "outputs": [
    {
     "data": {
      "text/plain": [
       "['time', 'height_above_ground5', 'y', 'x']"
      ]
     },
     "execution_count": 6,
     "metadata": {},
     "output_type": "execute_result"
    }
   ],
   "source": [
    "nc_dims"
   ]
  },
  {
   "cell_type": "code",
   "execution_count": 7,
   "id": "early-essex",
   "metadata": {
    "scrolled": true
   },
   "outputs": [
    {
     "data": {
      "text/plain": [
       "['u-component_of_wind_height_above_ground',\n",
       " 'time',\n",
       " 'height_above_ground5',\n",
       " 'y',\n",
       " 'x',\n",
       " 'LambertConformal_Projection',\n",
       " 'lat',\n",
       " 'lon',\n",
       " 'v-component_of_wind_height_above_ground']"
      ]
     },
     "execution_count": 7,
     "metadata": {},
     "output_type": "execute_result"
    }
   ],
   "source": [
    "nc_vars"
   ]
  },
  {
   "cell_type": "code",
   "execution_count": 8,
   "id": "charitable-notice",
   "metadata": {},
   "outputs": [],
   "source": [
    "data.close()\n",
    "os.remove(\"./rap_example.nc\")"
   ]
  }
 ],
 "metadata": {
  "kernelspec": {
   "display_name": "Python 3",
   "language": "python",
   "name": "python3"
  },
  "language_info": {
   "codemirror_mode": {
    "name": "ipython",
    "version": 3
   },
   "file_extension": ".py",
   "mimetype": "text/x-python",
   "name": "python",
   "nbconvert_exporter": "python",
   "pygments_lexer": "ipython3",
   "version": "3.8.3"
  }
 },
 "nbformat": 4,
 "nbformat_minor": 5
}
