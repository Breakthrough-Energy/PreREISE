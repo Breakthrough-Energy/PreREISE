{
 "cells": [
  {
   "cell_type": "markdown",
   "metadata": {},
   "source": [
    "# Wind Data From NOAA's Rapid Refresh\n",
    "---\n",
    "\n",
    "**NOAA**: National Oceanic and Atmospheric Administration\n",
    "\n",
    "**RAP**: Rapid Refresh  \n",
    "Information can be found at the following url:\n",
    "https://www.ncdc.noaa.gov/data-access/model-data/model-datasets/rapid-refresh-rap\n",
    "\n",
    "Data can be retrieved using the NetCDF Subset Service (NCSS). Information on this protocol are available at: https://www.unidata.ucar.edu/software/thredds/current/tds/reference/NetcdfSubsetServiceReference.html\n",
    "\n",
    "The Rapid Refresh (RAP) numerical weather model is run by the National Centers for Environmental Prediction (NCEP), which is part of of the NOAA. Multiple data sources go into the generation of RAP model: commercial aircraft weather data, balloon data, radar data, surface observations, and satellite data. The model generates data down to a 13x13 squre kilometer resolution grid every hour. "
   ]
  },
  {
   "cell_type": "code",
   "execution_count": 1,
   "metadata": {},
   "outputs": [],
   "source": [
    "from powersimdata.input.grid import Grid\n",
    "from prereise.gather.winddata.rap import rap, impute, helpers\n",
    "\n",
    "import pandas as pd\n",
    "from matplotlib import pyplot"
   ]
  },
  {
   "cell_type": "markdown",
   "metadata": {},
   "source": [
    "## 1. Wind Farms in Network"
   ]
  },
  {
   "cell_type": "code",
   "execution_count": 2,
   "metadata": {},
   "outputs": [
    {
     "name": "stdout",
     "output_type": "stream",
     "text": [
      "Reading bus.csv\n",
      "Reading plant.csv\n",
      "Reading gencost.csv\n",
      "Reading branch.csv\n",
      "Reading dcline.csv\n",
      "Reading sub.csv\n",
      "Reading bus2sub.csv\n",
      "Reading zone.csv\n"
     ]
    }
   ],
   "source": [
    "grid = Grid(['Texas','Western'])\n",
    "wind_farm = grid.plant.groupby('type').get_group('wind')"
   ]
  },
  {
   "cell_type": "code",
   "execution_count": 3,
   "metadata": {},
   "outputs": [
    {
     "data": {
      "text/html": [
       "<div>\n",
       "<style scoped>\n",
       "    .dataframe tbody tr th:only-of-type {\n",
       "        vertical-align: middle;\n",
       "    }\n",
       "\n",
       "    .dataframe tbody tr th {\n",
       "        vertical-align: top;\n",
       "    }\n",
       "\n",
       "    .dataframe thead th {\n",
       "        text-align: right;\n",
       "    }\n",
       "</style>\n",
       "<table border=\"1\" class=\"dataframe\">\n",
       "  <thead>\n",
       "    <tr style=\"text-align: right;\">\n",
       "      <th></th>\n",
       "      <th>bus_id</th>\n",
       "      <th>Pg</th>\n",
       "      <th>Qg</th>\n",
       "      <th>Qmax</th>\n",
       "      <th>Qmin</th>\n",
       "      <th>Vg</th>\n",
       "      <th>mBase</th>\n",
       "      <th>status</th>\n",
       "      <th>Pmax</th>\n",
       "      <th>Pmin</th>\n",
       "      <th>...</th>\n",
       "      <th>type</th>\n",
       "      <th>interconnect</th>\n",
       "      <th>GenFuelCost</th>\n",
       "      <th>GenIOB</th>\n",
       "      <th>GenIOC</th>\n",
       "      <th>GenIOD</th>\n",
       "      <th>zone_id</th>\n",
       "      <th>zone_name</th>\n",
       "      <th>lat</th>\n",
       "      <th>lon</th>\n",
       "    </tr>\n",
       "    <tr>\n",
       "      <th>plant_id</th>\n",
       "      <th></th>\n",
       "      <th></th>\n",
       "      <th></th>\n",
       "      <th></th>\n",
       "      <th></th>\n",
       "      <th></th>\n",
       "      <th></th>\n",
       "      <th></th>\n",
       "      <th></th>\n",
       "      <th></th>\n",
       "      <th></th>\n",
       "      <th></th>\n",
       "      <th></th>\n",
       "      <th></th>\n",
       "      <th></th>\n",
       "      <th></th>\n",
       "      <th></th>\n",
       "      <th></th>\n",
       "      <th></th>\n",
       "      <th></th>\n",
       "      <th></th>\n",
       "    </tr>\n",
       "  </thead>\n",
       "  <tbody>\n",
       "    <tr>\n",
       "      <th>10397</th>\n",
       "      <td>2010691</td>\n",
       "      <td>59.72</td>\n",
       "      <td>21.07</td>\n",
       "      <td>21.07</td>\n",
       "      <td>-14.24</td>\n",
       "      <td>1.0061</td>\n",
       "      <td>98.92</td>\n",
       "      <td>1</td>\n",
       "      <td>98.9</td>\n",
       "      <td>16.649</td>\n",
       "      <td>...</td>\n",
       "      <td>wind</td>\n",
       "      <td>Western</td>\n",
       "      <td>0.0</td>\n",
       "      <td>0.0</td>\n",
       "      <td>0.0</td>\n",
       "      <td>0</td>\n",
       "      <td>201</td>\n",
       "      <td>Washington</td>\n",
       "      <td>45.8131</td>\n",
       "      <td>-120.347</td>\n",
       "    </tr>\n",
       "    <tr>\n",
       "      <th>10400</th>\n",
       "      <td>2010699</td>\n",
       "      <td>79.42</td>\n",
       "      <td>-14.50</td>\n",
       "      <td>21.45</td>\n",
       "      <td>-14.50</td>\n",
       "      <td>1.0019</td>\n",
       "      <td>120.64</td>\n",
       "      <td>1</td>\n",
       "      <td>100.7</td>\n",
       "      <td>13.150</td>\n",
       "      <td>...</td>\n",
       "      <td>wind</td>\n",
       "      <td>Western</td>\n",
       "      <td>0.0</td>\n",
       "      <td>0.0</td>\n",
       "      <td>0.0</td>\n",
       "      <td>0</td>\n",
       "      <td>201</td>\n",
       "      <td>Washington</td>\n",
       "      <td>47.1356</td>\n",
       "      <td>-120.687</td>\n",
       "    </tr>\n",
       "    <tr>\n",
       "      <th>10401</th>\n",
       "      <td>2010703</td>\n",
       "      <td>136.30</td>\n",
       "      <td>29.03</td>\n",
       "      <td>29.03</td>\n",
       "      <td>-19.63</td>\n",
       "      <td>1.0623</td>\n",
       "      <td>174.64</td>\n",
       "      <td>1</td>\n",
       "      <td>136.3</td>\n",
       "      <td>43.063</td>\n",
       "      <td>...</td>\n",
       "      <td>wind</td>\n",
       "      <td>Western</td>\n",
       "      <td>0.0</td>\n",
       "      <td>0.0</td>\n",
       "      <td>0.0</td>\n",
       "      <td>0</td>\n",
       "      <td>201</td>\n",
       "      <td>Washington</td>\n",
       "      <td>45.8797</td>\n",
       "      <td>-120.807</td>\n",
       "    </tr>\n",
       "    <tr>\n",
       "      <th>10428</th>\n",
       "      <td>2010746</td>\n",
       "      <td>66.35</td>\n",
       "      <td>-12.96</td>\n",
       "      <td>19.17</td>\n",
       "      <td>-12.96</td>\n",
       "      <td>1.0205</td>\n",
       "      <td>98.26</td>\n",
       "      <td>1</td>\n",
       "      <td>90.0</td>\n",
       "      <td>19.930</td>\n",
       "      <td>...</td>\n",
       "      <td>wind</td>\n",
       "      <td>Western</td>\n",
       "      <td>0.0</td>\n",
       "      <td>0.0</td>\n",
       "      <td>0.0</td>\n",
       "      <td>0</td>\n",
       "      <td>201</td>\n",
       "      <td>Washington</td>\n",
       "      <td>46.9547</td>\n",
       "      <td>-120.182</td>\n",
       "    </tr>\n",
       "    <tr>\n",
       "      <th>10442</th>\n",
       "      <td>2010768</td>\n",
       "      <td>212.51</td>\n",
       "      <td>56.83</td>\n",
       "      <td>56.83</td>\n",
       "      <td>-38.42</td>\n",
       "      <td>1.0299</td>\n",
       "      <td>301.55</td>\n",
       "      <td>1</td>\n",
       "      <td>266.8</td>\n",
       "      <td>122.148</td>\n",
       "      <td>...</td>\n",
       "      <td>wind</td>\n",
       "      <td>Western</td>\n",
       "      <td>0.0</td>\n",
       "      <td>0.0</td>\n",
       "      <td>0.0</td>\n",
       "      <td>0</td>\n",
       "      <td>201</td>\n",
       "      <td>Washington</td>\n",
       "      <td>46.4211</td>\n",
       "      <td>-118.027</td>\n",
       "    </tr>\n",
       "  </tbody>\n",
       "</table>\n",
       "<p>5 rows × 35 columns</p>\n",
       "</div>"
      ],
      "text/plain": [
       "           bus_id      Pg     Qg   Qmax   Qmin      Vg   mBase  status   Pmax  \\\n",
       "plant_id                                                                        \n",
       "10397     2010691   59.72  21.07  21.07 -14.24  1.0061   98.92       1   98.9   \n",
       "10400     2010699   79.42 -14.50  21.45 -14.50  1.0019  120.64       1  100.7   \n",
       "10401     2010703  136.30  29.03  29.03 -19.63  1.0623  174.64       1  136.3   \n",
       "10428     2010746   66.35 -12.96  19.17 -12.96  1.0205   98.26       1   90.0   \n",
       "10442     2010768  212.51  56.83  56.83 -38.42  1.0299  301.55       1  266.8   \n",
       "\n",
       "             Pmin  ...  type  interconnect  GenFuelCost  GenIOB  GenIOC  \\\n",
       "plant_id           ...                                                    \n",
       "10397      16.649  ...  wind       Western          0.0     0.0     0.0   \n",
       "10400      13.150  ...  wind       Western          0.0     0.0     0.0   \n",
       "10401      43.063  ...  wind       Western          0.0     0.0     0.0   \n",
       "10428      19.930  ...  wind       Western          0.0     0.0     0.0   \n",
       "10442     122.148  ...  wind       Western          0.0     0.0     0.0   \n",
       "\n",
       "          GenIOD  zone_id   zone_name      lat      lon  \n",
       "plant_id                                                 \n",
       "10397          0      201  Washington  45.8131 -120.347  \n",
       "10400          0      201  Washington  47.1356 -120.687  \n",
       "10401          0      201  Washington  45.8797 -120.807  \n",
       "10428          0      201  Washington  46.9547 -120.182  \n",
       "10442          0      201  Washington  46.4211 -118.027  \n",
       "\n",
       "[5 rows x 35 columns]"
      ]
     },
     "execution_count": 3,
     "metadata": {},
     "output_type": "execute_result"
    }
   ],
   "source": [
    "wind_farm.head()"
   ]
  },
  {
   "cell_type": "code",
   "execution_count": 4,
   "metadata": {},
   "outputs": [
    {
     "name": "stdout",
     "output_type": "stream",
     "text": [
      "There are 373 wind farms in the Western + Texas interconnection.\n"
     ]
    }
   ],
   "source": [
    "print(\"There are %d wind farms in the Western + Texas interconnection.\" % len(wind_farm))"
   ]
  },
  {
   "cell_type": "markdown",
   "metadata": {},
   "source": [
    "## 2. Downloading Data from NCEP's Server\n",
    "Only few days are considered here. Note that some files on the server may be missing."
   ]
  },
  {
   "cell_type": "code",
   "execution_count": 5,
   "metadata": {},
   "outputs": [
    {
     "name": "stderr",
     "output_type": "stream",
     "text": [
      "100%|██████████| 24/24 [02:07<00:00,  1.95s/it]\n"
     ]
    }
   ],
   "source": [
    "data, missing = rap.retrieve_data(wind_farm, start_date='2021-01-18', end_date='2021-01-18')"
   ]
  },
  {
   "cell_type": "code",
   "execution_count": 6,
   "metadata": {},
   "outputs": [
    {
     "name": "stdout",
     "output_type": "stream",
     "text": [
      "There are 0 missing files.\n"
     ]
    }
   ],
   "source": [
    "print(\"There are %d missing files.\" % len(missing))"
   ]
  },
  {
   "cell_type": "code",
   "execution_count": 7,
   "metadata": {},
   "outputs": [
    {
     "data": {
      "text/html": [
       "<div>\n",
       "<style scoped>\n",
       "    .dataframe tbody tr th:only-of-type {\n",
       "        vertical-align: middle;\n",
       "    }\n",
       "\n",
       "    .dataframe tbody tr th {\n",
       "        vertical-align: top;\n",
       "    }\n",
       "\n",
       "    .dataframe thead th {\n",
       "        text-align: right;\n",
       "    }\n",
       "</style>\n",
       "<table border=\"1\" class=\"dataframe\">\n",
       "  <thead>\n",
       "    <tr style=\"text-align: right;\">\n",
       "      <th></th>\n",
       "      <th>plant_id</th>\n",
       "      <th>ts</th>\n",
       "      <th>ts_id</th>\n",
       "      <th>U</th>\n",
       "      <th>V</th>\n",
       "      <th>Pout</th>\n",
       "    </tr>\n",
       "  </thead>\n",
       "  <tbody>\n",
       "    <tr>\n",
       "      <th>0</th>\n",
       "      <td>10397</td>\n",
       "      <td>2021-01-18 00:00:00</td>\n",
       "      <td>1</td>\n",
       "      <td>2.686682</td>\n",
       "      <td>-1.548706</td>\n",
       "      <td>2.571254</td>\n",
       "    </tr>\n",
       "    <tr>\n",
       "      <th>1</th>\n",
       "      <td>10400</td>\n",
       "      <td>2021-01-18 00:00:00</td>\n",
       "      <td>1</td>\n",
       "      <td>7.086682</td>\n",
       "      <td>-5.148706</td>\n",
       "      <td>55.466915</td>\n",
       "    </tr>\n",
       "    <tr>\n",
       "      <th>2</th>\n",
       "      <td>10401</td>\n",
       "      <td>2021-01-18 00:00:00</td>\n",
       "      <td>1</td>\n",
       "      <td>2.886682</td>\n",
       "      <td>-1.448706</td>\n",
       "      <td>4.007704</td>\n",
       "    </tr>\n",
       "    <tr>\n",
       "      <th>3</th>\n",
       "      <td>10428</td>\n",
       "      <td>2021-01-18 00:00:00</td>\n",
       "      <td>1</td>\n",
       "      <td>5.686682</td>\n",
       "      <td>-0.048706</td>\n",
       "      <td>19.088699</td>\n",
       "    </tr>\n",
       "    <tr>\n",
       "      <th>4</th>\n",
       "      <td>10442</td>\n",
       "      <td>2021-01-18 00:00:00</td>\n",
       "      <td>1</td>\n",
       "      <td>1.786682</td>\n",
       "      <td>1.651294</td>\n",
       "      <td>3.444914</td>\n",
       "    </tr>\n",
       "  </tbody>\n",
       "</table>\n",
       "</div>"
      ],
      "text/plain": [
       "   plant_id                   ts  ts_id         U         V       Pout\n",
       "0     10397  2021-01-18 00:00:00      1  2.686682 -1.548706   2.571254\n",
       "1     10400  2021-01-18 00:00:00      1  7.086682 -5.148706  55.466915\n",
       "2     10401  2021-01-18 00:00:00      1  2.886682 -1.448706   4.007704\n",
       "3     10428  2021-01-18 00:00:00      1  5.686682 -0.048706  19.088699\n",
       "4     10442  2021-01-18 00:00:00      1  1.786682  1.651294   3.444914"
      ]
     },
     "execution_count": 7,
     "metadata": {},
     "output_type": "execute_result"
    }
   ],
   "source": [
    "data.head()"
   ]
  },
  {
   "cell_type": "markdown",
   "metadata": {},
   "source": [
    "## 3. Plot Data\n",
    "One wind farm is selected. The U and V components of the wind speed (in m/s) 80-m above ground along with the power output (in MW) are then plotted."
   ]
  },
  {
   "cell_type": "code",
   "execution_count": 8,
   "metadata": {},
   "outputs": [],
   "source": [
    "data_oneplant = data[data.plant_id == 10400]"
   ]
  },
  {
   "cell_type": "code",
   "execution_count": 9,
   "metadata": {},
   "outputs": [
    {
     "data": {
      "image/png": "[encoded data removed]",
      "text/plain": [
       "<Figure size 1152x864 with 3 Axes>"
      ]
     },
     "metadata": {
      "needs_background": "light"
     },
     "output_type": "display_data"
    }
   ],
   "source": [
    "fig, ax = pyplot.subplots(nrows=3, ncols=1, sharex='col', figsize=(16,12))\n",
    "for i, var in enumerate(['U','V','Pout']):\n",
    "    data_oneplant.plot(x='ts', y=var, ax=ax[i], legend=False, fontsize=15, lw=2)\n",
    "    ax[i].set_xlabel('')\n",
    "    ax[i].set_ylabel(var, fontsize=20)\n",
    "\n",
    "pyplot.show()"
   ]
  },
  {
   "cell_type": "markdown",
   "metadata": {},
   "source": [
    "## 4. Impute Missing Data\n",
    "The missing data can be imputed inplace using the following simple procedure. In this case, there is nothing missing, so the plot will be identical."
   ]
  },
  {
   "cell_type": "code",
   "execution_count": 10,
   "metadata": {},
   "outputs": [
    {
     "name": "stdout",
     "output_type": "stream",
     "text": [
      "No missing data\n"
     ]
    }
   ],
   "source": [
    "impute.gaussian(data, wind_farm, inplace=True)"
   ]
  },
  {
   "cell_type": "code",
   "execution_count": 11,
   "metadata": {},
   "outputs": [],
   "source": [
    "data_impute_oneplant = data[data.plant_id == 10400]"
   ]
  },
  {
   "cell_type": "code",
   "execution_count": 12,
   "metadata": {},
   "outputs": [
    {
     "data": {
      "image/png": "[encoded data removed]",
      "text/plain": [
       "<Figure size 1152x864 with 3 Axes>"
      ]
     },
     "metadata": {
      "needs_background": "light"
     },
     "output_type": "display_data"
    }
   ],
   "source": [
    "fig, ax = pyplot.subplots(nrows=3, ncols=1, sharex='col', figsize=(16,12))\n",
    "for i, var in enumerate(['U','V','Pout']):\n",
    "    data_impute_oneplant.plot(x='ts', y=var, ax=ax[i], legend=False, fontsize=15, lw=2)\n",
    "    ax[i].set_xlabel('')\n",
    "    ax[i].set_ylabel(var, fontsize=20)\n",
    "\n",
    "pyplot.show()"
   ]
  },
  {
   "cell_type": "markdown",
   "metadata": {},
   "source": [
    "## 5. Format Data\n",
    "Data are formated for REISE."
   ]
  },
  {
   "cell_type": "code",
   "execution_count": 13,
   "metadata": {},
   "outputs": [],
   "source": [
    "data_reise = helpers.to_reise(data)"
   ]
  },
  {
   "cell_type": "code",
   "execution_count": 14,
   "metadata": {},
   "outputs": [
    {
     "data": {
      "text/html": [
       "<div>\n",
       "<style scoped>\n",
       "    .dataframe tbody tr th:only-of-type {\n",
       "        vertical-align: middle;\n",
       "    }\n",
       "\n",
       "    .dataframe tbody tr th {\n",
       "        vertical-align: top;\n",
       "    }\n",
       "\n",
       "    .dataframe thead th {\n",
       "        text-align: right;\n",
       "    }\n",
       "</style>\n",
       "<table border=\"1\" class=\"dataframe\">\n",
       "  <thead>\n",
       "    <tr style=\"text-align: right;\">\n",
       "      <th></th>\n",
       "      <th>10397</th>\n",
       "      <th>10400</th>\n",
       "      <th>10401</th>\n",
       "      <th>10428</th>\n",
       "      <th>10442</th>\n",
       "      <th>10458</th>\n",
       "      <th>10463</th>\n",
       "      <th>10475</th>\n",
       "      <th>10522</th>\n",
       "      <th>10541</th>\n",
       "      <th>...</th>\n",
       "      <th>14040</th>\n",
       "      <th>14041</th>\n",
       "      <th>14042</th>\n",
       "      <th>14043</th>\n",
       "      <th>14044</th>\n",
       "      <th>14045</th>\n",
       "      <th>14046</th>\n",
       "      <th>14047</th>\n",
       "      <th>14048</th>\n",
       "      <th>14049</th>\n",
       "    </tr>\n",
       "    <tr>\n",
       "      <th>UTC</th>\n",
       "      <th></th>\n",
       "      <th></th>\n",
       "      <th></th>\n",
       "      <th></th>\n",
       "      <th></th>\n",
       "      <th></th>\n",
       "      <th></th>\n",
       "      <th></th>\n",
       "      <th></th>\n",
       "      <th></th>\n",
       "      <th></th>\n",
       "      <th></th>\n",
       "      <th></th>\n",
       "      <th></th>\n",
       "      <th></th>\n",
       "      <th></th>\n",
       "      <th></th>\n",
       "      <th></th>\n",
       "      <th></th>\n",
       "      <th></th>\n",
       "      <th></th>\n",
       "    </tr>\n",
       "  </thead>\n",
       "  <tbody>\n",
       "    <tr>\n",
       "      <th>2021-01-18 00:00:00</th>\n",
       "      <td>2.571254</td>\n",
       "      <td>55.466915</td>\n",
       "      <td>4.007704</td>\n",
       "      <td>19.088699</td>\n",
       "      <td>3.444914</td>\n",
       "      <td>2.259804</td>\n",
       "      <td>4.135094</td>\n",
       "      <td>2.318529</td>\n",
       "      <td>0.634239</td>\n",
       "      <td>6.435368</td>\n",
       "      <td>...</td>\n",
       "      <td>2.166109</td>\n",
       "      <td>4.575294</td>\n",
       "      <td>47.450150</td>\n",
       "      <td>3.341204</td>\n",
       "      <td>3.104674</td>\n",
       "      <td>3.053584</td>\n",
       "      <td>1.486743</td>\n",
       "      <td>2.423109</td>\n",
       "      <td>2.140069</td>\n",
       "      <td>6.837964</td>\n",
       "    </tr>\n",
       "    <tr>\n",
       "      <th>2021-01-18 01:00:00</th>\n",
       "      <td>4.408862</td>\n",
       "      <td>58.304989</td>\n",
       "      <td>11.424091</td>\n",
       "      <td>28.153471</td>\n",
       "      <td>5.546426</td>\n",
       "      <td>1.003578</td>\n",
       "      <td>8.504874</td>\n",
       "      <td>4.154484</td>\n",
       "      <td>1.402470</td>\n",
       "      <td>12.302366</td>\n",
       "      <td>...</td>\n",
       "      <td>0.490535</td>\n",
       "      <td>7.807020</td>\n",
       "      <td>47.637661</td>\n",
       "      <td>3.069054</td>\n",
       "      <td>4.665164</td>\n",
       "      <td>4.588396</td>\n",
       "      <td>4.880568</td>\n",
       "      <td>5.731342</td>\n",
       "      <td>5.714247</td>\n",
       "      <td>17.457041</td>\n",
       "    </tr>\n",
       "    <tr>\n",
       "      <th>2021-01-18 02:00:00</th>\n",
       "      <td>4.300188</td>\n",
       "      <td>64.066925</td>\n",
       "      <td>21.166269</td>\n",
       "      <td>25.648222</td>\n",
       "      <td>9.767115</td>\n",
       "      <td>0.618429</td>\n",
       "      <td>9.735656</td>\n",
       "      <td>6.620179</td>\n",
       "      <td>2.051680</td>\n",
       "      <td>17.845713</td>\n",
       "      <td>...</td>\n",
       "      <td>6.061215</td>\n",
       "      <td>40.110744</td>\n",
       "      <td>39.435493</td>\n",
       "      <td>2.856398</td>\n",
       "      <td>8.704900</td>\n",
       "      <td>8.561655</td>\n",
       "      <td>12.304963</td>\n",
       "      <td>8.116998</td>\n",
       "      <td>7.140705</td>\n",
       "      <td>29.282955</td>\n",
       "    </tr>\n",
       "    <tr>\n",
       "      <th>2021-01-18 03:00:00</th>\n",
       "      <td>3.608635</td>\n",
       "      <td>64.017586</td>\n",
       "      <td>23.280083</td>\n",
       "      <td>18.571533</td>\n",
       "      <td>31.466228</td>\n",
       "      <td>0.282262</td>\n",
       "      <td>7.969082</td>\n",
       "      <td>16.830322</td>\n",
       "      <td>3.449517</td>\n",
       "      <td>20.198450</td>\n",
       "      <td>...</td>\n",
       "      <td>36.236137</td>\n",
       "      <td>82.189362</td>\n",
       "      <td>33.521103</td>\n",
       "      <td>7.893232</td>\n",
       "      <td>26.165535</td>\n",
       "      <td>25.734962</td>\n",
       "      <td>28.659994</td>\n",
       "      <td>12.082637</td>\n",
       "      <td>13.351098</td>\n",
       "      <td>46.778725</td>\n",
       "    </tr>\n",
       "    <tr>\n",
       "      <th>2021-01-18 04:00:00</th>\n",
       "      <td>6.254470</td>\n",
       "      <td>65.238815</td>\n",
       "      <td>23.821386</td>\n",
       "      <td>16.053263</td>\n",
       "      <td>52.958668</td>\n",
       "      <td>0.422322</td>\n",
       "      <td>8.725047</td>\n",
       "      <td>33.692211</td>\n",
       "      <td>7.081934</td>\n",
       "      <td>19.170820</td>\n",
       "      <td>...</td>\n",
       "      <td>80.913025</td>\n",
       "      <td>115.031044</td>\n",
       "      <td>25.685488</td>\n",
       "      <td>13.809643</td>\n",
       "      <td>46.782028</td>\n",
       "      <td>46.012196</td>\n",
       "      <td>63.576286</td>\n",
       "      <td>14.717595</td>\n",
       "      <td>16.659885</td>\n",
       "      <td>72.026558</td>\n",
       "    </tr>\n",
       "  </tbody>\n",
       "</table>\n",
       "<p>5 rows × 373 columns</p>\n",
       "</div>"
      ],
      "text/plain": [
       "                        10397      10400      10401      10428      10442  \\\n",
       "UTC                                                                         \n",
       "2021-01-18 00:00:00  2.571254  55.466915   4.007704  19.088699   3.444914   \n",
       "2021-01-18 01:00:00  4.408862  58.304989  11.424091  28.153471   5.546426   \n",
       "2021-01-18 02:00:00  4.300188  64.066925  21.166269  25.648222   9.767115   \n",
       "2021-01-18 03:00:00  3.608635  64.017586  23.280083  18.571533  31.466228   \n",
       "2021-01-18 04:00:00  6.254470  65.238815  23.821386  16.053263  52.958668   \n",
       "\n",
       "                        10458     10463      10475     10522      10541  ...  \\\n",
       "UTC                                                                      ...   \n",
       "2021-01-18 00:00:00  2.259804  4.135094   2.318529  0.634239   6.435368  ...   \n",
       "2021-01-18 01:00:00  1.003578  8.504874   4.154484  1.402470  12.302366  ...   \n",
       "2021-01-18 02:00:00  0.618429  9.735656   6.620179  2.051680  17.845713  ...   \n",
       "2021-01-18 03:00:00  0.282262  7.969082  16.830322  3.449517  20.198450  ...   \n",
       "2021-01-18 04:00:00  0.422322  8.725047  33.692211  7.081934  19.170820  ...   \n",
       "\n",
       "                         14040       14041      14042      14043      14044  \\\n",
       "UTC                                                                           \n",
       "2021-01-18 00:00:00   2.166109    4.575294  47.450150   3.341204   3.104674   \n",
       "2021-01-18 01:00:00   0.490535    7.807020  47.637661   3.069054   4.665164   \n",
       "2021-01-18 02:00:00   6.061215   40.110744  39.435493   2.856398   8.704900   \n",
       "2021-01-18 03:00:00  36.236137   82.189362  33.521103   7.893232  26.165535   \n",
       "2021-01-18 04:00:00  80.913025  115.031044  25.685488  13.809643  46.782028   \n",
       "\n",
       "                         14045      14046      14047      14048      14049  \n",
       "UTC                                                                         \n",
       "2021-01-18 00:00:00   3.053584   1.486743   2.423109   2.140069   6.837964  \n",
       "2021-01-18 01:00:00   4.588396   4.880568   5.731342   5.714247  17.457041  \n",
       "2021-01-18 02:00:00   8.561655  12.304963   8.116998   7.140705  29.282955  \n",
       "2021-01-18 03:00:00  25.734962  28.659994  12.082637  13.351098  46.778725  \n",
       "2021-01-18 04:00:00  46.012196  63.576286  14.717595  16.659885  72.026558  \n",
       "\n",
       "[5 rows x 373 columns]"
      ]
     },
     "execution_count": 14,
     "metadata": {},
     "output_type": "execute_result"
    }
   ],
   "source": [
    "data_reise.head()"
   ]
  }
 ],
 "metadata": {
  "kernelspec": {
   "display_name": "Python 3",
   "language": "python",
   "name": "python3"
  },
  "language_info": {
   "codemirror_mode": {
    "name": "ipython",
    "version": 3
   },
   "file_extension": ".py",
   "mimetype": "text/x-python",
   "name": "python",
   "nbconvert_exporter": "python",
   "pygments_lexer": "ipython3",
   "version": "3.8.6"
  }
 },
 "nbformat": 4,
 "nbformat_minor": 4
}
