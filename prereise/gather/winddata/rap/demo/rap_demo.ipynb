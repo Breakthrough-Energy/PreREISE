{
 "cells": [
  {
   "cell_type": "markdown",
   "metadata": {},
   "source": [
    "# Wind Data From NOAA's Rapid Refresh\n",
    "---\n",
    "\n",
    "**NOAA**: National Oceanic and Atmospheric Administration\n",
    "\n",
    "**RAP**: Rapid Refresh  \n",
    "Information can be found at the following url:\n",
    "https://www.ncdc.noaa.gov/data-access/model-data/model-datasets/rapid-refresh-rap\n",
    "\n",
    "Data can be retrieved using the NetCDF Subset Service (NCSS). Information on this protocol are available at: https://www.unidata.ucar.edu/software/thredds/current/tds/reference/NetcdfSubsetServiceReference.html\n",
    "\n",
    "The Rapid Refresh (RAP) numerical weather model is run by the National Centers for Environmental Prediction (NCEP), which is part of of the NOAA. Multiple data sources go into the generation of RAP model: commercial aircraft weather data, balloon data, radar data, surface observations, and satellite data. The model generates data down to a 13x13 squre kilometer resolution grid every hour. "
   ]
  },
  {
   "cell_type": "code",
   "execution_count": 1,
   "metadata": {},
   "outputs": [],
   "source": [
    "from powersimdata.input.grid import Grid\n",
    "from prereise.gather.winddata.rap import rap, impute, helpers \n",
    "\n",
    "import pandas as pd\n",
    "from matplotlib import pyplot"
   ]
  },
  {
   "cell_type": "markdown",
   "metadata": {},
   "source": [
    "## 1. Wind Farms in Network"
   ]
  },
  {
   "cell_type": "code",
   "execution_count": 2,
   "metadata": {},
   "outputs": [
    {
     "name": "stdout",
     "output_type": "stream",
     "text": [
      "--> Loading Texas+Western interconnect\n",
      "Loading zone\n",
      "Loading sub\n",
      "Loading bus2sub\n",
      "Loading bus\n",
      "Loading plant\n",
      "Loading plant cost\n",
      "Loading branch\n",
      "Loading DC line\n"
     ]
    }
   ],
   "source": [
    "grid = Grid(['Texas','Western'])\n",
    "wind_farm = grid.plant.groupby('type').get_group('wind')"
   ]
  },
  {
   "cell_type": "code",
   "execution_count": 3,
   "metadata": {},
   "outputs": [
    {
     "data": {
      "text/html": [
       "<div>\n",
       "<style scoped>\n",
       "    .dataframe tbody tr th:only-of-type {\n",
       "        vertical-align: middle;\n",
       "    }\n",
       "\n",
       "    .dataframe tbody tr th {\n",
       "        vertical-align: top;\n",
       "    }\n",
       "\n",
       "    .dataframe thead th {\n",
       "        text-align: right;\n",
       "    }\n",
       "</style>\n",
       "<table border=\"1\" class=\"dataframe\">\n",
       "  <thead>\n",
       "    <tr style=\"text-align: right;\">\n",
       "      <th></th>\n",
       "      <th>bus_id</th>\n",
       "      <th>Pg</th>\n",
       "      <th>Qg</th>\n",
       "      <th>Qmax</th>\n",
       "      <th>Qmin</th>\n",
       "      <th>Vg</th>\n",
       "      <th>mBase</th>\n",
       "      <th>status</th>\n",
       "      <th>Pmax</th>\n",
       "      <th>Pmin</th>\n",
       "      <th>...</th>\n",
       "      <th>mu_Qmax</th>\n",
       "      <th>mu_Qmin</th>\n",
       "      <th>GenMWMax</th>\n",
       "      <th>GenMWMin</th>\n",
       "      <th>type</th>\n",
       "      <th>interconnect</th>\n",
       "      <th>lat</th>\n",
       "      <th>lon</th>\n",
       "      <th>zone_id</th>\n",
       "      <th>zone_name</th>\n",
       "    </tr>\n",
       "    <tr>\n",
       "      <th>plant_id</th>\n",
       "      <th></th>\n",
       "      <th></th>\n",
       "      <th></th>\n",
       "      <th></th>\n",
       "      <th></th>\n",
       "      <th></th>\n",
       "      <th></th>\n",
       "      <th></th>\n",
       "      <th></th>\n",
       "      <th></th>\n",
       "      <th></th>\n",
       "      <th></th>\n",
       "      <th></th>\n",
       "      <th></th>\n",
       "      <th></th>\n",
       "      <th></th>\n",
       "      <th></th>\n",
       "      <th></th>\n",
       "      <th></th>\n",
       "      <th></th>\n",
       "      <th></th>\n",
       "    </tr>\n",
       "  </thead>\n",
       "  <tbody>\n",
       "    <tr>\n",
       "      <th>10397</th>\n",
       "      <td>2010691</td>\n",
       "      <td>59.72</td>\n",
       "      <td>21.07</td>\n",
       "      <td>21.07</td>\n",
       "      <td>-14.24</td>\n",
       "      <td>1.0061</td>\n",
       "      <td>98.92</td>\n",
       "      <td>1</td>\n",
       "      <td>59.72</td>\n",
       "      <td>59.72</td>\n",
       "      <td>...</td>\n",
       "      <td>0.0</td>\n",
       "      <td>0.0</td>\n",
       "      <td>98.900002</td>\n",
       "      <td>16.648942</td>\n",
       "      <td>wind</td>\n",
       "      <td>Western</td>\n",
       "      <td>45.813100</td>\n",
       "      <td>-120.347500</td>\n",
       "      <td>201</td>\n",
       "      <td>Washington</td>\n",
       "    </tr>\n",
       "    <tr>\n",
       "      <th>10400</th>\n",
       "      <td>2010699</td>\n",
       "      <td>79.42</td>\n",
       "      <td>-14.50</td>\n",
       "      <td>21.45</td>\n",
       "      <td>-14.50</td>\n",
       "      <td>1.0019</td>\n",
       "      <td>120.64</td>\n",
       "      <td>1</td>\n",
       "      <td>79.42</td>\n",
       "      <td>79.42</td>\n",
       "      <td>...</td>\n",
       "      <td>0.0</td>\n",
       "      <td>0.0</td>\n",
       "      <td>100.699997</td>\n",
       "      <td>13.150001</td>\n",
       "      <td>wind</td>\n",
       "      <td>Western</td>\n",
       "      <td>47.135600</td>\n",
       "      <td>-120.687200</td>\n",
       "      <td>201</td>\n",
       "      <td>Washington</td>\n",
       "    </tr>\n",
       "    <tr>\n",
       "      <th>10401</th>\n",
       "      <td>2010703</td>\n",
       "      <td>136.30</td>\n",
       "      <td>29.03</td>\n",
       "      <td>29.03</td>\n",
       "      <td>-19.63</td>\n",
       "      <td>1.0623</td>\n",
       "      <td>174.64</td>\n",
       "      <td>1</td>\n",
       "      <td>136.30</td>\n",
       "      <td>136.30</td>\n",
       "      <td>...</td>\n",
       "      <td>0.0</td>\n",
       "      <td>0.0</td>\n",
       "      <td>136.300004</td>\n",
       "      <td>43.062568</td>\n",
       "      <td>wind</td>\n",
       "      <td>Western</td>\n",
       "      <td>45.879700</td>\n",
       "      <td>-120.807200</td>\n",
       "      <td>201</td>\n",
       "      <td>Washington</td>\n",
       "    </tr>\n",
       "    <tr>\n",
       "      <th>10428</th>\n",
       "      <td>2010746</td>\n",
       "      <td>66.35</td>\n",
       "      <td>-12.96</td>\n",
       "      <td>19.17</td>\n",
       "      <td>-12.96</td>\n",
       "      <td>1.0205</td>\n",
       "      <td>98.26</td>\n",
       "      <td>1</td>\n",
       "      <td>66.35</td>\n",
       "      <td>66.35</td>\n",
       "      <td>...</td>\n",
       "      <td>0.0</td>\n",
       "      <td>0.0</td>\n",
       "      <td>89.999998</td>\n",
       "      <td>19.930001</td>\n",
       "      <td>wind</td>\n",
       "      <td>Western</td>\n",
       "      <td>46.954700</td>\n",
       "      <td>-120.181900</td>\n",
       "      <td>201</td>\n",
       "      <td>Washington</td>\n",
       "    </tr>\n",
       "    <tr>\n",
       "      <th>10442</th>\n",
       "      <td>2010768</td>\n",
       "      <td>212.51</td>\n",
       "      <td>56.83</td>\n",
       "      <td>56.83</td>\n",
       "      <td>-38.42</td>\n",
       "      <td>1.0299</td>\n",
       "      <td>301.55</td>\n",
       "      <td>1</td>\n",
       "      <td>212.51</td>\n",
       "      <td>212.51</td>\n",
       "      <td>...</td>\n",
       "      <td>0.0</td>\n",
       "      <td>0.0</td>\n",
       "      <td>266.799998</td>\n",
       "      <td>122.148347</td>\n",
       "      <td>wind</td>\n",
       "      <td>Western</td>\n",
       "      <td>46.421111</td>\n",
       "      <td>-118.026944</td>\n",
       "      <td>201</td>\n",
       "      <td>Washington</td>\n",
       "    </tr>\n",
       "  </tbody>\n",
       "</table>\n",
       "<p>5 rows × 33 columns</p>\n",
       "</div>"
      ],
      "text/plain": [
       "           bus_id      Pg     Qg   Qmax   Qmin      Vg   mBase  status  \\\n",
       "plant_id                                                                 \n",
       "10397     2010691   59.72  21.07  21.07 -14.24  1.0061   98.92       1   \n",
       "10400     2010699   79.42 -14.50  21.45 -14.50  1.0019  120.64       1   \n",
       "10401     2010703  136.30  29.03  29.03 -19.63  1.0623  174.64       1   \n",
       "10428     2010746   66.35 -12.96  19.17 -12.96  1.0205   98.26       1   \n",
       "10442     2010768  212.51  56.83  56.83 -38.42  1.0299  301.55       1   \n",
       "\n",
       "            Pmax    Pmin  ...  mu_Qmax  mu_Qmin    GenMWMax    GenMWMin  type  \\\n",
       "plant_id                  ...                                                   \n",
       "10397      59.72   59.72  ...      0.0      0.0   98.900002   16.648942  wind   \n",
       "10400      79.42   79.42  ...      0.0      0.0  100.699997   13.150001  wind   \n",
       "10401     136.30  136.30  ...      0.0      0.0  136.300004   43.062568  wind   \n",
       "10428      66.35   66.35  ...      0.0      0.0   89.999998   19.930001  wind   \n",
       "10442     212.51  212.51  ...      0.0      0.0  266.799998  122.148347  wind   \n",
       "\n",
       "          interconnect        lat         lon  zone_id   zone_name  \n",
       "plant_id                                                            \n",
       "10397          Western  45.813100 -120.347500      201  Washington  \n",
       "10400          Western  47.135600 -120.687200      201  Washington  \n",
       "10401          Western  45.879700 -120.807200      201  Washington  \n",
       "10428          Western  46.954700 -120.181900      201  Washington  \n",
       "10442          Western  46.421111 -118.026944      201  Washington  \n",
       "\n",
       "[5 rows x 33 columns]"
      ]
     },
     "execution_count": 3,
     "metadata": {},
     "output_type": "execute_result"
    }
   ],
   "source": [
    "wind_farm.head()"
   ]
  },
  {
   "cell_type": "code",
   "execution_count": 4,
   "metadata": {},
   "outputs": [
    {
     "name": "stdout",
     "output_type": "stream",
     "text": [
      "There are 330 wind farms in the Western + Texas interconnection.\n"
     ]
    }
   ],
   "source": [
    "print(\"There are %d wind farms in the Western + Texas interconnection.\" % len(wind_farm))"
   ]
  },
  {
   "cell_type": "markdown",
   "metadata": {},
   "source": [
    "## 2. Downloading Data from NCEP's Server\n",
    "Only few days are considered here. Note that some files on the server may be missing."
   ]
  },
  {
   "cell_type": "code",
   "execution_count": 5,
   "metadata": {},
   "outputs": [
    {
     "name": "stderr",
     "output_type": "stream",
     "text": [
      "100%|██████████| 240/240 [09:00<00:00,  2.61s/it]\n"
     ]
    }
   ],
   "source": [
    "data, missing = rap.retrieve_data(wind_farm, start_date='2016-01-01', end_date='2016-01-10')"
   ]
  },
  {
   "cell_type": "code",
   "execution_count": null,
   "metadata": {},
   "outputs": [],
   "source": [
    "print(\"There are %d missing files.\" % len(missing))"
   ]
  },
  {
   "cell_type": "code",
   "execution_count": null,
   "metadata": {},
   "outputs": [],
   "source": [
    "data.head()"
   ]
  },
  {
   "cell_type": "markdown",
   "metadata": {},
   "source": [
    "## 3. Plot Data\n",
    "One wind farm is selected. The U and V components of the wind speed (in m/s) 80-m above ground along with the power output (in MW) are then plotted. One can see the missing data. Note that there are 242 files (hour equivalent) missing in 2016."
   ]
  },
  {
   "cell_type": "code",
   "execution_count": null,
   "metadata": {},
   "outputs": [],
   "source": [
    "data_oneplant = data[data.plantID == 38]"
   ]
  },
  {
   "cell_type": "code",
   "execution_count": null,
   "metadata": {},
   "outputs": [],
   "source": [
    "fig = pyplot.figure(figsize=(16,12))\n",
    "for i, var in enumerate(['U','V','Pout']):\n",
    "    ax = pyplot.subplot(3, 1, i+1, sharex=True)\n",
    "    data_oneplant.plot(x='ts', y=var, ax=ax[i], legend=False, fontsize=15, lw=2)\n",
    "    ax.set_xlabel('')\n",
    "    ax.set_ylabel(var, fontsize=20)\n",
    "\n",
    "pyplot.show()"
   ]
  },
  {
   "cell_type": "markdown",
   "metadata": {},
   "source": [
    "## 4. Impute Missing Data\n",
    "The missing data are imputed inplace using a simple procedure. The plot below shows the imputed data."
   ]
  },
  {
   "cell_type": "code",
   "execution_count": null,
   "metadata": {},
   "outputs": [],
   "source": [
    "impute.simple(data, wind_farm, inplace=True)"
   ]
  },
  {
   "cell_type": "code",
   "execution_count": null,
   "metadata": {},
   "outputs": [],
   "source": [
    "data_impute_oneplant = data[data.plantID == 38]"
   ]
  },
  {
   "cell_type": "code",
   "execution_count": null,
   "metadata": {},
   "outputs": [],
   "source": [
    "pyplot.figure(figsize=(16,12))\n",
    "for i, var in enumerate(['U','V','Pout']):\n",
    "    pyplot.subplot(3,1,i+1)\n",
    "    pyplot.plot(data_impute_oneplant['ts'], data_impute_oneplant[var], lw=3)\n",
    "    pyplot.title(var, y=0.25, loc='right', fontsize=20)"
   ]
  },
  {
   "cell_type": "markdown",
   "metadata": {},
   "source": [
    "## 5. Format Data\n",
    "Data are formated for REISE."
   ]
  },
  {
   "cell_type": "code",
   "execution_count": null,
   "metadata": {},
   "outputs": [],
   "source": [
    "data_reise = helpers.to_reise(data)"
   ]
  },
  {
   "cell_type": "code",
   "execution_count": null,
   "metadata": {},
   "outputs": [],
   "source": [
    "data_reise.head()"
   ]
  }
 ],
 "metadata": {
  "kernelspec": {
   "display_name": "Python 3",
   "language": "python",
   "name": "python3"
  },
  "language_info": {
   "codemirror_mode": {
    "name": "ipython",
    "version": 3
   },
   "file_extension": ".py",
   "mimetype": "text/x-python",
   "name": "python",
   "nbconvert_exporter": "python",
   "pygments_lexer": "ipython3",
   "version": "3.6.5"
  }
 },
 "nbformat": 4,
 "nbformat_minor": 2
}
