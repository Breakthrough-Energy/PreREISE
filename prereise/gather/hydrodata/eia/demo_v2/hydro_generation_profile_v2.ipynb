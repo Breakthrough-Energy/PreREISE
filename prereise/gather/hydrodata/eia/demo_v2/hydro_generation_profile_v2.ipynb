{
 "cells": [
  {
   "cell_type": "markdown",
   "metadata": {},
   "source": [
    "# Hydro generation profile for WECC and Texas\n",
    "### Bainan Xia 08/22/2019"
   ]
  },
  {
   "cell_type": "code",
   "execution_count": 19,
   "metadata": {},
   "outputs": [],
   "source": [
    "import pandas as pd"
   ]
  },
  {
   "cell_type": "markdown",
   "metadata": {},
   "source": [
    "# CA hydro v2"
   ]
  },
  {
   "cell_type": "markdown",
   "metadata": {},
   "source": [
    "## Get hourly net demand profile based on western demand v4"
   ]
  },
  {
   "cell_type": "code",
   "execution_count": 20,
   "metadata": {},
   "outputs": [],
   "source": [
    "from powersimdata.scenario.scenario import Scenario\n",
    "from powersimdata.input.grid import Grid"
   ]
  },
  {
   "cell_type": "code",
   "execution_count": 21,
   "metadata": {},
   "outputs": [
    {
     "name": "stdout",
     "output_type": "stream",
     "text": [
      "SCENARIO: test_scaling | base_2016\n",
      "\n",
      "--> State\n",
      "analyze\n",
      "--> Loading ct\n",
      "--> Loading Western interconnect\n",
      "Loading zone\n",
      "Loading sub\n",
      "Loading bus2sub\n",
      "Loading bus\n",
      "Loading plant\n",
      "Loading plant cost\n",
      "Loading branch\n",
      "Loading DC line\n",
      "--> Loading wind\n",
      "--> Loading solar\n",
      "--> Loading demand\n",
      "--> Loading hydro\n",
      "--> Loading Western interconnect\n",
      "Loading zone\n",
      "Loading sub\n",
      "Loading bus2sub\n",
      "Loading bus\n",
      "Loading plant\n",
      "Loading plant cost\n",
      "Loading branch\n",
      "Loading DC line\n"
     ]
    }
   ],
   "source": [
    "s9 = Scenario(\"9\")\n",
    "wind = s9.state.get_wind()\n",
    "solar = s9.state.get_solar()\n",
    "demand = s9.state.get_demand()\n",
    "hydro = s9.state.get_hydro()\n",
    "western = Grid(['Western'])\n",
    "plant = western.plant"
   ]
  },
  {
   "cell_type": "code",
   "execution_count": 22,
   "metadata": {},
   "outputs": [],
   "source": [
    "wind_plant_id_list = []\n",
    "for plantid in wind.columns:\n",
    "    if plant.loc[plantid]['zone_name'] in {'Northern California','Bay Area','Central California','Southwest California','Southeast California'}:\n",
    "        wind_plant_id_list.append(plantid)\n",
    "solar_plant_id_list = []\n",
    "for plantid in solar.columns:\n",
    "    if plant.loc[plantid]['zone_name'] in {'Northern California','Bay Area','Central California','Southwest California','Southeast California'}:\n",
    "        solar_plant_id_list.append(plantid)"
   ]
  },
  {
   "cell_type": "code",
   "execution_count": 23,
   "metadata": {},
   "outputs": [],
   "source": [
    "windsum = wind[wind_plant_id_list].sum(axis = 1)\n",
    "solarsum = solar[solar_plant_id_list].sum(axis = 1)\n",
    "# CA here\n",
    "demandsum = demands = demand[[203,204,205,206,207]].sum(axis = 1)\n",
    "netdemand = [demandsum[i] - windsum[i] - solarsum[i] for i in demandsum.index]"
   ]
  },
  {
   "cell_type": "markdown",
   "metadata": {},
   "source": [
    "## Get monthly total net generation from EIA923"
   ]
  },
  {
   "cell_type": "code",
   "execution_count": 24,
   "metadata": {},
   "outputs": [],
   "source": [
    "filename = 'EIA923_Schedules_2_3_4_5_M_12_2016_Final_Revision.xlsx'\n",
    "filedir = './f923_2016/'\n",
    "plant_generation = pd.read_excel(io = filedir + filename, header = 0, usecols = 'A,D,G,I,P,CB:CM',skiprows = range(5))\n",
    "# Filter by state and fuel type, HYC: conventional; hydro HPS: pump hydro\n",
    "net_generation_by_plant = plant_generation[(plant_generation['Plant State'] == 'CA') & ((plant_generation['AER\\nFuel Type Code'] == 'HYC')|(plant_generation['AER\\nFuel Type Code'] == 'HPS'))].copy()\n",
    "# Drop unnecessary columns, plant ID, etc..\n",
    "net_generation = net_generation_by_plant.drop(net_generation_by_plant.columns[[0,1,2,3,4]], axis=1)\n",
    "# Get monthly total net generation by summing up across plants with all positive values, note that negative ones are included in actual demand\n",
    "EIA_net_generation = list(net_generation.apply(lambda x: x[x>0].sum()).values)"
   ]
  },
  {
   "cell_type": "markdown",
   "metadata": {},
   "source": [
    "## Scale hourly net demand profile based on EIA monthly total net genration"
   ]
  },
  {
   "cell_type": "code",
   "execution_count": 25,
   "metadata": {},
   "outputs": [],
   "source": [
    "days_per_month = [31,29,31,30,31,30,31,31,30,31,30,31]\n",
    "hour_num = [day*24 for day in days_per_month]\n",
    "hour_month_mapping = []\n",
    "month_factor = [0]*12\n",
    "hour_count = 0\n",
    "for i,hour in enumerate(hour_num):\n",
    "    hour_month_mapping += [i]*hour\n",
    "    net_demand_sum = sum(netdemand[hour_count:hour_count+hour])\n",
    "    hour_count += hour\n",
    "    month_factor[i] = EIA_net_generation[i]/net_demand_sum\n",
    "hydro_v2_ca_total = [nd*month_factor[hour_month_mapping[i]] for i, nd in enumerate(netdemand)] "
   ]
  },
  {
   "cell_type": "markdown",
   "metadata": {},
   "source": [
    "## Decompose total hydro profile v2 into plant level profile based on hydro generator capacities"
   ]
  },
  {
   "cell_type": "code",
   "execution_count": 26,
   "metadata": {},
   "outputs": [],
   "source": [
    "hydro_plant_id_list = []\n",
    "total_hydro_capacity = 0\n",
    "for plantid in hydro.columns:\n",
    "    if plant.loc[plantid]['zone_name'] in {'Northern California','Bay Area','Central California','Southwest California','Southeast California'}:\n",
    "        hydro_plant_id_list.append(plantid)\n",
    "        total_hydro_capacity += plant.loc[plantid]['GenMWMax']"
   ]
  },
  {
   "cell_type": "code",
   "execution_count": 27,
   "metadata": {},
   "outputs": [
    {
     "name": "stdout",
     "output_type": "stream",
     "text": [
      "0 10816\n",
      "1 10817\n",
      "2 10820\n",
      "3 10830\n",
      "4 10831\n",
      "5 10832\n",
      "6 10833\n",
      "7 10834\n",
      "8 10835\n",
      "9 10836\n",
      "10 10837\n",
      "11 10838\n",
      "12 10839\n",
      "13 10840\n",
      "14 10841\n",
      "15 10842\n",
      "16 10843\n",
      "17 10846\n",
      "18 10847\n",
      "19 10848\n",
      "20 10849\n",
      "21 10853\n",
      "22 10854\n",
      "23 10855\n",
      "24 10856\n",
      "25 10857\n",
      "26 10861\n",
      "27 10862\n",
      "28 10863\n",
      "29 10864\n",
      "30 10868\n",
      "31 10869\n",
      "32 10870\n",
      "33 10873\n",
      "34 10874\n",
      "35 10875\n",
      "36 10876\n",
      "37 10877\n",
      "38 10878\n",
      "39 10879\n",
      "40 10880\n",
      "41 10881\n",
      "42 10882\n",
      "43 10883\n",
      "44 10884\n",
      "45 10885\n",
      "46 10886\n",
      "47 10887\n",
      "48 10888\n",
      "49 10889\n",
      "50 10890\n",
      "51 10891\n",
      "52 10892\n",
      "53 10893\n",
      "54 10894\n",
      "55 10895\n",
      "56 10896\n",
      "57 10897\n",
      "58 10898\n",
      "59 10899\n",
      "60 10900\n",
      "61 10901\n",
      "62 10902\n",
      "63 10905\n",
      "64 10906\n",
      "65 10907\n",
      "66 10908\n",
      "67 10909\n",
      "68 10910\n",
      "69 10911\n",
      "70 10912\n",
      "71 10913\n",
      "72 10914\n",
      "73 10915\n",
      "74 10916\n",
      "75 10926\n",
      "76 10927\n",
      "77 10928\n",
      "78 10929\n",
      "79 10930\n",
      "80 10931\n",
      "81 10932\n",
      "82 10933\n",
      "83 10934\n",
      "84 10942\n",
      "85 10945\n",
      "86 10946\n",
      "87 10947\n",
      "88 10954\n",
      "89 10961\n",
      "90 10962\n",
      "91 10963\n",
      "92 10964\n",
      "93 10971\n",
      "94 10972\n",
      "95 10983\n",
      "96 10984\n",
      "97 10993\n",
      "98 10994\n",
      "99 10995\n",
      "100 10996\n",
      "101 10997\n",
      "102 11000\n",
      "103 11001\n",
      "104 11002\n",
      "105 11003\n",
      "106 11004\n",
      "107 11017\n",
      "108 11018\n",
      "109 11019\n",
      "110 11020\n",
      "111 11021\n",
      "112 11022\n",
      "113 11023\n",
      "114 11024\n",
      "115 11025\n",
      "116 11026\n",
      "117 11027\n",
      "118 11028\n",
      "119 11140\n",
      "120 11141\n",
      "121 11142\n",
      "122 11143\n",
      "123 11144\n",
      "124 11145\n",
      "125 11146\n",
      "126 11147\n",
      "127 11148\n",
      "128 11149\n",
      "129 11150\n",
      "130 11159\n",
      "131 11160\n",
      "132 11161\n",
      "133 11162\n",
      "134 11163\n",
      "135 11164\n",
      "136 11173\n",
      "137 11174\n",
      "138 11175\n",
      "139 11176\n",
      "140 11181\n",
      "141 11182\n",
      "142 11183\n",
      "143 11184\n",
      "144 11185\n",
      "145 11191\n",
      "146 11192\n",
      "147 11193\n",
      "148 11194\n",
      "149 11195\n",
      "150 11196\n",
      "151 11197\n",
      "152 11203\n",
      "153 11204\n",
      "154 11205\n",
      "155 11212\n",
      "156 11213\n",
      "157 11214\n",
      "158 11215\n",
      "159 11221\n",
      "160 11222\n",
      "161 11223\n",
      "162 11224\n",
      "163 11225\n",
      "164 11226\n",
      "165 11227\n",
      "166 11228\n",
      "167 11231\n",
      "168 11236\n",
      "169 11237\n",
      "170 11238\n",
      "171 11239\n",
      "172 11240\n",
      "173 11258\n",
      "174 11267\n",
      "175 11268\n",
      "176 11269\n",
      "177 11270\n",
      "178 11273\n",
      "179 11278\n",
      "180 11279\n",
      "181 11280\n",
      "182 11293\n",
      "183 11294\n",
      "184 11295\n",
      "185 11296\n",
      "186 11297\n",
      "187 11298\n",
      "188 11299\n",
      "189 11300\n",
      "190 11301\n",
      "191 11302\n",
      "192 11303\n",
      "193 11314\n",
      "194 11315\n",
      "195 11316\n",
      "196 11317\n",
      "197 11318\n",
      "198 11319\n",
      "199 11320\n",
      "200 11329\n",
      "201 11330\n",
      "202 11331\n",
      "203 11332\n",
      "204 11423\n",
      "205 11424\n",
      "206 11425\n",
      "207 11426\n",
      "208 11545\n",
      "209 11546\n",
      "210 11547\n",
      "211 11608\n",
      "212 11609\n",
      "213 11610\n",
      "214 11611\n",
      "215 11612\n",
      "216 11613\n",
      "217 11614\n",
      "218 11615\n",
      "219 11616\n",
      "220 11617\n",
      "221 11618\n",
      "222 11619\n",
      "223 11620\n",
      "224 11628\n",
      "225 11629\n",
      "226 11630\n",
      "227 11631\n",
      "228 11632\n",
      "229 11633\n",
      "230 11634\n",
      "231 11755\n",
      "232 11756\n",
      "233 11757\n",
      "234 11758\n",
      "235 11759\n",
      "236 11760\n",
      "237 11774\n",
      "238 11775\n",
      "239 11776\n",
      "240 11785\n",
      "241 11786\n",
      "242 11787\n",
      "243 11788\n",
      "244 11838\n",
      "245 11839\n",
      "246 11843\n",
      "247 11844\n",
      "248 11845\n",
      "249 11846\n"
     ]
    }
   ],
   "source": [
    "hydro_v2 = pd.DataFrame(index = hydro.index, columns = hydro.columns)\n",
    "cnt = 0\n",
    "for plantid in hydro_plant_id_list:\n",
    "    print(cnt,plantid)\n",
    "    factor = plant.loc[plantid]['GenMWMax']/total_hydro_capacity\n",
    "    plant_profile = [val*factor for val in hydro_v2_ca_total]\n",
    "    hydro_v2[plantid] = plant_profile.copy()\n",
    "    cnt += 1"
   ]
  },
  {
   "cell_type": "markdown",
   "metadata": {},
   "source": [
    "# WA hydro v2"
   ]
  },
  {
   "cell_type": "markdown",
   "metadata": {},
   "source": [
    "## Get hourly profile for top 20 dams from CoreArmy database"
   ]
  },
  {
   "cell_type": "code",
   "execution_count": 28,
   "metadata": {},
   "outputs": [],
   "source": [
    "filename = 'hydro_gmt.csv'\n",
    "filedir = './'\n",
    "aggregate_hourly_profile_wa_nw = pd.read_csv(filedir+filename,header = 0,index_col = 'DateTimeUTC')\n",
    "aggregate_hourly_profile_wa_nw = list(aggregate_hourly_profile_wa_nw.dropna()['sum_hydro'])"
   ]
  },
  {
   "cell_type": "markdown",
   "metadata": {},
   "source": [
    "## Get monthly total net generation from EIA923"
   ]
  },
  {
   "cell_type": "code",
   "execution_count": 29,
   "metadata": {},
   "outputs": [],
   "source": [
    "net_generation_by_plant = plant_generation[(plant_generation['Plant State'] == 'WA') & ((plant_generation['AER\\nFuel Type Code'] == 'HYC')|(plant_generation['AER\\nFuel Type Code'] == 'HPS'))].copy()\n",
    "# Drop unnecessary columns, plant ID, etc..\n",
    "net_generation = net_generation_by_plant.drop(net_generation_by_plant.columns[[0,1,2,3,4]], axis=1)\n",
    "# Get monthly total net generation by summing up across plants with all positive values, note that negative ones are included in actual demand\n",
    "EIA_net_generation = list(net_generation.apply(lambda x: x[x>0].sum()).values)"
   ]
  },
  {
   "cell_type": "markdown",
   "metadata": {},
   "source": [
    "## Scale top 20 dams hourly profile based on EIA monthly total net genration"
   ]
  },
  {
   "cell_type": "code",
   "execution_count": 30,
   "metadata": {},
   "outputs": [],
   "source": [
    "hour_count = 0\n",
    "for i,hour in enumerate(hour_num):\n",
    "    month_sum = sum(aggregate_hourly_profile_wa_nw[hour_count:hour_count+hour])\n",
    "    hour_count += hour\n",
    "    month_factor[i] = EIA_net_generation[i]/month_sum\n",
    "hydro_v2_wa_total = [val*month_factor[hour_month_mapping[i]] for i, val in enumerate(aggregate_hourly_profile_wa_nw)] "
   ]
  },
  {
   "cell_type": "code",
   "execution_count": 31,
   "metadata": {},
   "outputs": [
    {
     "data": {
      "text/plain": [
       "78348006.0"
      ]
     },
     "execution_count": 31,
     "metadata": {},
     "output_type": "execute_result"
    }
   ],
   "source": [
    "sum(EIA_net_generation)"
   ]
  },
  {
   "cell_type": "code",
   "execution_count": 32,
   "metadata": {},
   "outputs": [
    {
     "data": {
      "text/plain": [
       "91352862.30999981"
      ]
     },
     "execution_count": 32,
     "metadata": {},
     "output_type": "execute_result"
    }
   ],
   "source": [
    "sum(aggregate_hourly_profile_wa_nw)"
   ]
  },
  {
   "cell_type": "markdown",
   "metadata": {},
   "source": [
    "## Decompose total hydro profile v2 into plant level profile based on hydro generator capacities"
   ]
  },
  {
   "cell_type": "code",
   "execution_count": 33,
   "metadata": {},
   "outputs": [],
   "source": [
    "hydro_plant_id_list = []\n",
    "total_hydro_capacity = 0\n",
    "for plantid in hydro.columns:\n",
    "    if plant.loc[plantid]['zone_name'] in {'Washington'}:\n",
    "        hydro_plant_id_list.append(plantid)\n",
    "        total_hydro_capacity += plant.loc[plantid]['GenMWMax']"
   ]
  },
  {
   "cell_type": "code",
   "execution_count": 34,
   "metadata": {},
   "outputs": [
    {
     "name": "stdout",
     "output_type": "stream",
     "text": [
      "0 10390\n",
      "1 10391\n",
      "2 10392\n",
      "3 10393\n",
      "4 10394\n",
      "5 10395\n",
      "6 10396\n",
      "7 10398\n",
      "8 10399\n",
      "9 10402\n",
      "10 10403\n",
      "11 10404\n",
      "12 10405\n",
      "13 10406\n",
      "14 10407\n",
      "15 10408\n",
      "16 10409\n",
      "17 10410\n",
      "18 10411\n",
      "19 10412\n",
      "20 10413\n",
      "21 10414\n",
      "22 10415\n",
      "23 10416\n",
      "24 10417\n",
      "25 10418\n",
      "26 10419\n",
      "27 10420\n",
      "28 10421\n",
      "29 10422\n",
      "30 10425\n",
      "31 10426\n",
      "32 10427\n",
      "33 10429\n",
      "34 10430\n",
      "35 10431\n",
      "36 10432\n",
      "37 10433\n",
      "38 10434\n",
      "39 10435\n",
      "40 10436\n",
      "41 10437\n",
      "42 10438\n",
      "43 10439\n",
      "44 10440\n",
      "45 10443\n",
      "46 10444\n",
      "47 10445\n",
      "48 10446\n",
      "49 10449\n",
      "50 10450\n",
      "51 10464\n",
      "52 10465\n",
      "53 10466\n",
      "54 10467\n",
      "55 10468\n",
      "56 10469\n",
      "57 10471\n",
      "58 10472\n",
      "59 10476\n",
      "60 10477\n",
      "61 10478\n",
      "62 10479\n",
      "63 10480\n",
      "64 10481\n",
      "65 10485\n",
      "66 10486\n",
      "67 10487\n",
      "68 10488\n",
      "69 10489\n",
      "70 10490\n",
      "71 10491\n",
      "72 10492\n",
      "73 10493\n",
      "74 10494\n",
      "75 10495\n",
      "76 10496\n",
      "77 10499\n",
      "78 10500\n",
      "79 10501\n",
      "80 10502\n",
      "81 10503\n",
      "82 10504\n",
      "83 10506\n",
      "84 10507\n",
      "85 10508\n",
      "86 10509\n",
      "87 10510\n",
      "88 10511\n",
      "89 10512\n",
      "90 10513\n",
      "91 10520\n",
      "92 10521\n",
      "93 10523\n",
      "94 10524\n",
      "95 10525\n",
      "96 10526\n",
      "97 10527\n",
      "98 10528\n",
      "99 10529\n",
      "100 10530\n",
      "101 10531\n",
      "102 10532\n",
      "103 10533\n",
      "104 10536\n",
      "105 10537\n",
      "106 10542\n",
      "107 10543\n",
      "108 10547\n",
      "109 10548\n",
      "110 10549\n",
      "111 10550\n",
      "112 10551\n",
      "113 10552\n",
      "114 10553\n",
      "115 10554\n",
      "116 10555\n",
      "117 10556\n",
      "118 10557\n",
      "119 10558\n",
      "120 10561\n",
      "121 10562\n",
      "122 10563\n",
      "123 10565\n",
      "124 10566\n",
      "125 10567\n",
      "126 10568\n",
      "127 10576\n",
      "128 10577\n",
      "129 10578\n",
      "130 10579\n",
      "131 10580\n",
      "132 10581\n",
      "133 10584\n",
      "134 10585\n",
      "135 10586\n",
      "136 10587\n",
      "137 10588\n",
      "138 10589\n",
      "139 10590\n",
      "140 10591\n",
      "141 10592\n",
      "142 10593\n",
      "143 10594\n",
      "144 10595\n",
      "145 10596\n",
      "146 10597\n",
      "147 10598\n",
      "148 10606\n",
      "149 10607\n",
      "150 10608\n",
      "151 10609\n",
      "152 10610\n",
      "153 10611\n",
      "154 10612\n",
      "155 10613\n",
      "156 10614\n",
      "157 10615\n",
      "158 10619\n",
      "159 10620\n",
      "160 10621\n",
      "161 10622\n",
      "162 10633\n",
      "163 10634\n",
      "164 10635\n",
      "165 10636\n",
      "166 10637\n",
      "167 10638\n"
     ]
    }
   ],
   "source": [
    "cnt = 0\n",
    "for plantid in hydro_plant_id_list:\n",
    "    print(cnt,plantid)\n",
    "    factor = plant.loc[plantid]['GenMWMax']/total_hydro_capacity\n",
    "    plant_profile = [val*factor for val in hydro_v2_wa_total]\n",
    "    hydro_v2[plantid] = plant_profile.copy()\n",
    "    cnt += 1"
   ]
  },
  {
   "cell_type": "markdown",
   "metadata": {},
   "source": [
    "# The rest of states in WECC hydro v2"
   ]
  },
  {
   "cell_type": "markdown",
   "metadata": {},
   "source": [
    "## OR"
   ]
  },
  {
   "cell_type": "code",
   "execution_count": 35,
   "metadata": {},
   "outputs": [],
   "source": [
    "net_generation_by_plant = plant_generation[(plant_generation['Plant State'] == 'OR') & ((plant_generation['AER\\nFuel Type Code'] == 'HYC')|(plant_generation['AER\\nFuel Type Code'] == 'HPS'))].copy()\n",
    "# Drop unnecessary columns, plant ID, etc..\n",
    "net_generation = net_generation_by_plant.drop(net_generation_by_plant.columns[[0,1,2,3,4]], axis=1)\n",
    "# Get monthly total net generation by summing up across plants with all positive values, note that negative ones are included in actual demand\n",
    "EIA_net_generation = list(net_generation.apply(lambda x: x[x>0].sum()).values)"
   ]
  },
  {
   "cell_type": "code",
   "execution_count": 36,
   "metadata": {},
   "outputs": [],
   "source": [
    "hour_count = 0\n",
    "for i,hour in enumerate(hour_num):\n",
    "    month_sum = sum(aggregate_hourly_profile_wa_nw[hour_count:hour_count+hour])\n",
    "    hour_count += hour\n",
    "    month_factor[i] = EIA_net_generation[i]/month_sum\n",
    "hydro_v2_or_total = [val*month_factor[hour_month_mapping[i]] for i, val in enumerate(aggregate_hourly_profile_wa_nw)] "
   ]
  },
  {
   "cell_type": "code",
   "execution_count": 37,
   "metadata": {},
   "outputs": [],
   "source": [
    "hydro_plant_id_list = []\n",
    "total_hydro_capacity = 0\n",
    "for plantid in hydro.columns:\n",
    "    if plant.loc[plantid]['zone_name'] in {'Oregon'}:\n",
    "        hydro_plant_id_list.append(plantid)\n",
    "        total_hydro_capacity += plant.loc[plantid]['GenMWMax']"
   ]
  },
  {
   "cell_type": "code",
   "execution_count": 38,
   "metadata": {},
   "outputs": [
    {
     "name": "stdout",
     "output_type": "stream",
     "text": [
      "0 10639\n",
      "1 10640\n",
      "2 10641\n",
      "3 10643\n",
      "4 10644\n",
      "5 10645\n",
      "6 10654\n",
      "7 10655\n",
      "8 10656\n",
      "9 10657\n",
      "10 10658\n",
      "11 10659\n",
      "12 10663\n",
      "13 10664\n",
      "14 10665\n",
      "15 10669\n",
      "16 10670\n",
      "17 10671\n",
      "18 10672\n",
      "19 10673\n",
      "20 10674\n",
      "21 10679\n",
      "22 10680\n",
      "23 10691\n",
      "24 10692\n",
      "25 10693\n",
      "26 10695\n",
      "27 10696\n",
      "28 10701\n",
      "29 10702\n",
      "30 10703\n",
      "31 10704\n",
      "32 10728\n",
      "33 10729\n",
      "34 10730\n",
      "35 10731\n",
      "36 10732\n",
      "37 10733\n",
      "38 10734\n",
      "39 10735\n",
      "40 10736\n",
      "41 10737\n",
      "42 10739\n",
      "43 10740\n",
      "44 10741\n",
      "45 10742\n",
      "46 10743\n",
      "47 10744\n",
      "48 10745\n",
      "49 10746\n",
      "50 10747\n",
      "51 10749\n",
      "52 10750\n",
      "53 10751\n",
      "54 10757\n",
      "55 10758\n",
      "56 10759\n",
      "57 10760\n",
      "58 10761\n",
      "59 10762\n",
      "60 10766\n",
      "61 10779\n",
      "62 10780\n",
      "63 10781\n",
      "64 10782\n",
      "65 10783\n",
      "66 10784\n",
      "67 10785\n",
      "68 10786\n",
      "69 10787\n",
      "70 10788\n",
      "71 10791\n",
      "72 10792\n",
      "73 10793\n",
      "74 10794\n",
      "75 10795\n",
      "76 10796\n",
      "77 10797\n",
      "78 10798\n",
      "79 10799\n",
      "80 10800\n",
      "81 10801\n",
      "82 10802\n",
      "83 10805\n"
     ]
    }
   ],
   "source": [
    "cnt = 0\n",
    "for plantid in hydro_plant_id_list:\n",
    "    print(cnt,plantid)\n",
    "    factor = plant.loc[plantid]['GenMWMax']/total_hydro_capacity\n",
    "    plant_profile = [val*factor for val in hydro_v2_or_total]\n",
    "    hydro_v2[plantid] = plant_profile.copy()\n",
    "    cnt += 1"
   ]
  },
  {
   "cell_type": "markdown",
   "metadata": {},
   "source": [
    "# AZ"
   ]
  },
  {
   "cell_type": "code",
   "execution_count": 39,
   "metadata": {},
   "outputs": [],
   "source": [
    "net_generation_by_plant = plant_generation[(plant_generation['Plant State'] == 'AZ') & ((plant_generation['AER\\nFuel Type Code'] == 'HYC')|(plant_generation['AER\\nFuel Type Code'] == 'HPS'))].copy()\n",
    "# Drop unnecessary columns, plant ID, etc..\n",
    "net_generation = net_generation_by_plant.drop(net_generation_by_plant.columns[[0,1,2,3,4]], axis=1)\n",
    "# Get monthly total net generation by summing up across plants with all positive values, note that negative ones are included in actual demand\n",
    "EIA_net_generation = list(net_generation.apply(lambda x: x[x>0].sum()).values)"
   ]
  },
  {
   "cell_type": "code",
   "execution_count": 40,
   "metadata": {},
   "outputs": [],
   "source": [
    "hour_count = 0\n",
    "for i,hour in enumerate(hour_num):\n",
    "    month_sum = sum(aggregate_hourly_profile_wa_nw[hour_count:hour_count+hour])\n",
    "    hour_count += hour\n",
    "    month_factor[i] = EIA_net_generation[i]/month_sum\n",
    "hydro_v2_az_total = [val*month_factor[hour_month_mapping[i]] for i, val in enumerate(aggregate_hourly_profile_wa_nw)] "
   ]
  },
  {
   "cell_type": "code",
   "execution_count": 41,
   "metadata": {},
   "outputs": [],
   "source": [
    "hydro_plant_id_list = []\n",
    "total_hydro_capacity = 0\n",
    "for plantid in hydro.columns:\n",
    "    if plant.loc[plantid]['zone_name'] in {'Arizona'}:\n",
    "        hydro_plant_id_list.append(plantid)\n",
    "        total_hydro_capacity += plant.loc[plantid]['GenMWMax']"
   ]
  },
  {
   "cell_type": "code",
   "execution_count": 42,
   "metadata": {},
   "outputs": [
    {
     "name": "stdout",
     "output_type": "stream",
     "text": [
      "0 12075\n",
      "1 12077\n",
      "2 12078\n",
      "3 12079\n",
      "4 12080\n",
      "5 12091\n",
      "6 12092\n",
      "7 12093\n",
      "8 12094\n",
      "9 12095\n",
      "10 12118\n",
      "11 12119\n",
      "12 12217\n",
      "13 12218\n",
      "14 12219\n",
      "15 12220\n",
      "16 12221\n",
      "17 12222\n",
      "18 12232\n",
      "19 12235\n",
      "20 12236\n",
      "21 12237\n",
      "22 12238\n",
      "23 12254\n",
      "24 12255\n",
      "25 12256\n",
      "26 12257\n",
      "27 12258\n",
      "28 12259\n"
     ]
    }
   ],
   "source": [
    "cnt = 0\n",
    "for plantid in hydro_plant_id_list:\n",
    "    print(cnt,plantid)\n",
    "    factor = plant.loc[plantid]['GenMWMax']/total_hydro_capacity\n",
    "    plant_profile = [val*factor for val in hydro_v2_az_total]\n",
    "    hydro_v2[plantid] = plant_profile.copy()\n",
    "    cnt += 1"
   ]
  },
  {
   "cell_type": "markdown",
   "metadata": {},
   "source": [
    "# NV"
   ]
  },
  {
   "cell_type": "code",
   "execution_count": 43,
   "metadata": {},
   "outputs": [],
   "source": [
    "net_generation_by_plant = plant_generation[(plant_generation['Plant State'] == 'NV') & ((plant_generation['AER\\nFuel Type Code'] == 'HYC')|(plant_generation['AER\\nFuel Type Code'] == 'HPS'))].copy()\n",
    "# Drop unnecessary columns, plant ID, etc..\n",
    "net_generation = net_generation_by_plant.drop(net_generation_by_plant.columns[[0,1,2,3,4]], axis=1)\n",
    "# Get monthly total net generation by summing up across plants with all positive values, note that negative ones are included in actual demand\n",
    "EIA_net_generation = list(net_generation.apply(lambda x: x[x>0].sum()).values)"
   ]
  },
  {
   "cell_type": "code",
   "execution_count": 44,
   "metadata": {},
   "outputs": [],
   "source": [
    "hour_count = 0\n",
    "for i,hour in enumerate(hour_num):\n",
    "    month_sum = sum(aggregate_hourly_profile_wa_nw[hour_count:hour_count+hour])\n",
    "    hour_count += hour\n",
    "    month_factor[i] = EIA_net_generation[i]/month_sum\n",
    "hydro_v2_nv_total = [val*month_factor[hour_month_mapping[i]] for i, val in enumerate(aggregate_hourly_profile_wa_nw)] "
   ]
  },
  {
   "cell_type": "code",
   "execution_count": 45,
   "metadata": {},
   "outputs": [],
   "source": [
    "hydro_plant_id_list = []\n",
    "total_hydro_capacity = 0\n",
    "for plantid in hydro.columns:\n",
    "    if plant.loc[plantid]['zone_name'] in {'Nevada'}:\n",
    "        hydro_plant_id_list.append(plantid)\n",
    "        total_hydro_capacity += plant.loc[plantid]['GenMWMax']"
   ]
  },
  {
   "cell_type": "code",
   "execution_count": 46,
   "metadata": {},
   "outputs": [
    {
     "name": "stdout",
     "output_type": "stream",
     "text": [
      "0 12051\n",
      "1 12052\n",
      "2 12053\n",
      "3 12054\n",
      "4 12055\n",
      "5 12056\n"
     ]
    }
   ],
   "source": [
    "cnt = 0\n",
    "for plantid in hydro_plant_id_list:\n",
    "    print(cnt,plantid)\n",
    "    factor = plant.loc[plantid]['GenMWMax']/total_hydro_capacity\n",
    "    plant_profile = [val*factor for val in hydro_v2_nv_total]\n",
    "    hydro_v2[plantid] = plant_profile.copy()\n",
    "    cnt += 1"
   ]
  },
  {
   "cell_type": "markdown",
   "metadata": {},
   "source": [
    "# ID"
   ]
  },
  {
   "cell_type": "code",
   "execution_count": 47,
   "metadata": {},
   "outputs": [],
   "source": [
    "net_generation_by_plant = plant_generation[(plant_generation['Plant State'] == 'ID') & ((plant_generation['AER\\nFuel Type Code'] == 'HYC')|(plant_generation['AER\\nFuel Type Code'] == 'HPS'))].copy()\n",
    "# Drop unnecessary columns, plant ID, etc..\n",
    "net_generation = net_generation_by_plant.drop(net_generation_by_plant.columns[[0,1,2,3,4]], axis=1)\n",
    "# Get monthly total net generation by summing up across plants with all positive values, note that negative ones are included in actual demand\n",
    "EIA_net_generation = list(net_generation.apply(lambda x: x[x>0].sum()).values)"
   ]
  },
  {
   "cell_type": "code",
   "execution_count": 48,
   "metadata": {},
   "outputs": [],
   "source": [
    "hour_count = 0\n",
    "for i,hour in enumerate(hour_num):\n",
    "    month_sum = sum(aggregate_hourly_profile_wa_nw[hour_count:hour_count+hour])\n",
    "    hour_count += hour\n",
    "    month_factor[i] = EIA_net_generation[i]/month_sum\n",
    "hydro_v2_id_total = [val*month_factor[hour_month_mapping[i]] for i, val in enumerate(aggregate_hourly_profile_wa_nw)] "
   ]
  },
  {
   "cell_type": "code",
   "execution_count": 49,
   "metadata": {},
   "outputs": [],
   "source": [
    "hydro_plant_id_list = []\n",
    "total_hydro_capacity = 0\n",
    "for plantid in hydro.columns:\n",
    "    if plant.loc[plantid]['zone_name'] in {'Idaho'}:\n",
    "        hydro_plant_id_list.append(plantid)\n",
    "        total_hydro_capacity += plant.loc[plantid]['GenMWMax']"
   ]
  },
  {
   "cell_type": "code",
   "execution_count": 50,
   "metadata": {},
   "outputs": [
    {
     "name": "stdout",
     "output_type": "stream",
     "text": [
      "0 12660\n",
      "1 12661\n",
      "2 12662\n",
      "3 12663\n",
      "4 12664\n",
      "5 12665\n",
      "6 12666\n",
      "7 12667\n",
      "8 12668\n",
      "9 12669\n",
      "10 12679\n",
      "11 12680\n",
      "12 12681\n",
      "13 12682\n",
      "14 12683\n",
      "15 12690\n",
      "16 12691\n",
      "17 12692\n",
      "18 12696\n",
      "19 12697\n",
      "20 12698\n",
      "21 12699\n",
      "22 12702\n",
      "23 12703\n",
      "24 12704\n",
      "25 12705\n",
      "26 12706\n",
      "27 12707\n",
      "28 12708\n",
      "29 12709\n",
      "30 12710\n",
      "31 12714\n",
      "32 12715\n",
      "33 12716\n",
      "34 12718\n",
      "35 12719\n",
      "36 12720\n",
      "37 12721\n",
      "38 12722\n",
      "39 12723\n",
      "40 12724\n",
      "41 12729\n",
      "42 12730\n",
      "43 12731\n",
      "44 12735\n",
      "45 12736\n",
      "46 12737\n",
      "47 12746\n",
      "48 12747\n",
      "49 12748\n",
      "50 12749\n",
      "51 12750\n",
      "52 12755\n",
      "53 12756\n",
      "54 12757\n",
      "55 12759\n",
      "56 12760\n",
      "57 12761\n",
      "58 12762\n",
      "59 12763\n",
      "60 12764\n",
      "61 12765\n",
      "62 12766\n",
      "63 12767\n",
      "64 12768\n",
      "65 12769\n",
      "66 12770\n",
      "67 12771\n",
      "68 12774\n",
      "69 12775\n",
      "70 12776\n",
      "71 12777\n"
     ]
    }
   ],
   "source": [
    "cnt = 0\n",
    "for plantid in hydro_plant_id_list:\n",
    "    print(cnt,plantid)\n",
    "    factor = plant.loc[plantid]['GenMWMax']/total_hydro_capacity\n",
    "    plant_profile = [val*factor for val in hydro_v2_id_total]\n",
    "    hydro_v2[plantid] = plant_profile.copy()\n",
    "    cnt += 1"
   ]
  },
  {
   "cell_type": "markdown",
   "metadata": {},
   "source": [
    "# MT"
   ]
  },
  {
   "cell_type": "code",
   "execution_count": 51,
   "metadata": {},
   "outputs": [],
   "source": [
    "net_generation_by_plant = plant_generation[(plant_generation['Plant State'] == 'MT') & ((plant_generation['AER\\nFuel Type Code'] == 'HYC')|(plant_generation['AER\\nFuel Type Code'] == 'HPS'))].copy()\n",
    "# Drop unnecessary columns, plant ID, etc..\n",
    "net_generation = net_generation_by_plant.drop(net_generation_by_plant.columns[[0,1,2,3,4]], axis=1)\n",
    "# Get monthly total net generation by summing up across plants with all positive values, note that negative ones are included in actual demand\n",
    "EIA_net_generation = list(net_generation.apply(lambda x: x[x>0].sum()).values)"
   ]
  },
  {
   "cell_type": "code",
   "execution_count": 52,
   "metadata": {},
   "outputs": [],
   "source": [
    "hour_count = 0\n",
    "for i,hour in enumerate(hour_num):\n",
    "    month_sum = sum(aggregate_hourly_profile_wa_nw[hour_count:hour_count+hour])\n",
    "    hour_count += hour\n",
    "    month_factor[i] = EIA_net_generation[i]/month_sum\n",
    "hydro_v2_mt_total = [val*month_factor[hour_month_mapping[i]] for i, val in enumerate(aggregate_hourly_profile_wa_nw)] "
   ]
  },
  {
   "cell_type": "code",
   "execution_count": 53,
   "metadata": {},
   "outputs": [],
   "source": [
    "hydro_plant_id_list = []\n",
    "total_hydro_capacity = 0\n",
    "for plantid in hydro.columns:\n",
    "    if plant.loc[plantid]['zone_name'] in {'Montana Western'}:\n",
    "        hydro_plant_id_list.append(plantid)\n",
    "        total_hydro_capacity += plant.loc[plantid]['GenMWMax']"
   ]
  },
  {
   "cell_type": "code",
   "execution_count": 54,
   "metadata": {},
   "outputs": [
    {
     "name": "stdout",
     "output_type": "stream",
     "text": [
      "0 12782\n",
      "1 12783\n",
      "2 12784\n",
      "3 12785\n",
      "4 12786\n",
      "5 12791\n",
      "6 12792\n",
      "7 12793\n",
      "8 12798\n",
      "9 12799\n",
      "10 12800\n",
      "11 12801\n",
      "12 12802\n",
      "13 12803\n",
      "14 12804\n",
      "15 12805\n",
      "16 12806\n",
      "17 12807\n",
      "18 12808\n",
      "19 12809\n",
      "20 12812\n",
      "21 12813\n",
      "22 12814\n",
      "23 12815\n",
      "24 12816\n",
      "25 12817\n",
      "26 12818\n",
      "27 12819\n",
      "28 12823\n",
      "29 12824\n",
      "30 12825\n",
      "31 12826\n",
      "32 12827\n",
      "33 12828\n",
      "34 12839\n",
      "35 12840\n",
      "36 12841\n",
      "37 12842\n",
      "38 12843\n",
      "39 12844\n",
      "40 12845\n",
      "41 12846\n",
      "42 12847\n",
      "43 12848\n",
      "44 12849\n",
      "45 12850\n",
      "46 12855\n",
      "47 12856\n",
      "48 12857\n",
      "49 12858\n",
      "50 12859\n",
      "51 12860\n",
      "52 12861\n",
      "53 12862\n",
      "54 12863\n"
     ]
    }
   ],
   "source": [
    "cnt = 0\n",
    "for plantid in hydro_plant_id_list:\n",
    "    print(cnt,plantid)\n",
    "    factor = plant.loc[plantid]['GenMWMax']/total_hydro_capacity\n",
    "    plant_profile = [val*factor for val in hydro_v2_mt_total]\n",
    "    hydro_v2[plantid] = plant_profile.copy()\n",
    "    cnt += 1"
   ]
  },
  {
   "cell_type": "markdown",
   "metadata": {},
   "source": [
    "# WY"
   ]
  },
  {
   "cell_type": "code",
   "execution_count": 55,
   "metadata": {},
   "outputs": [],
   "source": [
    "net_generation_by_plant = plant_generation[(plant_generation['Plant State'] == 'WY') & ((plant_generation['AER\\nFuel Type Code'] == 'HYC')|(plant_generation['AER\\nFuel Type Code'] == 'HPS'))].copy()\n",
    "# Drop unnecessary columns, plant ID, etc..\n",
    "net_generation = net_generation_by_plant.drop(net_generation_by_plant.columns[[0,1,2,3,4]], axis=1)\n",
    "# Get monthly total net generation by summing up across plants with all positive values, note that negative ones are included in actual demand\n",
    "EIA_net_generation = list(net_generation.apply(lambda x: x[x>0].sum()).values)"
   ]
  },
  {
   "cell_type": "markdown",
   "metadata": {},
   "source": [
    "## For WY, WA top 20 dams hourly profile is not suitable since it violates the maximum capacity in the peak hours. In this version, we apply a flat hourly profile based on the monthly total net generation from EIA 923 for WY in each month."
   ]
  },
  {
   "cell_type": "code",
   "execution_count": 56,
   "metadata": {},
   "outputs": [],
   "source": [
    "hour_count = 0\n",
    "hydro_v2_wy_total = []\n",
    "for i,hour in enumerate(hour_num):\n",
    "    hydro_v2_wy_total += [EIA_net_generation[i]/hour]*hour\n",
    "    hour_count += hour"
   ]
  },
  {
   "cell_type": "code",
   "execution_count": 57,
   "metadata": {},
   "outputs": [],
   "source": [
    "hydro_plant_id_list = []\n",
    "total_hydro_capacity = 0\n",
    "for plantid in hydro.columns:\n",
    "    if plant.loc[plantid]['zone_name'] in {'Wyoming'}:\n",
    "        hydro_plant_id_list.append(plantid)\n",
    "        total_hydro_capacity += plant.loc[plantid]['GenMWMax']"
   ]
  },
  {
   "cell_type": "code",
   "execution_count": 58,
   "metadata": {},
   "outputs": [
    {
     "name": "stdout",
     "output_type": "stream",
     "text": [
      "0 12589\n",
      "1 12590\n",
      "2 12624\n",
      "3 12625\n",
      "4 12626\n",
      "5 12627\n",
      "6 12628\n",
      "7 12629\n",
      "8 12630\n",
      "9 12650\n",
      "10 12651\n",
      "11 12652\n",
      "12 12653\n",
      "13 12654\n",
      "14 12655\n"
     ]
    }
   ],
   "source": [
    "cnt = 0\n",
    "for plantid in hydro_plant_id_list:\n",
    "    print(cnt,plantid)\n",
    "    factor = plant.loc[plantid]['GenMWMax']/total_hydro_capacity\n",
    "    plant_profile = [val*factor for val in hydro_v2_wy_total]\n",
    "    hydro_v2[plantid] = plant_profile.copy()\n",
    "    cnt += 1"
   ]
  },
  {
   "cell_type": "markdown",
   "metadata": {},
   "source": [
    "# UT"
   ]
  },
  {
   "cell_type": "code",
   "execution_count": 59,
   "metadata": {},
   "outputs": [],
   "source": [
    "net_generation_by_plant = plant_generation[(plant_generation['Plant State'] == 'UT') & ((plant_generation['AER\\nFuel Type Code'] == 'HYC')|(plant_generation['AER\\nFuel Type Code'] == 'HPS'))].copy()\n",
    "# Drop unnecessary columns, plant ID, etc..\n",
    "net_generation = net_generation_by_plant.drop(net_generation_by_plant.columns[[0,1,2,3,4]], axis=1)\n",
    "# Get monthly total net generation by summing up across plants with all positive values, note that negative ones are included in actual demand\n",
    "EIA_net_generation = list(net_generation.apply(lambda x: x[x>0].sum()).values)"
   ]
  },
  {
   "cell_type": "code",
   "execution_count": 60,
   "metadata": {},
   "outputs": [],
   "source": [
    "hour_count = 0\n",
    "for i,hour in enumerate(hour_num):\n",
    "    month_sum = sum(aggregate_hourly_profile_wa_nw[hour_count:hour_count+hour])\n",
    "    hour_count += hour\n",
    "    month_factor[i] = EIA_net_generation[i]/month_sum\n",
    "hydro_v2_ut_total = [val*month_factor[hour_month_mapping[i]] for i, val in enumerate(aggregate_hourly_profile_wa_nw)] "
   ]
  },
  {
   "cell_type": "code",
   "execution_count": 61,
   "metadata": {},
   "outputs": [],
   "source": [
    "hydro_plant_id_list = []\n",
    "total_hydro_capacity = 0\n",
    "for plantid in hydro.columns:\n",
    "    if plant.loc[plantid]['zone_name'] in {'Utah'}:\n",
    "        hydro_plant_id_list.append(plantid)\n",
    "        total_hydro_capacity += plant.loc[plantid]['GenMWMax']"
   ]
  },
  {
   "cell_type": "code",
   "execution_count": 62,
   "metadata": {},
   "outputs": [
    {
     "name": "stdout",
     "output_type": "stream",
     "text": [
      "0 12292\n",
      "1 12293\n",
      "2 12342\n",
      "3 12343\n",
      "4 12344\n"
     ]
    }
   ],
   "source": [
    "cnt = 0\n",
    "for plantid in hydro_plant_id_list:\n",
    "    print(cnt,plantid)\n",
    "    factor = plant.loc[plantid]['GenMWMax']/total_hydro_capacity\n",
    "    plant_profile = [val*factor for val in hydro_v2_ut_total]\n",
    "    hydro_v2[plantid] = plant_profile.copy()\n",
    "    cnt += 1"
   ]
  },
  {
   "cell_type": "markdown",
   "metadata": {},
   "source": [
    "# CO"
   ]
  },
  {
   "cell_type": "code",
   "execution_count": 63,
   "metadata": {},
   "outputs": [],
   "source": [
    "net_generation_by_plant = plant_generation[(plant_generation['Plant State'] == 'CO') & ((plant_generation['AER\\nFuel Type Code'] == 'HYC')|(plant_generation['AER\\nFuel Type Code'] == 'HPS'))].copy()\n",
    "# Drop unnecessary columns, plant ID, etc..\n",
    "net_generation = net_generation_by_plant.drop(net_generation_by_plant.columns[[0,1,2,3,4]], axis=1)\n",
    "# Get monthly total net generation by summing up across plants with all positive values, note that negative ones are included in actual demand\n",
    "net_generation = net_generation.replace('.',0)\n",
    "EIA_net_generation = list(net_generation.apply(lambda x: x[x>0].sum()).values)"
   ]
  },
  {
   "cell_type": "code",
   "execution_count": 64,
   "metadata": {},
   "outputs": [],
   "source": [
    "hour_count = 0\n",
    "for i,hour in enumerate(hour_num):\n",
    "    month_sum = sum(aggregate_hourly_profile_wa_nw[hour_count:hour_count+hour])\n",
    "    hour_count += hour\n",
    "    month_factor[i] = EIA_net_generation[i]/month_sum\n",
    "hydro_v2_co_total = [val*month_factor[hour_month_mapping[i]] for i, val in enumerate(aggregate_hourly_profile_wa_nw)] "
   ]
  },
  {
   "cell_type": "code",
   "execution_count": 65,
   "metadata": {},
   "outputs": [],
   "source": [
    "hydro_plant_id_list = []\n",
    "total_hydro_capacity = 0\n",
    "for plantid in hydro.columns:\n",
    "    if plant.loc[plantid]['zone_name'] in {'Colorado'}:\n",
    "        hydro_plant_id_list.append(plantid)\n",
    "        total_hydro_capacity += plant.loc[plantid]['GenMWMax']"
   ]
  },
  {
   "cell_type": "code",
   "execution_count": 66,
   "metadata": {},
   "outputs": [
    {
     "name": "stdout",
     "output_type": "stream",
     "text": [
      "0 12455\n",
      "1 12472\n",
      "2 12473\n",
      "3 12474\n",
      "4 12475\n",
      "5 12483\n",
      "6 12484\n",
      "7 12497\n",
      "8 12498\n",
      "9 12499\n",
      "10 12508\n",
      "11 12509\n",
      "12 12510\n",
      "13 12511\n",
      "14 12517\n",
      "15 12518\n",
      "16 12519\n",
      "17 12521\n",
      "18 12522\n",
      "19 12533\n",
      "20 12534\n",
      "21 12557\n",
      "22 12558\n",
      "23 12559\n",
      "24 12560\n"
     ]
    }
   ],
   "source": [
    "cnt = 0\n",
    "for plantid in hydro_plant_id_list:\n",
    "    print(cnt,plantid)\n",
    "    factor = plant.loc[plantid]['GenMWMax']/total_hydro_capacity\n",
    "    plant_profile = [val*factor for val in hydro_v2_co_total]\n",
    "    hydro_v2[plantid] = plant_profile.copy()\n",
    "    cnt += 1"
   ]
  },
  {
   "cell_type": "markdown",
   "metadata": {},
   "source": [
    "# NM"
   ]
  },
  {
   "cell_type": "code",
   "execution_count": 67,
   "metadata": {},
   "outputs": [],
   "source": [
    "net_generation_by_plant = plant_generation[(plant_generation['Plant State'] == 'NM') & ((plant_generation['AER\\nFuel Type Code'] == 'HYC')|(plant_generation['AER\\nFuel Type Code'] == 'HPS'))].copy()\n",
    "# Drop unnecessary columns, plant ID, etc..\n",
    "net_generation = net_generation_by_plant.drop(net_generation_by_plant.columns[[0,1,2,3,4]], axis=1)\n",
    "# Get monthly total net generation by summing up across plants with all positive values, note that negative ones are included in actual demand\n",
    "# net_generation = net_generation.replace('.',0)\n",
    "EIA_net_generation = list(net_generation.apply(lambda x: x[x>0].sum()).values)"
   ]
  },
  {
   "cell_type": "code",
   "execution_count": 68,
   "metadata": {},
   "outputs": [],
   "source": [
    "hour_count = 0\n",
    "for i,hour in enumerate(hour_num):\n",
    "    month_sum = sum(aggregate_hourly_profile_wa_nw[hour_count:hour_count+hour])\n",
    "    hour_count += hour\n",
    "    month_factor[i] = EIA_net_generation[i]/month_sum\n",
    "hydro_v2_nm_total = [val*month_factor[hour_month_mapping[i]] for i, val in enumerate(aggregate_hourly_profile_wa_nw)] "
   ]
  },
  {
   "cell_type": "code",
   "execution_count": 69,
   "metadata": {},
   "outputs": [],
   "source": [
    "hydro_plant_id_list = []\n",
    "total_hydro_capacity = 0\n",
    "for plantid in hydro.columns:\n",
    "    if plant.loc[plantid]['zone_name'] in {'New Mexico Western'}:\n",
    "        hydro_plant_id_list.append(plantid)\n",
    "        total_hydro_capacity += plant.loc[plantid]['GenMWMax']"
   ]
  },
  {
   "cell_type": "code",
   "execution_count": 70,
   "metadata": {},
   "outputs": [
    {
     "name": "stdout",
     "output_type": "stream",
     "text": [
      "0 12349\n",
      "1 12350\n",
      "2 12351\n",
      "3 12352\n",
      "4 12353\n",
      "5 12354\n"
     ]
    }
   ],
   "source": [
    "cnt = 0\n",
    "for plantid in hydro_plant_id_list:\n",
    "    print(cnt,plantid)\n",
    "    factor = plant.loc[plantid]['GenMWMax']/total_hydro_capacity\n",
    "    plant_profile = [val*factor for val in hydro_v2_nm_total]\n",
    "    hydro_v2[plantid] = plant_profile.copy()\n",
    "    cnt += 1"
   ]
  },
  {
   "cell_type": "markdown",
   "metadata": {},
   "source": [
    "# El Paso has no hydro plant"
   ]
  },
  {
   "cell_type": "code",
   "execution_count": 300,
   "metadata": {},
   "outputs": [],
   "source": [
    "hydro_v2.to_csv('western_hydro_v2_reference.csv')"
   ]
  },
  {
   "cell_type": "markdown",
   "metadata": {},
   "source": [
    "# Sanity check"
   ]
  },
  {
   "cell_type": "markdown",
   "metadata": {},
   "source": [
    "## Total net generation in each state and each month should match"
   ]
  },
  {
   "cell_type": "code",
   "execution_count": 71,
   "metadata": {},
   "outputs": [
    {
     "data": {
      "text/plain": [
       "174543031.1409999"
      ]
     },
     "execution_count": 71,
     "metadata": {},
     "output_type": "execute_result"
    }
   ],
   "source": [
    "hydro_v2.sum().sum()"
   ]
  },
  {
   "cell_type": "code",
   "execution_count": 72,
   "metadata": {},
   "outputs": [
    {
     "data": {
      "text/plain": [
       "174543031.14099997"
      ]
     },
     "execution_count": 72,
     "metadata": {},
     "output_type": "execute_result"
    }
   ],
   "source": [
    "EIA_net_generation = {}\n",
    "for state in ['WA','OR','CA','NV','ID','CO','MT','NM','AZ','UT','WY']:\n",
    "    net_generation_by_plant = plant_generation[(plant_generation['Plant State'] == state) & ((plant_generation['AER\\nFuel Type Code'] == 'HYC')|(plant_generation['AER\\nFuel Type Code'] == 'HPS'))].copy()\n",
    "    # Drop unnecessary columns, plant ID, etc..\n",
    "    net_generation = net_generation_by_plant.drop(net_generation_by_plant.columns[[0,1,2,3,4]], axis=1)\n",
    "    # Get monthly total net generation by summing up across plants with all positive values, note that negative ones are included in actual demand\n",
    "    net_generation = net_generation.replace('.',0)\n",
    "    EIA_net_generation[state] = list(net_generation.apply(lambda x: x[x>0].sum()).values)\n",
    "sum_chk = 0\n",
    "for val in EIA_net_generation.values():\n",
    "    sum_chk += sum(val)\n",
    "sum_chk"
   ]
  },
  {
   "cell_type": "code",
   "execution_count": 73,
   "metadata": {},
   "outputs": [
    {
     "name": "stdout",
     "output_type": "stream",
     "text": [
      "29704408.49000001 29704408.49\n",
      "78348005.99999966 78348005.99999999\n",
      "759541.9999999981 759542.0\n",
      "147971.99999999962 147972.0\n",
      "9033272.10000003 9033272.1\n",
      "1902903.0000000012 1902903.0\n",
      "10082528.995999966 10082528.996000001\n",
      "1789218.9999999998 1789219.0\n",
      "7251077.000000008 7251077.000000001\n",
      "974736.1900000378 974736.1900000001\n",
      "34549366.364999905 34549366.365\n"
     ]
    }
   ],
   "source": [
    "print(sum(hydro_v2_ca_total),sum(EIA_net_generation['CA']))\n",
    "print(sum(hydro_v2_wa_total),sum(EIA_net_generation['WA']))\n",
    "print(sum(hydro_v2_ut_total),sum(EIA_net_generation['UT']))\n",
    "print(sum(hydro_v2_nm_total),sum(EIA_net_generation['NM']))\n",
    "print(sum(hydro_v2_id_total),sum(EIA_net_generation['ID']))\n",
    "print(sum(hydro_v2_co_total),sum(EIA_net_generation['CO']))\n",
    "print(sum(hydro_v2_mt_total),sum(EIA_net_generation['MT']))\n",
    "print(sum(hydro_v2_nv_total),sum(EIA_net_generation['NV']))\n",
    "print(sum(hydro_v2_az_total),sum(EIA_net_generation['AZ']))\n",
    "print(sum(hydro_v2_wy_total),sum(EIA_net_generation['WY']))\n",
    "print(sum(hydro_v2_or_total),sum(EIA_net_generation['OR']))"
   ]
  },
  {
   "cell_type": "code",
   "execution_count": 74,
   "metadata": {},
   "outputs": [
    {
     "name": "stdout",
     "output_type": "stream",
     "text": [
      "2.764863893389702e-10\n",
      "-3.710738383233547e-10\n",
      "3.92901711165905e-10\n",
      "3.2014213502407074e-10\n",
      "-1.8917489796876907e-09\n",
      "-3.346940502524376e-09\n",
      "5.820766091346741e-11\n",
      "-1.8335413187742233e-09\n",
      "6.766640581190586e-10\n",
      "3.41970007866621e-10\n",
      "-2.6557245291769505e-10\n",
      "4.511093720793724e-10\n"
     ]
    }
   ],
   "source": [
    "hour_count = 0\n",
    "for i,hour in enumerate(hour_num):\n",
    "    month_sum = sum(hydro_v2_wy_total[hour_count:hour_count+hour])\n",
    "    hour_count += hour\n",
    "    print(month_sum - EIA_net_generation['WY'][i])"
   ]
  },
  {
   "cell_type": "markdown",
   "metadata": {},
   "source": [
    "## Generation factor for plants should below 1 "
   ]
  },
  {
   "cell_type": "code",
   "execution_count": 75,
   "metadata": {},
   "outputs": [
    {
     "data": {
      "text/plain": [
       "<matplotlib.axes._subplots.AxesSubplot at 0x1833630f9e8>"
      ]
     },
     "execution_count": 75,
     "metadata": {},
     "output_type": "execute_result"
    },
    {
     "data": {
      "image/png": "[encoded data removed]",
      "text/plain": [
       "<Figure size 432x288 with 1 Axes>"
      ]
     },
     "metadata": {
      "needs_background": "light"
     },
     "output_type": "display_data"
    }
   ],
   "source": [
    "hydro_v2[hydro_v2.columns[0]].plot()"
   ]
  },
  {
   "cell_type": "code",
   "execution_count": 76,
   "metadata": {},
   "outputs": [],
   "source": [
    "hydro_v2_factor = hydro_v2.copy()\n",
    "for plantid in hydro_v2.columns:\n",
    "    cap = plant.loc[plantid]['GenMWMax']\n",
    "    hydro_v2_factor[plantid] = hydro_v2_factor[plantid].apply(lambda x: x/cap)"
   ]
  },
  {
   "cell_type": "code",
   "execution_count": 77,
   "metadata": {},
   "outputs": [
    {
     "data": {
      "text/plain": [
       "<matplotlib.axes._subplots.AxesSubplot at 0x18335d03cf8>"
      ]
     },
     "execution_count": 77,
     "metadata": {},
     "output_type": "execute_result"
    },
    {
     "data": {
      "image/png": "[encoded data removed]",
      "text/plain": [
       "<Figure size 432x288 with 1 Axes>"
      ]
     },
     "metadata": {
      "needs_background": "light"
     },
     "output_type": "display_data"
    }
   ],
   "source": [
    "hydro_v2_factor[hydro_v2_factor.columns[0]].plot()"
   ]
  },
  {
   "cell_type": "code",
   "execution_count": 78,
   "metadata": {},
   "outputs": [
    {
     "data": {
      "image/png": "[encoded data removed]",
      "text/plain": [
       "<Figure size 432x288 with 1 Axes>"
      ]
     },
     "metadata": {
      "needs_background": "light"
     },
     "output_type": "display_data"
    }
   ],
   "source": [
    "from matplotlib import pyplot as plt\n",
    "plt.plot(hydro_v2_az_total)\n",
    "plt.show()"
   ]
  },
  {
   "cell_type": "code",
   "execution_count": 79,
   "metadata": {},
   "outputs": [
    {
     "data": {
      "text/plain": [
       "10800"
      ]
     },
     "execution_count": 79,
     "metadata": {},
     "output_type": "execute_result"
    }
   ],
   "source": [
    "hydro_v2_factor.apply(lambda x: x>1).sum().sum()"
   ]
  },
  {
   "cell_type": "code",
   "execution_count": 81,
   "metadata": {},
   "outputs": [
    {
     "name": "stdout",
     "output_type": "stream",
     "text": [
      "<class 'pandas.core.frame.DataFrame'>\n",
      "DatetimeIndex: 8784 entries, 2016-01-01 00:00:00 to 2016-12-31 23:00:00\n",
      "Columns: 715 entries, 10390 to 12863\n",
      "dtypes: float64(715)\n",
      "memory usage: 48.0 MB\n"
     ]
    }
   ],
   "source": [
    "hydro_v2_factor.info()"
   ]
  },
  {
   "cell_type": "markdown",
   "metadata": {},
   "source": [
    "## Change capacity reference from TAMU network to 2016 western hydro capacity for each state from scenario design document"
   ]
  },
  {
   "cell_type": "code",
   "execution_count": 82,
   "metadata": {},
   "outputs": [
    {
     "data": {
      "text/plain": [
       "{'Arizona': 1.0082404099794096,\n",
       " 'Northern California': 1.0635106094975635,\n",
       " 'Bay Area': 1.0635106094975635,\n",
       " 'Central California': 1.0635106094975635,\n",
       " 'Southwest California': 1.0635106094975635,\n",
       " 'Southeast California': 1.0635106094975635,\n",
       " 'Colorado': 1.1004203614066421,\n",
       " 'Idaho': 1.0930128250977846,\n",
       " 'Montana Western': 1.0375274845681384,\n",
       " 'Nevada': 1.0121223966017905,\n",
       " 'New Mexico Western': 1.2443095281423788,\n",
       " 'Oregon': 1.018155980123368,\n",
       " 'Utah': 1.44114414675395,\n",
       " 'Washington': 1.012717518709653,\n",
       " 'Wyoming': 1.1707882537671188}"
      ]
     },
     "execution_count": 82,
     "metadata": {},
     "output_type": "execute_result"
    }
   ],
   "source": [
    "from collections import defaultdict\n",
    "total_hydro_capacity = defaultdict(float)\n",
    "for plantid in hydro_v2.columns:\n",
    "    state = plant.loc[plantid]['zone_name']\n",
    "    if state in {'Northern California','Bay Area','Central California','Southwest California','Southeast California'}:\n",
    "        total_hydro_capacity['California'] += plant.loc[plantid]['GenMWMax']\n",
    "    else:\n",
    "        total_hydro_capacity[state] += plant.loc[plantid]['GenMWMax']\n",
    "eia_cap = {\n",
    "    'Arizona':2912,\n",
    "    'California':13801,\n",
    "    'Colorado':1178,\n",
    "    'Idaho':2543,\n",
    "    'Montana Western':2665,\n",
    "    'Nevada':1052,\n",
    "    'New Mexico Western':82,\n",
    "    'Oregon':8451,\n",
    "    'Utah':262,\n",
    "    'Washington':21437,\n",
    "    'Wyoming':303\n",
    "}\n",
    "scale_f = {}\n",
    "for state in eia_cap:\n",
    "    f = eia_cap[state]/total_hydro_capacity[state]\n",
    "    if state == 'California':\n",
    "        scale_f['Northern California'] = f\n",
    "        scale_f['Bay Area'] = f\n",
    "        scale_f['Central California'] = f\n",
    "        scale_f['Southwest California'] = f\n",
    "        scale_f['Southeast California'] = f\n",
    "    else:\n",
    "        scale_f[state] = f\n",
    "scale_f"
   ]
  },
  {
   "cell_type": "code",
   "execution_count": 83,
   "metadata": {},
   "outputs": [
    {
     "data": {
      "text/plain": [
       "defaultdict(float,\n",
       "            {'Washington': 21167.798131224,\n",
       "             'Oregon': 8300.299919641006,\n",
       "             'California': 12976.833401333002,\n",
       "             'Nevada': 1039.3999812,\n",
       "             'Arizona': 2888.2000475060004,\n",
       "             'Utah': 181.79999592,\n",
       "             'New Mexico Western': 65.90000168399999,\n",
       "             'Colorado': 1070.50000283,\n",
       "             'Wyoming': 258.79999993600006,\n",
       "             'Idaho': 2326.5966707870007,\n",
       "             'Montana Western': 2568.606653451})"
      ]
     },
     "execution_count": 83,
     "metadata": {},
     "output_type": "execute_result"
    }
   ],
   "source": [
    "total_hydro_capacity"
   ]
  },
  {
   "cell_type": "code",
   "execution_count": 84,
   "metadata": {},
   "outputs": [],
   "source": [
    "hydro_v2_factor_scale = hydro_v2.copy()\n",
    "cnt = 0\n",
    "for plantid in hydro_v2.columns:\n",
    "    cap = plant.loc[plantid]['GenMWMax']*scale_f[plant.loc[plantid]['zone_name']]\n",
    "    hydro_v2_factor_scale[plantid] = hydro_v2_factor_scale[plantid].apply(lambda x: x/cap)\n",
    "    for index, val in hydro_v2_factor_scale[plantid].items():\n",
    "        if val > 1:\n",
    "            cnt += 1\n",
    "            print(cnt,index,plant.loc[plantid]['zone_name'],hydro_v2[plantid][index],cap,val)"
   ]
  },
  {
   "cell_type": "code",
   "execution_count": 321,
   "metadata": {},
   "outputs": [],
   "source": [
    "hydro_v2_factor_scale.to_csv('western_hydro_v2_factor_reference.csv')"
   ]
  },
  {
   "cell_type": "markdown",
   "metadata": {},
   "source": [
    "## Check the generation output percentage factor with the 2016 reference rather than the capacities in TAMU network"
   ]
  },
  {
   "cell_type": "code",
   "execution_count": 85,
   "metadata": {
    "scrolled": true
   },
   "outputs": [
    {
     "data": {
      "text/plain": [
       "0"
      ]
     },
     "execution_count": 85,
     "metadata": {},
     "output_type": "execute_result"
    }
   ],
   "source": [
    "hydro_v2_factor_scale.apply(lambda x: x>1).sum().sum()"
   ]
  },
  {
   "cell_type": "code",
   "execution_count": 86,
   "metadata": {},
   "outputs": [
    {
     "data": {
      "image/png": "[encoded data removed]",
      "text/plain": [
       "<Figure size 432x288 with 1 Axes>"
      ]
     },
     "metadata": {
      "needs_background": "light"
     },
     "output_type": "display_data"
    },
    {
     "data": {
      "image/png": "[encoded data removed]",
      "text/plain": [
       "<Figure size 432x288 with 1 Axes>"
      ]
     },
     "metadata": {
      "needs_background": "light"
     },
     "output_type": "display_data"
    }
   ],
   "source": [
    "from matplotlib import pyplot as plt\n",
    "plt.plot(hydro_v2_wy_total)\n",
    "plt.grid()\n",
    "plt.show()\n",
    "hydro_v2_wy_total_normalize = [val/303 for val in hydro_v2_wy_total]\n",
    "plt.plot(hydro_v2_wy_total_normalize)\n",
    "plt.grid()\n",
    "plt.show()"
   ]
  },
  {
   "cell_type": "markdown",
   "metadata": {},
   "source": [
    "## Generate the final hydro v2 profile, which uses capacities in TAMU network as references. In this way, after we apply the change table function when creating the WECC basecase scenario, this hydro profile will be scaled back to the profile we generated above: western_hydro_v2_reference.csv"
   ]
  },
  {
   "cell_type": "code",
   "execution_count": 87,
   "metadata": {},
   "outputs": [],
   "source": [
    "hydro_v2_tamu_cap = hydro_v2.copy()\n",
    "for plantid in hydro_v2.columns:\n",
    "    factor = scale_f[plant.loc[plantid]['zone_name']]\n",
    "    hydro_v2_tamu_cap[plantid] = hydro_v2_tamu_cap[plantid].apply(lambda x: x/factor)"
   ]
  },
  {
   "cell_type": "code",
   "execution_count": 324,
   "metadata": {},
   "outputs": [],
   "source": [
    "hydro_v2_tamu_cap.to_csv('western_hydro_v2.csv')"
   ]
  },
  {
   "cell_type": "markdown",
   "metadata": {},
   "source": [
    "# Generate hydro profile v2 for Texas based on the data profile from ERCOT"
   ]
  },
  {
   "cell_type": "code",
   "execution_count": 88,
   "metadata": {},
   "outputs": [],
   "source": [
    "filename = 'texas_hydro_gmt.csv'\n",
    "filedir = './'\n",
    "ercot_hydro_profile = pd.read_csv(filedir+filename,header = 0,index_col = 'DateTimeUTC')\n",
    "ercot_hydro_profile = list(ercot_hydro_profile.dropna()['sum_hydro'])"
   ]
  },
  {
   "cell_type": "code",
   "execution_count": 89,
   "metadata": {},
   "outputs": [
    {
     "name": "stdout",
     "output_type": "stream",
     "text": [
      "--> Loading Texas interconnect\n",
      "Loading zone\n",
      "Loading sub\n",
      "Loading bus2sub\n",
      "Loading bus\n",
      "Loading plant\n",
      "Loading plant cost\n",
      "Loading branch\n",
      "Loading DC line\n"
     ]
    }
   ],
   "source": [
    "Texas = Grid(['Texas'])\n",
    "plant_tx = Texas.plant"
   ]
  },
  {
   "cell_type": "code",
   "execution_count": 90,
   "metadata": {},
   "outputs": [],
   "source": [
    "texas_hydro_v2 = pd.DataFrame(index = hydro_v2.index, columns = plant_tx[plant_tx['type']=='hydro'].index)\n",
    "total_hydro_cap_tx = plant_tx[plant_tx['type']=='hydro']['GenMWMax'].sum()\n",
    "for plantid in texas_hydro_v2.columns:\n",
    "    plant_cap = plant_tx.loc[plantid]['GenMWMax']\n",
    "    texas_hydro_v2[plantid] = [tot*plant_cap/total_hydro_cap_tx for tot in ercot_hydro_profile]"
   ]
  },
  {
   "cell_type": "code",
   "execution_count": 96,
   "metadata": {},
   "outputs": [],
   "source": [
    "texas_hydro_v2.to_csv('texas_hydro_v2_reference.csv')"
   ]
  },
  {
   "cell_type": "markdown",
   "metadata": {},
   "source": [
    "## Generate the final hydro v2 profile for Texas, which uses capacities in TAMU network as references. In this way, after we apply the change table function when creating the WECC-Texas basecase scenario, this hydro profile will be scaled back to the profile we generated above: texas_hydro_v2_reference.csv"
   ]
  },
  {
   "cell_type": "code",
   "execution_count": 92,
   "metadata": {},
   "outputs": [],
   "source": [
    "from collections import defaultdict\n",
    "total_hydro_capacity_tx = defaultdict(float)\n",
    "for plantid in texas_hydro_v2.columns:\n",
    "    zone = plant_tx.loc[plantid]['zone_name']\n",
    "    total_hydro_capacity_tx[zone] += plant_tx.loc[plantid]['GenMWMax']\n",
    "\n",
    "eia_cap_tx = {\n",
    "    'Coast':0,\n",
    "    'East':0,\n",
    "    'Far West':0,\n",
    "    'North':80,\n",
    "    'North Central':52,\n",
    "    'South':46,\n",
    "    'South Central':239,\n",
    "    'West':139,\n",
    "}\n",
    "# scale_f_tx = {}\n",
    "# for zone in eia_cap_tx:\n",
    "#     f = eia_cap_tx[zone]/total_hydro_capacity_tx[zone]\n",
    "#     scale_f_tx[zone] = f\n",
    "# scale_f"
   ]
  },
  {
   "cell_type": "code",
   "execution_count": 93,
   "metadata": {},
   "outputs": [
    {
     "data": {
      "text/plain": [
       "defaultdict(float,\n",
       "            {'West': 138.8,\n",
       "             'South': 45.6,\n",
       "             'North Central': 51.6,\n",
       "             'South Central': 239.1,\n",
       "             'North': 80.0})"
      ]
     },
     "execution_count": 93,
     "metadata": {},
     "output_type": "execute_result"
    }
   ],
   "source": [
    "total_hydro_capacity_tx"
   ]
  },
  {
   "cell_type": "markdown",
   "metadata": {},
   "source": [
    "## Revised Texas total hydro capacity for each loadzone matches EIA cap. No need to scale back, i.e. texas_hydro_v2 = texas_hydro_v2_tamu_cap, texas_hydro_v2_reference.csv is the final input profile."
   ]
  },
  {
   "cell_type": "code",
   "execution_count": 94,
   "metadata": {},
   "outputs": [
    {
     "data": {
      "text/plain": [
       "1060477.7772759995"
      ]
     },
     "execution_count": 94,
     "metadata": {},
     "output_type": "execute_result"
    }
   ],
   "source": [
    "texas_hydro_v2.sum().sum()"
   ]
  },
  {
   "cell_type": "code",
   "execution_count": 95,
   "metadata": {},
   "outputs": [
    {
     "data": {
      "text/plain": [
       "1060477.777275999"
      ]
     },
     "execution_count": 95,
     "metadata": {},
     "output_type": "execute_result"
    }
   ],
   "source": [
    "sum(ercot_hydro_profile)"
   ]
  }
 ],
 "metadata": {
  "kernelspec": {
   "display_name": "Python 3",
   "language": "python",
   "name": "python3"
  },
  "language_info": {
   "codemirror_mode": {
    "name": "ipython",
    "version": 3
   },
   "file_extension": ".py",
   "mimetype": "text/x-python",
   "name": "python",
   "nbconvert_exporter": "python",
   "pygments_lexer": "ipython3",
   "version": "3.7.3"
  }
 },
 "nbformat": 4,
 "nbformat_minor": 2
}
