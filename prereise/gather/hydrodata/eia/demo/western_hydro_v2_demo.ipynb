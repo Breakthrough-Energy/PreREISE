{
 "cells": [
  {
   "cell_type": "markdown",
   "metadata": {},
   "source": [
    "# Hydro generation profile for WECC\n",
    "### Bainan Xia 08/22/2019\n",
    "### Refactored on 11/12/2019"
   ]
  },
  {
   "cell_type": "code",
   "execution_count": 1,
   "metadata": {},
   "outputs": [],
   "source": [
    "import pandas as pd\n",
    "from powersimdata.scenario.scenario import Scenario\n",
    "from powersimdata.input.grid import Grid\n",
    "from prereise.gather.hydrodata.eia.get_net_demand_profile_western import get_net_demand_profile_western\n",
    "from prereise.gather.get_monthly_net_generation import get_monthly_net_generation\n",
    "from prereise.gather.hydrodata.eia.scale_hourly_shape_profile_by_monthly_total import scale_hourly_shape_profile_by_monthly_total\n",
    "from prereise.gather.hydrodata.eia.get_hourly_plant_level_hydro_profile import get_hourly_plant_level_hydro_profile\n",
    "import matplotlib.pyplot as plt"
   ]
  },
  {
   "cell_type": "code",
   "execution_count": 2,
   "metadata": {},
   "outputs": [
    {
     "name": "stdout",
     "output_type": "stream",
     "text": [
      "SCENARIO: base | WesternBase_2016_noHVDC_Final_2019Sep\n",
      "\n",
      "--> State\n",
      "analyze\n",
      "--> Loading ct\n",
      "--> Loading Western interconnect\n",
      "Loading zone\n",
      "Loading sub\n",
      "Loading bus2sub\n",
      "Loading bus\n",
      "Loading plant\n",
      "Loading plant cost\n",
      "Loading branch\n",
      "Loading DC line\n",
      "--> Loading hydro\n"
     ]
    }
   ],
   "source": [
    "# Create an empty dataframe of western hydro profile\n",
    "s = Scenario(\"87\")\n",
    "hydro = s.state.get_hydro()\n",
    "hydro_v2 = pd.DataFrame(index = hydro.index, columns = hydro.columns)"
   ]
  },
  {
   "cell_type": "markdown",
   "metadata": {},
   "source": [
    "# CA hydro v2"
   ]
  },
  {
   "cell_type": "markdown",
   "metadata": {},
   "source": [
    "## Get hourly net demand profile based on western demand v4"
   ]
  },
  {
   "cell_type": "code",
   "execution_count": 3,
   "metadata": {},
   "outputs": [
    {
     "name": "stdout",
     "output_type": "stream",
     "text": [
      "--> Loading wind\n",
      "--> Loading solar\n",
      "--> Loading demand\n",
      "--> Loading Western interconnect\n",
      "Loading zone\n",
      "Loading sub\n",
      "Loading bus2sub\n",
      "Loading bus\n",
      "Loading plant\n",
      "Loading plant cost\n",
      "Loading branch\n",
      "Loading DC line\n"
     ]
    }
   ],
   "source": [
    "netdemand = get_net_demand_profile_western('CA',s)"
   ]
  },
  {
   "cell_type": "markdown",
   "metadata": {},
   "source": [
    "## Get monthly total net generation from EIA923"
   ]
  },
  {
   "cell_type": "code",
   "execution_count": 4,
   "metadata": {},
   "outputs": [],
   "source": [
    "eia_923_filename = 'EIA923_Schedules_2_3_4_5_M_12_2016_Final_Revision.xlsx'\n",
    "EIA_net_generation = get_monthly_net_generation('CA',eia_923_filename,'hydro')"
   ]
  },
  {
   "cell_type": "markdown",
   "metadata": {},
   "source": [
    "## Scale hourly net demand profile based on EIA monthly total net genration"
   ]
  },
  {
   "cell_type": "code",
   "execution_count": 5,
   "metadata": {},
   "outputs": [],
   "source": [
    "hydro_v2_state_total = scale_hourly_shape_profile_by_monthly_total(netdemand,EIA_net_generation,leap_year=True)"
   ]
  },
  {
   "cell_type": "markdown",
   "metadata": {},
   "source": [
    "## Decompose total hydro profile v2 into plant level profile based on hydro generator capacities"
   ]
  },
  {
   "cell_type": "code",
   "execution_count": 6,
   "metadata": {},
   "outputs": [
    {
     "name": "stdout",
     "output_type": "stream",
     "text": [
      "--> Loading Western interconnect\n",
      "Loading zone\n",
      "Loading sub\n",
      "Loading bus2sub\n",
      "Loading bus\n",
      "Loading plant\n",
      "Loading plant cost\n",
      "Loading branch\n",
      "Loading DC line\n"
     ]
    }
   ],
   "source": [
    "hydro_v2_state = get_hourly_plant_level_hydro_profile(hydro_v2_state_total,'CA')\n",
    "hydro_v2_state.index = hydro_v2.index\n",
    "for plantid in hydro_v2_state.columns:\n",
    "    hydro_v2[plantid] = hydro_v2_state[plantid].copy()"
   ]
  },
  {
   "cell_type": "markdown",
   "metadata": {},
   "source": [
    "# WA hydro v2"
   ]
  },
  {
   "cell_type": "markdown",
   "metadata": {},
   "source": [
    "## Get hourly profile for top 20 dams from CoreArmy database"
   ]
  },
  {
   "cell_type": "code",
   "execution_count": 7,
   "metadata": {},
   "outputs": [],
   "source": [
    "filename = 'hydro_gmt.csv'\n",
    "filedir = '../../data/'\n",
    "aggregate_hourly_profile_wa_nw = pd.read_csv(filedir+filename,header = 0,index_col = 'DateTimeUTC')\n",
    "aggregate_hourly_profile_wa_nw = list(aggregate_hourly_profile_wa_nw.dropna()['sum_hydro'])"
   ]
  },
  {
   "cell_type": "markdown",
   "metadata": {},
   "source": [
    "## Get monthly total net generation from EIA923"
   ]
  },
  {
   "cell_type": "code",
   "execution_count": 8,
   "metadata": {},
   "outputs": [],
   "source": [
    "EIA_net_generation = get_monthly_net_generation('WA',eia_923_filename,'hydro')"
   ]
  },
  {
   "cell_type": "markdown",
   "metadata": {},
   "source": [
    "## Scale top 20 dams hourly profile based on EIA monthly total net genration"
   ]
  },
  {
   "cell_type": "code",
   "execution_count": 9,
   "metadata": {},
   "outputs": [],
   "source": [
    "hydro_v2_state_total = scale_hourly_shape_profile_by_monthly_total(aggregate_hourly_profile_wa_nw,EIA_net_generation,leap_year=True)"
   ]
  },
  {
   "cell_type": "markdown",
   "metadata": {},
   "source": [
    "## Decompose total hydro profile v2 into plant level profile based on hydro generator capacities"
   ]
  },
  {
   "cell_type": "code",
   "execution_count": 10,
   "metadata": {},
   "outputs": [
    {
     "name": "stdout",
     "output_type": "stream",
     "text": [
      "--> Loading Western interconnect\n",
      "Loading zone\n",
      "Loading sub\n",
      "Loading bus2sub\n",
      "Loading bus\n",
      "Loading plant\n",
      "Loading plant cost\n",
      "Loading branch\n",
      "Loading DC line\n"
     ]
    }
   ],
   "source": [
    "hydro_v2_state = get_hourly_plant_level_hydro_profile(hydro_v2_state_total,'WA')\n",
    "hydro_v2_state.index = hydro_v2.index\n",
    "for plantid in hydro_v2_state.columns:\n",
    "    hydro_v2[plantid] = hydro_v2_state[plantid].copy()"
   ]
  },
  {
   "cell_type": "markdown",
   "metadata": {},
   "source": [
    "# The rest of states in WECC hydro v2"
   ]
  },
  {
   "cell_type": "code",
   "execution_count": 11,
   "metadata": {
    "scrolled": true
   },
   "outputs": [
    {
     "name": "stdout",
     "output_type": "stream",
     "text": [
      "--> Loading Western interconnect\n",
      "Loading zone\n",
      "Loading sub\n",
      "Loading bus2sub\n",
      "Loading bus\n",
      "Loading plant\n",
      "Loading plant cost\n",
      "Loading branch\n",
      "Loading DC line\n",
      "--> Loading Western interconnect\n",
      "Loading zone\n",
      "Loading sub\n",
      "Loading bus2sub\n",
      "Loading bus\n",
      "Loading plant\n",
      "Loading plant cost\n",
      "Loading branch\n",
      "Loading DC line\n",
      "--> Loading Western interconnect\n",
      "Loading zone\n",
      "Loading sub\n",
      "Loading bus2sub\n",
      "Loading bus\n",
      "Loading plant\n",
      "Loading plant cost\n",
      "Loading branch\n",
      "Loading DC line\n",
      "--> Loading Western interconnect\n",
      "Loading zone\n",
      "Loading sub\n",
      "Loading bus2sub\n",
      "Loading bus\n",
      "Loading plant\n",
      "Loading plant cost\n",
      "Loading branch\n",
      "Loading DC line\n",
      "--> Loading Western interconnect\n",
      "Loading zone\n",
      "Loading sub\n",
      "Loading bus2sub\n",
      "Loading bus\n",
      "Loading plant\n",
      "Loading plant cost\n",
      "Loading branch\n",
      "Loading DC line\n",
      "--> Loading Western interconnect\n",
      "Loading zone\n",
      "Loading sub\n",
      "Loading bus2sub\n",
      "Loading bus\n",
      "Loading plant\n",
      "Loading plant cost\n",
      "Loading branch\n",
      "Loading DC line\n",
      "--> Loading Western interconnect\n",
      "Loading zone\n",
      "Loading sub\n",
      "Loading bus2sub\n",
      "Loading bus\n",
      "Loading plant\n",
      "Loading plant cost\n",
      "Loading branch\n",
      "Loading DC line\n",
      "--> Loading Western interconnect\n",
      "Loading zone\n",
      "Loading sub\n",
      "Loading bus2sub\n",
      "Loading bus\n",
      "Loading plant\n",
      "Loading plant cost\n",
      "Loading branch\n",
      "Loading DC line\n"
     ]
    }
   ],
   "source": [
    "rest_of_states = ['OR','AZ','NV','ID','MT','UT','CO','NM']\n",
    "for state in rest_of_states:\n",
    "    EIA_net_generation = get_monthly_net_generation(state,eia_923_filename,'hydro')\n",
    "    hydro_v2_state_total = scale_hourly_shape_profile_by_monthly_total(aggregate_hourly_profile_wa_nw,EIA_net_generation,leap_year=True)\n",
    "    hydro_v2_state = get_hourly_plant_level_hydro_profile(hydro_v2_state_total,state)\n",
    "    hydro_v2_state.index = hydro_v2.index\n",
    "    for plantid in hydro_v2_state.columns:\n",
    "        hydro_v2[plantid] = hydro_v2_state[plantid].copy()"
   ]
  },
  {
   "cell_type": "markdown",
   "metadata": {},
   "source": [
    "## For WY, WA top 20 dams hourly profile is not suitable since it violates the maximum capacity in the peak hours. In this version, we apply a flat hourly profile based on the monthly total net generation from EIA 923 for WY in each month."
   ]
  },
  {
   "cell_type": "code",
   "execution_count": 12,
   "metadata": {},
   "outputs": [
    {
     "name": "stdout",
     "output_type": "stream",
     "text": [
      "--> Loading Western interconnect\n",
      "Loading zone\n",
      "Loading sub\n",
      "Loading bus2sub\n",
      "Loading bus\n",
      "Loading plant\n",
      "Loading plant cost\n",
      "Loading branch\n",
      "Loading DC line\n"
     ]
    }
   ],
   "source": [
    "constant_hourly_profile = [1]*8784\n",
    "EIA_net_generation = get_monthly_net_generation('WY',eia_923_filename,'hydro')\n",
    "hydro_v2_state_total = scale_hourly_shape_profile_by_monthly_total(constant_hourly_profile,EIA_net_generation,leap_year=True)\n",
    "hydro_v2_state = get_hourly_plant_level_hydro_profile(hydro_v2_state_total,'WY')\n",
    "hydro_v2_state.index = hydro_v2.index\n",
    "for plantid in hydro_v2_state.columns:\n",
    "    hydro_v2[plantid] = hydro_v2_state[plantid].copy()"
   ]
  },
  {
   "cell_type": "code",
   "execution_count": 13,
   "metadata": {},
   "outputs": [],
   "source": [
    "# Store the final hydro v2 profile as a reference, later we will roll back this profile based on TAMU hydro capacities \n",
    "# to get the final hydro profile input of the simulation.\n",
    "hydro_v2.to_csv('western_hydro_v2_reference.csv')"
   ]
  },
  {
   "cell_type": "markdown",
   "metadata": {},
   "source": [
    "# Sanity check"
   ]
  },
  {
   "cell_type": "markdown",
   "metadata": {},
   "source": [
    "## Total net generation in each state and each month should match"
   ]
  },
  {
   "cell_type": "code",
   "execution_count": 14,
   "metadata": {},
   "outputs": [
    {
     "data": {
      "text/plain": [
       "174543031.141"
      ]
     },
     "execution_count": 14,
     "metadata": {},
     "output_type": "execute_result"
    }
   ],
   "source": [
    "hydro_v2.sum().sum()"
   ]
  },
  {
   "cell_type": "code",
   "execution_count": 15,
   "metadata": {},
   "outputs": [
    {
     "data": {
      "text/plain": [
       "174543031.14099997"
      ]
     },
     "execution_count": 15,
     "metadata": {},
     "output_type": "execute_result"
    }
   ],
   "source": [
    "EIA_net_generation = {}\n",
    "filedir = '../../data/'\n",
    "plant_generation = pd.read_excel(io = filedir + eia_923_filename, header = 0, usecols = 'A,D,G,I,P,CB:CM',skiprows = range(5))\n",
    "for state in ['WA','OR','CA','NV','ID','CO','MT','NM','AZ','UT','WY']:\n",
    "    net_generation_by_plant = plant_generation[(plant_generation['Plant State'] == state) & ((plant_generation['AER\\nFuel Type Code'] == 'HYC')|(plant_generation['AER\\nFuel Type Code'] == 'HPS'))].copy()\n",
    "    # Drop unnecessary columns, plant ID, etc..\n",
    "    net_generation = net_generation_by_plant.drop(net_generation_by_plant.columns[[0,1,2,3,4]], axis=1)\n",
    "    # Get monthly total net generation by summing up across plants with all positive values, note that negative ones are included in actual demand\n",
    "    net_generation = net_generation.replace('.',0)\n",
    "    EIA_net_generation[state] = list(net_generation.apply(lambda x: x[x>0].sum()).values)\n",
    "sum_chk = 0\n",
    "for val in EIA_net_generation.values():\n",
    "    sum_chk += sum(val)\n",
    "sum_chk"
   ]
  },
  {
   "cell_type": "markdown",
   "metadata": {},
   "source": [
    "## Generation factor for plants should below 1 "
   ]
  },
  {
   "cell_type": "code",
   "execution_count": 16,
   "metadata": {},
   "outputs": [
    {
     "data": {
      "text/plain": [
       "<matplotlib.axes._subplots.AxesSubplot at 0x28a879aa320>"
      ]
     },
     "execution_count": 16,
     "metadata": {},
     "output_type": "execute_result"
    },
    {
     "data": {
      "image/png": "[encoded data removed]",
      "text/plain": [
       "<Figure size 432x288 with 1 Axes>"
      ]
     },
     "metadata": {
      "needs_background": "light"
     },
     "output_type": "display_data"
    }
   ],
   "source": [
    "hydro_v2[hydro_v2.columns[0]].plot()"
   ]
  },
  {
   "cell_type": "code",
   "execution_count": 17,
   "metadata": {},
   "outputs": [
    {
     "name": "stdout",
     "output_type": "stream",
     "text": [
      "--> Loading Western interconnect\n",
      "Loading zone\n",
      "Loading sub\n",
      "Loading bus2sub\n",
      "Loading bus\n",
      "Loading plant\n",
      "Loading plant cost\n",
      "Loading branch\n",
      "Loading DC line\n"
     ]
    }
   ],
   "source": [
    "western = Grid(['Western'])\n",
    "plant = western.plant\n",
    "hydro_v2_factor = hydro_v2.copy()\n",
    "for plantid in hydro_v2.columns:\n",
    "    cap = plant.loc[plantid]['GenMWMax']\n",
    "    hydro_v2_factor[plantid] = hydro_v2_factor[plantid].apply(lambda x: x/cap)"
   ]
  },
  {
   "cell_type": "code",
   "execution_count": 18,
   "metadata": {},
   "outputs": [
    {
     "data": {
      "text/plain": [
       "<matplotlib.axes._subplots.AxesSubplot at 0x28a84a73240>"
      ]
     },
     "execution_count": 18,
     "metadata": {},
     "output_type": "execute_result"
    },
    {
     "data": {
      "image/png": "[encoded data removed]",
      "text/plain": [
       "<Figure size 432x288 with 1 Axes>"
      ]
     },
     "metadata": {
      "needs_background": "light"
     },
     "output_type": "display_data"
    }
   ],
   "source": [
    "hydro_v2_factor[hydro_v2_factor.columns[0]].plot()"
   ]
  },
  {
   "cell_type": "code",
   "execution_count": 19,
   "metadata": {},
   "outputs": [
    {
     "data": {
      "text/plain": [
       "10800"
      ]
     },
     "execution_count": 19,
     "metadata": {},
     "output_type": "execute_result"
    }
   ],
   "source": [
    "hydro_v2_factor.apply(lambda x: x>1).sum().sum()"
   ]
  },
  {
   "cell_type": "code",
   "execution_count": 20,
   "metadata": {},
   "outputs": [
    {
     "name": "stdout",
     "output_type": "stream",
     "text": [
      "<class 'pandas.core.frame.DataFrame'>\n",
      "DatetimeIndex: 8784 entries, 2016-01-01 00:00:00 to 2016-12-31 23:00:00\n",
      "Columns: 715 entries, 10390 to 12863\n",
      "dtypes: float64(715)\n",
      "memory usage: 48.0 MB\n"
     ]
    }
   ],
   "source": [
    "hydro_v2_factor.info()"
   ]
  },
  {
   "cell_type": "markdown",
   "metadata": {},
   "source": [
    "## Calculate capacity factor based on 2016 western hydro capacity for each state from scenario design document rather than TAMU hydro capacities."
   ]
  },
  {
   "cell_type": "code",
   "execution_count": 21,
   "metadata": {},
   "outputs": [
    {
     "data": {
      "text/plain": [
       "{'Arizona': 1.0082404099794096,\n",
       " 'Northern California': 1.0635106094975635,\n",
       " 'Bay Area': 1.0635106094975635,\n",
       " 'Central California': 1.0635106094975635,\n",
       " 'Southwest California': 1.0635106094975635,\n",
       " 'Southeast California': 1.0635106094975635,\n",
       " 'Colorado': 1.1004203614066421,\n",
       " 'Idaho': 1.0930128250977846,\n",
       " 'Montana Western': 1.0375274845681384,\n",
       " 'Nevada': 1.0121223966017905,\n",
       " 'New Mexico Western': 1.2443095281423788,\n",
       " 'Oregon': 1.018155980123368,\n",
       " 'Utah': 1.44114414675395,\n",
       " 'Washington': 1.012717518709653,\n",
       " 'Wyoming': 1.1707882537671188}"
      ]
     },
     "execution_count": 21,
     "metadata": {},
     "output_type": "execute_result"
    }
   ],
   "source": [
    "from collections import defaultdict\n",
    "total_hydro_capacity = defaultdict(float)\n",
    "for plantid in hydro_v2.columns:\n",
    "    state = plant.loc[plantid]['zone_name']\n",
    "    if state in {'Northern California','Bay Area','Central California','Southwest California','Southeast California'}:\n",
    "        total_hydro_capacity['California'] += plant.loc[plantid]['GenMWMax']\n",
    "    else:\n",
    "        total_hydro_capacity[state] += plant.loc[plantid]['GenMWMax']\n",
    "eia_cap = {\n",
    "    'Arizona':2912,\n",
    "    'California':13801,\n",
    "    'Colorado':1178,\n",
    "    'Idaho':2543,\n",
    "    'Montana Western':2665,\n",
    "    'Nevada':1052,\n",
    "    'New Mexico Western':82,\n",
    "    'Oregon':8451,\n",
    "    'Utah':262,\n",
    "    'Washington':21437,\n",
    "    'Wyoming':303\n",
    "}\n",
    "scale_f = {}\n",
    "for state in eia_cap:\n",
    "    f = eia_cap[state]/total_hydro_capacity[state]\n",
    "    if state == 'California':\n",
    "        scale_f['Northern California'] = f\n",
    "        scale_f['Bay Area'] = f\n",
    "        scale_f['Central California'] = f\n",
    "        scale_f['Southwest California'] = f\n",
    "        scale_f['Southeast California'] = f\n",
    "    else:\n",
    "        scale_f[state] = f\n",
    "scale_f"
   ]
  },
  {
   "cell_type": "code",
   "execution_count": 22,
   "metadata": {},
   "outputs": [
    {
     "data": {
      "text/plain": [
       "defaultdict(float,\n",
       "            {'Washington': 21167.798131224,\n",
       "             'Oregon': 8300.299919641006,\n",
       "             'California': 12976.833401333002,\n",
       "             'Nevada': 1039.3999812,\n",
       "             'Arizona': 2888.2000475060004,\n",
       "             'Utah': 181.79999592,\n",
       "             'New Mexico Western': 65.90000168399999,\n",
       "             'Colorado': 1070.50000283,\n",
       "             'Wyoming': 258.79999993600006,\n",
       "             'Idaho': 2326.5966707870007,\n",
       "             'Montana Western': 2568.606653451})"
      ]
     },
     "execution_count": 22,
     "metadata": {},
     "output_type": "execute_result"
    }
   ],
   "source": [
    "total_hydro_capacity"
   ]
  },
  {
   "cell_type": "code",
   "execution_count": 23,
   "metadata": {},
   "outputs": [],
   "source": [
    "hydro_v2_factor_scale = hydro_v2.copy()\n",
    "cnt = 0\n",
    "for plantid in hydro_v2.columns:\n",
    "    cap = plant.loc[plantid]['GenMWMax']*scale_f[plant.loc[plantid]['zone_name']]\n",
    "    hydro_v2_factor_scale[plantid] = hydro_v2_factor_scale[plantid].apply(lambda x: x/cap)\n",
    "    for index, val in hydro_v2_factor_scale[plantid].items():\n",
    "        if val > 1:\n",
    "            cnt += 1\n",
    "            print(cnt,index,plant.loc[plantid]['zone_name'],hydro_v2[plantid][index],cap,val)"
   ]
  },
  {
   "cell_type": "code",
   "execution_count": 24,
   "metadata": {},
   "outputs": [],
   "source": [
    "hydro_v2_factor_scale.to_csv('western_hydro_v2_factor_reference.csv')"
   ]
  },
  {
   "cell_type": "markdown",
   "metadata": {},
   "source": [
    "## Check the generation output percentage factor with the 2016 reference rather than the capacities in TAMU network"
   ]
  },
  {
   "cell_type": "code",
   "execution_count": 25,
   "metadata": {
    "scrolled": true
   },
   "outputs": [
    {
     "data": {
      "text/plain": [
       "0"
      ]
     },
     "execution_count": 25,
     "metadata": {},
     "output_type": "execute_result"
    }
   ],
   "source": [
    "hydro_v2_factor_scale.apply(lambda x: x>1).sum().sum()"
   ]
  },
  {
   "cell_type": "markdown",
   "metadata": {},
   "source": [
    "## Generate the final hydro v2 profile, which uses capacities in TAMU network as references. In this way, after we apply the change table function when creating the WECC basecase scenario, this hydro profile will be scaled back to the profile we generated above: western_hydro_v2_reference.csv"
   ]
  },
  {
   "cell_type": "code",
   "execution_count": 26,
   "metadata": {},
   "outputs": [],
   "source": [
    "hydro_v2_tamu_cap = hydro_v2.copy()\n",
    "for plantid in hydro_v2.columns:\n",
    "    factor = scale_f[plant.loc[plantid]['zone_name']]\n",
    "    hydro_v2_tamu_cap[plantid] = hydro_v2_tamu_cap[plantid].apply(lambda x: x/factor)"
   ]
  },
  {
   "cell_type": "code",
   "execution_count": 27,
   "metadata": {},
   "outputs": [],
   "source": [
    "hydro_v2_tamu_cap.to_csv('western_hydro_v2.csv')"
   ]
  }
 ],
 "metadata": {
  "kernelspec": {
   "display_name": "Python 3",
   "language": "python",
   "name": "python3"
  },
  "language_info": {
   "codemirror_mode": {
    "name": "ipython",
    "version": 3
   },
   "file_extension": ".py",
   "mimetype": "text/x-python",
   "name": "python",
   "nbconvert_exporter": "python",
   "pygments_lexer": "ipython3",
   "version": "3.7.3"
  }
 },
 "nbformat": 4,
 "nbformat_minor": 2
}
