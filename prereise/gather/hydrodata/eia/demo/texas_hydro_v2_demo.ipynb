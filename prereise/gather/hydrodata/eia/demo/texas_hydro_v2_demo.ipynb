{
 "cells": [
  {
   "cell_type": "markdown",
   "metadata": {},
   "source": [
    "# Produce Hourly Shaped Hydro Profile for the Texas Interconnection\n",
    "\n",
    "ERCOT: Electric Reliability Council of Texas\n",
    "\n",
    "The actual generation by fuel type for each 15-minute settlement interval reported by ERCOT [here](http://www.ercot.com/gridinfo/generation/) in their ***Fuel Mix Report*** is used in this notebook. The monthly files have been concatenated and the timestamps have been converted to UTC."
   ]
  },
  {
   "cell_type": "code",
   "execution_count": 1,
   "metadata": {
    "pycharm": {
     "is_executing": true
    }
   },
   "outputs": [],
   "source": [
    "import pandas as pd\n",
    "from numpy.testing import assert_almost_equal\n",
    "\n",
    "from powersimdata.scenario.scenario import Scenario\n",
    "from powersimdata.input.grid import Grid"
   ]
  },
  {
   "cell_type": "markdown",
   "metadata": {},
   "source": [
    "Create an instance of the current grid"
   ]
  },
  {
   "cell_type": "code",
   "execution_count": 2,
   "metadata": {},
   "outputs": [
    {
     "name": "stdout",
     "output_type": "stream",
     "text": [
      "Reading bus.csv\n",
      "Reading plant.csv\n",
      "Reading gencost.csv\n",
      "Reading branch.csv\n",
      "Reading dcline.csv\n",
      "Reading sub.csv\n",
      "Reading bus2sub.csv\n",
      "Reading zone.csv\n"
     ]
    }
   ],
   "source": [
    "grid = Grid([\"Texas\"])"
   ]
  },
  {
   "cell_type": "code",
   "execution_count": 3,
   "metadata": {},
   "outputs": [],
   "source": [
    "hydro_index = pd.date_range(start=\"2016-01-01 00:00:00\", end=\"2016-12-31 23:00:00\", freq='H')"
   ]
  },
  {
   "cell_type": "code",
   "execution_count": 4,
   "metadata": {},
   "outputs": [],
   "source": [
    "hydro_v2 = pd.DataFrame(index = hydro_index, columns=grid.plant[grid.plant['type'] == 'hydro'].index)"
   ]
  },
  {
   "cell_type": "code",
   "execution_count": 5,
   "metadata": {},
   "outputs": [],
   "source": [
    "filename = \"../../data/ercot_hydro_2016.csv\"\n",
    "hydro_profile_ercot = pd.read_csv(filename, header=0, index_col=0, parse_dates=True, squeeze=True)"
   ]
  },
  {
   "cell_type": "code",
   "execution_count": 6,
   "metadata": {},
   "outputs": [],
   "source": [
    "total_hydro_capacity = grid.plant[grid.plant[\"type\"] == \"hydro\"][\"Pmax\"].sum()\n",
    "for i in hydro_v2.columns:\n",
    "    # We do normalize profiles now, hence it is independent of individual plant capacity.\n",
    "    hydro_v2[i] = [g / total_hydro_capacity for g in hydro_profile_ercot]"
   ]
  },
  {
   "cell_type": "code",
   "execution_count": 7,
   "metadata": {},
   "outputs": [],
   "source": [
    "hydro_v2.clip(0,1,inplace=True)"
   ]
  },
  {
   "cell_type": "code",
   "execution_count": 8,
   "metadata": {},
   "outputs": [],
   "source": [
    "hydro_v2.to_csv('texas_hydro_v2_normalize.csv')"
   ]
  },
  {
   "cell_type": "code",
   "execution_count": 9,
   "metadata": {},
   "outputs": [],
   "source": [
    "hydro_plant_num = len(grid.plant[grid.plant[\"type\"] == \"hydro\"])\n",
    "assert_almost_equal(\n",
    "    hydro_v2.sum().sum()*total_hydro_capacity/hydro_plant_num, \n",
    "    hydro_profile_ercot.sum(), \n",
    "    decimal=5\n",
    ")"
   ]
  }
 ],
 "metadata": {
  "kernelspec": {
   "display_name": "Python 3",
   "language": "python",
   "name": "python3"
  },
  "language_info": {
   "codemirror_mode": {
    "name": "ipython",
    "version": 3
   },
   "file_extension": ".py",
   "mimetype": "text/x-python",
   "name": "python",
   "nbconvert_exporter": "python",
   "pygments_lexer": "ipython3",
   "version": "3.8.3"
  }
 },
 "nbformat": 4,
 "nbformat_minor": 2
}
