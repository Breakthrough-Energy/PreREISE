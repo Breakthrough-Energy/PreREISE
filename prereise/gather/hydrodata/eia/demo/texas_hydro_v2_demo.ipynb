{
 "cells": [
  {
   "cell_type": "markdown",
   "metadata": {},
   "source": [
    "# Hydro generation profile for Texas\n",
    "### Bainan Xia 08/22/2019\n",
    "### Refactored on 11/12/2019"
   ]
  },
  {
   "cell_type": "code",
   "execution_count": 1,
   "metadata": {},
   "outputs": [],
   "source": [
    "import pandas as pd\n",
    "from powersimdata.scenario.scenario import Scenario\n",
    "from powersimdata.input.grid import Grid"
   ]
  },
  {
   "cell_type": "markdown",
   "metadata": {},
   "source": [
    "# Generate hydro profile v2 for Texas based on the data profile from ERCOT"
   ]
  },
  {
   "cell_type": "code",
   "execution_count": 2,
   "metadata": {},
   "outputs": [],
   "source": [
    "filename = 'texas_hydro_gmt.csv'\n",
    "filedir = '../../data/'\n",
    "ercot_hydro_profile = pd.read_csv(filedir+filename,header = 0,index_col = 'DateTimeUTC')\n",
    "ercot_hydro_profile = list(ercot_hydro_profile.dropna()['sum_hydro'])"
   ]
  },
  {
   "cell_type": "code",
   "execution_count": 3,
   "metadata": {},
   "outputs": [
    {
     "name": "stdout",
     "output_type": "stream",
     "text": [
      "SCENARIO: base | WesternBase_2016_noHVDC_Final_2019Sep\n",
      "\n",
      "--> State\n",
      "analyze\n",
      "--> Loading ct\n",
      "--> Loading Western interconnect\n",
      "Loading zone\n",
      "Loading sub\n",
      "Loading bus2sub\n",
      "Loading bus\n",
      "Loading plant\n",
      "Loading plant cost\n",
      "Loading branch\n",
      "Loading DC line\n",
      "--> Loading hydro\n",
      "--> Loading Texas interconnect\n",
      "Loading zone\n",
      "Loading sub\n",
      "Loading bus2sub\n",
      "Loading bus\n",
      "Loading plant\n",
      "Loading plant cost\n",
      "Loading branch\n",
      "Loading DC line\n"
     ]
    }
   ],
   "source": [
    "s = Scenario(\"87\")\n",
    "hydro = s.state.get_hydro()\n",
    "Texas = Grid(['Texas'])\n",
    "plant_tx = Texas.plant"
   ]
  },
  {
   "cell_type": "code",
   "execution_count": 4,
   "metadata": {},
   "outputs": [],
   "source": [
    "texas_hydro_v2 = pd.DataFrame(index = hydro.index, columns = plant_tx[plant_tx['type']=='hydro'].index)\n",
    "total_hydro_cap_tx = plant_tx[plant_tx['type']=='hydro']['GenMWMax'].sum()\n",
    "for plantid in texas_hydro_v2.columns:\n",
    "    plant_cap = plant_tx.loc[plantid]['GenMWMax']\n",
    "    texas_hydro_v2[plantid] = [tot*plant_cap/total_hydro_cap_tx for tot in ercot_hydro_profile]"
   ]
  },
  {
   "cell_type": "code",
   "execution_count": 5,
   "metadata": {},
   "outputs": [],
   "source": [
    "texas_hydro_v2.to_csv('texas_hydro_v2_reference.csv')"
   ]
  },
  {
   "cell_type": "markdown",
   "metadata": {},
   "source": [
    "## Revised Texas total hydro capacity for each loadzone matches EIA cap. No need to scale back, i.e. texas_hydro_v2 = texas_hydro_v2_tamu_cap, texas_hydro_v2_reference.csv is the final input profile."
   ]
  },
  {
   "cell_type": "code",
   "execution_count": 6,
   "metadata": {},
   "outputs": [
    {
     "data": {
      "text/plain": [
       "1060477.7772759995"
      ]
     },
     "execution_count": 6,
     "metadata": {},
     "output_type": "execute_result"
    }
   ],
   "source": [
    "texas_hydro_v2.sum().sum()"
   ]
  },
  {
   "cell_type": "code",
   "execution_count": 7,
   "metadata": {},
   "outputs": [
    {
     "data": {
      "text/plain": [
       "1060477.777275999"
      ]
     },
     "execution_count": 7,
     "metadata": {},
     "output_type": "execute_result"
    }
   ],
   "source": [
    "sum(ercot_hydro_profile)"
   ]
  }
 ],
 "metadata": {
  "kernelspec": {
   "display_name": "Python 3",
   "language": "python",
   "name": "python3"
  },
  "language_info": {
   "codemirror_mode": {
    "name": "ipython",
    "version": 3
   },
   "file_extension": ".py",
   "mimetype": "text/x-python",
   "name": "python",
   "nbconvert_exporter": "python",
   "pygments_lexer": "ipython3",
   "version": "3.7.3"
  }
 },
 "nbformat": 4,
 "nbformat_minor": 2
}
