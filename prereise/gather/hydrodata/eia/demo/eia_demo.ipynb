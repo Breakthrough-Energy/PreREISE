{
 "cells": [
  {
   "cell_type": "markdown",
   "metadata": {},
   "source": [
    "# Produce Hydro Profile Using EIA data\n",
    "---\n",
    "\n",
    "**EIA**: Energy Information Administration\n",
    "\n",
    "Monthly capacity factors for hydro plant across the country are reported by EIA [here](https://www.eia.gov/electricity/annual/html/epa_04_08_b.html). The table is extracted from the [Electric Annual Power 2017](https://www.eia.gov/electricity/annual/pdf/epa.pdf) report, which enclose a mine of information useful for this project.\n",
    "\n",
    "The quoted capacity factors are used in this notebook to produce an hydro profile. A unique number is given for each month and for the entire country. First, we produce hourly capacity factors by interpolating the monthly data. Then, the same capacity factor is used for each hydro plant across the country. Given the geographic diverdity of the U.S., this is a strong assumption."
   ]
  },
  {
   "cell_type": "code",
   "execution_count": 1,
   "metadata": {},
   "outputs": [
    {
     "name": "stderr",
     "output_type": "stream",
     "text": [
      "c:\\program files\\python\\python36\\lib\\site-packages\\matplotlib\\__init__.py:886: MatplotlibDeprecationWarning: \n",
      "examples.directory is deprecated; in the future, examples will be found relative to the 'datapath' directory.\n",
      "  \"found relative to the 'datapath' directory.\".format(key))\n"
     ]
    },
    {
     "name": "stdout",
     "output_type": "stream",
     "text": [
      "Loading sub\n",
      "Loading bus2sub\n",
      "Loading bus\n",
      "Loading genbus\n",
      "Loading branches\n",
      "Loading resources\n",
      "Loading net_generation\n",
      "Done loading\n"
     ]
    }
   ],
   "source": [
    "import matplotlib.pyplot as plt\n",
    "from prereise.gather.hydrodata.eia import eia"
   ]
  },
  {
   "cell_type": "markdown",
   "metadata": {},
   "source": [
    "## 1. Get Profile"
   ]
  },
  {
   "cell_type": "code",
   "execution_count": 2,
   "metadata": {},
   "outputs": [
    {
     "name": "stdout",
     "output_type": "stream",
     "text": [
      "There are 715 hydro plants in the Western grid\n"
     ]
    }
   ],
   "source": [
    "data = eia.get_profile(start='2016-01-01-00', end='2016-12-31-23')\n",
    "print(\"There are %d hydro plants in the Western grid\" % len(data.columns))"
   ]
  },
  {
   "cell_type": "code",
   "execution_count": null,
   "metadata": {},
   "outputs": [],
   "source": []
  }
 ],
 "metadata": {
  "kernelspec": {
   "display_name": "Python 3",
   "language": "python",
   "name": "python3"
  },
  "language_info": {
   "codemirror_mode": {
    "name": "ipython",
    "version": 3
   },
   "file_extension": ".py",
   "mimetype": "text/x-python",
   "name": "python",
   "nbconvert_exporter": "python",
   "pygments_lexer": "ipython3",
   "version": "3.6.7rc2"
  }
 },
 "nbformat": 4,
 "nbformat_minor": 2
}
