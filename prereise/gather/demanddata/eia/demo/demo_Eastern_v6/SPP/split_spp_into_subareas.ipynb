{
 "cells": [
  {
   "cell_type": "code",
   "execution_count": 1,
   "metadata": {},
   "outputs": [],
   "source": [
    "import pandas as pd\n",
    "import numpy as np\n",
    "from collections import defaultdict\n",
    "from powersimdata.input.grid import Grid"
   ]
  },
  {
   "cell_type": "code",
   "execution_count": 2,
   "metadata": {},
   "outputs": [],
   "source": [
    "county_list_owner = pd.read_excel('SPP_Counties_Owners.xlsx',index_col = 0)"
   ]
  },
  {
   "cell_type": "code",
   "execution_count": 3,
   "metadata": {},
   "outputs": [],
   "source": [
    "legacy_ba_to_owners = {\n",
    "    'CSWS':{'AEP','AECC','SPA'}, # AECC and SPA are approximately merged into CSWS\n",
    "    'EDE':{'EDE'},\n",
    "    'MPS':{'GMO'},\n",
    "    'GRDA':{'GRDA'},\n",
    "    'KACY':{'KACY'},\n",
    "    'KCPL_INDN':{'KCPL'},\n",
    "    'LES':{'LES'},\n",
    "    'NPPD':{'NPPD'},\n",
    "    'OKGE':{'OGE'},\n",
    "    'OPPD':{'OPPD'},\n",
    "    'SPRM':{'SPRM'},\n",
    "    'SPS':{'SPS'},\n",
    "    'SECI':{'SUNC','MIDW','MKEC'}, # MIDW and MKEC are approximately merged into SECI\n",
    "    'WAUE':{'UMZ'},\n",
    "    'WR':{'WESTAR'},\n",
    "    \"WFEC\":{'WFEC'},\n",
    "}\n",
    "# legacy BA INDN has hourly load profile, but the territory definition is missing. We merge the load of INDN into KCPL at this point."
   ]
  },
  {
   "cell_type": "code",
   "execution_count": 4,
   "metadata": {},
   "outputs": [],
   "source": [
    "owner_county_list = defaultdict(set)\n",
    "for index,row in county_list_owner.iterrows():\n",
    "    owner_county_list[row['OWNER']].add(''.join(row['COUNTY'].split()[:-1])+'__'+row['STATE'])"
   ]
  },
  {
   "cell_type": "code",
   "execution_count": 5,
   "metadata": {},
   "outputs": [],
   "source": [
    "legacy_ba_county_list = defaultdict(set)\n",
    "for legacy_ba,owners in legacy_ba_to_owners.items():\n",
    "    for owner in owners:\n",
    "        legacy_ba_county_list[legacy_ba] |= owner_county_list[owner]"
   ]
  },
  {
   "cell_type": "code",
   "execution_count": 6,
   "metadata": {},
   "outputs": [],
   "source": [
    "bus_ba_map = pd.read_csv('../bus_ba_map.csv',index_col = 0)\n",
    "bus_ba_map_spp = bus_ba_map[bus_ba_map['BA']=='SWPP']"
   ]
  },
  {
   "cell_type": "code",
   "execution_count": 7,
   "metadata": {},
   "outputs": [
    {
     "name": "stderr",
     "output_type": "stream",
     "text": [
      "C:\\Users\\bxia\\Anaconda\\lib\\site-packages\\pandas\\core\\indexing.py:543: SettingWithCopyWarning: \n",
      "A value is trying to be set on a copy of a slice from a DataFrame.\n",
      "Try using .loc[row_indexer,col_indexer] = value instead\n",
      "\n",
      "See the caveats in the documentation: http://pandas.pydata.org/pandas-docs/stable/indexing.html#indexing-view-versus-copy\n",
      "  self.obj[item] = s\n"
     ]
    }
   ],
   "source": [
    "for index,row in bus_ba_map_spp.iterrows():\n",
    "    for legacy_ba, county_list in legacy_ba_county_list.items():\n",
    "        if row['County'] in county_list:\n",
    "            bus_ba_map_spp.loc[index,'BA'] = legacy_ba"
   ]
  },
  {
   "cell_type": "code",
   "execution_count": 8,
   "metadata": {},
   "outputs": [],
   "source": [
    "bus_no_match = bus_ba_map_spp[bus_ba_map_spp['BA']=='SWPP']"
   ]
  },
  {
   "cell_type": "code",
   "execution_count": 9,
   "metadata": {},
   "outputs": [
    {
     "name": "stderr",
     "output_type": "stream",
     "text": [
      "C:\\Users\\bxia\\Anaconda\\lib\\site-packages\\pandas\\core\\frame.py:4042: SettingWithCopyWarning: \n",
      "A value is trying to be set on a copy of a slice from a DataFrame\n",
      "\n",
      "See the caveats in the documentation: http://pandas.pydata.org/pandas-docs/stable/indexing.html#indexing-view-versus-copy\n",
      "  method=method)\n"
     ]
    }
   ],
   "source": [
    "# Manual fix the buses that locate in the counties not in the legacy county list\n",
    "for index,row in bus_no_match.iterrows():\n",
    "    if row['County'][-2:] in {'MT','ND','SD','WY'}:\n",
    "        bus_ba_map_spp.loc[index,'BA'] = 'WAUE'\n",
    "    if row['County'][-2:] in {'NE'}:\n",
    "        bus_ba_map_spp.loc[index,'BA'] = 'NPPD'\n",
    "    if row['County'][-2:] in {'NM'}:\n",
    "        bus_ba_map_spp.loc[index,'BA'] = 'SPS'\n",
    "    if row['County'][-2:] in {'OK','LA','TX','AR'}:\n",
    "        bus_ba_map_spp.loc[index,'BA'] = 'CSWS'\n",
    "    if row['zone_name'] in {'Missouri West','Kansas','Iowa'}:\n",
    "        bus_ba_map_spp.loc[index,'BA'] = 'KCPL_INDN'\n",
    "    if row['County'][-2:] in {'VA'}:\n",
    "        bus_ba_map_spp.loc[index,'BA'] = 'PJM'\n",
    "# The rest of the buses belong to another ISO, AECI, which previously merged into MISO\n",
    "bus_ba_map_spp.replace('SWPP','AECI',inplace=True)"
   ]
  },
  {
   "cell_type": "code",
   "execution_count": 10,
   "metadata": {},
   "outputs": [
    {
     "data": {
      "text/html": [
       "<div>\n",
       "<style scoped>\n",
       "    .dataframe tbody tr th:only-of-type {\n",
       "        vertical-align: middle;\n",
       "    }\n",
       "\n",
       "    .dataframe tbody tr th {\n",
       "        vertical-align: top;\n",
       "    }\n",
       "\n",
       "    .dataframe thead th {\n",
       "        text-align: right;\n",
       "    }\n",
       "</style>\n",
       "<table border=\"1\" class=\"dataframe\">\n",
       "  <thead>\n",
       "    <tr style=\"text-align: right;\">\n",
       "      <th></th>\n",
       "      <th>Pd</th>\n",
       "      <th>lat</th>\n",
       "      <th>lon</th>\n",
       "      <th>County</th>\n",
       "      <th>BA</th>\n",
       "      <th>zone_name</th>\n",
       "    </tr>\n",
       "    <tr>\n",
       "      <th>bus_id</th>\n",
       "      <th></th>\n",
       "      <th></th>\n",
       "      <th></th>\n",
       "      <th></th>\n",
       "      <th></th>\n",
       "      <th></th>\n",
       "    </tr>\n",
       "  </thead>\n",
       "  <tbody>\n",
       "  </tbody>\n",
       "</table>\n",
       "</div>"
      ],
      "text/plain": [
       "Empty DataFrame\n",
       "Columns: [Pd, lat, lon, County, BA, zone_name]\n",
       "Index: []"
      ]
     },
     "execution_count": 10,
     "metadata": {},
     "output_type": "execute_result"
    }
   ],
   "source": [
    "bus_no_match = bus_ba_map_spp[bus_ba_map_spp['BA']=='SWPP']\n",
    "bus_no_match"
   ]
  },
  {
   "cell_type": "code",
   "execution_count": 20,
   "metadata": {},
   "outputs": [],
   "source": [
    "bus_ba_map_spp.to_csv('bus_ba_map_spp.csv')"
   ]
  },
  {
   "cell_type": "markdown",
   "metadata": {},
   "source": [
    "### Sanity check"
   ]
  },
  {
   "cell_type": "code",
   "execution_count": 11,
   "metadata": {},
   "outputs": [],
   "source": [
    "#Plot on the counties of a sub area on the map\n",
    "from bokeh.io import show,output_notebook,output_file,export\n",
    "from bokeh.models.widgets import Panel, Tabs\n",
    "from bokeh.models import (\n",
    "    ColumnDataSource,\n",
    "    HoverTool,\n",
    "    LogColorMapper,\n",
    "    CustomJS,\n",
    "    Slider,\n",
    "    CheckboxGroup,\n",
    "    Select,\n",
    "    Div,\n",
    "    TapTool,\n",
    "    ColorBar,\n",
    "    LinearColorMapper\n",
    ")\n",
    "from bokeh.palettes import Viridis6 as palette\n",
    "from bokeh.plotting import figure\n",
    "from bokeh.layouts import (widgetbox, row, gridplot)\n",
    "\n",
    "# from bokeh.tile_providers import CARTODBPOSITRON,STAMEN_TONER_BACKGROUND,STAMEN_TONER,STAMEN_TERRAIN\n",
    "\n",
    "# import bokeh.sampledata\n",
    "# bokeh.sampledata.download()\n",
    "from bokeh.sampledata.us_counties import data as us_counties\n",
    "from bokeh.sampledata.us_states import data as us_states\n",
    "from bokeh import events\n",
    "\n",
    "import matplotlib.pyplot as plt\n",
    "from bokeh.colors.groups import yellow\n",
    "import bokeh.colors\n",
    "\n",
    "import seaborn as sns\n",
    "import matplotlib.cm as cm\n",
    "import matplotlib"
   ]
  },
  {
   "cell_type": "code",
   "execution_count": 12,
   "metadata": {},
   "outputs": [],
   "source": [
    "state_xs = [us_states[state][\"lons\"] for state in us_states if state not in {'HI','AK'}]\n",
    "state_ys = [us_states[state][\"lats\"] for state in us_states if state not in {'HI','AK'}]"
   ]
  },
  {
   "cell_type": "code",
   "execution_count": 13,
   "metadata": {},
   "outputs": [],
   "source": [
    "area_label = {}\n",
    "cnt = 0\n",
    "for area in legacy_ba_to_owners:\n",
    "    cnt += 1\n",
    "    area_label[area] = cnt\n",
    "legacy_ba_county_list_plot = {}\n",
    "for index,row in bus_ba_map_spp.iterrows():\n",
    "    if row['BA'] in area_label:\n",
    "        legacy_ba_county_list_plot[row['County'][:-4]+'_'+row['County'][-2:].lower()] = (row['BA'],area_label[row['BA']])"
   ]
  },
  {
   "cell_type": "code",
   "execution_count": 14,
   "metadata": {},
   "outputs": [],
   "source": [
    "counties_xs = []\n",
    "counties_ys = []\n",
    "counties_name = []\n",
    "area_color = []\n",
    "for code in us_counties:\n",
    "    key = str(us_counties[code]['name'])+'_'+str(us_counties[code]['state'])\n",
    "    if key in legacy_ba_county_list_plot:\n",
    "        counties_xs.append(us_counties[code]['lons'])\n",
    "        counties_ys.append(us_counties[code]['lats'])\n",
    "        counties_name.append(key+':'+legacy_ba_county_list_plot[key][0])\n",
    "        area_color.append(bokeh.palettes.Category20[20][(legacy_ba_county_list_plot[key][1]-1)%20])\n",
    "source = ColumnDataSource(data=dict(\n",
    "    x = counties_xs,\n",
    "    y = counties_ys,\n",
    "    name = counties_name,\n",
    "    color = area_color\n",
    "))"
   ]
  },
  {
   "cell_type": "code",
   "execution_count": 15,
   "metadata": {},
   "outputs": [],
   "source": [
    "p = figure(title=\"BA County Check\", \n",
    "           toolbar_location=\"left\", plot_width=1300, plot_height=700,\n",
    "           tools = ['tap','box_zoom','wheel_zoom','save','reset'])\n",
    "\n",
    "p.patches(state_xs, state_ys, fill_alpha=0,\n",
    "    line_color=\"gray\", line_alpha=0.5, line_width=1.0)\n",
    "\n",
    "county_render = p.patches('x','y', source = source, fill_alpha=0.5,\n",
    "    line_color=\"gray\", line_alpha=0.5, line_width=0.5, color = 'color')\n",
    "\n",
    "hover1 = HoverTool(renderers=[county_render],name='Test')\n",
    "hover1.point_policy = \"follow_mouse\"\n",
    "hover1.tooltips = [\n",
    "    (\"County\", \"@name\")\n",
    "]\n",
    "p.add_tools(hover1) \n",
    "show(p)"
   ]
  },
  {
   "cell_type": "code",
   "execution_count": 16,
   "metadata": {},
   "outputs": [
    {
     "name": "stdout",
     "output_type": "stream",
     "text": [
      "--> Loading Eastern interconnect\n",
      "Loading zone\n",
      "Loading sub\n",
      "Loading bus2sub\n",
      "Loading bus\n",
      "Loading plant\n",
      "Loading plant cost\n",
      "Loading branch\n",
      "Loading DC line\n"
     ]
    }
   ],
   "source": [
    "eastern = Grid(['Eastern'])"
   ]
  },
  {
   "cell_type": "code",
   "execution_count": 17,
   "metadata": {},
   "outputs": [],
   "source": [
    "# Plot for buses assigned to a specific BA area\n",
    "source = eastern.bus.loc[list(bus_ba_map_spp[bus_ba_map_spp['BA'].isin(legacy_ba_to_owners)].index)]\n",
    "source.loc[:,'area_color'] = source['zone_id'].apply(lambda x: bokeh.palettes.Category20[20][(x-1)%20])\n",
    "\n",
    "p = figure(title=\"\", \n",
    "           toolbar_location=\"left\", plot_width=1300, plot_height=700)\n",
    "\n",
    "p.patches(state_xs, state_ys, fill_alpha=0,\n",
    "    line_color=\"gray\", line_alpha=0.5, line_width=1.0)\n",
    "p.patches(counties_xs, counties_ys, fill_alpha=0,\n",
    "    line_color=\"gray\", line_alpha=0.5, line_width=0.5)\n",
    "\n",
    "p.scatter(source=source,x='lon',y='lat',size=2,marker='o',color='area_color')\n",
    "\n",
    "show(p)"
   ]
  },
  {
   "cell_type": "code",
   "execution_count": null,
   "metadata": {},
   "outputs": [],
   "source": []
  }
 ],
 "metadata": {
  "kernelspec": {
   "display_name": "Python 3",
   "language": "python",
   "name": "python3"
  },
  "language_info": {
   "codemirror_mode": {
    "name": "ipython",
    "version": 3
   },
   "file_extension": ".py",
   "mimetype": "text/x-python",
   "name": "python",
   "nbconvert_exporter": "python",
   "pygments_lexer": "ipython3",
   "version": "3.7.3"
  }
 },
 "nbformat": 4,
 "nbformat_minor": 2
}
