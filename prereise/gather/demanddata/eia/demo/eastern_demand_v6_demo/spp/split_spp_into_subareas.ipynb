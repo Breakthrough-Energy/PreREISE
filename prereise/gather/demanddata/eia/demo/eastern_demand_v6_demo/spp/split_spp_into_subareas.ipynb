{
 "cells": [
  {
   "cell_type": "markdown",
   "metadata": {},
   "source": [
    "# Split SPP into Sub-Areas\n",
    "SPP: [Sothwest Power Tool](https://www.spp.org/)\n",
    "\n",
    "We have contacted SPP people through their [internal request management system](https://spprms.issuetrak.com/Login.asp) to obtain a list of counties for owners reporting to SPP."
   ]
  },
  {
   "cell_type": "code",
   "execution_count": 1,
   "metadata": {},
   "outputs": [],
   "source": [
    "import os\n",
    "import pandas as pd\n",
    "import numpy as np\n",
    "from collections import defaultdict\n",
    "from powersimdata.input.grid import Grid"
   ]
  },
  {
   "cell_type": "markdown",
   "metadata": {},
   "source": [
    "## 1. Create Bus to Balancing Authority area Mapping via County\n",
    "Load the list of counties for *owners* reporting to SPP. "
   ]
  },
  {
   "cell_type": "code",
   "execution_count": 2,
   "metadata": {},
   "outputs": [
    {
     "data": {
      "text/html": [
       "<div>\n",
       "<style scoped>\n",
       "    .dataframe tbody tr th:only-of-type {\n",
       "        vertical-align: middle;\n",
       "    }\n",
       "\n",
       "    .dataframe tbody tr th {\n",
       "        vertical-align: top;\n",
       "    }\n",
       "\n",
       "    .dataframe thead th {\n",
       "        text-align: right;\n",
       "    }\n",
       "</style>\n",
       "<table border=\"1\" class=\"dataframe\">\n",
       "  <thead>\n",
       "    <tr style=\"text-align: right;\">\n",
       "      <th></th>\n",
       "      <th>STATE</th>\n",
       "      <th>COUNTY</th>\n",
       "      <th>SQUARE_MIL</th>\n",
       "      <th>OWNER</th>\n",
       "      <th>SPP</th>\n",
       "    </tr>\n",
       "    <tr>\n",
       "      <th>OBJECTID</th>\n",
       "      <th></th>\n",
       "      <th></th>\n",
       "      <th></th>\n",
       "      <th></th>\n",
       "      <th></th>\n",
       "    </tr>\n",
       "  </thead>\n",
       "  <tbody>\n",
       "    <tr>\n",
       "      <th>4505</th>\n",
       "      <td>TX</td>\n",
       "      <td>Foard County</td>\n",
       "      <td>707.471</td>\n",
       "      <td>SPS</td>\n",
       "      <td>Y</td>\n",
       "    </tr>\n",
       "    <tr>\n",
       "      <th>1332</th>\n",
       "      <td>ND</td>\n",
       "      <td>Renville County</td>\n",
       "      <td>893.326</td>\n",
       "      <td>UMZ</td>\n",
       "      <td>Y</td>\n",
       "    </tr>\n",
       "    <tr>\n",
       "      <th>3835</th>\n",
       "      <td>OK</td>\n",
       "      <td>Alfalfa County</td>\n",
       "      <td>883.528</td>\n",
       "      <td>WFEC</td>\n",
       "      <td>Y</td>\n",
       "    </tr>\n",
       "    <tr>\n",
       "      <th>2271</th>\n",
       "      <td>SD</td>\n",
       "      <td>Charles Mix County</td>\n",
       "      <td>1150.352</td>\n",
       "      <td>UMZ</td>\n",
       "      <td>Y</td>\n",
       "    </tr>\n",
       "    <tr>\n",
       "      <th>2543</th>\n",
       "      <td>IA</td>\n",
       "      <td>Harrison County</td>\n",
       "      <td>696.375</td>\n",
       "      <td>UMZ</td>\n",
       "      <td>Y</td>\n",
       "    </tr>\n",
       "  </tbody>\n",
       "</table>\n",
       "</div>"
      ],
      "text/plain": [
       "         STATE              COUNTY  SQUARE_MIL OWNER SPP\n",
       "OBJECTID                                                \n",
       "4505        TX        Foard County     707.471   SPS   Y\n",
       "1332        ND     Renville County     893.326   UMZ   Y\n",
       "3835        OK      Alfalfa County     883.528  WFEC   Y\n",
       "2271        SD  Charles Mix County    1150.352   UMZ   Y\n",
       "2543        IA     Harrison County     696.375   UMZ   Y"
      ]
     },
     "execution_count": 2,
     "metadata": {},
     "output_type": "execute_result"
    }
   ],
   "source": [
    "county_list_owner = pd.read_excel('spp_counties_owners.xlsx', index_col=0)\n",
    "county_list_owner.tail()"
   ]
  },
  {
   "cell_type": "markdown",
   "metadata": {},
   "source": [
    "Manually map legacy BA to owners."
   ]
  },
  {
   "cell_type": "code",
   "execution_count": 3,
   "metadata": {},
   "outputs": [],
   "source": [
    "legacy_ba_to_owners = {\n",
    "    'CSWS': {'AEP', 'AECC', 'SPA'}, # AECC and SPA are approximately merged into CSWS\n",
    "    'EDE': {'EDE'},\n",
    "    'MPS': {'GMO'},\n",
    "    'GRDA': {'GRDA'},\n",
    "    'KACY': {'KACY'},\n",
    "    'KCPL_INDN': {'KCPL'},\n",
    "    'LES': {'LES'},\n",
    "    'NPPD': {'NPPD'},\n",
    "    'OKGE': {'OGE'},\n",
    "    'OPPD': {'OPPD'},\n",
    "    'SPRM': {'SPRM'},\n",
    "    'SPS': {'SPS'},\n",
    "    'SECI': {'SUNC', 'MIDW', 'MKEC'}, # MIDW and MKEC are approximately merged into SECI\n",
    "    'WAUE': {'UMZ'},\n",
    "    'WR': {'WESTAR'},\n",
    "    \"WFEC\": {'WFEC'},\n",
    "}\n",
    "# legacy BA INDN has hourly load profile, but the territory definition is missing. We merge the load of INDN into KCPL at this point."
   ]
  },
  {
   "cell_type": "markdown",
   "metadata": {},
   "source": [
    "Map owner to county"
   ]
  },
  {
   "cell_type": "code",
   "execution_count": 4,
   "metadata": {},
   "outputs": [],
   "source": [
    "owner_county_list = defaultdict(set)\n",
    "for index, row in county_list_owner.iterrows():\n",
    "    owner_county_list[row['OWNER']].add(''.join(row['COUNTY'].split()[:-1]) + '__' + row['STATE'])"
   ]
  },
  {
   "cell_type": "markdown",
   "metadata": {},
   "source": [
    "Map legacy BA to county."
   ]
  },
  {
   "cell_type": "code",
   "execution_count": 5,
   "metadata": {},
   "outputs": [],
   "source": [
    "legacy_ba_county_list = defaultdict(set)\n",
    "for legacy_ba,owners in legacy_ba_to_owners.items():\n",
    "    for owner in owners:\n",
    "        legacy_ba_county_list[legacy_ba] |= owner_county_list[owner]"
   ]
  },
  {
   "cell_type": "markdown",
   "metadata": {},
   "source": [
    "Load the bus to BA mapping for the Eastern interconnect previously produced [here](../../eastern_demand_v5_demo/bus_ba_map.ipynb) and only consider entries for SPP."
   ]
  },
  {
   "cell_type": "code",
   "execution_count": 6,
   "metadata": {},
   "outputs": [],
   "source": [
    "bus_ba_map = pd.read_csv(os.path.join(\"..\", \"..\", \"eastern_demand_v5_demo/bus_ba_map.csv\"), index_col=0)\n",
    "bus_ba_map_spp = bus_ba_map[bus_ba_map['BA'] == 'SWPP'].copy()"
   ]
  },
  {
   "cell_type": "markdown",
   "metadata": {},
   "source": [
    "Assign a legacy BA to the buses located in SPP."
   ]
  },
  {
   "cell_type": "code",
   "execution_count": 7,
   "metadata": {},
   "outputs": [],
   "source": [
    "for index,row in bus_ba_map_spp.iterrows():\n",
    "    for legacy_ba, county_list in legacy_ba_county_list.items():\n",
    "        if row['County'] in county_list:\n",
    "            bus_ba_map_spp.loc[index, 'BA'] = legacy_ba"
   ]
  },
  {
   "cell_type": "markdown",
   "metadata": {},
   "source": [
    "Some buses have not been mapped to a legacy BA. Those are handled manually."
   ]
  },
  {
   "cell_type": "code",
   "execution_count": 8,
   "metadata": {},
   "outputs": [
    {
     "data": {
      "text/html": [
       "<div>\n",
       "<style scoped>\n",
       "    .dataframe tbody tr th:only-of-type {\n",
       "        vertical-align: middle;\n",
       "    }\n",
       "\n",
       "    .dataframe tbody tr th {\n",
       "        vertical-align: top;\n",
       "    }\n",
       "\n",
       "    .dataframe thead th {\n",
       "        text-align: right;\n",
       "    }\n",
       "</style>\n",
       "<table border=\"1\" class=\"dataframe\">\n",
       "  <thead>\n",
       "    <tr style=\"text-align: right;\">\n",
       "      <th></th>\n",
       "      <th>Pd</th>\n",
       "      <th>lat</th>\n",
       "      <th>lon</th>\n",
       "      <th>County</th>\n",
       "      <th>BA</th>\n",
       "      <th>zone_name</th>\n",
       "    </tr>\n",
       "    <tr>\n",
       "      <th>bus_id</th>\n",
       "      <th></th>\n",
       "      <th></th>\n",
       "      <th></th>\n",
       "      <th></th>\n",
       "      <th></th>\n",
       "      <th></th>\n",
       "    </tr>\n",
       "  </thead>\n",
       "  <tbody>\n",
       "    <tr>\n",
       "      <th>32119</th>\n",
       "      <td>34.02</td>\n",
       "      <td>36.625239</td>\n",
       "      <td>-82.151913</td>\n",
       "      <td>Bristol City__VA</td>\n",
       "      <td>SWPP</td>\n",
       "      <td>Tennessee</td>\n",
       "    </tr>\n",
       "    <tr>\n",
       "      <th>45795</th>\n",
       "      <td>1.21</td>\n",
       "      <td>38.006546</td>\n",
       "      <td>-90.177534</td>\n",
       "      <td>Ste. Genevieve__MO</td>\n",
       "      <td>SWPP</td>\n",
       "      <td>Illinois Downstate</td>\n",
       "    </tr>\n",
       "    <tr>\n",
       "      <th>45958</th>\n",
       "      <td>2.09</td>\n",
       "      <td>37.885677</td>\n",
       "      <td>-90.001297</td>\n",
       "      <td>Ste. Genevieve__MO</td>\n",
       "      <td>SWPP</td>\n",
       "      <td>Illinois Downstate</td>\n",
       "    </tr>\n",
       "    <tr>\n",
       "      <th>45959</th>\n",
       "      <td>3.91</td>\n",
       "      <td>37.827114</td>\n",
       "      <td>-89.941909</td>\n",
       "      <td>Perry__MO</td>\n",
       "      <td>SWPP</td>\n",
       "      <td>Illinois Downstate</td>\n",
       "    </tr>\n",
       "    <tr>\n",
       "      <th>49501</th>\n",
       "      <td>2.98</td>\n",
       "      <td>48.608566</td>\n",
       "      <td>-97.198213</td>\n",
       "      <td>Pembina__ND</td>\n",
       "      <td>SWPP</td>\n",
       "      <td>Minnesota Northern</td>\n",
       "    </tr>\n",
       "    <tr>\n",
       "      <th>...</th>\n",
       "      <td>...</td>\n",
       "      <td>...</td>\n",
       "      <td>...</td>\n",
       "      <td>...</td>\n",
       "      <td>...</td>\n",
       "      <td>...</td>\n",
       "    </tr>\n",
       "    <tr>\n",
       "      <th>69834</th>\n",
       "      <td>0.46</td>\n",
       "      <td>47.195438</td>\n",
       "      <td>-107.690116</td>\n",
       "      <td>Garfield__MT</td>\n",
       "      <td>SWPP</td>\n",
       "      <td>Montana Eastern</td>\n",
       "    </tr>\n",
       "    <tr>\n",
       "      <th>69863</th>\n",
       "      <td>2.58</td>\n",
       "      <td>45.461193</td>\n",
       "      <td>-106.199382</td>\n",
       "      <td>Powder River__MT</td>\n",
       "      <td>SWPP</td>\n",
       "      <td>Montana Eastern</td>\n",
       "    </tr>\n",
       "    <tr>\n",
       "      <th>69864</th>\n",
       "      <td>1.33</td>\n",
       "      <td>45.368461</td>\n",
       "      <td>-106.180413</td>\n",
       "      <td>Powder River__MT</td>\n",
       "      <td>SWPP</td>\n",
       "      <td>Montana Eastern</td>\n",
       "    </tr>\n",
       "    <tr>\n",
       "      <th>69870</th>\n",
       "      <td>0.37</td>\n",
       "      <td>45.099337</td>\n",
       "      <td>-105.309840</td>\n",
       "      <td>Powder River__MT</td>\n",
       "      <td>SWPP</td>\n",
       "      <td>Montana Eastern</td>\n",
       "    </tr>\n",
       "    <tr>\n",
       "      <th>69873</th>\n",
       "      <td>3.89</td>\n",
       "      <td>45.373190</td>\n",
       "      <td>-105.509656</td>\n",
       "      <td>Powder River__MT</td>\n",
       "      <td>SWPP</td>\n",
       "      <td>Montana Eastern</td>\n",
       "    </tr>\n",
       "  </tbody>\n",
       "</table>\n",
       "<p>357 rows × 6 columns</p>\n",
       "</div>"
      ],
      "text/plain": [
       "           Pd        lat         lon              County    BA  \\\n",
       "bus_id                                                           \n",
       "32119   34.02  36.625239  -82.151913    Bristol City__VA  SWPP   \n",
       "45795    1.21  38.006546  -90.177534  Ste. Genevieve__MO  SWPP   \n",
       "45958    2.09  37.885677  -90.001297  Ste. Genevieve__MO  SWPP   \n",
       "45959    3.91  37.827114  -89.941909           Perry__MO  SWPP   \n",
       "49501    2.98  48.608566  -97.198213         Pembina__ND  SWPP   \n",
       "...       ...        ...         ...                 ...   ...   \n",
       "69834    0.46  47.195438 -107.690116        Garfield__MT  SWPP   \n",
       "69863    2.58  45.461193 -106.199382    Powder River__MT  SWPP   \n",
       "69864    1.33  45.368461 -106.180413    Powder River__MT  SWPP   \n",
       "69870    0.37  45.099337 -105.309840    Powder River__MT  SWPP   \n",
       "69873    3.89  45.373190 -105.509656    Powder River__MT  SWPP   \n",
       "\n",
       "                 zone_name  \n",
       "bus_id                      \n",
       "32119            Tennessee  \n",
       "45795   Illinois Downstate  \n",
       "45958   Illinois Downstate  \n",
       "45959   Illinois Downstate  \n",
       "49501   Minnesota Northern  \n",
       "...                    ...  \n",
       "69834      Montana Eastern  \n",
       "69863      Montana Eastern  \n",
       "69864      Montana Eastern  \n",
       "69870      Montana Eastern  \n",
       "69873      Montana Eastern  \n",
       "\n",
       "[357 rows x 6 columns]"
      ]
     },
     "execution_count": 8,
     "metadata": {},
     "output_type": "execute_result"
    }
   ],
   "source": [
    "bus_no_match = bus_ba_map_spp[bus_ba_map_spp['BA'] == 'SWPP']\n",
    "bus_no_match"
   ]
  },
  {
   "cell_type": "code",
   "execution_count": 9,
   "metadata": {},
   "outputs": [],
   "source": [
    "# Manual fix the buses that locate in the counties not in the legacy county list\n",
    "for index,row in bus_no_match.iterrows():\n",
    "    if row['County'][-2:] in {'MT', 'ND', 'SD', 'WY'}:\n",
    "        bus_ba_map_spp.loc[index, 'BA'] = 'WAUE'\n",
    "    if row['County'][-2:] in {'NE'}:\n",
    "        bus_ba_map_spp.loc[index, 'BA'] = 'NPPD'\n",
    "    if row['County'][-2:] in {'NM'}:\n",
    "        bus_ba_map_spp.loc[index, 'BA'] = 'SPS'\n",
    "    if row['County'][-2:] in {'OK', 'LA', 'TX', 'AR'}:\n",
    "        bus_ba_map_spp.loc[index, 'BA'] = 'CSWS'\n",
    "    if row['zone_name'] in {'Missouri West', 'Kansas','Iowa'}:\n",
    "        bus_ba_map_spp.loc[index, 'BA'] = 'KCPL_INDN'\n",
    "    if row['County'][-2:] in {'VA'}:\n",
    "        bus_ba_map_spp.loc[index, 'BA'] = 'PJM'\n",
    "# The rest of the buses belong to another ISO, AECI, which previously merged into MISO\n",
    "bus_ba_map_spp.replace('SWPP', 'AECI', inplace=True)"
   ]
  },
  {
   "cell_type": "code",
   "execution_count": 10,
   "metadata": {},
   "outputs": [
    {
     "data": {
      "text/html": [
       "<div>\n",
       "<style scoped>\n",
       "    .dataframe tbody tr th:only-of-type {\n",
       "        vertical-align: middle;\n",
       "    }\n",
       "\n",
       "    .dataframe tbody tr th {\n",
       "        vertical-align: top;\n",
       "    }\n",
       "\n",
       "    .dataframe thead th {\n",
       "        text-align: right;\n",
       "    }\n",
       "</style>\n",
       "<table border=\"1\" class=\"dataframe\">\n",
       "  <thead>\n",
       "    <tr style=\"text-align: right;\">\n",
       "      <th></th>\n",
       "      <th>Pd</th>\n",
       "      <th>lat</th>\n",
       "      <th>lon</th>\n",
       "      <th>County</th>\n",
       "      <th>BA</th>\n",
       "      <th>zone_name</th>\n",
       "    </tr>\n",
       "    <tr>\n",
       "      <th>bus_id</th>\n",
       "      <th></th>\n",
       "      <th></th>\n",
       "      <th></th>\n",
       "      <th></th>\n",
       "      <th></th>\n",
       "      <th></th>\n",
       "    </tr>\n",
       "  </thead>\n",
       "  <tbody>\n",
       "  </tbody>\n",
       "</table>\n",
       "</div>"
      ],
      "text/plain": [
       "Empty DataFrame\n",
       "Columns: [Pd, lat, lon, County, BA, zone_name]\n",
       "Index: []"
      ]
     },
     "execution_count": 10,
     "metadata": {},
     "output_type": "execute_result"
    }
   ],
   "source": [
    "bus_no_match = bus_ba_map_spp[bus_ba_map_spp['BA'] == 'SWPP']\n",
    "bus_no_match"
   ]
  },
  {
   "cell_type": "markdown",
   "metadata": {},
   "source": [
    "Write data frame mapping buses located in SPP to legacy BA in a file."
   ]
  },
  {
   "cell_type": "code",
   "execution_count": 11,
   "metadata": {},
   "outputs": [],
   "source": [
    "bus_ba_map_spp.to_csv('bus_ba_map_spp.csv')"
   ]
  },
  {
   "cell_type": "markdown",
   "metadata": {},
   "source": [
    "## 2. Sanity check\n",
    "Plot on the counties of a sub area on the map."
   ]
  },
  {
   "cell_type": "code",
   "execution_count": 12,
   "metadata": {},
   "outputs": [],
   "source": [
    "from bokeh.io import show,output_notebook,output_file,export\n",
    "from bokeh.models.widgets import Panel, Tabs\n",
    "from bokeh.models import (\n",
    "    ColumnDataSource,\n",
    "    HoverTool,\n",
    "    LogColorMapper,\n",
    "    CustomJS,\n",
    "    Slider,\n",
    "    CheckboxGroup,\n",
    "    Select,\n",
    "    Div,\n",
    "    TapTool,\n",
    "    ColorBar,\n",
    "    LinearColorMapper\n",
    ")\n",
    "from bokeh.palettes import Viridis6 as palette\n",
    "from bokeh.plotting import figure\n",
    "from bokeh.layouts import (widgetbox, row, gridplot)\n",
    "from bokeh.sampledata.us_counties import data as us_counties\n",
    "from bokeh.sampledata.us_states import data as us_states\n",
    "from bokeh import events\n",
    "import matplotlib.pyplot as plt\n",
    "from bokeh.colors.groups import yellow\n",
    "import bokeh.colors\n",
    "import matplotlib.cm as cm\n",
    "import matplotlib"
   ]
  },
  {
   "cell_type": "code",
   "execution_count": 13,
   "metadata": {},
   "outputs": [],
   "source": [
    "state_xs = [us_states[state][\"lons\"] for state in us_states if state not in {'HI', 'AK'}]\n",
    "state_ys = [us_states[state][\"lats\"] for state in us_states if state not in {'HI', 'AK'}]"
   ]
  },
  {
   "cell_type": "code",
   "execution_count": 14,
   "metadata": {},
   "outputs": [],
   "source": [
    "area_label = {}\n",
    "cnt = 0\n",
    "for area in legacy_ba_to_owners:\n",
    "    cnt += 1\n",
    "    area_label[area] = cnt\n",
    "legacy_ba_county_list_plot = {}\n",
    "for index,row in bus_ba_map_spp.iterrows():\n",
    "    if row['BA'] in area_label:\n",
    "        legacy_ba_county_list_plot[\n",
    "            row['County'][:-4] + '_' + row['County'][-2:].lower()] = (row['BA'], area_label[row['BA']])"
   ]
  },
  {
   "cell_type": "code",
   "execution_count": 15,
   "metadata": {},
   "outputs": [],
   "source": [
    "counties_xs = []\n",
    "counties_ys = []\n",
    "counties_name = []\n",
    "area_color = []\n",
    "for code in us_counties:\n",
    "    key = str(us_counties[code]['name']) + '_' + str(us_counties[code]['state'])\n",
    "    if key in legacy_ba_county_list_plot:\n",
    "        counties_xs.append(us_counties[code]['lons'])\n",
    "        counties_ys.append(us_counties[code]['lats'])\n",
    "        counties_name.append(key+':'+legacy_ba_county_list_plot[key][0])\n",
    "        area_color.append(bokeh.palettes.Category20[20][(legacy_ba_county_list_plot[key][1]-1)%20])\n",
    "source = ColumnDataSource(data=dict(x=counties_xs,\n",
    "                                    y=counties_ys,\n",
    "                                    name=counties_name,\n",
    "                                    color=area_color))"
   ]
  },
  {
   "cell_type": "code",
   "execution_count": 16,
   "metadata": {},
   "outputs": [],
   "source": [
    "p = figure(title=\"BA County Check\", \n",
    "           toolbar_location=\"left\", plot_width=1300, plot_height=700,\n",
    "           tools = ['tap', 'box_zoom', 'wheel_zoom', 'save', 'reset'])\n",
    "\n",
    "p.patches(state_xs, state_ys,\n",
    "          fill_alpha=0,\n",
    "          line_color=\"gray\",\n",
    "          line_alpha=0.5,\n",
    "          line_width=1.0)\n",
    "\n",
    "county_render = p.patches('x', 'y',\n",
    "                          source=source,\n",
    "                          fill_alpha=0.5,\n",
    "                          line_color=\"gray\",\n",
    "                          line_alpha=0.5,\n",
    "                          line_width=0.5,\n",
    "                          color='color')\n",
    "\n",
    "hover1 = HoverTool(renderers=[county_render], name='Test')\n",
    "hover1.point_policy = \"follow_mouse\"\n",
    "hover1.tooltips = [(\"County\", \"@name\")]\n",
    "p.add_tools(hover1)\n",
    "\n",
    "show(p)"
   ]
  },
  {
   "cell_type": "code",
   "execution_count": 17,
   "metadata": {},
   "outputs": [
    {
     "name": "stdout",
     "output_type": "stream",
     "text": [
      "Reading bus.csv\n",
      "Reading plant.csv\n",
      "Reading gencost.csv\n",
      "Reading branch.csv\n",
      "Reading dcline.csv\n",
      "Reading sub.csv\n",
      "Reading bus2sub.csv\n",
      "Reading zone.csv\n"
     ]
    }
   ],
   "source": [
    "eastern = Grid(['Eastern'])"
   ]
  },
  {
   "cell_type": "code",
   "execution_count": 18,
   "metadata": {},
   "outputs": [],
   "source": [
    "# Plot for buses assigned to a specific BA area\n",
    "source = eastern.bus.loc[list(bus_ba_map_spp[bus_ba_map_spp['BA'].isin(legacy_ba_to_owners)].index)]\n",
    "source.loc[:,'area_color'] = source['zone_id'].apply(lambda x: bokeh.palettes.Category20[20][(x-1)%20])\n",
    "\n",
    "p = figure(title=\"\", \n",
    "           toolbar_location=\"left\",\n",
    "           plot_width=1300, \n",
    "           plot_height=700)\n",
    "\n",
    "p.patches(state_xs, state_ys, \n",
    "          fill_alpha=0,\n",
    "          line_color=\"gray\",\n",
    "          line_alpha=0.5,\n",
    "          line_width=1.0)\n",
    "p.patches(counties_xs, counties_ys, \n",
    "          fill_alpha=0,\n",
    "          line_color=\"gray\",\n",
    "          line_alpha=0.5, \n",
    "          line_width=0.5)\n",
    "\n",
    "p.scatter(source=source, x='lon', y='lat', size=2, marker='o', color='area_color')\n",
    "\n",
    "show(p)"
   ]
  }
 ],
 "metadata": {
  "kernelspec": {
   "display_name": "Python 3",
   "language": "python",
   "name": "python3"
  },
  "language_info": {
   "codemirror_mode": {
    "name": "ipython",
    "version": 3
   },
   "file_extension": ".py",
   "mimetype": "text/x-python",
   "name": "python",
   "nbconvert_exporter": "python",
   "pygments_lexer": "ipython3",
   "version": "3.8.3"
  },
  "varInspector": {
   "cols": {
    "lenName": 16,
    "lenType": 16,
    "lenVar": 40
   },
   "kernels_config": {
    "python": {
     "delete_cmd_postfix": "",
     "delete_cmd_prefix": "del ",
     "library": "var_list.py",
     "varRefreshCmd": "print(var_dic_list())"
    },
    "r": {
     "delete_cmd_postfix": ") ",
     "delete_cmd_prefix": "rm(",
     "library": "var_list.r",
     "varRefreshCmd": "cat(var_dic_list()) "
    }
   },
   "types_to_exclude": [
    "module",
    "function",
    "builtin_function_or_method",
    "instance",
    "_Feature"
   ],
   "window_display": false
  }
 },
 "nbformat": 4,
 "nbformat_minor": 2
}
