{
 "cells": [
  {
   "cell_type": "markdown",
   "metadata": {},
   "source": [
    "# Create Bus to Balancing Authority area Mapping via County"
   ]
  },
  {
   "cell_type": "code",
   "execution_count": null,
   "metadata": {},
   "outputs": [],
   "source": [
    "import json\n",
    "\n",
    "from powersimdata.input.grid import Grid\n",
    "from prereise.gather.demanddata.eia.map_ba import map_buses_to_county"
   ]
  },
  {
   "cell_type": "markdown",
   "metadata": {},
   "source": [
    "Load the grid."
   ]
  },
  {
   "cell_type": "code",
   "execution_count": null,
   "metadata": {},
   "outputs": [],
   "source": [
    "grid = Grid(['Eastern'])"
   ]
  },
  {
   "cell_type": "markdown",
   "metadata": {},
   "source": [
    "## 1. Perform mapping\n",
    "The following step takes about 3 hours to run."
   ]
  },
  {
   "cell_type": "code",
   "execution_count": null,
   "metadata": {
    "scrolled": true
   },
   "outputs": [],
   "source": [
    "bus_ba_map = grid.bus[grid.bus[\"Pd\"] > 0][[\"Pd\", \"lat\", \"lon\"]].copy()\n",
    "bus_ba_map, bus_no_county_match = map_buses_to_county(bus_ba_map)"
   ]
  },
  {
   "cell_type": "markdown",
   "metadata": {},
   "source": [
    "Then check if there are buses where county is null. "
   ]
  },
  {
   "cell_type": "code",
   "execution_count": null,
   "metadata": {},
   "outputs": [],
   "source": [
    "bus_no_county_match"
   ]
  },
  {
   "cell_type": "markdown",
   "metadata": {},
   "source": [
    "The results are stored in `bus_ba_map.csv` at this stage to avoid unnecessary rerun."
   ]
  },
  {
   "cell_type": "code",
   "execution_count": null,
   "metadata": {},
   "outputs": [],
   "source": [
    "bus_ba_map.to_csv('bus_ba_map.csv')"
   ]
  },
  {
   "cell_type": "markdown",
   "metadata": {},
   "source": [
    "Load file that lists the counties in each BA area territory."
   ]
  },
  {
   "cell_type": "code",
   "execution_count": null,
   "metadata": {},
   "outputs": [],
   "source": [
    "data = json.load(open('../../../../data/ba_to_county.txt'))\n",
    "ba_county_list = {}\n",
    "for val in data['groups'].values():\n",
    "    ba_county_list[val['label']] = set(val['paths'])"
   ]
  },
  {
   "cell_type": "markdown",
   "metadata": {},
   "source": [
    "Clean up some county names."
   ]
  },
  {
   "cell_type": "code",
   "execution_count": null,
   "metadata": {},
   "outputs": [],
   "source": [
    "for index,row in bus_ba_map.iterrows():\n",
    "    for ba, clist in ba_county_list.items():\n",
    "        try:\n",
    "            county = row['County'].replace(' ', '_')\n",
    "            county = county.replace('.', '')\n",
    "            county = county.replace('-', '')\n",
    "            county = county.replace('\\'', '_')\n",
    "            if row['County'] == 'LaSalle__IL':\n",
    "                county = 'La_Salle__IL'\n",
    "            if row['County'] == 'Lac Qui Parle__MN':\n",
    "                county = 'Lac_qui_Parle__MN'\n",
    "            if row['County'] == 'Baltimore__MD':\n",
    "                county = 'Baltimore_County__MD'\n",
    "            if row['County'] == 'District of Columbia__DC':\n",
    "                county = 'Washington__DC'\n",
    "            if row['County'] == 'St. Louis City__MO':\n",
    "                county = 'St_Louis_Co__MO'\n",
    "            if county in clist:\n",
    "                bus_ba_map.loc[index, 'BA'] = ba\n",
    "                break\n",
    "        except:\n",
    "            continue\n",
    "bus_ba_map"
   ]
  },
  {
   "cell_type": "markdown",
   "metadata": {},
   "source": [
    "Check if there are buses in the grid for which there is no BA associated. This happens to bus located outside the United States. These will be fixed manually by assigning the nearest county to them."
   ]
  },
  {
   "cell_type": "code",
   "execution_count": null,
   "metadata": {},
   "outputs": [],
   "source": [
    "bus_no_ba_match = list(bus_ba_map[~bus_ba_map['BA'].astype(bool)].index)\n",
    "bus_no_ba_match = list(bus_ba_map[bus_ba_map['BA'].isna()].index)\n",
    "bus_no_ba_match"
   ]
  },
  {
   "cell_type": "markdown",
   "metadata": {},
   "source": [
    "Add zone name into the data frame for reference."
   ]
  },
  {
   "cell_type": "code",
   "execution_count": null,
   "metadata": {},
   "outputs": [],
   "source": [
    "bus_ba_map.loc[:, 'zone_name'] = grid.bus[grid.bus['Pd'] > 0]['zone_id'].apply(lambda x: grid.id2zone[x])"
   ]
  },
  {
   "cell_type": "markdown",
   "metadata": {},
   "source": [
    "Fix mismatch county names in Virginia, West Virginia and Maryland"
   ]
  },
  {
   "cell_type": "code",
   "execution_count": null,
   "metadata": {},
   "outputs": [],
   "source": [
    "for i in bus_no_ba_match:\n",
    "    if bus_ba_map.loc[i, 'zone_name'] in {'Virginia Mountains', 'West Virginia', 'Virginia Tidewater', 'Maryland'}:\n",
    "        bus_ba_map.loc[i, 'BA'] = 'PJM'"
   ]
  },
  {
   "cell_type": "markdown",
   "metadata": {},
   "source": [
    "## 2. Manually assign outliers (outside US territory) to the nearest Balancing Authority\n",
    "Bus with no county match:  \n",
    "91: ISNE,  \n",
    "7991: NYIS,  \n",
    "7992: NYIS,  \n",
    "8707: NYIS,  \n",
    "8708: NYIS,  \n",
    "40644: MISO."
   ]
  },
  {
   "cell_type": "code",
   "execution_count": null,
   "metadata": {},
   "outputs": [],
   "source": [
    "bus_ba_map.loc[91, \"BA\"] = \"ISNE\"\n",
    "bus_ba_map.loc[91, \"County\"] = \"Aroostook__ME\"\n",
    "bus_ba_map.loc[7991, \"BA\"] = \"NYIS\"\n",
    "bus_ba_map.loc[7991, \"County\"] = \"Erie__NY\"\n",
    "bus_ba_map.loc[7992, \"BA\"] = \"NYIS\"\n",
    "bus_ba_map.loc[7992, \"County\"] = \"Erie__NY\"\n",
    "bus_ba_map.loc[8707, \"BA\"] = \"NYIS\"\n",
    "bus_ba_map.loc[8707, \"County\"] = \"Niagara__NY\"\n",
    "bus_ba_map.loc[8708, \"BA\"] = \"NYIS\"\n",
    "bus_ba_map.loc[8708, \"County\"] = \"Niagara__NY\"\n",
    "bus_ba_map.loc[40644, \"BA\"] = \"MISO\"\n",
    "bus_ba_map.loc[40644, \"County\"] = \"Wayne__MI\""
   ]
  },
  {
   "cell_type": "markdown",
   "metadata": {},
   "source": [
    "Other buses with no BA are set to SWPP."
   ]
  },
  {
   "cell_type": "code",
   "execution_count": null,
   "metadata": {},
   "outputs": [],
   "source": [
    "for i in bus_no_BA_match:\n",
    "    bus_ba_map.loc[i,'BA'] = 'SWPP'"
   ]
  },
  {
   "cell_type": "markdown",
   "metadata": {},
   "source": [
    "Assign buses in ERCOT Texas to SWPP or MISO based on the location by observation."
   ]
  },
  {
   "cell_type": "code",
   "execution_count": null,
   "metadata": {},
   "outputs": [],
   "source": [
    "miso_tx = bus_ba_map[(bus_ba_map['BA'] == 'ERCOT Texas') & \n",
    "                     (bus_ba_map['zone_name'] == 'East Texas') & \n",
    "                     ((bus_ba_map['County'] == 'Montgomery__TX') | \n",
    "                      (bus_ba_map['County'] == 'Walker__TX'))].index\n",
    "for i in bus_ba_map[bus_ba_map['BA'] == 'ERCOT Texas'].index:\n",
    "    if i in miso_tx:\n",
    "        bus_ba_map.loc[i, 'BA'] = 'MISO'\n",
    "    else:\n",
    "        bus_ba_map.loc[i, 'BA'] = 'SWPP'"
   ]
  },
  {
   "cell_type": "markdown",
   "metadata": {},
   "source": [
    "Make BA code cosnistent with EIA data source."
   ]
  },
  {
   "cell_type": "code",
   "execution_count": null,
   "metadata": {},
   "outputs": [],
   "source": [
    "ba_code_fix = {'ISONE': 'ISNE', 'NYISO': 'NYIS'}\n",
    "bus_ba_map.replace(ba_code_fix, inplace=True)"
   ]
  },
  {
   "cell_type": "markdown",
   "metadata": {},
   "source": [
    "Overwrite the final results with two new columns for each row (bus): BA and zone_name."
   ]
  },
  {
   "cell_type": "code",
   "execution_count": null,
   "metadata": {},
   "outputs": [],
   "source": [
    "bus_ba_map.to_csv('bus_ba_map.csv')"
   ]
  }
 ],
 "metadata": {
  "kernelspec": {
   "display_name": "Python 3",
   "language": "python",
   "name": "python3"
  },
  "language_info": {
   "codemirror_mode": {
    "name": "ipython",
    "version": 3
   },
   "file_extension": ".py",
   "mimetype": "text/x-python",
   "name": "python",
   "nbconvert_exporter": "python",
   "pygments_lexer": "ipython3",
   "version": "3.8.3"
  }
 },
 "nbformat": 4,
 "nbformat_minor": 4
}
