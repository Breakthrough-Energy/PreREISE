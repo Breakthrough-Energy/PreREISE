{
 "cells": [
  {
   "cell_type": "markdown",
   "metadata": {},
   "source": [
    "# Manually check the counties in the BAs that are shared by multiple loadzones."
   ]
  },
  {
   "cell_type": "code",
   "execution_count": 3,
   "metadata": {},
   "outputs": [],
   "source": [
    "import pandas as pd\n",
    "import numpy as np\n",
    "from functools import reduce\n",
    "from collections import defaultdict"
   ]
  },
  {
   "cell_type": "code",
   "execution_count": 4,
   "metadata": {},
   "outputs": [],
   "source": [
    "#Loadzone to BA map, based on Balancing_Authorities_JAN17.pdf\n",
    "loadzone_ba = {\n",
    "    'WA' : ['AVA','BPAT','CHPD','DOPD','GCPD','PSEI','SCL','TPWR'],\n",
    "    'OR' : ['BPAT','GRID','IPCO','PACW','PGE'],\n",
    "    'CAnorth' : ['BANC','CISO','PACW','BPAT'],\n",
    "    'CABayArea' : ['CISO'],\n",
    "    'CAcentral' : ['CISO', 'TIDC'],\n",
    "    'CAsw' : ['CISO', 'LDWP'],\n",
    "    'CAse' : ['CISO', 'IID'],\n",
    "    'NV' : ['NEVP'],\n",
    "    'AZ' : ['AZPS','DEAA','GRIF','GRMA','HGMA','PNM','SRP','TEPC','WALC'],\n",
    "    'UT' : ['PACE'],\n",
    "    'NM' : ['EPE','PNM'],\n",
    "    'CO' : ['PSCO','WACM'],\n",
    "    'WY' : ['PACE','WACM'],\n",
    "    'ID' : ['AVA','BPAT','IPCO','PACE'],\n",
    "    'MT' : ['BPAT','GWA','NWMT','WAUW','WWA'],\n",
    "    'ElPaso' : ['EPE']\n",
    "}"
   ]
  },
  {
   "cell_type": "markdown",
   "metadata": {},
   "source": [
    "# Decompose demand of each BA that serves more than one loadzone proportional to the total population of covered counties in each corresponding loadzone"
   ]
  },
  {
   "cell_type": "code",
   "execution_count": 5,
   "metadata": {
    "scrolled": true
   },
   "outputs": [
    {
     "data": {
      "text/plain": [
       "defaultdict(set,\n",
       "            {'AVA': {'ID', 'WA'},\n",
       "             'BPAT': {'CAnorth', 'ID', 'MT', 'OR', 'WA'},\n",
       "             'CHPD': {'WA'},\n",
       "             'DOPD': {'WA'},\n",
       "             'GCPD': {'WA'},\n",
       "             'PSEI': {'WA'},\n",
       "             'SCL': {'WA'},\n",
       "             'TPWR': {'WA'},\n",
       "             'GRID': {'OR'},\n",
       "             'IPCO': {'ID', 'OR'},\n",
       "             'PACW': {'CAnorth', 'OR'},\n",
       "             'PGE': {'OR'},\n",
       "             'BANC': {'CAnorth'},\n",
       "             'CISO': {'CABayArea', 'CAcentral', 'CAnorth', 'CAse', 'CAsw'},\n",
       "             'TIDC': {'CAcentral'},\n",
       "             'LDWP': {'CAsw'},\n",
       "             'IID': {'CAse'},\n",
       "             'NEVP': {'NV'},\n",
       "             'AZPS': {'AZ'},\n",
       "             'DEAA': {'AZ'},\n",
       "             'GRIF': {'AZ'},\n",
       "             'GRMA': {'AZ'},\n",
       "             'HGMA': {'AZ'},\n",
       "             'PNM': {'AZ', 'NM'},\n",
       "             'SRP': {'AZ'},\n",
       "             'TEPC': {'AZ'},\n",
       "             'WALC': {'AZ'},\n",
       "             'PACE': {'ID', 'UT', 'WY'},\n",
       "             'EPE': {'ElPaso', 'NM'},\n",
       "             'PSCO': {'CO'},\n",
       "             'WACM': {'CO', 'WY'},\n",
       "             'GWA': {'MT'},\n",
       "             'NWMT': {'MT'},\n",
       "             'WAUW': {'MT'},\n",
       "             'WWA': {'MT'}})"
      ]
     },
     "execution_count": 5,
     "metadata": {},
     "output_type": "execute_result"
    }
   ],
   "source": [
    "#Get BA loadzone map\n",
    "ba_loadzone = defaultdict(set)\n",
    "for loadzone,ba_list in loadzone_ba.items():\n",
    "    for ba in ba_list:\n",
    "        ba_loadzone[ba].add(loadzone)\n",
    "ba_loadzone"
   ]
  },
  {
   "cell_type": "markdown",
   "metadata": {},
   "source": [
    "### Get inaccurate BA county table through the two utilities forms and plot them on the map, then do a manually correction"
   ]
  },
  {
   "cell_type": "code",
   "execution_count": 6,
   "metadata": {},
   "outputs": [],
   "source": [
    "#Get inaccurate BA county table\n",
    "dir_files = '../test/data/'\n",
    "\n",
    "county_utility_file = 'Service_Territory_2016.xlsx'  #get utility-county mapping\n",
    "ba_utility_file = 'Sales_Ult_Cust_2016.xlsx'  #Get utility-BA mapping\n",
    "# ba_list_file = 'Balancing_Authority_2016.xlsx'  #list of BAs by state\n",
    "\n",
    "county_utility =  pd.read_excel(io = dir_files + '/' + county_utility_file, \n",
    "                                   dtype = {'Utility Number': str, 'County': str, 'State': str}\n",
    "                               )\n",
    "ba_utility = pd.read_excel(io = dir_files + '/' + ba_utility_file, \n",
    "                          usecols = 'B,G,I,W', skiprows = [0,1], \n",
    "                          dtype = {'Utility Number': str, 'BA_CODE': str, 'State': str},\n",
    "                          sheet_name = 'States'\n",
    "                          )\n",
    "ba_county = pd.merge(county_utility, ba_utility, how='outer', on ='Utility Number')\n",
    "\n",
    "#Cleaning\n",
    "ba_county_uniq = ba_county[['BA_CODE','County','State_x','State_y']].drop_duplicates(keep='first')\n",
    "ba_county_uniq.drop(columns = ['State_y'], inplace=True)\n",
    "ba_county_uniq.rename(columns = {'State_x':'State'}, inplace=True)\n",
    "ba_county_uniq.dropna(axis = 0, how = 'any', inplace=True)\n",
    "ba_county_uniq.drop_duplicates(keep = 'first', inplace=True)"
   ]
  },
  {
   "cell_type": "code",
   "execution_count": 7,
   "metadata": {
    "scrolled": false
   },
   "outputs": [],
   "source": [
    "AVA_county = ba_county_uniq[ba_county_uniq['BA_CODE']=='AVA']\n",
    "BPAT_county = ba_county_uniq[ba_county_uniq['BA_CODE']=='BPAT']\n",
    "IPCO_county = ba_county_uniq[ba_county_uniq['BA_CODE']=='IPCO']\n",
    "PACW_county = ba_county_uniq[ba_county_uniq['BA_CODE']=='PACW']\n",
    "PNM_county = ba_county_uniq[ba_county_uniq['BA_CODE']=='PNM']\n",
    "PACE_county = ba_county_uniq[ba_county_uniq['BA_CODE']=='PACE']\n",
    "EPE_county = ba_county_uniq[ba_county_uniq['BA_CODE']=='EPE']\n",
    "WACM_county = ba_county_uniq[ba_county_uniq['BA_CODE']=='WACM']\n",
    "\n",
    "# NEVP_county = ba_county_uniq[ba_county_uniq['BA_CODE']=='NEVP']\n",
    "# WALC_county = ba_county_uniq[ba_county_uniq['BA_CODE']=='WALC']"
   ]
  },
  {
   "cell_type": "code",
   "execution_count": 8,
   "metadata": {},
   "outputs": [],
   "source": [
    "#Plot on the counties of a BA on the map\n",
    "from bokeh.io import show,output_notebook,output_file,export\n",
    "from bokeh.models.widgets import Panel, Tabs\n",
    "from bokeh.models import (\n",
    "    ColumnDataSource,\n",
    "    HoverTool,\n",
    "    LogColorMapper,\n",
    "    CustomJS,\n",
    "    Slider,\n",
    "    CheckboxGroup,\n",
    "    Select,\n",
    "    Div,\n",
    "    TapTool,\n",
    "    ColorBar,\n",
    "    LinearColorMapper\n",
    ")\n",
    "from bokeh.palettes import Viridis6 as palette\n",
    "from bokeh.plotting import figure\n",
    "from bokeh.layouts import (widgetbox, row, gridplot)\n",
    "\n",
    "from bokeh.tile_providers import CARTODBPOSITRON,STAMEN_TONER_BACKGROUND,STAMEN_TONER,STAMEN_TERRAIN\n",
    "\n",
    "# import bokeh.sampledata\n",
    "# bokeh.sampledata.download()\n",
    "from bokeh.sampledata.us_counties import data as us_counties\n",
    "from bokeh.sampledata.us_states import data as us_states\n",
    "from bokeh import events\n",
    "\n",
    "import matplotlib.pyplot as plt\n",
    "from bokeh.colors.groups import yellow\n",
    "import bokeh.colors\n",
    "\n",
    "import seaborn as sns\n",
    "import matplotlib.cm as cm\n",
    "import matplotlib"
   ]
  },
  {
   "cell_type": "code",
   "execution_count": 9,
   "metadata": {},
   "outputs": [],
   "source": [
    "state_xs = [us_states[state][\"lons\"] for state in us_states if state not in {'HI','AK'}]\n",
    "state_ys = [us_states[state][\"lats\"] for state in us_states if state not in {'HI','AK'}]"
   ]
  },
  {
   "cell_type": "code",
   "execution_count": 10,
   "metadata": {},
   "outputs": [],
   "source": [
    "us_state_abbrev = {\n",
    "    'Alabama': 'AL',\n",
    "    'Alaska': 'AK',\n",
    "    'Arizona': 'AZ',\n",
    "    'Arkansas': 'AR',\n",
    "    'California': 'CA',\n",
    "    'Colorado': 'CO',\n",
    "    'Connecticut': 'CT',\n",
    "    'Delaware': 'DE',\n",
    "    'District of Columbia': 'DC',\n",
    "    'Florida': 'FL',\n",
    "    'Georgia': 'GA',\n",
    "    'Hawaii': 'HI',\n",
    "    'Idaho': 'ID',\n",
    "    'Illinois': 'IL',\n",
    "    'Indiana': 'IN',\n",
    "    'Iowa': 'IA',\n",
    "    'Kansas': 'KS',\n",
    "    'Kentucky': 'KY',\n",
    "    'Louisiana': 'LA',\n",
    "    'Maine': 'ME',\n",
    "    'Maryland': 'MD',\n",
    "    'Massachusetts': 'MA',\n",
    "    'Michigan': 'MI',\n",
    "    'Minnesota': 'MN',\n",
    "    'Mississippi': 'MS',\n",
    "    'Missouri': 'MO',\n",
    "    'Montana': 'MT',\n",
    "    'Nebraska': 'NE',\n",
    "    'Nevada': 'NV',\n",
    "    'New Hampshire': 'NH',\n",
    "    'New Jersey': 'NJ',\n",
    "    'New Mexico': 'NM',\n",
    "    'New York': 'NY',\n",
    "    'North Carolina': 'NC',\n",
    "    'North Dakota': 'ND',\n",
    "    'Ohio': 'OH',\n",
    "    'Oklahoma': 'OK',\n",
    "    'Oregon': 'OR',\n",
    "    'Pennsylvania': 'PA',\n",
    "    'Rhode Island': 'RI',\n",
    "    'South Carolina': 'SC',\n",
    "    'South Dakota': 'SD',\n",
    "    'Tennessee': 'TN',\n",
    "    'Texas': 'TX',\n",
    "    'Utah': 'UT',\n",
    "    'Vermont': 'VT',\n",
    "    'Virginia': 'VA',\n",
    "    'Washington': 'WA',\n",
    "    'West Virginia': 'WV',\n",
    "    'Wisconsin': 'WI',\n",
    "    'Wyoming': 'WY',\n",
    "}\n",
    "# us_state_abbrev = set(us_state_abbrev.values())"
   ]
  },
  {
   "cell_type": "code",
   "execution_count": 11,
   "metadata": {},
   "outputs": [],
   "source": [
    "target_states = {'WA','ID'}\n",
    "AVA_county_filtered_by_loadzone = set()\n",
    "for index, row in AVA_county.iterrows():\n",
    "    if row['State'] in target_states:\n",
    "        AVA_county_filtered_by_loadzone.add(str(row['County'])+'_'+str(row['State']).lower())\n",
    "        \n",
    "target_states = {'WA','ID','MT','OR','CA'}\n",
    "# target_states = us_state_abbrev\n",
    "BPAT_county_filtered_by_loadzone = set()\n",
    "for index, row in BPAT_county.iterrows():\n",
    "    if row['State'] in target_states:\n",
    "        BPAT_county_filtered_by_loadzone.add(str(row['County'])+'_'+str(row['State']).lower())\n",
    "        \n",
    "target_states = {'ID','OR'}\n",
    "IPCO_county_filtered_by_loadzone = set()\n",
    "for index, row in IPCO_county.iterrows():\n",
    "    if row['State'] in target_states:\n",
    "        IPCO_county_filtered_by_loadzone.add(str(row['County'])+'_'+str(row['State']).lower())\n",
    "        \n",
    "target_states = {'CA','OR'}\n",
    "# target_states = us_state_abbrev\n",
    "PACW_county_filtered_by_loadzone = set()\n",
    "for index, row in PACW_county.iterrows():\n",
    "    if row['State'] in target_states:\n",
    "        PACW_county_filtered_by_loadzone.add(str(row['County'])+'_'+str(row['State']).lower())\n",
    "        \n",
    "target_states = {'AZ','NM'}\n",
    "PNM_county_filtered_by_loadzone = set()\n",
    "for index, row in PNM_county.iterrows():\n",
    "    if row['State'] in target_states:\n",
    "        PNM_county_filtered_by_loadzone.add(str(row['County'])+'_'+str(row['State']).lower())\n",
    "        \n",
    "target_states = {'ID','UT','WY'}\n",
    "# target_states = us_state_abbrev\n",
    "PACE_county_filtered_by_loadzone = set()\n",
    "for index, row in PACE_county.iterrows():\n",
    "    if row['State'] in target_states:\n",
    "        PACE_county_filtered_by_loadzone.add(str(row['County'])+'_'+str(row['State']).lower())\n",
    "\n",
    "target_states = {'NM','TX'}\n",
    "EPE_county_filtered_by_loadzone = set()\n",
    "for index, row in EPE_county.iterrows():\n",
    "    if row['State'] in target_states:\n",
    "        EPE_county_filtered_by_loadzone.add(str(row['County'])+'_'+str(row['State']).lower())\n",
    "        \n",
    "target_states = {'CO','WY'}\n",
    "WACM_county_filtered_by_loadzone = set()\n",
    "for index, row in WACM_county.iterrows():\n",
    "    if row['State'] in target_states:\n",
    "        WACM_county_filtered_by_loadzone.add(str(row['County'])+'_'+str(row['State']).lower())\n",
    "\n",
    "# target_states = us_state_abbrev\n",
    "# NEVP_county_filtered_by_loadzone = set()\n",
    "# for index, row in NEVP_county.iterrows():\n",
    "#     if row['State'] in target_states:\n",
    "#         NEVP_county_filtered_by_loadzone.add(str(row['County'])+'_'+str(row['State']).lower())\n",
    "        \n",
    "# target_states = us_state_abbrev\n",
    "# WALC_county_filtered_by_loadzone = set()\n",
    "# for index, row in WALC_county.iterrows():\n",
    "#     if row['State'] in target_states:\n",
    "#         WALC_county_filtered_by_loadzone.add(str(row['County'])+'_'+str(row['State']).lower())"
   ]
  },
  {
   "cell_type": "code",
   "execution_count": 107,
   "metadata": {},
   "outputs": [],
   "source": [
    "ba_loadzone_county_split = defaultdict(list)\n",
    "\n",
    "#AVA################################################################\n",
    "ba_loadzone_county_split['AVA_WA'] = ['Ferry_wa', 'Stevens_wa', 'Pend Oreille_wa','Lincoln_wa','Spokane_wa','Whitman_wa']\n",
    "ba_loadzone_county_split['AVA_ID'] = ['Bonner_id','Kootenai_id','Benewah_id','Latah_id']    \n",
    "#BPAT###############################################################\n",
    "#Note: the region of SCL is less than a county, IGNORED here, keep King County in BPAT_WA\n",
    "GCPD = ['Grant_wa']\n",
    "DOPD = ['Okanogan_wa','Douglas_wa']\n",
    "CHPD = ['Chelan_wa']\n",
    "PSEI = ['Whatcom_wa','Skagit_wa']\n",
    "TPWR = ['Thurston_wa']\n",
    "AVA_WA = ['Ferry_wa', 'Stevens_wa', 'Pend Oreille_wa','Lincoln_wa','Spokane_wa','Whitman_wa']\n",
    "for county in BPAT_county_filtered_by_loadzone:\n",
    "    if county[-2:] == 'wa' and county not in set(GCPD+DOPD+CHPD+PSEI+TPWR+AVA_WA):\n",
    "        ba_loadzone_county_split['BPAT_WA'].append(county)\n",
    "ba_loadzone_county_split['BPAT_WA'].append('King_wa')\n",
    "\n",
    "ba_loadzone_county_split['BPAT_CAnorth'] = ['Modoc_ca']\n",
    "ba_loadzone_county_split['BPAT_ID'] = ['Shoshone_id','Clearwater_id','Lewis_id','Nez Perce_id','Boundary_id']\n",
    "ba_loadzone_county_split['BPAT_MT'] = ['Lincoln_mt','Flathead_mt','Lake_mt','Sanders_mt','Mineral_mt']\n",
    "\n",
    "PACW_OR = ['Douglas_or','Coos_or','Josephine_or','Jackson_or','Klamath_or','Curry_or']\n",
    "PGE = ['Washington_or','Yamhill_or','Polk_or','Marion_or','Clackamas_or','Multnomah_or','Hood River_or']\n",
    "GRID = ['Morrow_or']\n",
    "for county in BPAT_county_filtered_by_loadzone:\n",
    "    if county[-2:] == 'or' and county not in set(PGE+GRID+PACW_OR):\n",
    "        ba_loadzone_county_split['BPAT_OR'].append(county)\n",
    "\n",
    "#IPCO###############################################################\n",
    "ba_loadzone_county_split['IPCO_OR'] = ['Malheur_or']\n",
    "for county in IPCO_county_filtered_by_loadzone:\n",
    "    if county[-2:] == 'id':\n",
    "        ba_loadzone_county_split['IPCO_ID'].append(county)\n",
    "ba_loadzone_county_split['IPCO_ID'].append('Butte_id')\n",
    "ba_loadzone_county_split['IPCO_ID'].remove('Oneida_id')\n",
    "ba_loadzone_county_split['IPCO_ID'].remove('Bannock_id')\n",
    "ba_loadzone_county_split['IPCO_ID'].remove('Power_id')\n",
    "ba_loadzone_county_split['IPCO_ID'].remove('Bingham_id')\n",
    "\n",
    "#PACW################################################################\n",
    "ba_loadzone_county_split['PACW_OR'] = ['Douglas_or','Coos_or','Josephine_or','Jackson_or','Klamath_or','Curry_or']\n",
    "ba_loadzone_county_split['PACW_CAnorth'] = ['Del Norte_ca','Siskiyou_ca']\n",
    "\n",
    "#PNM#################################################################\n",
    "ba_loadzone_county_split['PNM_AZ'].append('Greenlee_az')\n",
    "for county in PNM_county_filtered_by_loadzone:\n",
    "    if county[-2:] == 'nm':\n",
    "        ba_loadzone_county_split['PNM_NM'].append(county)\n",
    "ba_loadzone_county_split['PNM_NM'].append('Lea_nm')\n",
    "ba_loadzone_county_split['PNM_NM'].append('Roosevelt_nm')\n",
    "ba_loadzone_county_split['PNM_NM'].append('Curry_nm')\n",
    "ba_loadzone_county_split['PNM_NM'].remove('Dona Ana_nm')\n",
    "ba_loadzone_county_split['PNM_NM'].remove('Otero_nm')\n",
    "\n",
    "#PACE################################################################\n",
    "for county in PACE_county_filtered_by_loadzone:\n",
    "    if county[-2:] == 'ut':\n",
    "        ba_loadzone_county_split['PACE_UT'].append(county)\n",
    "ba_loadzone_county_split['PACE_UT'].append('Kane_ut')\n",
    "ba_loadzone_county_split['PACE_UT'].append('Wayne_ut')\n",
    "ba_loadzone_county_split['PACE_UT'].append('Daggett_ut')\n",
    "\n",
    "for county in PACE_county_filtered_by_loadzone:\n",
    "    if county[-2:] == 'wy':\n",
    "        ba_loadzone_county_split['PACE_WY'].append(county)\n",
    "ba_loadzone_county_split['PACE_WY'].remove('Albany_wy')\n",
    "ba_loadzone_county_split['PACE_WY'].remove('Platte_wy')\n",
    "ba_loadzone_county_split['PACE_WY'].remove('Converse_wy')\n",
    "ba_loadzone_county_split['PACE_WY'].remove('Natrona_wy')\n",
    "ba_loadzone_county_split['PACE_WY'].remove('Johnson_wy')\n",
    "ba_loadzone_county_split['PACE_WY'].append('Teton_wy')\n",
    "\n",
    "for county in PACE_county_filtered_by_loadzone:\n",
    "    if county[-2:] == 'id':\n",
    "        ba_loadzone_county_split['PACE_ID'].append(county)\n",
    "ba_loadzone_county_split['PACE_ID'].remove('Butte_id')\n",
    "\n",
    "#WACM################################################################\n",
    "for county in WACM_county_filtered_by_loadzone:\n",
    "    if county[-2:] == 'wy':\n",
    "        if county not in ba_loadzone_county_split['PACE_WY']:\n",
    "            ba_loadzone_county_split['WACM_WY'].append(county)\n",
    "# del ba_loadzone_county_split['PACE_WY']\n",
    "\n",
    "PSCO = ['Alamosa_co','Costilla_co','Huerfano_co','Las Animas_co','Baca_co','Prowers_co','Bent_co','Otero_co','Pueblo_co','Crowley_co','Lincoln_co','El Paso_co','Teller_co','Douglas_co','Elbert_co','Jefferson_co','Denver_co','Arapahoe_co','Adams_co','Clear Creek_co','Gilpin_co','Boulder_co','Weld_co','Morgan_co','Broomfield_co']\n",
    "for county in WACM_county_filtered_by_loadzone:\n",
    "    if county[-2:] == 'co':\n",
    "        if county not in PSCO:\n",
    "            ba_loadzone_county_split['WACM_CO'].append(county)\n",
    "ba_loadzone_county_split['WACM_CO'].append('Eagle_co')\n",
    "ba_loadzone_county_split['WACM_CO'].append('Park_co')\n",
    "\n",
    "#EPE#################################################################\n",
    "ba_loadzone_county_split['EPE_NM'] = ['Dona Ana_nm','Otero_nm','Eddy_nm']\n",
    "ba_loadzone_county_split['EPE_ElPaso'] = ['El Paso_tx','Hudspeth_tx','Culberson_tx']\n",
    "\n",
    "#CISO################################################################\n",
    "# 'CISO': {'CABayArea', 'CAcentral', 'CAnorth', 'CAse', 'CAsw'}\n",
    "    \n",
    "ba_loadzone_county_split['CISO_CAnorth'] = ['Butte','Colusa','Del Norte','El Dorado','Glenn','Humboldt',\n",
    "                       'Lake','Lassen','Mendocino','Modoc','Nevada','Placer','Plumas',\n",
    "                       'Sacramento','Shasta','Sierra','Siskiyou','Sutter','Tehama',\n",
    "                       'Trinity','Yolo','Yuba']\n",
    "ba_loadzone_county_split['CISO_CABayArea'] = ['Alameda','Contra Costa','Marin','Napa','San Francisco','San Mateo',\n",
    "            'Santa Clara','Santa Cruz','Solano','Sonoma']\n",
    "ba_loadzone_county_split['CISO_CAcentral'] = ['Alpine','Amador','Calaveras','Fresno','Inyo','Kings','Madera',\n",
    "                      'Mariposa','Merced','Mono','Monterey','San Benito','San Joaquin',\n",
    "                      'Stanislaus','Tulare','Tuolumne']\n",
    "ba_loadzone_county_split['CISO_CAse'] = ['Imperial','Orange','Riverside','San Bernardino','San Diego']\n",
    "ba_loadzone_county_split['CISO_CAsw'] = ['Kern','Los Angeles','San Luis Obispo','Santa Barbara','Ventura']\n",
    "\n",
    "for ba_loadzone in ba_loadzone_county_split:\n",
    "    if ba_loadzone.split('_')[0] == 'CISO':\n",
    "        for i,county in enumerate(ba_loadzone_county_split[ba_loadzone]):\n",
    "            ba_loadzone_county_split[ba_loadzone][i] = county+'_'+'ca'\n",
    "# ba_loadzone_county_split"
   ]
  },
  {
   "cell_type": "code",
   "execution_count": 108,
   "metadata": {},
   "outputs": [],
   "source": [
    "counties_xs = []\n",
    "counties_ys = []\n",
    "counties_name = []\n",
    "for code in us_counties:\n",
    "    key = str(us_counties[code]['name'])+'_'+str(us_counties[code]['state'])\n",
    "#     if key in AVA_county_filtered_by_loadzone:\n",
    "#     if key in BPAT_county_filtered_by_loadzone:\n",
    "#     if key in IPCO_county_filtered_by_loadzone:\n",
    "#     if key in PACW_county_filtered_by_loadzone:\n",
    "#     if key in PNM_county_filtered_by_loadzone:\n",
    "#     if key in PACE_county_filtered_by_loadzone:\n",
    "#     if key in EPE_county_filtered_by_loadzone:\n",
    "#     if key in WACM_county_filtered_by_loadzone:\n",
    "\n",
    "#     if key in PSCO_county_filtered_by_loadzone:\n",
    "#     if key in NEVP_county_filtered_by_loadzone:\n",
    "#     if key in WALC_county_filtered_by_loadzone:\n",
    "    if key in reduce(lambda x,y:x+y,list(ba_loadzone_county_split.values())):\n",
    "        counties_xs.append(us_counties[code]['lons'])\n",
    "        counties_ys.append(us_counties[code]['lats'])\n",
    "        counties_name.append(key)\n",
    "source = ColumnDataSource(data=dict(\n",
    "    x = counties_xs,\n",
    "    y = counties_ys,\n",
    "    name = counties_name\n",
    "#     color = 'gray'\n",
    "))"
   ]
  },
  {
   "cell_type": "code",
   "execution_count": 109,
   "metadata": {},
   "outputs": [],
   "source": [
    "p = figure(title=\"BA County Check\", \n",
    "           toolbar_location=\"left\", plot_width=1300, plot_height=700,\n",
    "           tools = ['tap','box_zoom','wheel_zoom','save','reset'])\n",
    "\n",
    "p.patches(state_xs, state_ys, fill_alpha=0,\n",
    "    line_color=\"gray\", line_alpha=0.5, line_width=1.0)\n",
    "# p.patches(counties_xs, counties_ys, fill_alpha=0.5,\n",
    "#     line_color=\"gray\", line_alpha=0.5, line_width=0.5)\n",
    "\n",
    "county_render = p.patches('x','y', source = source, fill_alpha=0.5,\n",
    "    line_color=\"gray\", line_alpha=0.5, line_width=0.5)\n",
    "\n",
    "hover1 = HoverTool(renderers=[county_render],name='Test')\n",
    "hover1.point_policy = \"follow_mouse\"\n",
    "hover1.tooltips = [\n",
    "    (\"County\", \"@name\")\n",
    "]\n",
    "p.add_tools(hover1) "
   ]
  },
  {
   "cell_type": "code",
   "execution_count": 15,
   "metadata": {},
   "outputs": [],
   "source": [
    "show(p)"
   ]
  },
  {
   "cell_type": "code",
   "execution_count": 378,
   "metadata": {
    "collapsed": true
   },
   "outputs": [
    {
     "data": {
      "text/plain": [
       "defaultdict(list,\n",
       "            {'AVA_WA': ['Ferry_wa',\n",
       "              'Stevens_wa',\n",
       "              'Pend Oreille_wa',\n",
       "              'Lincoln_wa',\n",
       "              'Spokane_wa',\n",
       "              'Whitman_wa'],\n",
       "             'AVA_ID': ['Bonner_id', 'Kootenai_id', 'Benewah_id', 'Latah_id'],\n",
       "             'BPAT_WA': ['Cowlitz_wa',\n",
       "              'Snohomish_wa',\n",
       "              'Skamania_wa',\n",
       "              'Mason_wa',\n",
       "              'San Juan_wa',\n",
       "              'Island_wa',\n",
       "              'Clark_wa',\n",
       "              'Pierce_wa',\n",
       "              'Jefferson_wa',\n",
       "              'Klickitat_wa',\n",
       "              'Kittitas_wa',\n",
       "              'Adams_wa',\n",
       "              'Kitsap_wa',\n",
       "              'Lewis_wa',\n",
       "              'Franklin_wa',\n",
       "              'Grays Harbor_wa',\n",
       "              'Columbia_wa',\n",
       "              'Garfield_wa',\n",
       "              'Clallam_wa',\n",
       "              'Asotin_wa',\n",
       "              'Walla Walla_wa',\n",
       "              'Benton_wa',\n",
       "              'Yakima_wa',\n",
       "              'Pacific_wa',\n",
       "              'Wahkiakum_wa',\n",
       "              'King_wa'],\n",
       "             'BPAT_CAnorth': ['Modoc_ca'],\n",
       "             'BPAT_ID': ['Shoshone_id',\n",
       "              'Clearwater_id',\n",
       "              'Lewis_id',\n",
       "              'Nez Perce_id',\n",
       "              'Boundary_id'],\n",
       "             'BPAT_MT': ['Lincoln_mt',\n",
       "              'Flathead_mt',\n",
       "              'Lake_mt',\n",
       "              'Sanders_mt',\n",
       "              'Mineral_mt'],\n",
       "             'BPAT_OR': ['Harney_or',\n",
       "              'Baker_or',\n",
       "              'Union_or',\n",
       "              'Deschutes_or',\n",
       "              'Wasco_or',\n",
       "              'Lincoln_or',\n",
       "              'Wallowa_or',\n",
       "              'Crook_or',\n",
       "              'Lane_or',\n",
       "              'Lake_or',\n",
       "              'Grant_or',\n",
       "              'Wheeler_or',\n",
       "              'Malheur_or',\n",
       "              'Linn_or',\n",
       "              'Columbia_or',\n",
       "              'Jefferson_or',\n",
       "              'Sherman_or',\n",
       "              'Clatsop_or',\n",
       "              'Gilliam_or',\n",
       "              'Benton_or',\n",
       "              'Umatilla_or',\n",
       "              'Tillamook_or'],\n",
       "             'IPCO_OR': ['Malheur_or'],\n",
       "             'IPCO_ID': ['Canyon_id',\n",
       "              'Elmore_id',\n",
       "              'Twin Falls_id',\n",
       "              'Custer_id',\n",
       "              'Jerome_id',\n",
       "              'Idaho_id',\n",
       "              'Cassia_id',\n",
       "              'Camas_id',\n",
       "              'Minidoka_id',\n",
       "              'Lemhi_id',\n",
       "              'Gooding_id',\n",
       "              'Lincoln_id',\n",
       "              'Washington_id',\n",
       "              'Owyhee_id',\n",
       "              'Adams_id',\n",
       "              'Valley_id',\n",
       "              'Payette_id',\n",
       "              'Blaine_id',\n",
       "              'Ada_id',\n",
       "              'Gem_id',\n",
       "              'Boise_id',\n",
       "              'Butte_id'],\n",
       "             'PACW_OR': ['Douglas_or',\n",
       "              'Coos_or',\n",
       "              'Josephine_or',\n",
       "              'Jackson_or',\n",
       "              'Klamath_or',\n",
       "              'Curry_or'],\n",
       "             'PACW_CAnorth': ['Del Norte_ca', 'Siskiyou_ca'],\n",
       "             'PNM_AZ': ['Greenlee_az'],\n",
       "             'PNM_NM': ['De Baca_nm',\n",
       "              'Guadalupe_nm',\n",
       "              'Los Alamos_nm',\n",
       "              'Cibola_nm',\n",
       "              'San Juan_nm',\n",
       "              'Rio Arriba_nm',\n",
       "              'San Miguel_nm',\n",
       "              'Santa Fe_nm',\n",
       "              'Hidalgo_nm',\n",
       "              'Union_nm',\n",
       "              'Harding_nm',\n",
       "              'Sierra_nm',\n",
       "              'Taos_nm',\n",
       "              'Sandoval_nm',\n",
       "              'Luna_nm',\n",
       "              'Chaves_nm',\n",
       "              'Grant_nm',\n",
       "              'Catron_nm',\n",
       "              'McKinley_nm',\n",
       "              'Quay_nm',\n",
       "              'Bernalillo_nm',\n",
       "              'Torrance_nm',\n",
       "              'Colfax_nm',\n",
       "              'Lincoln_nm',\n",
       "              'Valencia_nm',\n",
       "              'Mora_nm',\n",
       "              'Socorro_nm',\n",
       "              'Lea_nm',\n",
       "              'Roosevelt_nm',\n",
       "              'Curry_nm'],\n",
       "             'PACE_UT': ['San Juan_ut',\n",
       "              'Millard_ut',\n",
       "              'Box Elder_ut',\n",
       "              'Wasatch_ut',\n",
       "              'Rich_ut',\n",
       "              'Sanpete_ut',\n",
       "              'Uintah_ut',\n",
       "              'Juab_ut',\n",
       "              'Iron_ut',\n",
       "              'Tooele_ut',\n",
       "              'Carbon_ut',\n",
       "              'Beaver_ut',\n",
       "              'Morgan_ut',\n",
       "              'Washington_ut',\n",
       "              'Summit_ut',\n",
       "              'Weber_ut',\n",
       "              'Piute_ut',\n",
       "              'Emery_ut',\n",
       "              'Grand_ut',\n",
       "              'Garfield_ut',\n",
       "              'Sevier_ut',\n",
       "              'Utah_ut',\n",
       "              'Salt Lake_ut',\n",
       "              'Davis_ut',\n",
       "              'Duchesne_ut',\n",
       "              'Cache_ut',\n",
       "              'Kane_ut',\n",
       "              'Wayne_ut',\n",
       "              'Daggett_ut'],\n",
       "             'PACE_WY': ['Uinta_wy',\n",
       "              'Fremont_wy',\n",
       "              'Hot Springs_wy',\n",
       "              'Sweetwater_wy',\n",
       "              'Big Horn_wy',\n",
       "              'Carbon_wy',\n",
       "              'Washakie_wy',\n",
       "              'Lincoln_wy',\n",
       "              'Park_wy',\n",
       "              'Sublette_wy',\n",
       "              'Teton_wy'],\n",
       "             'PACE_ID': ['Franklin_id',\n",
       "              'Bear Lake_id',\n",
       "              'Clark_id',\n",
       "              'Power_id',\n",
       "              'Madison_id',\n",
       "              'Bannock_id',\n",
       "              'Jefferson_id',\n",
       "              'Caribou_id',\n",
       "              'Fremont_id',\n",
       "              'Oneida_id',\n",
       "              'Bonneville_id',\n",
       "              'Bingham_id',\n",
       "              'Teton_id'],\n",
       "             'WACM_WY': ['Goshen_wy',\n",
       "              'Weston_wy',\n",
       "              'Converse_wy',\n",
       "              'Johnson_wy',\n",
       "              'Natrona_wy',\n",
       "              'Crook_wy',\n",
       "              'Campbell_wy',\n",
       "              'Laramie_wy',\n",
       "              'Platte_wy',\n",
       "              'Sheridan_wy',\n",
       "              'Niobrara_wy',\n",
       "              'Albany_wy'],\n",
       "             'WACM_CO': ['Dolores_co',\n",
       "              'Lake_co',\n",
       "              'Ouray_co',\n",
       "              'Saguache_co',\n",
       "              'Rio Blanco_co',\n",
       "              'Kiowa_co',\n",
       "              'Yuma_co',\n",
       "              'Rio Grande_co',\n",
       "              'San Miguel_co',\n",
       "              'Kit Carson_co',\n",
       "              'Routt_co',\n",
       "              'Cheyenne_co',\n",
       "              'San Juan_co',\n",
       "              'Logan_co',\n",
       "              'Phillips_co',\n",
       "              'Chaffee_co',\n",
       "              'Archuleta_co',\n",
       "              'Jackson_co',\n",
       "              'Hinsdale_co',\n",
       "              'Sedgwick_co',\n",
       "              'Garfield_co',\n",
       "              'Montezuma_co',\n",
       "              'Delta_co',\n",
       "              'Custer_co',\n",
       "              'Summit_co',\n",
       "              'Gunnison_co',\n",
       "              'Moffat_co',\n",
       "              'Montrose_co',\n",
       "              'Conejos_co',\n",
       "              'Grand_co',\n",
       "              'Fremont_co',\n",
       "              'Larimer_co',\n",
       "              'Mesa_co',\n",
       "              'Washington_co',\n",
       "              'Mineral_co',\n",
       "              'La Plata_co',\n",
       "              'Pitkin_co',\n",
       "              'Eagle_co',\n",
       "              'Park_co'],\n",
       "             'EPE_NM': ['Dona Ana_nm', 'Otero_nm', 'Eddy_nm'],\n",
       "             'EPE_ElPaso': ['El Paso_tx', 'Hudspeth_tx', 'Culberson_tx'],\n",
       "             'CISO_CAnorth': ['Butte_ca',\n",
       "              'Colusa_ca',\n",
       "              'Del Norte_ca',\n",
       "              'El Dorado_ca',\n",
       "              'Glenn_ca',\n",
       "              'Humboldt_ca',\n",
       "              'Lake_ca',\n",
       "              'Lassen_ca',\n",
       "              'Mendocino_ca',\n",
       "              'Modoc_ca',\n",
       "              'Nevada_ca',\n",
       "              'Placer_ca',\n",
       "              'Plumas_ca',\n",
       "              'Sacramento_ca',\n",
       "              'Shasta_ca',\n",
       "              'Sierra_ca',\n",
       "              'Siskiyou_ca',\n",
       "              'Sutter_ca',\n",
       "              'Tehama_ca',\n",
       "              'Trinity_ca',\n",
       "              'Yolo_ca',\n",
       "              'Yuba_ca'],\n",
       "             'CISO_CABayArea': ['Alameda_ca',\n",
       "              'Contra Costa_ca',\n",
       "              'Marin_ca',\n",
       "              'Napa_ca',\n",
       "              'San Francisco_ca',\n",
       "              'San Mateo_ca',\n",
       "              'Santa Clara_ca',\n",
       "              'Santa Cruz_ca',\n",
       "              'Solano_ca',\n",
       "              'Sonoma_ca'],\n",
       "             'CISO_CAcentral': ['Alpine_ca',\n",
       "              'Amador_ca',\n",
       "              'Calaveras_ca',\n",
       "              'Fresno_ca',\n",
       "              'Inyo_ca',\n",
       "              'Kings_ca',\n",
       "              'Madera_ca',\n",
       "              'Mariposa_ca',\n",
       "              'Merced_ca',\n",
       "              'Mono_ca',\n",
       "              'Monterey_ca',\n",
       "              'San Benito_ca',\n",
       "              'San Joaquin_ca',\n",
       "              'Stanislaus_ca',\n",
       "              'Tulare_ca',\n",
       "              'Tuolumne_ca'],\n",
       "             'CISO_CAse': ['Imperial_ca',\n",
       "              'Orange_ca',\n",
       "              'Riverside_ca',\n",
       "              'San Bernardino_ca',\n",
       "              'San Diego_ca'],\n",
       "             'CISO_CAsw': ['Kern_ca',\n",
       "              'Los Angeles_ca',\n",
       "              'San Luis Obispo_ca',\n",
       "              'Santa Barbara_ca',\n",
       "              'Ventura_ca']})"
      ]
     },
     "execution_count": 378,
     "metadata": {},
     "output_type": "execute_result"
    }
   ],
   "source": [
    "ba_loadzone_county_split            "
   ]
  },
  {
   "cell_type": "markdown",
   "metadata": {},
   "source": [
    "### Get fraction parameters for BAs in each loadzone via county population"
   ]
  },
  {
   "cell_type": "code",
   "execution_count": 110,
   "metadata": {},
   "outputs": [],
   "source": [
    "us_counties_pop_file = 'USCountyPop.csv'\n",
    "counties_pop = pd.read_csv(dir_files + '/' + us_counties_pop_file, header=0)\n",
    "#cleaning\n",
    "counties_pop.drop(columns = ['GEO.id', 'GEO.id2', 'rescen42010', 'resbase42010',\n",
    "       'respop72010', 'respop72011', 'respop72012', 'respop72013',\n",
    "       'respop72014', 'respop72015','respop72017'], inplace = True)\n",
    "counties_pop['County'] = counties_pop['GEO.display-label'].str.split(',',expand=True)[0].str.replace(' County','')\n",
    "counties_pop['State'] = counties_pop['GEO.display-label'].str.split(',',expand=True)[1].str.replace('^ ','')\n",
    "counties_pop['State'] = counties_pop['State'].apply(lambda x: us_state_abbrev[x])\n",
    "counties_pop.drop(columns = 'GEO.display-label', inplace = True)\n",
    "counties_pop.rename(columns = {'respop72016':'pop2016'}, inplace=True)"
   ]
  },
  {
   "cell_type": "code",
   "execution_count": 111,
   "metadata": {},
   "outputs": [
    {
     "data": {
      "text/plain": [
       "defaultdict(int,\n",
       "            {'AVA_WA': 0.7185583026116248,\n",
       "             'AVA_ID': 0.2814416973883752,\n",
       "             'BPAT_WA': 0.8023965763195435,\n",
       "             'BPAT_CAnorth': 0.0012383141974710193,\n",
       "             'BPAT_ID': 0.010603022035095494,\n",
       "             'BPAT_MT': 0.0224679029957204,\n",
       "             'BPAT_OR': 0.1632941844521696,\n",
       "             'IPCO_OR': 0.029817258554569813,\n",
       "             'IPCO_ID': 0.9701827414454302,\n",
       "             'PACW_OR': 0.8876045179305965,\n",
       "             'PACW_CAnorth': 0.11239548206940354,\n",
       "             'PNM_AZ': 0.005472149924283824,\n",
       "             'PNM_NM': 0.9945278500757162,\n",
       "             'PACE_UT': 0.8356703007903719,\n",
       "             'PACE_WY': 0.06242051469556837,\n",
       "             'PACE_ID': 0.10190918451405982,\n",
       "             'WACM_WY': 0.24776448949692959,\n",
       "             'WACM_CO': 0.7522355105030705,\n",
       "             'EPE_NM': 0.28519271530306717,\n",
       "             'EPE_ElPaso': 0.7148072846969329,\n",
       "             'CISO_CAnorth': 0.08950746626745869,\n",
       "             'CISO_CABayArea': 0.2033680577362713,\n",
       "             'CISO_CAcentral': 0.10109420498672705,\n",
       "             'CISO_CAse': 0.2850010265551547,\n",
       "             'CISO_CAsw': 0.32102924445438824})"
      ]
     },
     "execution_count": 111,
     "metadata": {},
     "output_type": "execute_result"
    }
   ],
   "source": [
    "ba_loadzone_frac = defaultdict(int)\n",
    "for ba,counties in ba_loadzone_county_split.items():\n",
    "    for county in counties:\n",
    "        c = county.split('_')\n",
    "#         print(c)\n",
    "        if c[0] == 'Dona Ana':\n",
    "            c[0] = 'Doña Ana'\n",
    "        ba_loadzone_frac[ba] += int(counties_pop.loc[(counties_pop['County']==c[0]) & (counties_pop['State']==c[1].upper())].iloc[0]['pop2016'])\n",
    "ba_total = defaultdict(int)\n",
    "for ba,pop in ba_loadzone_frac.items():\n",
    "    ba_total[ba.split('_')[0]] += pop\n",
    "for ba in ba_loadzone_frac:\n",
    "    name = ba.split('_')[0]\n",
    "    ba_loadzone_frac[ba] /= ba_total[name]\n",
    "ba_loadzone_frac"
   ]
  },
  {
   "cell_type": "code",
   "execution_count": 112,
   "metadata": {
    "collapsed": true
   },
   "outputs": [
    {
     "data": {
      "text/plain": [
       "defaultdict(list,\n",
       "            {'WA': ['AVA_WA',\n",
       "              'BPAT_WA',\n",
       "              'CHPD',\n",
       "              'DOPD',\n",
       "              'GCPD',\n",
       "              'PSEI',\n",
       "              'SCL',\n",
       "              'TPWR'],\n",
       "             'OR': ['BPAT_OR', 'GRID', 'IPCO_OR', 'PACW_OR', 'PGE'],\n",
       "             'CAnorth': ['BANC',\n",
       "              'CISO_CAnorth',\n",
       "              'PACW_CAnorth',\n",
       "              'BPAT_CAnorth'],\n",
       "             'CABayArea': ['CISO_CABayArea'],\n",
       "             'CAcentral': ['CISO_CAcentral', 'TIDC'],\n",
       "             'CAsw': ['CISO_CAsw', 'LDWP'],\n",
       "             'CAse': ['CISO_CAse', 'IID'],\n",
       "             'NV': ['NEVP'],\n",
       "             'AZ': ['AZPS',\n",
       "              'DEAA',\n",
       "              'GRIF',\n",
       "              'GRMA',\n",
       "              'HGMA',\n",
       "              'PNM_AZ',\n",
       "              'SRP',\n",
       "              'TEPC',\n",
       "              'WALC'],\n",
       "             'UT': ['PACE_UT'],\n",
       "             'NM': ['EPE_NM', 'PNM_NM'],\n",
       "             'CO': ['PSCO', 'WACM_CO'],\n",
       "             'WY': ['PACE_WY', 'WACM_WY'],\n",
       "             'ID': ['AVA_ID', 'BPAT_ID', 'IPCO_ID', 'PACE_ID'],\n",
       "             'MT': ['BPAT_MT', 'GWA', 'NWMT', 'WAUW', 'WWA'],\n",
       "             'ElPaso': ['EPE_ElPaso']})"
      ]
     },
     "execution_count": 112,
     "metadata": {},
     "output_type": "execute_result"
    }
   ],
   "source": [
    "loadzone_ba_rename_by_frac = defaultdict(list)\n",
    "for lz,bas in loadzone_ba.items():\n",
    "    for ba in bas:\n",
    "        name = ba + '_' + lz\n",
    "        if name in ba_loadzone_frac:\n",
    "            loadzone_ba_rename_by_frac[lz].append(name)\n",
    "        else:\n",
    "            loadzone_ba_rename_by_frac[lz].append(ba)\n",
    "loadzone_ba_rename_by_frac"
   ]
  },
  {
   "cell_type": "markdown",
   "metadata": {},
   "source": [
    "### Get demand profile in loadzones from BA profiles based on the calculated fractions"
   ]
  },
  {
   "cell_type": "code",
   "execution_count": 113,
   "metadata": {},
   "outputs": [],
   "source": [
    "ba_demand_file = 'BA_fixed_demand_threshold_3.csv'\n",
    "ba_demand = pd.read_csv(dir_files + '/' + ba_demand_file, header = 0, parse_dates = True, index_col = 'UTC Time')\n",
    "ba_demand.fillna(0, inplace=True)"
   ]
  },
  {
   "cell_type": "code",
   "execution_count": 114,
   "metadata": {},
   "outputs": [],
   "source": [
    "from powersimdata.input.grid import Grid"
   ]
  },
  {
   "cell_type": "code",
   "execution_count": 115,
   "metadata": {
    "collapsed": true
   },
   "outputs": [
    {
     "name": "stdout",
     "output_type": "stream",
     "text": [
      "--> Loading Western interconnect\n",
      "Loading zone\n",
      "Loading sub\n",
      "Loading bus2sub\n",
      "Loading bus\n",
      "Loading plant\n",
      "Loading plant cost\n",
      "Loading branch\n",
      "Loading DC line\n"
     ]
    }
   ],
   "source": [
    "western = Grid(['Western'])"
   ]
  },
  {
   "cell_type": "code",
   "execution_count": 116,
   "metadata": {},
   "outputs": [
    {
     "data": {
      "text/plain": [
       "{201: 'Washington',\n",
       " 202: 'Oregon',\n",
       " 203: 'Northern California',\n",
       " 204: 'Bay Area',\n",
       " 205: 'Central California',\n",
       " 206: 'Southwest California',\n",
       " 207: 'Southeast California',\n",
       " 208: 'Nevada',\n",
       " 209: 'Arizona',\n",
       " 210: 'Utah',\n",
       " 211: 'New Mexico Western',\n",
       " 212: 'Colorado',\n",
       " 213: 'Wyoming',\n",
       " 214: 'Idaho',\n",
       " 215: 'Montana Western',\n",
       " 216: 'El Paso'}"
      ]
     },
     "execution_count": 116,
     "metadata": {},
     "output_type": "execute_result"
    }
   ],
   "source": [
    "# Index verification\n",
    "western.id2zone"
   ]
  },
  {
   "cell_type": "code",
   "execution_count": 117,
   "metadata": {
    "collapsed": true
   },
   "outputs": [
    {
     "data": {
      "text/plain": [
       "defaultdict(list,\n",
       "            {'WA': ['AVA_WA',\n",
       "              'BPAT_WA',\n",
       "              'CHPD',\n",
       "              'DOPD',\n",
       "              'GCPD',\n",
       "              'PSEI',\n",
       "              'SCL',\n",
       "              'TPWR'],\n",
       "             'OR': ['BPAT_OR', 'GRID', 'IPCO_OR', 'PACW_OR', 'PGE'],\n",
       "             'CAnorth': ['BANC',\n",
       "              'CISO_CAnorth',\n",
       "              'PACW_CAnorth',\n",
       "              'BPAT_CAnorth'],\n",
       "             'CABayArea': ['CISO_CABayArea'],\n",
       "             'CAcentral': ['CISO_CAcentral', 'TIDC'],\n",
       "             'CAsw': ['CISO_CAsw', 'LDWP'],\n",
       "             'CAse': ['CISO_CAse', 'IID'],\n",
       "             'NV': ['NEVP'],\n",
       "             'AZ': ['AZPS',\n",
       "              'DEAA',\n",
       "              'GRIF',\n",
       "              'GRMA',\n",
       "              'HGMA',\n",
       "              'PNM_AZ',\n",
       "              'SRP',\n",
       "              'TEPC',\n",
       "              'WALC'],\n",
       "             'UT': ['PACE_UT'],\n",
       "             'NM': ['EPE_NM', 'PNM_NM'],\n",
       "             'CO': ['PSCO', 'WACM_CO'],\n",
       "             'WY': ['PACE_WY', 'WACM_WY'],\n",
       "             'ID': ['AVA_ID', 'BPAT_ID', 'IPCO_ID', 'PACE_ID'],\n",
       "             'MT': ['BPAT_MT', 'GWA', 'NWMT', 'WAUW', 'WWA'],\n",
       "             'ElPaso': ['EPE_ElPaso']})"
      ]
     },
     "execution_count": 117,
     "metadata": {},
     "output_type": "execute_result"
    }
   ],
   "source": [
    "loadzone_ba_rename_by_frac"
   ]
  },
  {
   "cell_type": "code",
   "execution_count": 118,
   "metadata": {},
   "outputs": [],
   "source": [
    "western_demand_v4 = pd.DataFrame(index = ba_demand.index.copy())"
   ]
  },
  {
   "cell_type": "code",
   "execution_count": 119,
   "metadata": {},
   "outputs": [],
   "source": [
    "for i in range(201,217):\n",
    "    western_demand_v4[i] = 0\n",
    "col = 200\n",
    "for lz,bas in loadzone_ba_rename_by_frac.items():\n",
    "    col += 1\n",
    "    for ba in bas:\n",
    "        if ba in ba_loadzone_frac:\n",
    "            ba_name = ba.split('_')[0]\n",
    "            fraction = ba_loadzone_frac[ba]\n",
    "            western_demand_v4[col] += ba_demand[ba_name]*fraction\n",
    "        else:\n",
    "            western_demand_v4[col] += ba_demand[ba]"
   ]
  },
  {
   "cell_type": "code",
   "execution_count": 120,
   "metadata": {},
   "outputs": [
    {
     "data": {
      "text/html": [
       "<div>\n",
       "<style scoped>\n",
       "    .dataframe tbody tr th:only-of-type {\n",
       "        vertical-align: middle;\n",
       "    }\n",
       "\n",
       "    .dataframe tbody tr th {\n",
       "        vertical-align: top;\n",
       "    }\n",
       "\n",
       "    .dataframe thead th {\n",
       "        text-align: right;\n",
       "    }\n",
       "</style>\n",
       "<table border=\"1\" class=\"dataframe\">\n",
       "  <thead>\n",
       "    <tr style=\"text-align: right;\">\n",
       "      <th></th>\n",
       "      <th>201</th>\n",
       "      <th>202</th>\n",
       "      <th>203</th>\n",
       "      <th>204</th>\n",
       "      <th>205</th>\n",
       "      <th>206</th>\n",
       "      <th>207</th>\n",
       "      <th>208</th>\n",
       "      <th>209</th>\n",
       "      <th>210</th>\n",
       "      <th>211</th>\n",
       "      <th>212</th>\n",
       "      <th>213</th>\n",
       "      <th>214</th>\n",
       "      <th>215</th>\n",
       "      <th>216</th>\n",
       "    </tr>\n",
       "    <tr>\n",
       "      <th>UTC Time</th>\n",
       "      <th></th>\n",
       "      <th></th>\n",
       "      <th></th>\n",
       "      <th></th>\n",
       "      <th></th>\n",
       "      <th></th>\n",
       "      <th></th>\n",
       "      <th></th>\n",
       "      <th></th>\n",
       "      <th></th>\n",
       "      <th></th>\n",
       "      <th></th>\n",
       "      <th></th>\n",
       "      <th></th>\n",
       "      <th></th>\n",
       "      <th></th>\n",
       "    </tr>\n",
       "  </thead>\n",
       "  <tbody>\n",
       "    <tr>\n",
       "      <th>2016-01-01 00:00:00</th>\n",
       "      <td>14957.128079</td>\n",
       "      <td>6735.530074</td>\n",
       "      <td>4364.428099</td>\n",
       "      <td>4828.974531</td>\n",
       "      <td>2645.481897</td>\n",
       "      <td>10642.839410</td>\n",
       "      <td>7083.349376</td>\n",
       "      <td>3910.0</td>\n",
       "      <td>8183.390209</td>\n",
       "      <td>4765.827725</td>\n",
       "      <td>1948.453213</td>\n",
       "      <td>8256.774351</td>\n",
       "      <td>1162.209844</td>\n",
       "      <td>3167.700908</td>\n",
       "      <td>1766.755706</td>\n",
       "      <td>606.156577</td>\n",
       "    </tr>\n",
       "    <tr>\n",
       "      <th>2016-01-01 01:00:00</th>\n",
       "      <td>16112.732845</td>\n",
       "      <td>7123.501058</td>\n",
       "      <td>4546.560557</td>\n",
       "      <td>4924.150782</td>\n",
       "      <td>2703.793985</td>\n",
       "      <td>10919.081096</td>\n",
       "      <td>7241.729856</td>\n",
       "      <td>4220.0</td>\n",
       "      <td>9104.457279</td>\n",
       "      <td>5156.085756</td>\n",
       "      <td>2170.905416</td>\n",
       "      <td>8956.761692</td>\n",
       "      <td>1245.372883</td>\n",
       "      <td>3439.273356</td>\n",
       "      <td>1893.956134</td>\n",
       "      <td>677.637306</td>\n",
       "    </tr>\n",
       "    <tr>\n",
       "      <th>2016-01-01 02:00:00</th>\n",
       "      <td>17131.541620</td>\n",
       "      <td>7689.841058</td>\n",
       "      <td>4905.408069</td>\n",
       "      <td>5119.587485</td>\n",
       "      <td>2828.945516</td>\n",
       "      <td>11599.590200</td>\n",
       "      <td>7559.615842</td>\n",
       "      <td>4593.0</td>\n",
       "      <td>9650.763719</td>\n",
       "      <td>5242.995467</td>\n",
       "      <td>2238.006684</td>\n",
       "      <td>8905.708040</td>\n",
       "      <td>1245.918269</td>\n",
       "      <td>3549.860557</td>\n",
       "      <td>1900.987874</td>\n",
       "      <td>706.229597</td>\n",
       "    </tr>\n",
       "    <tr>\n",
       "      <th>2016-01-01 03:00:00</th>\n",
       "      <td>16985.565619</td>\n",
       "      <td>7625.473967</td>\n",
       "      <td>5225.498875</td>\n",
       "      <td>5780.330305</td>\n",
       "      <td>3158.400588</td>\n",
       "      <td>12671.614215</td>\n",
       "      <td>8492.584178</td>\n",
       "      <td>4607.0</td>\n",
       "      <td>9545.615971</td>\n",
       "      <td>4942.154159</td>\n",
       "      <td>2202.883843</td>\n",
       "      <td>8682.388739</td>\n",
       "      <td>1215.766185</td>\n",
       "      <td>3469.044140</td>\n",
       "      <td>1861.179030</td>\n",
       "      <td>685.500186</td>\n",
       "    </tr>\n",
       "    <tr>\n",
       "      <th>2016-01-01 04:00:00</th>\n",
       "      <td>16497.960842</td>\n",
       "      <td>7366.668030</td>\n",
       "      <td>5187.201557</td>\n",
       "      <td>5853.746174</td>\n",
       "      <td>3185.895596</td>\n",
       "      <td>12692.505772</td>\n",
       "      <td>8590.469548</td>\n",
       "      <td>4523.0</td>\n",
       "      <td>9381.517472</td>\n",
       "      <td>5127.672966</td>\n",
       "      <td>2176.426560</td>\n",
       "      <td>8470.042612</td>\n",
       "      <td>1218.969666</td>\n",
       "      <td>3432.361530</td>\n",
       "      <td>1816.505706</td>\n",
       "      <td>664.055967</td>\n",
       "    </tr>\n",
       "  </tbody>\n",
       "</table>\n",
       "</div>"
      ],
      "text/plain": [
       "                              201          202          203          204  \\\n",
       "UTC Time                                                                   \n",
       "2016-01-01 00:00:00  14957.128079  6735.530074  4364.428099  4828.974531   \n",
       "2016-01-01 01:00:00  16112.732845  7123.501058  4546.560557  4924.150782   \n",
       "2016-01-01 02:00:00  17131.541620  7689.841058  4905.408069  5119.587485   \n",
       "2016-01-01 03:00:00  16985.565619  7625.473967  5225.498875  5780.330305   \n",
       "2016-01-01 04:00:00  16497.960842  7366.668030  5187.201557  5853.746174   \n",
       "\n",
       "                             205           206          207     208  \\\n",
       "UTC Time                                                              \n",
       "2016-01-01 00:00:00  2645.481897  10642.839410  7083.349376  3910.0   \n",
       "2016-01-01 01:00:00  2703.793985  10919.081096  7241.729856  4220.0   \n",
       "2016-01-01 02:00:00  2828.945516  11599.590200  7559.615842  4593.0   \n",
       "2016-01-01 03:00:00  3158.400588  12671.614215  8492.584178  4607.0   \n",
       "2016-01-01 04:00:00  3185.895596  12692.505772  8590.469548  4523.0   \n",
       "\n",
       "                             209          210          211          212  \\\n",
       "UTC Time                                                                  \n",
       "2016-01-01 00:00:00  8183.390209  4765.827725  1948.453213  8256.774351   \n",
       "2016-01-01 01:00:00  9104.457279  5156.085756  2170.905416  8956.761692   \n",
       "2016-01-01 02:00:00  9650.763719  5242.995467  2238.006684  8905.708040   \n",
       "2016-01-01 03:00:00  9545.615971  4942.154159  2202.883843  8682.388739   \n",
       "2016-01-01 04:00:00  9381.517472  5127.672966  2176.426560  8470.042612   \n",
       "\n",
       "                             213          214          215         216  \n",
       "UTC Time                                                                \n",
       "2016-01-01 00:00:00  1162.209844  3167.700908  1766.755706  606.156577  \n",
       "2016-01-01 01:00:00  1245.372883  3439.273356  1893.956134  677.637306  \n",
       "2016-01-01 02:00:00  1245.918269  3549.860557  1900.987874  706.229597  \n",
       "2016-01-01 03:00:00  1215.766185  3469.044140  1861.179030  685.500186  \n",
       "2016-01-01 04:00:00  1218.969666  3432.361530  1816.505706  664.055967  "
      ]
     },
     "execution_count": 120,
     "metadata": {},
     "output_type": "execute_result"
    }
   ],
   "source": [
    "western_demand_v4.head()"
   ]
  },
  {
   "cell_type": "code",
   "execution_count": 495,
   "metadata": {},
   "outputs": [],
   "source": [
    "western_demand_v4.to_csv('western_demand_v4.csv')"
   ]
  },
  {
   "cell_type": "markdown",
   "metadata": {},
   "source": [
    "### Post sanity check"
   ]
  },
  {
   "cell_type": "code",
   "execution_count": 121,
   "metadata": {},
   "outputs": [
    {
     "name": "stdout",
     "output_type": "stream",
     "text": [
      "728952244.51\n",
      "728952244.51\n"
     ]
    }
   ],
   "source": [
    "#Total consumption of BAs\n",
    "ba_all = set()\n",
    "for bas in loadzone_ba.values():\n",
    "    for ba in bas:\n",
    "        ba_all.add(ba)\n",
    "total_ba = defaultdict(int)\n",
    "for ba in ba_all:\n",
    "    total_ba[ba] = ba_demand[ba].sum()\n",
    "print(sum(total_ba.values()))\n",
    "total_v4 = defaultdict(int)\n",
    "for i in range(201,217):\n",
    "    total_v4[western.id2zone[i]] = western_demand_v4[i].sum()\n",
    "print(sum(total_v4.values()))"
   ]
  },
  {
   "cell_type": "code",
   "execution_count": 38,
   "metadata": {},
   "outputs": [
    {
     "data": {
      "text/plain": [
       "189397069.77069607"
      ]
     },
     "execution_count": 38,
     "metadata": {},
     "output_type": "execute_result"
    }
   ],
   "source": [
    "# {201: 'Washington',\n",
    "#  202: 'Oregon',\n",
    "#  203: 'Northern California',\n",
    "#  204: 'Bay Area',\n",
    "#  205: 'Central California',\n",
    "#  206: 'Southwest California',\n",
    "#  207: 'Southeast California',\n",
    "#  208: 'Nevada',\n",
    "#  209: 'Arizona',\n",
    "#  210: 'Utah',\n",
    "#  211: 'New Mexico Western',\n",
    "#  212: 'Colorado',\n",
    "#  213: 'Wyoming',\n",
    "#  214: 'Idaho',\n",
    "#  215: 'Montana Western',\n",
    "#  216: 'El Paso'}"
   ]
  },
  {
   "cell_type": "code",
   "execution_count": 122,
   "metadata": {},
   "outputs": [
    {
     "data": {
      "text/plain": [
       "285711534.1884375"
      ]
     },
     "execution_count": 122,
     "metadata": {},
     "output_type": "execute_result"
    }
   ],
   "source": [
    "total_v4['Northern California'] + total_v4['Bay Area'] + total_v4['Central California'] + total_v4['Southwest California'] + total_v4['Southeast California']"
   ]
  },
  {
   "cell_type": "code",
   "execution_count": 123,
   "metadata": {},
   "outputs": [
    {
     "data": {
      "text/plain": [
       "285711534.1884376"
      ]
     },
     "execution_count": 123,
     "metadata": {},
     "output_type": "execute_result"
    }
   ],
   "source": [
    "total_ba['CISO'] + total_ba['PACW']*ba_loadzone_frac['PACW_CAnorth'] + total_ba['BPAT']*ba_loadzone_frac['BPAT_CAnorth'] + total_ba['IID'] + total_ba['LDWP'] + total_ba['BANC'] + total_ba['TIDC']"
   ]
  },
  {
   "cell_type": "code",
   "execution_count": 124,
   "metadata": {},
   "outputs": [
    {
     "data": {
      "text/plain": [
       "True"
      ]
     },
     "execution_count": 124,
     "metadata": {},
     "output_type": "execute_result"
    }
   ],
   "source": [
    "total_ba['NEVP'] == total_v4['Nevada']"
   ]
  },
  {
   "cell_type": "code",
   "execution_count": 125,
   "metadata": {},
   "outputs": [
    {
     "data": {
      "text/plain": [
       "84424587.9887119"
      ]
     },
     "execution_count": 125,
     "metadata": {},
     "output_type": "execute_result"
    }
   ],
   "source": [
    "total_v4['Arizona']"
   ]
  },
  {
   "cell_type": "code",
   "execution_count": 126,
   "metadata": {},
   "outputs": [
    {
     "data": {
      "text/plain": [
       "84424587.9887119"
      ]
     },
     "execution_count": 126,
     "metadata": {},
     "output_type": "execute_result"
    }
   ],
   "source": [
    "total_ba['WALC'] + total_ba['AZPS'] + total_ba['GRIF'] + total_ba['HGMA'] + total_ba['DEAA'] + total_ba['GRMA'] + total_ba['SRP'] + total_ba['TEPC'] + total_ba['PNM']*ba_loadzone_frac['PNM_AZ']"
   ]
  },
  {
   "cell_type": "code",
   "execution_count": 127,
   "metadata": {},
   "outputs": [
    {
     "data": {
      "text/plain": [
       "38965417.51097525"
      ]
     },
     "execution_count": 127,
     "metadata": {},
     "output_type": "execute_result"
    }
   ],
   "source": [
    "total_v4['Utah']"
   ]
  },
  {
   "cell_type": "code",
   "execution_count": 128,
   "metadata": {},
   "outputs": [
    {
     "data": {
      "text/plain": [
       "38965417.51097526"
      ]
     },
     "execution_count": 128,
     "metadata": {},
     "output_type": "execute_result"
    }
   ],
   "source": [
    "total_ba['PACE']*ba_loadzone_frac['PACE_UT']"
   ]
  },
  {
   "cell_type": "code",
   "execution_count": 129,
   "metadata": {},
   "outputs": [
    {
     "data": {
      "text/plain": [
       "16726355.62836313"
      ]
     },
     "execution_count": 129,
     "metadata": {},
     "output_type": "execute_result"
    }
   ],
   "source": [
    "total_v4['New Mexico Western']"
   ]
  },
  {
   "cell_type": "code",
   "execution_count": 130,
   "metadata": {},
   "outputs": [
    {
     "data": {
      "text/plain": [
       "16726355.62836313"
      ]
     },
     "execution_count": 130,
     "metadata": {},
     "output_type": "execute_result"
    }
   ],
   "source": [
    "total_ba['PNM']*ba_loadzone_frac['PNM_NM'] + total_ba['EPE']*ba_loadzone_frac['EPE_NM']"
   ]
  },
  {
   "cell_type": "code",
   "execution_count": 131,
   "metadata": {},
   "outputs": [
    {
     "data": {
      "text/plain": [
       "9117523.27300373"
      ]
     },
     "execution_count": 131,
     "metadata": {},
     "output_type": "execute_result"
    }
   ],
   "source": [
    "total_v4['Wyoming']"
   ]
  },
  {
   "cell_type": "code",
   "execution_count": 132,
   "metadata": {},
   "outputs": [
    {
     "data": {
      "text/plain": [
       "9117523.27300373"
      ]
     },
     "execution_count": 132,
     "metadata": {},
     "output_type": "execute_result"
    }
   ],
   "source": [
    "total_ba['PACE']*ba_loadzone_frac['PACE_WY'] + total_ba['WACM']*ba_loadzone_frac['WACM_WY']"
   ]
  },
  {
   "cell_type": "code",
   "execution_count": 133,
   "metadata": {},
   "outputs": [
    {
     "data": {
      "text/plain": [
       "24993464.152199246"
      ]
     },
     "execution_count": 133,
     "metadata": {},
     "output_type": "execute_result"
    }
   ],
   "source": [
    "total_v4['Idaho']"
   ]
  },
  {
   "cell_type": "code",
   "execution_count": 134,
   "metadata": {},
   "outputs": [
    {
     "data": {
      "text/plain": [
       "24993464.15219924"
      ]
     },
     "execution_count": 134,
     "metadata": {},
     "output_type": "execute_result"
    }
   ],
   "source": [
    "total_ba['PACE']*ba_loadzone_frac['PACE_ID'] + total_ba['IPCO']*ba_loadzone_frac['IPCO_ID'] + total_ba['BPAT']*ba_loadzone_frac['BPAT_ID'] + total_ba['AVA']*ba_loadzone_frac['AVA_ID']"
   ]
  },
  {
   "cell_type": "code",
   "execution_count": 135,
   "metadata": {},
   "outputs": [
    {
     "data": {
      "text/plain": [
       "13041690.646398002"
      ]
     },
     "execution_count": 135,
     "metadata": {},
     "output_type": "execute_result"
    }
   ],
   "source": [
    "total_v4['Montana Western']"
   ]
  },
  {
   "cell_type": "code",
   "execution_count": 136,
   "metadata": {},
   "outputs": [
    {
     "data": {
      "text/plain": [
       "13041690.646398002"
      ]
     },
     "execution_count": 136,
     "metadata": {},
     "output_type": "execute_result"
    }
   ],
   "source": [
    "total_ba['WWA'] + total_ba['BPAT']*ba_loadzone_frac['BPAT_MT'] + total_ba['GWA'] + total_ba['NWMT'] + total_ba['WAUW']"
   ]
  },
  {
   "cell_type": "code",
   "execution_count": 137,
   "metadata": {},
   "outputs": [
    {
     "data": {
      "text/plain": [
       "62168791.256887406"
      ]
     },
     "execution_count": 137,
     "metadata": {},
     "output_type": "execute_result"
    }
   ],
   "source": [
    "total_v4['Colorado']"
   ]
  },
  {
   "cell_type": "code",
   "execution_count": 138,
   "metadata": {},
   "outputs": [
    {
     "data": {
      "text/plain": [
       "62168791.256887406"
      ]
     },
     "execution_count": 138,
     "metadata": {},
     "output_type": "execute_result"
    }
   ],
   "source": [
    "total_ba['WACM']*ba_loadzone_frac['WACM_CO'] + total_ba['PSCO']"
   ]
  },
  {
   "cell_type": "code",
   "execution_count": 139,
   "metadata": {},
   "outputs": [
    {
     "data": {
      "text/plain": [
       "8397099.5"
      ]
     },
     "execution_count": 139,
     "metadata": {},
     "output_type": "execute_result"
    }
   ],
   "source": [
    "total_ba['EPE']"
   ]
  },
  {
   "cell_type": "code",
   "execution_count": 141,
   "metadata": {},
   "outputs": [
    {
     "data": {
      "text/plain": [
       "6002307.892924974"
      ]
     },
     "execution_count": 141,
     "metadata": {},
     "output_type": "execute_result"
    }
   ],
   "source": [
    "total_v4['El Paso']"
   ]
  },
  {
   "cell_type": "markdown",
   "metadata": {},
   "source": [
    "### Post adjustment based on external references"
   ]
  },
  {
   "cell_type": "markdown",
   "metadata": {},
   "source": [
    "#### Goal: \n",
    "##### Increase annual total demand in WY by 7,382,477, meanwhile, decrease annual total demand in CO by 7,368,791\n",
    "##### Increase annual total demand in ID by ?, meanwhile, decrease annual total demand in UT by 8,765,418\n",
    "##### Increase annual total demand in NM by 6,273,644, meanwhile, decrease annual total demand in El Paso by ? (not feasible! No change)\n",
    "\n",
    "#### Observation:\n",
    "##### PACE operates between ID, WY, UT\n",
    "##### WACM operates between WY, CO\n",
    "##### EPE operates between NM, El Paso "
   ]
  },
  {
   "cell_type": "code",
   "execution_count": 204,
   "metadata": {},
   "outputs": [],
   "source": [
    "ba_loadzone_frac_post_adjust = ba_loadzone_frac.copy()"
   ]
  },
  {
   "cell_type": "code",
   "execution_count": 205,
   "metadata": {},
   "outputs": [],
   "source": [
    "# ba_loadzone_frac['WACM_WY'] == 0.24776448949692959\n",
    "# ba_loadzone_frac['WACM_CO'] == 0.7522355105030705\n",
    "delta_WY_CO = 7.382*10**6/total_ba['WACM']\n",
    "# delta == 0.2913939123181348\n",
    "ba_loadzone_frac_post_adjust['WACM_WY'] += delta_WY_CO\n",
    "ba_loadzone_frac_post_adjust['WACM_CO'] -= delta_WY_CO"
   ]
  },
  {
   "cell_type": "code",
   "execution_count": 206,
   "metadata": {},
   "outputs": [],
   "source": [
    "# ba_loadzone_frac['PACE_ID'] == 0.10190918451405982\n",
    "# ba_loadzone_frac['PACE_UT'] == 0.8356703007903719\n",
    "delta_ID_UT = 8.765*10**6/total_ba['PACE']\n",
    "# delta == 0.1879782292686714\n",
    "ba_loadzone_frac_post_adjust['PACE_ID'] += delta_ID_UT\n",
    "ba_loadzone_frac_post_adjust['PACE_UT'] -= delta_ID_UT"
   ]
  },
  {
   "cell_type": "code",
   "execution_count": 207,
   "metadata": {},
   "outputs": [],
   "source": [
    "# ba_loadzone_frac['EPE_NM'] == 0.28519271530306717\n",
    "# ba_loadzone_frac['EPE_ElPaso'] == 0.7148072846969329\n",
    "delta_NM_ElPaso = 6.274*10**6/total_ba['EPE']\n",
    "# delta_NM_ElPaso == 0.7471627554252513 > ba_loadzone_frac['EPE_ElPaso'] infeasible to adjust!"
   ]
  },
  {
   "cell_type": "code",
   "execution_count": 208,
   "metadata": {},
   "outputs": [],
   "source": [
    "ba_demand_file = 'BA_fixed_demand_threshold_3.csv'\n",
    "ba_demand = pd.read_csv(dir_files + '/' + ba_demand_file, header = 0, parse_dates = True, index_col = 'UTC Time')\n",
    "ba_demand.fillna(0, inplace=True)\n",
    "\n",
    "western_demand_v4_adjust = pd.DataFrame(index = ba_demand.index.copy())\n",
    "for i in range(201,217):\n",
    "    western_demand_v4_adjust[i] = 0\n",
    "col = 200\n",
    "for lz,bas in loadzone_ba_rename_by_frac.items():\n",
    "    col += 1\n",
    "    for ba in bas:\n",
    "        if ba in ba_loadzone_frac_post_adjust:\n",
    "            ba_name = ba.split('_')[0]\n",
    "            fraction = ba_loadzone_frac_post_adjust[ba]\n",
    "            western_demand_v4_adjust[col] += ba_demand[ba_name]*fraction\n",
    "        else:\n",
    "            western_demand_v4_adjust[col] += ba_demand[ba]\n",
    "western_demand_v4_adjust.to_csv('western_demand_v4_adjust.csv')"
   ]
  },
  {
   "cell_type": "code",
   "execution_count": 209,
   "metadata": {},
   "outputs": [
    {
     "name": "stdout",
     "output_type": "stream",
     "text": [
      "728952244.51\n",
      "728952244.51\n"
     ]
    }
   ],
   "source": [
    "#Total consumption of BAs\n",
    "ba_all = set()\n",
    "for bas in loadzone_ba.values():\n",
    "    for ba in bas:\n",
    "        ba_all.add(ba)\n",
    "total_ba = defaultdict(int)\n",
    "for ba in ba_all:\n",
    "    total_ba[ba] = ba_demand[ba].sum()\n",
    "print(sum(total_ba.values()))\n",
    "total_v4 = defaultdict(int)\n",
    "for i in range(201,217):\n",
    "    total_v4[western.id2zone[i]] = western_demand_v4_adjust[i].sum()\n",
    "print(sum(total_v4.values()))"
   ]
  },
  {
   "cell_type": "code",
   "execution_count": 210,
   "metadata": {},
   "outputs": [
    {
     "data": {
      "text/plain": [
       "285711534.1884375"
      ]
     },
     "execution_count": 210,
     "metadata": {},
     "output_type": "execute_result"
    }
   ],
   "source": [
    "total_v4['Northern California'] + total_v4['Bay Area'] + total_v4['Central California'] + total_v4['Southwest California'] + total_v4['Southeast California']"
   ]
  },
  {
   "cell_type": "code",
   "execution_count": 211,
   "metadata": {},
   "outputs": [
    {
     "data": {
      "text/plain": [
       "54786791.256887406"
      ]
     },
     "execution_count": 211,
     "metadata": {},
     "output_type": "execute_result"
    }
   ],
   "source": [
    "total_ba['WACM']*ba_loadzone_frac_post_adjust['WACM_CO'] + total_ba['PSCO']"
   ]
  },
  {
   "cell_type": "code",
   "execution_count": 212,
   "metadata": {},
   "outputs": [
    {
     "data": {
      "text/plain": [
       "16499523.27300373"
      ]
     },
     "execution_count": 212,
     "metadata": {},
     "output_type": "execute_result"
    }
   ],
   "source": [
    "total_ba['PACE']*ba_loadzone_frac_post_adjust['PACE_WY'] + total_ba['WACM']*ba_loadzone_frac_post_adjust['WACM_WY']"
   ]
  },
  {
   "cell_type": "code",
   "execution_count": 213,
   "metadata": {},
   "outputs": [
    {
     "data": {
      "text/plain": [
       "198162069.77069607"
      ]
     },
     "execution_count": 213,
     "metadata": {},
     "output_type": "execute_result"
    }
   ],
   "source": [
    "total_v4['Washington'] + total_v4['Oregon'] + total_v4['Idaho'] + total_v4['Montana Western']"
   ]
  },
  {
   "cell_type": "code",
   "execution_count": null,
   "metadata": {},
   "outputs": [],
   "source": []
  }
 ],
 "metadata": {
  "kernelspec": {
   "display_name": "Python 3",
   "language": "python",
   "name": "python3"
  },
  "language_info": {
   "codemirror_mode": {
    "name": "ipython",
    "version": 3
   },
   "file_extension": ".py",
   "mimetype": "text/x-python",
   "name": "python",
   "nbconvert_exporter": "python",
   "pygments_lexer": "ipython3",
   "version": "3.7.3"
  }
 },
 "nbformat": 4,
 "nbformat_minor": 2
}
