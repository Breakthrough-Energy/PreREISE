{
 "cells": [
  {
   "cell_type": "code",
   "execution_count": 1,
   "metadata": {},
   "outputs": [],
   "source": [
    "import pandas as pd\n",
    "\n",
    "from prereise.gather.demanddata.nrel_efs.aggregate_demand import (\n",
    "    access_non_efs_demand,\n",
    "    combine_efs_demand,\n",
    ")\n",
    "from prereise.gather.demanddata.nrel_efs.get_efs_data import (\n",
    "    download_demand_data,\n",
    "    partition_demand_by_sector,\n",
    ")\n",
    "from prereise.gather.demanddata.nrel_efs.map_states import (\n",
    "    decompose_demand_profile_by_state_to_loadzone,\n",
    ")"
   ]
  },
  {
   "cell_type": "markdown",
   "metadata": {},
   "source": [
    "## Notebook Overview"
   ]
  },
  {
   "cell_type": "markdown",
   "metadata": {},
   "source": [
    "In this notebook, the functionality of the various modules used for obtaining and cleaning the National Renewable Energy Laboratory's (NREL's) Electrification Futures Study (EFS) demand data is displayed. An example is developed using the **Reference** electrification scenario and **Slow** technology advancement for the year **2030**. \n",
    "\n",
    "The NREL EFS demand data can be obtained from this [this website](https://data.nrel.gov/submissions/126), with the specific dataset required for the described example directly available [here](https://data.nrel.gov/system/files/126/EFSLoadProfile_Reference_Slow.zip). These datasets are generously provided by NREL, which is operated for the U.S. Department of Energy by the Alliance for Sustainable Energy, LLC. Before using these datasets, please read [this disclaimer](https://www.nrel.gov/disclaimer.html) first."
   ]
  },
  {
   "cell_type": "markdown",
   "metadata": {},
   "source": [
    "## Downloading and Extracting EFS Demand Data"
   ]
  },
  {
   "cell_type": "markdown",
   "metadata": {},
   "source": [
    "NREL EFS demand data is accessed from the website referenced in the prior section. The website contains a .zip file for each pair of three electrification scenarios (Reference, Medium, and High) and three technology advancements (Slow, Moderate, and Rapid). Each .zip file contains a .csv file containing the sectoral demand data for each state in the contiguous U.S. and each of the six tested years (2018, 2020, 2024, 2030, 2040, and 2050). The `download_demand_data` function downloads the .zip file of NREL EFS data and attempts to extract the .csv file. `download_demand_data` can download NREL EFS data for one electrification scenario-technology advancement pair:"
   ]
  },
  {
   "cell_type": "code",
   "execution_count": 2,
   "metadata": {},
   "outputs": [
    {
     "name": "stdout",
     "output_type": "stream",
     "text": [
      "EFSLoadProfile_Reference_Slow.zip successfully downloaded!\n",
      "EFSLoadProfile_Reference_Slow.zip is compressed using a method that is not supported by the zipfile module.\n",
      "Trying other extraction methods supported by your OS.\n",
      "EFSLoadProfile_Reference_Slow.csv successfully extracted!\n"
     ]
    }
   ],
   "source": [
    "download_demand_data(es={\"Reference\"}, ta={\"Slow\"}, fpath=\"\")"
   ]
  },
  {
   "cell_type": "markdown",
   "metadata": {},
   "source": [
    "`download_demand_data` can download multiple electrification scenario-technology advancement pairs:"
   ]
  },
  {
   "cell_type": "code",
   "execution_count": 3,
   "metadata": {},
   "outputs": [
    {
     "name": "stdout",
     "output_type": "stream",
     "text": [
      "EFSLoadProfile_High_Moderate.zip successfully downloaded!\n",
      "EFSLoadProfile_High_Rapid.zip successfully downloaded!\n",
      "EFSLoadProfile_High_Moderate.zip is compressed using a method that is not supported by the zipfile module.\n",
      "Trying other extraction methods supported by your OS.\n",
      "EFSLoadProfile_High_Moderate.csv successfully extracted!\n",
      "EFSLoadProfile_High_Rapid.csv successfully extracted!\n"
     ]
    }
   ],
   "source": [
    "download_demand_data(es={\"High\"}, ta={\"Moderate\", \"Rapid\"}, fpath=\"\")"
   ]
  },
  {
   "cell_type": "markdown",
   "metadata": {},
   "source": [
    "`download_demand_data` can also download all of the electrification scenario-technology advancement pairs:"
   ]
  },
  {
   "cell_type": "code",
   "execution_count": 4,
   "metadata": {
    "scrolled": true
   },
   "outputs": [
    {
     "name": "stdout",
     "output_type": "stream",
     "text": [
      "EFSLoadProfile_Reference_Moderate.zip successfully downloaded!\n",
      "EFSLoadProfile_Reference_Slow.zip successfully downloaded!\n",
      "EFSLoadProfile_Reference_Rapid.zip successfully downloaded!\n",
      "EFSLoadProfile_Medium_Moderate.zip successfully downloaded!\n",
      "EFSLoadProfile_Medium_Slow.zip successfully downloaded!\n",
      "EFSLoadProfile_Medium_Rapid.zip successfully downloaded!\n",
      "EFSLoadProfile_High_Moderate.zip successfully downloaded!\n",
      "EFSLoadProfile_High_Slow.zip successfully downloaded!\n",
      "EFSLoadProfile_High_Rapid.zip successfully downloaded!\n",
      "EFSLoadProfile_Reference_Moderate.zip is compressed using a method that is not supported by the zipfile module.\n",
      "Trying other extraction methods supported by your OS.\n",
      "EFSLoadProfile_Reference_Moderate.csv successfully extracted!\n",
      "EFSLoadProfile_Reference_Slow.csv successfully extracted!\n",
      "EFSLoadProfile_Reference_Rapid.csv successfully extracted!\n",
      "EFSLoadProfile_Medium_Moderate.csv successfully extracted!\n",
      "EFSLoadProfile_Medium_Slow.csv successfully extracted!\n",
      "EFSLoadProfile_Medium_Rapid.csv successfully extracted!\n",
      "EFSLoadProfile_High_Moderate.csv successfully extracted!\n",
      "EFSLoadProfile_High_Slow.csv successfully extracted!\n",
      "EFSLoadProfile_High_Rapid.csv successfully extracted!\n"
     ]
    }
   ],
   "source": [
    "download_demand_data(es={\"All\"}, ta={\"All\"}, fpath=\"\")"
   ]
  },
  {
   "cell_type": "markdown",
   "metadata": {},
   "source": [
    "The .zip files were created with a compression format (Deflate64) that is not supported by Python's `zipfile` module. Therefore, to perform automated extraction of the .csv files, Command Line- or Terminal-level tools must be used. For users running macOS or Linux, the Terminal can extract the .csv file. Unfortunately for Windows users, the Command Line extraction tools do not support Deflate64. [7-Zip](https://www.7-zip.org/), the popular file archiver tool, can extract the .csv file; by specifying the file path of 7-Zip when calling `download_demand_data`, Windows users can also use the automated .csv file extraction. If the automated extraction techniques do not work (e.g., a Windows user does not have 7-Zip), the .zip file is still downloaded and can be extracted manually (e.g., using the extraction tool built into Windows' File Explorer)."
   ]
  },
  {
   "cell_type": "markdown",
   "metadata": {},
   "source": [
    "## Splitting the EFS Demand Data by Sector and Year"
   ]
  },
  {
   "cell_type": "markdown",
   "metadata": {},
   "source": [
    "The EFS demand data for a given electrification scenario and technology advancement is provided for each sector and each year. Although the sectoral demand is eventually aggregated for a given year (see next subsection), splitting the demand by sector can be useful, especially for users that may only want to use a subset of the EFS sectoral demand (perhaps to pair with their own sectoral demand data). The `partition_demand_by_sector` function filters EFS demand data for a specified year and combines the subsector-level data for each state and sector for each time step. `partition_demand_by_sector` can either access the extracted .csv file or can call `download_demand_data` to obtain the demand data; the extracted .csv file is searched for according to the provided electrification scenario (`es`) and technology advancement (`ta`) in the file path (`fpath`) provided by the user:"
   ]
  },
  {
   "cell_type": "code",
   "execution_count": 5,
   "metadata": {
    "scrolled": true
   },
   "outputs": [
    {
     "name": "stdout",
     "output_type": "stream",
     "text": [
      "EFSLoadProfile_Reference_Slow.zip successfully downloaded!\n",
      "EFSLoadProfile_Reference_Slow.zip is compressed using a method that is not supported by the zipfile module.\n",
      "Trying other extraction methods supported by your OS.\n",
      "EFSLoadProfile_Reference_Slow.csv successfully extracted!\n",
      "dict_keys(['Residential', 'Transportation', 'Industrial', 'Commercial'])\n",
      "State                        AL         AR          AZ          CA  \\\n",
      "Local Time                                                           \n",
      "2016-01-01 00:00:00   68.515074  38.191552  106.211180  309.266106   \n",
      "2016-01-01 01:00:00   48.852300  21.686345   91.234131  179.870388   \n",
      "2016-01-01 02:00:00   42.393089  19.647210   58.291866  159.485859   \n",
      "2016-01-01 03:00:00   30.835974  16.668032   52.315227  131.571452   \n",
      "2016-01-01 04:00:00   29.053236  11.469377   42.387554   95.092870   \n",
      "...                         ...        ...         ...         ...   \n",
      "2016-12-31 19:00:00  199.699625  94.357827  344.344738  740.103762   \n",
      "2016-12-31 20:00:00  156.451774  75.201358  216.499914  593.801336   \n",
      "2016-12-31 21:00:00  115.416611  59.571581  173.722108  467.562993   \n",
      "2016-12-31 22:00:00   84.985737  41.726488  134.601792  334.417572   \n",
      "2016-12-31 23:00:00   59.924604  31.632132   98.590822  252.884533   \n",
      "\n",
      "State                        CO         CT         DE          FL          GA  \\\n",
      "Local Time                                                                      \n",
      "2016-01-01 00:00:00   64.591541  34.841387   7.167437  237.562163  137.870368   \n",
      "2016-01-01 01:00:00   37.002453  19.733323   4.318675  174.577978   98.968238   \n",
      "2016-01-01 02:00:00   34.771112  17.625784   4.005874  135.363808   73.138370   \n",
      "2016-01-01 03:00:00   29.880691  14.869500   3.581379  121.118423   64.846708   \n",
      "2016-01-01 04:00:00   20.879635  10.346640   2.665189   95.140472   48.535940   \n",
      "...                         ...        ...        ...         ...         ...   \n",
      "2016-12-31 19:00:00  164.837751  84.065606  15.837788  728.854791  426.345768   \n",
      "2016-12-31 20:00:00  131.593550  68.147338  12.724118  491.309121  285.748868   \n",
      "2016-12-31 21:00:00  103.231829  54.525840   9.972051  379.729224  221.275461   \n",
      "2016-12-31 22:00:00   71.905069  39.097510   6.988085  275.472907  160.614089   \n",
      "2016-12-31 23:00:00   54.544046  29.582803   5.393325  201.562893  118.361166   \n",
      "\n",
      "State                       IA  ...         SD          TN          TX  \\\n",
      "Local Time                      ...                                      \n",
      "2016-01-01 00:00:00  36.098096  ...   7.625511   69.643997  275.470892   \n",
      "2016-01-01 01:00:00  21.038409  ...   5.152979   50.609252  174.940224   \n",
      "2016-01-01 02:00:00  19.613691  ...   4.553330   43.891569  147.221107   \n",
      "2016-01-01 03:00:00  17.374814  ...   3.978250   32.477421  126.763060   \n",
      "2016-01-01 04:00:00  12.547016  ...   3.255565   31.201350   92.746750   \n",
      "...                        ...  ...        ...         ...         ...   \n",
      "2016-12-31 19:00:00  92.415077  ...  25.511327  189.842705  725.130954   \n",
      "2016-12-31 20:00:00  73.679274  ...  19.340804  148.777595  552.667776   \n",
      "2016-12-31 21:00:00  58.296440  ...  15.419758  109.177877  441.475739   \n",
      "2016-12-31 22:00:00  41.369550  ...  11.049012   80.396502  315.681020   \n",
      "2016-12-31 23:00:00  32.295829  ...   8.310470   55.760406  235.530486   \n",
      "\n",
      "State                        UT          VA         VT          WA  \\\n",
      "Local Time                                                           \n",
      "2016-01-01 00:00:00   28.318120   95.313931   7.009617  120.618192   \n",
      "2016-01-01 01:00:00   24.319846   53.360269   3.920463   69.784854   \n",
      "2016-01-01 02:00:00   15.670360   48.724669   3.519497   63.695655   \n",
      "2016-01-01 03:00:00   14.185871   41.672037   2.898320   55.358226   \n",
      "2016-01-01 04:00:00   11.849542   28.568057   2.002367   40.433077   \n",
      "...                         ...         ...        ...         ...   \n",
      "2016-12-31 19:00:00  104.877752  228.140796  16.475580  295.219105   \n",
      "2016-12-31 20:00:00   65.664627  182.277514  13.243959  233.476038   \n",
      "2016-12-31 21:00:00   52.167783  141.854612  10.540713  183.077074   \n",
      "2016-12-31 22:00:00   39.372252   97.886177   7.568028  128.787700   \n",
      "2016-12-31 23:00:00   28.028628   73.388069   5.744711   97.971065   \n",
      "\n",
      "State                        WI         WV         WY  \n",
      "Local Time                                             \n",
      "2016-01-01 00:00:00   55.496239  27.573758  22.886834  \n",
      "2016-01-01 01:00:00   31.382852  16.034639  12.549555  \n",
      "2016-01-01 02:00:00   28.938469  14.958950  12.087202  \n",
      "2016-01-01 03:00:00   25.304366  13.014382  10.203279  \n",
      "2016-01-01 04:00:00   18.057400   9.394321   6.428896  \n",
      "...                         ...        ...        ...  \n",
      "2016-12-31 19:00:00  131.196999  57.911253  51.061167  \n",
      "2016-12-31 20:00:00  103.676601  46.267003  40.777306  \n",
      "2016-12-31 21:00:00   80.326837  36.512177  32.253875  \n",
      "2016-12-31 22:00:00   55.956801  25.762323  22.814318  \n",
      "2016-12-31 23:00:00   43.160970  19.807267  17.372180  \n",
      "\n",
      "[8784 rows x 48 columns]\n"
     ]
    }
   ],
   "source": [
    "sect_dem = partition_demand_by_sector(es=\"Reference\", ta=\"Slow\", year=2030, fpath=\"\")\n",
    "\n",
    "print(sect_dem.keys())\n",
    "print(sect_dem[\"Transportation\"])"
   ]
  },
  {
   "cell_type": "markdown",
   "metadata": {},
   "source": [
    "`partition_demand_by_sector` can also retain only a subset of sectoral demand data, if desired:"
   ]
  },
  {
   "cell_type": "code",
   "execution_count": 6,
   "metadata": {},
   "outputs": [
    {
     "name": "stdout",
     "output_type": "stream",
     "text": [
      "EFSLoadProfile_Reference_Slow.zip successfully downloaded!\n",
      "EFSLoadProfile_Reference_Slow.zip is compressed using a method that is not supported by the zipfile module.\n",
      "Trying other extraction methods supported by your OS.\n",
      "EFSLoadProfile_Reference_Slow.csv successfully extracted!\n",
      "dict_keys(['Commercial', 'Industrial'])\n"
     ]
    }
   ],
   "source": [
    "sect_dem = partition_demand_by_sector(\n",
    "    es=\"Reference\", \n",
    "    ta=\"Slow\", \n",
    "    year=2030, \n",
    "    sect={\"Commercial\", \"Industrial\"}, \n",
    "    fpath=\"\",\n",
    ")\n",
    "\n",
    "print(sect_dem.keys())"
   ]
  },
  {
   "cell_type": "markdown",
   "metadata": {},
   "source": [
    "Note that `partition_demand_by_sector` calls the `account_for_leap_year` function to create an extra day's worth of data (the EFS data sets have 8760-hour profiles whereas Breakthrough Energy uses 8784-hour profiles). To account for the extra day, demand data from January 2nd is copied and added to the end of the data set to create demand for December 31st; January 2nd is chosen since it occurs on the same day of the week as December 31st (in a leap year), so as to preserve any weekly trends that may be present.\n",
    "\n",
    "`partition_demand_by_sector` has the ability to save the resulting sectoral demand DataFrames, though it is not enabled by default. To save the DataFrames, set `save=True` when calling `partition_demand_by_sector`."
   ]
  },
  {
   "cell_type": "markdown",
   "metadata": {},
   "source": [
    "## Aggregating the Sectoral Demand Data"
   ]
  },
  {
   "cell_type": "markdown",
   "metadata": {},
   "source": [
    "For use in the Breakthrough Energy production cost model, all sectoral demand must be aggregated within each location for each hour (i.e., only one demand data point per location per hour). The `combine_efs_demand` function allows sectoral demand data, both from NREL's EFS and studies not related to the EFS, to be aggregated together. `combine_efs_demand` is intended to receive input from `partition_demand_by_sector` for EFS-related sectoral demand and from `access_non_efs_demand` for non-EFS-related demand; the `access_non_efs_demand` loads sectoral demand that is not associated with the EFS and ensures that formatting is adequate for aggregation with EFS sectoral demand. The following is an example of aggregating only the EFS sectoral demand:"
   ]
  },
  {
   "cell_type": "code",
   "execution_count": 7,
   "metadata": {
    "scrolled": true
   },
   "outputs": [
    {
     "name": "stdout",
     "output_type": "stream",
     "text": [
      "EFSLoadProfile_Reference_Slow.zip successfully downloaded!\n",
      "EFSLoadProfile_Reference_Slow.zip is compressed using a method that is not supported by the zipfile module.\n",
      "Trying other extraction methods supported by your OS.\n",
      "EFSLoadProfile_Reference_Slow.csv successfully extracted!\n",
      "                               AL           AR           AZ            CA  \\\n",
      "Local Time                                                                  \n",
      "2016-01-01 00:00:00   8583.711287  4282.634701  8240.605207  26266.669236   \n",
      "2016-01-01 01:00:00   8334.751328  4200.161507  8243.912717  25045.559218   \n",
      "2016-01-01 02:00:00   8183.017211  4118.017085  8134.597876  24145.344159   \n",
      "2016-01-01 03:00:00   8154.666506  4063.997126  8120.779652  23543.010852   \n",
      "2016-01-01 04:00:00   8180.342767  4079.421848  8173.049191  23356.243470   \n",
      "...                           ...          ...          ...           ...   \n",
      "2016-12-31 19:00:00  13728.710656  6534.027144  9876.054819  34362.623982   \n",
      "2016-12-31 20:00:00  13447.000471  6502.099430  9689.567561  33329.108246   \n",
      "2016-12-31 21:00:00  13037.381074  6383.325832  9360.306380  31586.947453   \n",
      "2016-12-31 22:00:00  12707.648870  6129.035310  8816.143072  29109.872042   \n",
      "2016-12-31 23:00:00  12609.265897  5904.973886  8227.586934  26549.175213   \n",
      "\n",
      "                              CO           CT           DE            FL  \\\n",
      "Local Time                                                                 \n",
      "2016-01-01 00:00:00  7119.350310  2847.267827  1076.221866  18661.076242   \n",
      "2016-01-01 01:00:00  6976.334255  2675.002153  1054.031593  17644.725144   \n",
      "2016-01-01 02:00:00  7080.888594  2523.381101  1039.277384  17127.355512   \n",
      "2016-01-01 03:00:00  7021.023154  2414.934347  1060.860831  16943.819944   \n",
      "2016-01-01 04:00:00  7007.705861  2357.739547  1072.831639  17197.437117   \n",
      "...                          ...          ...          ...           ...   \n",
      "2016-12-31 19:00:00  8306.779154  3969.251162  1612.328364  28949.722969   \n",
      "2016-12-31 20:00:00  8153.330264  3879.650499  1585.540746  27489.642488   \n",
      "2016-12-31 21:00:00  7838.867990  3726.273417  1520.087110  25578.757093   \n",
      "2016-12-31 22:00:00  7333.928821  3484.569242  1412.365329  23596.596310   \n",
      "2016-12-31 23:00:00  6882.815416  3168.908159  1330.673137  22364.037472   \n",
      "\n",
      "                               GA           IA  ...           SD  \\\n",
      "Local Time                                      ...                \n",
      "2016-01-01 00:00:00  14027.485554  4376.477962  ...   953.968102   \n",
      "2016-01-01 01:00:00  13822.691049  4301.726125  ...   956.967088   \n",
      "2016-01-01 02:00:00  13782.605461  4240.532339  ...   977.291928   \n",
      "2016-01-01 03:00:00  13811.930256  4236.631037  ...  1005.567616   \n",
      "2016-01-01 04:00:00  14012.581970  4278.047121  ...  1034.939837   \n",
      "...                           ...          ...  ...          ...   \n",
      "2016-12-31 19:00:00  21474.850660  6692.379277  ...  1492.200354   \n",
      "2016-12-31 20:00:00  21062.174176  6556.882094  ...  1461.389031   \n",
      "2016-12-31 21:00:00  20342.021631  6369.814840  ...  1443.096170   \n",
      "2016-12-31 22:00:00  19538.269348  6042.247691  ...  1357.017280   \n",
      "2016-12-31 23:00:00  19077.658838  5783.952853  ...  1292.186724   \n",
      "\n",
      "                               TN            TX           UT            VA  \\\n",
      "Local Time                                                                   \n",
      "2016-01-01 00:00:00  10485.200666  36832.236467  3626.958436  11991.845935   \n",
      "2016-01-01 01:00:00  10282.222132  36200.458052  3563.241162  11893.964962   \n",
      "2016-01-01 02:00:00  10090.199090  35481.922897  3484.178979  11800.532153   \n",
      "2016-01-01 03:00:00  10033.827598  35071.493523  3448.493922  11912.504253   \n",
      "2016-01-01 04:00:00  10125.546276  35123.528161  3428.171866  12115.463071   \n",
      "...                           ...           ...          ...           ...   \n",
      "2016-12-31 19:00:00  16706.864847  51909.637209  4341.224473  17357.949754   \n",
      "2016-12-31 20:00:00  16302.448843  52133.455466  4302.301083  17169.627799   \n",
      "2016-12-31 21:00:00  15835.316817  51388.974637  4185.366059  16708.613331   \n",
      "2016-12-31 22:00:00  15435.660870  49218.524919  3954.653517  15905.870404   \n",
      "2016-12-31 23:00:00  15226.698875  46963.329696  3691.257835  15135.816106   \n",
      "\n",
      "                             VT            WA           WI           WV  \\\n",
      "Local Time                                                                \n",
      "2016-01-01 00:00:00  541.100212  12359.056658  6264.506987  3291.583740   \n",
      "2016-01-01 01:00:00  508.456211  12017.145664  6031.574600  3236.838754   \n",
      "2016-01-01 02:00:00  481.663779  11765.868115  5878.380280  3197.558494   \n",
      "2016-01-01 03:00:00  450.201367  11663.289576  5803.669922  3186.201756   \n",
      "2016-01-01 04:00:00  440.973603  11771.852487  5826.387845  3219.436361   \n",
      "...                         ...           ...          ...          ...   \n",
      "2016-12-31 19:00:00  761.376864  15464.036315  8936.973839  4857.316862   \n",
      "2016-12-31 20:00:00  739.515020  14814.832098  8683.171101  4787.686527   \n",
      "2016-12-31 21:00:00  714.631430  13961.381724  8240.062787  4693.548741   \n",
      "2016-12-31 22:00:00  677.710546  12863.311610  7733.228755  4518.695998   \n",
      "2016-12-31 23:00:00  622.852862  11825.710105  7354.145025  4337.795042   \n",
      "\n",
      "                              WY  \n",
      "Local Time                        \n",
      "2016-01-01 00:00:00  2424.192877  \n",
      "2016-01-01 01:00:00  2447.843884  \n",
      "2016-01-01 02:00:00  2534.735924  \n",
      "2016-01-01 03:00:00  2510.116114  \n",
      "2016-01-01 04:00:00  2489.465445  \n",
      "...                          ...  \n",
      "2016-12-31 19:00:00  2733.190504  \n",
      "2016-12-31 20:00:00  2711.264308  \n",
      "2016-12-31 21:00:00  2658.535281  \n",
      "2016-12-31 22:00:00  2568.744025  \n",
      "2016-12-31 23:00:00  2454.801991  \n",
      "\n",
      "[8784 rows x 48 columns]\n"
     ]
    }
   ],
   "source": [
    "sect_dem = partition_demand_by_sector(es=\"Reference\", ta=\"Slow\", year=2030, fpath=\"\")\n",
    "agg_dem = combine_efs_demand(efs_dem=sect_dem)\n",
    "\n",
    "print(agg_dem)"
   ]
  },
  {
   "cell_type": "markdown",
   "metadata": {},
   "source": [
    "As described above, `combine_efs_demand` can also aggregate sectoral demand that is not related to the EFS. The following example shows how `access_non_efs_demand` is integrated with `combine_efs_demand` for this purpose. In this example, some EFS sectoral demand data is saved for the purpose of acting like non-EFS sectoral demand. It should be noted that the most efficient method for aggregating all EFS sectoral demand is still the method presented in the above example. Additionally, if non-EFS sectoral demand data is to be included, it must adhere to the same formatting guidelines: 8784 hours by 48 states."
   ]
  },
  {
   "cell_type": "code",
   "execution_count": 8,
   "metadata": {
    "scrolled": true
   },
   "outputs": [
    {
     "name": "stdout",
     "output_type": "stream",
     "text": [
      "EFSLoadProfile_Reference_Slow.zip successfully downloaded!\n",
      "EFSLoadProfile_Reference_Slow.zip is compressed using a method that is not supported by the zipfile module.\n",
      "Trying other extraction methods supported by your OS.\n",
      "EFSLoadProfile_Reference_Slow.csv successfully extracted!\n",
      "                               AL           AR           AZ            CA  \\\n",
      "Local Time                                                                  \n",
      "2016-01-01 00:00:00   8583.711287  4282.634701  8240.605207  26266.669236   \n",
      "2016-01-01 01:00:00   8334.751328  4200.161507  8243.912717  25045.559218   \n",
      "2016-01-01 02:00:00   8183.017211  4118.017085  8134.597876  24145.344159   \n",
      "2016-01-01 03:00:00   8154.666506  4063.997126  8120.779652  23543.010852   \n",
      "2016-01-01 04:00:00   8180.342767  4079.421848  8173.049191  23356.243470   \n",
      "...                           ...          ...          ...           ...   \n",
      "2016-12-31 19:00:00  13728.710656  6534.027144  9876.054819  34362.623982   \n",
      "2016-12-31 20:00:00  13447.000471  6502.099430  9689.567561  33329.108246   \n",
      "2016-12-31 21:00:00  13037.381074  6383.325832  9360.306380  31586.947453   \n",
      "2016-12-31 22:00:00  12707.648870  6129.035310  8816.143072  29109.872042   \n",
      "2016-12-31 23:00:00  12609.265897  5904.973886  8227.586934  26549.175213   \n",
      "\n",
      "                              CO           CT           DE            FL  \\\n",
      "Local Time                                                                 \n",
      "2016-01-01 00:00:00  7119.350310  2847.267827  1076.221866  18661.076242   \n",
      "2016-01-01 01:00:00  6976.334255  2675.002153  1054.031593  17644.725144   \n",
      "2016-01-01 02:00:00  7080.888594  2523.381101  1039.277384  17127.355512   \n",
      "2016-01-01 03:00:00  7021.023154  2414.934347  1060.860831  16943.819944   \n",
      "2016-01-01 04:00:00  7007.705861  2357.739548  1072.831639  17197.437117   \n",
      "...                          ...          ...          ...           ...   \n",
      "2016-12-31 19:00:00  8306.779154  3969.251162  1612.328364  28949.722969   \n",
      "2016-12-31 20:00:00  8153.330264  3879.650499  1585.540746  27489.642488   \n",
      "2016-12-31 21:00:00  7838.867990  3726.273417  1520.087110  25578.757093   \n",
      "2016-12-31 22:00:00  7333.928821  3484.569242  1412.365329  23596.596310   \n",
      "2016-12-31 23:00:00  6882.815416  3168.908159  1330.673137  22364.037472   \n",
      "\n",
      "                               GA           IA  ...           SD  \\\n",
      "Local Time                                      ...                \n",
      "2016-01-01 00:00:00  14027.485554  4376.477962  ...   953.968102   \n",
      "2016-01-01 01:00:00  13822.691049  4301.726125  ...   956.967088   \n",
      "2016-01-01 02:00:00  13782.605461  4240.532339  ...   977.291928   \n",
      "2016-01-01 03:00:00  13811.930256  4236.631037  ...  1005.567616   \n",
      "2016-01-01 04:00:00  14012.581970  4278.047121  ...  1034.939837   \n",
      "...                           ...          ...  ...          ...   \n",
      "2016-12-31 19:00:00  21474.850660  6692.379277  ...  1492.200354   \n",
      "2016-12-31 20:00:00  21062.174176  6556.882094  ...  1461.389031   \n",
      "2016-12-31 21:00:00  20342.021631  6369.814840  ...  1443.096170   \n",
      "2016-12-31 22:00:00  19538.269348  6042.247691  ...  1357.017280   \n",
      "2016-12-31 23:00:00  19077.658838  5783.952853  ...  1292.186724   \n",
      "\n",
      "                               TN            TX           UT            VA  \\\n",
      "Local Time                                                                   \n",
      "2016-01-01 00:00:00  10485.200666  36832.236467  3626.958436  11991.845935   \n",
      "2016-01-01 01:00:00  10282.222132  36200.458052  3563.241162  11893.964962   \n",
      "2016-01-01 02:00:00  10090.199090  35481.922897  3484.178979  11800.532153   \n",
      "2016-01-01 03:00:00  10033.827598  35071.493523  3448.493922  11912.504253   \n",
      "2016-01-01 04:00:00  10125.546276  35123.528161  3428.171866  12115.463071   \n",
      "...                           ...           ...          ...           ...   \n",
      "2016-12-31 19:00:00  16706.864847  51909.637209  4341.224473  17357.949754   \n",
      "2016-12-31 20:00:00  16302.448843  52133.455466  4302.301083  17169.627799   \n",
      "2016-12-31 21:00:00  15835.316817  51388.974637  4185.366059  16708.613331   \n",
      "2016-12-31 22:00:00  15435.660870  49218.524919  3954.653517  15905.870404   \n",
      "2016-12-31 23:00:00  15226.698875  46963.329696  3691.257835  15135.816106   \n",
      "\n",
      "                             VT            WA           WI           WV  \\\n",
      "Local Time                                                                \n",
      "2016-01-01 00:00:00  541.100212  12359.056658  6264.506987  3291.583740   \n",
      "2016-01-01 01:00:00  508.456211  12017.145664  6031.574600  3236.838754   \n",
      "2016-01-01 02:00:00  481.663779  11765.868115  5878.380280  3197.558494   \n",
      "2016-01-01 03:00:00  450.201367  11663.289576  5803.669922  3186.201756   \n",
      "2016-01-01 04:00:00  440.973603  11771.852487  5826.387845  3219.436361   \n",
      "...                         ...           ...          ...          ...   \n",
      "2016-12-31 19:00:00  761.376865  15464.036315  8936.973839  4857.316862   \n",
      "2016-12-31 20:00:00  739.515020  14814.832098  8683.171101  4787.686527   \n",
      "2016-12-31 21:00:00  714.631430  13961.381724  8240.062787  4693.548741   \n",
      "2016-12-31 22:00:00  677.710546  12863.311610  7733.228755  4518.695998   \n",
      "2016-12-31 23:00:00  622.852862  11825.710105  7354.145025  4337.795042   \n",
      "\n",
      "                              WY  \n",
      "Local Time                        \n",
      "2016-01-01 00:00:00  2424.192877  \n",
      "2016-01-01 01:00:00  2447.843884  \n",
      "2016-01-01 02:00:00  2534.735925  \n",
      "2016-01-01 03:00:00  2510.116114  \n",
      "2016-01-01 04:00:00  2489.465445  \n",
      "...                          ...  \n",
      "2016-12-31 19:00:00  2733.190504  \n",
      "2016-12-31 20:00:00  2711.264308  \n",
      "2016-12-31 21:00:00  2658.535281  \n",
      "2016-12-31 22:00:00  2568.744025  \n",
      "2016-12-31 23:00:00  2454.801991  \n",
      "\n",
      "[8784 rows x 48 columns]\n"
     ]
    }
   ],
   "source": [
    "# Store two demand data sets locally to mimic sectoral demand external to NREL's EFS\n",
    "sect_dem = partition_demand_by_sector(\n",
    "    es=\"Reference\", \n",
    "    ta=\"Slow\", \n",
    "    year=2030, \n",
    "    sect={\"Commercial\", \"Industrial\"}, \n",
    "    fpath=\"\", \n",
    "    save=True,\n",
    ")\n",
    "\n",
    "# Aggregate the local sectoral demand data with the sectoral demand that still needs to be accessed\n",
    "sect_dem = partition_demand_by_sector(\n",
    "    es=\"Reference\", \n",
    "    ta=\"Slow\", \n",
    "    year=2030, \n",
    "    sect={\"Residential\", \"Transportation\"}, \n",
    "    fpath=\"\",\n",
    ")\n",
    "ext_sect_dem = access_non_efs_demand(\n",
    "    [\n",
    "        \"Commercial_Demand_Reference_Slow_2030.csv\",\n",
    "        \"Industrial_Demand_Reference_Slow_2030.csv\",\n",
    "    ]\n",
    ")\n",
    "agg_dem = combine_efs_demand(efs_dem=sect_dem, non_efs_dem=ext_sect_dem)\n",
    "\n",
    "print(agg_dem)"
   ]
  },
  {
   "cell_type": "markdown",
   "metadata": {},
   "source": [
    "`combine_efs_demand` has the ability to save the resulting aggregated demand DataFrame, though it is not enabled by default. To save the DataFrame, set `save` equal to a valid file path and file name when calling `combine_efs_demand`.\n",
    "\n",
    "Note that it will be incumbent upon the user to account for all sectors when building the aggregated demand profiles (i.e., users will need to ensure that sectors are not excluded or double-counted)."
   ]
  },
  {
   "cell_type": "markdown",
   "metadata": {},
   "source": [
    "## Mapping the State Demand to the Appropriate Load Zones"
   ]
  },
  {
   "cell_type": "markdown",
   "metadata": {},
   "source": [
    "Breakthrough Energy's production cost model requires demand to be specified for each load zone. The production cost model also considers operation in terms of UTC time, meaning that the demand provided according to each states' local time must be converted. The `decompose_demand_profile_by_state_to_loadzone` function takes a DataFrame of 8784-hour state-level demand and produces a DataFrame of 8784-hour load zone-level demand. `decompose_demand_profile_by_state_to_loadzone` calls the `shift_local_time_by_loadzone_to_utc` function, which is responsible for shifting the demand data (provided with respect to each state's local time) to be in terms of UTC time. Since this function causes the demand to shift, the last few hours' worth of demand are discarded and the first few hours' worth of demand are empty. To account for the first few hours' worth of demand (i.e., first five hours for EST load zones and first eight hours for PST load zones), the corresponding demand from the morning of December 30th is copied and added to the empty demand slots. Similar to the reasoning used in `account_for_leap_year`, December 30th was chosen since it occurs on the same day of the week as January 1st (in a leap year)."
   ]
  },
  {
   "cell_type": "code",
   "execution_count": 9,
   "metadata": {
    "scrolled": true
   },
   "outputs": [
    {
     "name": "stdout",
     "output_type": "stream",
     "text": [
      "EFSLoadProfile_Reference_Slow.zip successfully downloaded!\n",
      "EFSLoadProfile_Reference_Slow.zip is compressed using a method that is not supported by the zipfile module.\n",
      "Trying other extraction methods supported by your OS.\n",
      "EFSLoadProfile_Reference_Slow.csv successfully extracted!\n",
      "Reading bus.csv\n",
      "Reading plant.csv\n",
      "Reading gencost.csv\n",
      "Reading branch.csv\n",
      "Reading dcline.csv\n",
      "Reading sub.csv\n",
      "Reading bus2sub.csv\n",
      "Reading zone.csv\n",
      "                             1            2           3            4    \\\n",
      "UTC Time                                                                 \n",
      "2016-01-01 00:00:00  1530.275833  1473.987095  775.688480  7331.368931   \n",
      "2016-01-01 01:00:00  1480.090997  1423.889929  750.744648  7147.848057   \n",
      "2016-01-01 02:00:00  1405.286691  1365.685460  719.793818  6899.832339   \n",
      "2016-01-01 03:00:00  1329.210999  1292.486049  693.919776  6560.864010   \n",
      "2016-01-01 04:00:00  1238.024822  1181.417796  634.843632  6121.438662   \n",
      "...                          ...          ...         ...          ...   \n",
      "2016-12-31 19:00:00  1282.861778  1224.429150  671.955405  6049.443628   \n",
      "2016-12-31 20:00:00  1280.214984  1216.511801  668.442082  6041.555136   \n",
      "2016-12-31 21:00:00  1299.011312  1243.357189  674.929798  6135.985254   \n",
      "2016-12-31 22:00:00  1452.689603  1358.049126  718.989762  6723.446522   \n",
      "2016-12-31 23:00:00  1537.512054  1476.007505  768.253475  7268.353080   \n",
      "\n",
      "                             5            6             7            8    \\\n",
      "UTC Time                                                                   \n",
      "2016-01-01 00:00:00  1035.978941  4092.248833  12859.490386  6106.473046   \n",
      "2016-01-01 01:00:00  1005.375887  3948.940047  12590.803343  5978.883994   \n",
      "2016-01-01 02:00:00   963.530215  3783.810149  12270.542378  5826.804488   \n",
      "2016-01-01 03:00:00   906.901677  3580.079862  11840.623945  5622.652905   \n",
      "2016-01-01 04:00:00   842.018164  3316.013419  11245.243355  5339.929762   \n",
      "...                          ...          ...           ...          ...   \n",
      "2016-12-31 19:00:00   800.894709  3282.329512  10875.939481  5164.561682   \n",
      "2016-12-31 20:00:00   793.502497  3283.143181  10862.826485  5158.334829   \n",
      "2016-12-31 21:00:00   807.865174  3339.524206  10966.526101  5207.577753   \n",
      "2016-12-31 22:00:00   900.936199  3634.661178  11524.154330  5472.373763   \n",
      "2016-12-31 23:00:00   987.882782  3992.282814  12634.869790  5999.809440   \n",
      "\n",
      "                              9             10   ...          215  \\\n",
      "UTC Time                                         ...                \n",
      "2016-01-01 00:00:00  10293.483723  13529.908663  ...  2024.455912   \n",
      "2016-01-01 01:00:00  10081.830166  13217.287616  ...  2060.838253   \n",
      "2016-01-01 02:00:00   9749.151098  12732.452404  ...  2031.267625   \n",
      "2016-01-01 03:00:00   9213.813527  12095.405513  ...  1983.207408   \n",
      "2016-01-01 04:00:00   8559.551501  11357.816531  ...  1935.119855   \n",
      "...                           ...           ...  ...          ...   \n",
      "2016-12-31 19:00:00   8470.334857  11993.743171  ...  2026.629120   \n",
      "2016-12-31 20:00:00   8654.257063  12050.032383  ...  1984.285529   \n",
      "2016-12-31 21:00:00   9259.753489  12648.469508  ...  1956.627571   \n",
      "2016-12-31 22:00:00  10301.776615  13727.690616  ...  1955.156513   \n",
      "2016-12-31 23:00:00  10378.308140  13819.202746  ...  2007.088400   \n",
      "\n",
      "                             216         301          302          303  \\\n",
      "UTC Time                                                                 \n",
      "2016-01-01 00:00:00  1264.232989  960.883833  1083.575357  1232.121444   \n",
      "2016-01-01 01:00:00  1358.916166  975.766654  1100.358507  1251.205377   \n",
      "2016-01-01 02:00:00  1379.963982  982.066748  1107.463036  1259.283858   \n",
      "2016-01-01 03:00:00  1388.873800  976.188075  1100.833738  1251.745757   \n",
      "2016-01-01 04:00:00  1380.559971  952.362578  1073.966055  1221.194815   \n",
      "...                          ...         ...          ...          ...   \n",
      "2016-12-31 19:00:00  1153.360243  788.366462   889.029912  1010.905990   \n",
      "2016-12-31 20:00:00  1114.935950  766.099260   863.919498   982.353218   \n",
      "2016-12-31 21:00:00  1083.444879  754.976051   851.376009   968.090158   \n",
      "2016-12-31 22:00:00  1067.714041  761.744624   859.008836   976.769359   \n",
      "2016-12-31 23:00:00  1077.286399  816.586950   920.853765  1047.092539   \n",
      "\n",
      "                             304           305          306           307  \\\n",
      "UTC Time                                                                    \n",
      "2016-01-01 00:00:00  4964.524803  16369.895003  9017.705647  13375.479136   \n",
      "2016-01-01 01:00:00  5041.418731  16623.443042  9157.377990  13582.647631   \n",
      "2016-01-01 02:00:00  5073.968946  16730.773273  9216.503135  13670.344788   \n",
      "2016-01-01 03:00:00  5043.596056  16630.622495  9161.332944  13588.513803   \n",
      "2016-01-01 04:00:00  4920.498686  16224.724430  8937.735342  13256.863471   \n",
      "...                          ...           ...          ...           ...   \n",
      "2016-12-31 19:00:00  4073.192530  13430.839142  7398.664069  10974.041598   \n",
      "2016-12-31 20:00:00  3958.146285  13051.488645  7189.690760  10664.082697   \n",
      "2016-12-31 21:00:00  3900.676854  12861.990437  7085.301633  10509.247903   \n",
      "2016-12-31 22:00:00  3935.647524  12977.301815  7148.823364  10603.466279   \n",
      "2016-12-31 23:00:00  4218.997165  13911.611552  7663.507801  11366.870101   \n",
      "\n",
      "                             308  \n",
      "UTC Time                          \n",
      "2016-01-01 00:00:00  2343.919161  \n",
      "2016-01-01 01:00:00  2380.223371  \n",
      "2016-01-01 02:00:00  2395.591422  \n",
      "2016-01-01 03:00:00  2381.251359  \n",
      "2016-01-01 04:00:00  2323.132950  \n",
      "...                          ...  \n",
      "2016-12-31 19:00:00  1923.091211  \n",
      "2016-12-31 20:00:00  1868.774009  \n",
      "2016-12-31 21:00:00  1841.640757  \n",
      "2016-12-31 22:00:00  1858.151587  \n",
      "2016-12-31 23:00:00  1991.930484  \n",
      "\n",
      "[8784 rows x 76 columns]\n"
     ]
    }
   ],
   "source": [
    "sect_dem = partition_demand_by_sector(es=\"Reference\", ta=\"Slow\", year=2030, fpath=\"\")\n",
    "agg_dem = combine_efs_demand(efs_dem=sect_dem)\n",
    "agg_dem_lz = decompose_demand_profile_by_state_to_loadzone(\n",
    "    df=agg_dem, profile_type=\"demand\"\n",
    ")\n",
    "\n",
    "print(agg_dem_lz)"
   ]
  },
  {
   "cell_type": "markdown",
   "metadata": {},
   "source": [
    "Note that the above is the most direct path to acquiring EFS demand data for a particular electrification scenario, technology advancement, and year and formatting it for use in the Breakthrough Energy production cost model. `decompose_demand_profile_by_state_to_loadzone` can also be used to create a profile for a user-specified combination of interconnections and states."
   ]
  },
  {
   "cell_type": "code",
   "execution_count": 10,
   "metadata": {
    "scrolled": true
   },
   "outputs": [
    {
     "name": "stdout",
     "output_type": "stream",
     "text": [
      "EFSLoadProfile_Reference_Slow.zip successfully downloaded!\n",
      "EFSLoadProfile_Reference_Slow.zip is compressed using a method that is not supported by the zipfile module.\n",
      "Trying other extraction methods supported by your OS.\n",
      "EFSLoadProfile_Reference_Slow.csv successfully extracted!\n",
      "                            301          302          303          304  \\\n",
      "UTC Time                                                                 \n",
      "2016-01-01 00:00:00  960.883833  1083.575357  1232.121444  4964.524803   \n",
      "2016-01-01 01:00:00  975.766654  1100.358507  1251.205377  5041.418731   \n",
      "2016-01-01 02:00:00  982.066748  1107.463036  1259.283858  5073.968946   \n",
      "2016-01-01 03:00:00  976.188075  1100.833738  1251.745757  5043.596056   \n",
      "2016-01-01 04:00:00  952.362578  1073.966055  1221.194815  4920.498686   \n",
      "...                         ...          ...          ...          ...   \n",
      "2016-12-31 19:00:00  788.366462   889.029912  1010.905990  4073.192530   \n",
      "2016-12-31 20:00:00  766.099260   863.919498   982.353218  3958.146285   \n",
      "2016-12-31 21:00:00  754.976051   851.376009   968.090158  3900.676854   \n",
      "2016-12-31 22:00:00  761.744624   859.008836   976.769359  3935.647524   \n",
      "2016-12-31 23:00:00  816.586950   920.853765  1047.092539  4218.997165   \n",
      "\n",
      "                              305          306           307          308  \n",
      "UTC Time                                                                   \n",
      "2016-01-01 00:00:00  16369.895003  9017.705647  13375.479136  2343.919161  \n",
      "2016-01-01 01:00:00  16623.443042  9157.377990  13582.647631  2380.223371  \n",
      "2016-01-01 02:00:00  16730.773273  9216.503135  13670.344788  2395.591422  \n",
      "2016-01-01 03:00:00  16630.622495  9161.332944  13588.513803  2381.251359  \n",
      "2016-01-01 04:00:00  16224.724430  8937.735342  13256.863471  2323.132950  \n",
      "...                           ...          ...           ...          ...  \n",
      "2016-12-31 19:00:00  13430.839142  7398.664069  10974.041598  1923.091211  \n",
      "2016-12-31 20:00:00  13051.488645  7189.690760  10664.082697  1868.774009  \n",
      "2016-12-31 21:00:00  12861.990437  7085.301633  10509.247903  1841.640757  \n",
      "2016-12-31 22:00:00  12977.301815  7148.823364  10603.466279  1858.151587  \n",
      "2016-12-31 23:00:00  13911.611552  7663.507801  11366.870101  1991.930484  \n",
      "\n",
      "[8784 rows x 8 columns]\n"
     ]
    }
   ],
   "source": [
    "sect_dem = partition_demand_by_sector(es=\"Reference\", ta=\"Slow\", year=2030, fpath=\"\")\n",
    "agg_dem = combine_efs_demand(efs_dem=sect_dem)\n",
    "agg_dem_lz = decompose_demand_profile_by_state_to_loadzone(\n",
    "    df=agg_dem, profile_type=\"demand\", regions=[\"Texas\"]\n",
    ")\n",
    "\n",
    "print(agg_dem_lz)"
   ]
  },
  {
   "cell_type": "markdown",
   "metadata": {},
   "source": [
    "`decompose_demand_profile_by_state_to_loadzone` has the ability to save the resulting aggregated demand DataFrame, though it is not enabled by default. To save the DataFrame, set `save` equal to a valid file path and file name when calling `decompose_demand_profile_by_state_to_loadzone`."
   ]
  }
 ],
 "metadata": {
  "kernelspec": {
   "display_name": "PostREISE",
   "language": "python",
   "name": "postreise"
  },
  "language_info": {
   "codemirror_mode": {
    "name": "ipython",
    "version": 3
   },
   "file_extension": ".py",
   "mimetype": "text/x-python",
   "name": "python",
   "nbconvert_exporter": "python",
   "pygments_lexer": "ipython3",
   "version": "3.8.3"
  }
 },
 "nbformat": 4,
 "nbformat_minor": 4
}
