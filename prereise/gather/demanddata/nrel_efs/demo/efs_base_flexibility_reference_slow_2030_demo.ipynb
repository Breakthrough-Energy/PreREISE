{
 "cells": [
  {
   "cell_type": "code",
   "execution_count": 1,
   "metadata": {},
   "outputs": [],
   "source": [
    "import pandas as pd\n",
    "\n",
    "from prereise.gather.demanddata.nrel_efs.get_efs_data import (\n",
    "    download_flexibility_data,\n",
    "    partition_flexibility_by_sector,\n",
    ")\n",
    "from prereise.gather.demanddata.nrel_efs.map_states import (\n",
    "    decompose_demand_profile_by_state_to_loadzone,\n",
    ")"
   ]
  },
  {
   "cell_type": "markdown",
   "metadata": {},
   "source": [
    "## Notebook Overview"
   ]
  },
  {
   "cell_type": "markdown",
   "metadata": {},
   "source": [
    "In this notebook, the functionality of the various modules used for obtaining and cleaning the National Renewable Energy Laboratory's (NREL's) Electrification Futures Study (EFS) flexibility data is displayed. An example is developed using the **Reference** electrification scenario, **Slow** technology advancement, and **Base** flexibility scenario for the year **2030**. \n",
    "\n",
    "The NREL EFS flexibility data can be obtained from this [this website](https://data.nrel.gov/submissions/127), with the specific dataset required for the described example directly available [here](https://data.nrel.gov/system/files/127/EFS%20Flexible%20Load%20Profiles%20-%20Reference%20Electrification.zip). These datasets are generously provided by NREL, which is operated for the U.S. Department of Energy by the Alliance for Sustainable Energy, LLC. Before using these datasets, please read [this disclaimer](https://www.nrel.gov/disclaimer.html) first."
   ]
  },
  {
   "cell_type": "markdown",
   "metadata": {},
   "source": [
    "## Downloading and Extracting EFS Flexibility Data"
   ]
  },
  {
   "cell_type": "markdown",
   "metadata": {},
   "source": [
    "NREL EFS flexibility data is accessed from the website referenced in the prior section. The website contains a .zip file for each of the three electrification scenarios (Reference, Medium, and High). Each .zip file contains a .csv file containing the sectoral demand data for each state in the contiguous U.S., each level of technology advancement (Slow, Moderate, and Rapid), each flexibility scenario (Base and Enhanced), and each of the six tested years (2018, 2020, 2024, 2030, 2040, and 2050). The `download_flexibility_data` function downloads the .zip file of NREL EFS data and attempts to extract the .csv file. `download_flexibility_data` can download NREL EFS data for one electrification scenario:"
   ]
  },
  {
   "cell_type": "code",
   "execution_count": 2,
   "metadata": {},
   "outputs": [
    {
     "name": "stdout",
     "output_type": "stream",
     "text": [
      "EFS Flexible Load Profiles - Reference Electrification.zip successfully downloaded!\n",
      "EFS Flexible Load Profiles - Reference Electrification.zip is compressed using a method that is not supported by the zipfile module.\n",
      "Trying other extraction methods supported by your OS.\n",
      "EFSFlexLoadProfiles_Reference.csv successfully extracted!\n"
     ]
    }
   ],
   "source": [
    "download_flexibility_data(es={\"Reference\"}, fpath=\"\")"
   ]
  },
  {
   "cell_type": "markdown",
   "metadata": {},
   "source": [
    "`download_flexibility_data` can download EFS data for multiple electrification scenarios:"
   ]
  },
  {
   "cell_type": "code",
   "execution_count": 3,
   "metadata": {},
   "outputs": [
    {
     "name": "stdout",
     "output_type": "stream",
     "text": [
      "EFS Flexible Load Profiles - Medium Electrification.zip successfully downloaded!\n",
      "EFS Flexible Load Profiles - High Electrification.zip successfully downloaded!\n",
      "EFS Flexible Load Profiles - Medium Electrification.zip is compressed using a method that is not supported by the zipfile module.\n",
      "Trying other extraction methods supported by your OS.\n",
      "EFSFlexLoadProfiles_Medium.csv successfully extracted!\n",
      "EFSFlexLoadProfiles_High.csv successfully extracted!\n"
     ]
    }
   ],
   "source": [
    "download_flexibility_data(es={\"Medium\", \"High\"}, fpath=\"\")"
   ]
  },
  {
   "cell_type": "markdown",
   "metadata": {},
   "source": [
    "`download_flexibility_data` can also download EFS data for all of the electrification scenarios:"
   ]
  },
  {
   "cell_type": "code",
   "execution_count": 4,
   "metadata": {},
   "outputs": [
    {
     "name": "stdout",
     "output_type": "stream",
     "text": [
      "EFS Flexible Load Profiles - High Electrification.zip successfully downloaded!\n",
      "EFS Flexible Load Profiles - Medium Electrification.zip successfully downloaded!\n",
      "EFS Flexible Load Profiles - Reference Electrification.zip successfully downloaded!\n",
      "EFS Flexible Load Profiles - High Electrification.zip is compressed using a method that is not supported by the zipfile module.\n",
      "Trying other extraction methods supported by your OS.\n",
      "EFSFlexLoadProfiles_High.csv successfully extracted!\n",
      "EFSFlexLoadProfiles_Medium.csv successfully extracted!\n",
      "EFSFlexLoadProfiles_Reference.csv successfully extracted!\n"
     ]
    }
   ],
   "source": [
    "download_flexibility_data(es={\"All\"}, fpath=\"\")"
   ]
  },
  {
   "cell_type": "markdown",
   "metadata": {},
   "source": [
    "The .zip files were created with a compression format (Deflate64) that is not supported by Python's `zipfile` module. Therefore, to perform automated extraction of the .csv files, Command Line- or Terminal-level tools must be used. For users running macOS or Linux, the Terminal can extract the .csv file. Unfortunately for Windows users, the Command Line extraction tools do not support Deflate64. [7-Zip](https://www.7-zip.org/), the popular file archiver tool, can extract the .csv file; by specifying the file path of 7-Zip when calling `download_flexibility_data`, Windows users can also use the automated .csv file extraction. If the automated extraction techniques do not work (e.g., a Windows user does not have 7-Zip), the .zip file is still downloaded and can be extracted manually (e.g., using the extraction tool built into Windows' File Explorer)."
   ]
  },
  {
   "cell_type": "markdown",
   "metadata": {},
   "source": [
    "## Splitting the EFS Flexibility by Sector, Technology Advancement, Flexibility Scenario, and Year"
   ]
  },
  {
   "cell_type": "markdown",
   "metadata": {},
   "source": [
    "The EFS flexibility data for a given electrification scenario is provided for each sector, year, technology advancement, and flexibility scenario. However, it is useful to split flexibility data by sector because different sectors may have different operational constraints (e.g., duration between demand curtailment and recovery, directionality of load shift). The `partition_flexibility_by_sector` function filters EFS flexibility data for a specified year, technology advancement, and flexibility scenario and separates the state-level demand for each sector. `partition_flexibility_by_sector` can either access the extracted .csv file or can call `download_flexibility_data` to obtain the flexibility data; the extracted .csv file is searched for according to the provided electrification scenario (`es`) in the file path (`fpath`) provided by the user:"
   ]
  },
  {
   "cell_type": "code",
   "execution_count": 5,
   "metadata": {
    "scrolled": true
   },
   "outputs": [
    {
     "name": "stdout",
     "output_type": "stream",
     "text": [
      "EFS Flexible Load Profiles - Reference Electrification.zip successfully downloaded!\n",
      "EFS Flexible Load Profiles - Reference Electrification.zip is compressed using a method that is not supported by the zipfile module.\n",
      "Trying other extraction methods supported by your OS.\n",
      "EFSFlexLoadProfiles_Reference.csv successfully extracted!\n",
      "dict_keys(['Commercial', 'Residential', 'Industrial', 'Transportation'])\n",
      "State                       AL        AR         AZ         CA         CO  \\\n",
      "Local Time                                                                  \n",
      "2016-01-01 00:00:00   4.155655  2.478171   6.805127  19.382927   4.113119   \n",
      "2016-01-01 01:00:00   2.401389  1.006649   5.513717   8.074698   1.656038   \n",
      "2016-01-01 02:00:00   1.834609  0.830685   2.580403   6.456153   1.409955   \n",
      "2016-01-01 03:00:00   0.824335  0.586025   2.059998   4.238941   0.997348   \n",
      "2016-01-01 04:00:00   0.719887  0.134069   1.226499   1.251424   0.211859   \n",
      "...                        ...       ...        ...        ...        ...   \n",
      "2016-12-31 19:00:00  16.008310  7.507680  28.465280  58.368000  13.047970   \n",
      "2016-12-31 20:00:00  12.163910  5.800010  17.003470  45.280200  10.083730   \n",
      "2016-12-31 21:00:00   8.508090  4.405080  13.172480  34.001030   7.570920   \n",
      "2016-12-31 22:00:00   5.859591  2.859683   9.753479  22.450091   4.850900   \n",
      "2016-12-31 23:00:00   3.607943  1.971167   6.530999  15.243968   3.327574   \n",
      "\n",
      "State                      CT        DE         FL         GA        IA  ...  \\\n",
      "Local Time                                                               ...   \n",
      "2016-01-01 00:00:00  2.182833  0.420498  15.328031   9.246959  2.284292  ...   \n",
      "2016-01-01 01:00:00  0.858061  0.169080   9.671423   5.788836  0.933156  ...   \n",
      "2016-01-01 02:00:00  0.692654  0.140770   5.905436   3.413262  0.787984  ...   \n",
      "2016-01-01 03:00:00  0.478556  0.102043   4.528722   2.640721  0.575052  ...   \n",
      "2016-01-01 04:00:00  0.099453  0.023572   2.131196   1.185694  0.129994  ...   \n",
      "...                       ...       ...        ...        ...       ...  ...   \n",
      "2016-12-31 19:00:00  6.613600  1.210520  59.456338  35.199970  7.291710  ...   \n",
      "2016-12-31 20:00:00  5.181970  0.932996  38.345056  22.684310  5.622960  ...   \n",
      "2016-12-31 21:00:00  3.960130  0.691941  28.520464  16.992740  4.253450  ...   \n",
      "2016-12-31 22:00:00  2.601315  0.439227  19.538737  11.724154  2.776233  ...   \n",
      "2016-12-31 23:00:00  1.772989  0.300607  13.033279   7.955757  1.957570  ...   \n",
      "\n",
      "State                      SD         TN         TX        UT         VA  \\\n",
      "Local Time                                                                 \n",
      "2016-01-01 00:00:00  0.475202   4.002534  17.291897  1.813017   6.181085   \n",
      "2016-01-01 01:00:00  0.249568   2.299054   8.395125  1.472091   2.461891   \n",
      "2016-01-01 02:00:00  0.186585   1.729610   5.978835  0.713050   2.041697   \n",
      "2016-01-01 03:00:00  0.127249   0.748178   4.312582  0.582839   1.442063   \n",
      "2016-01-01 04:00:00  0.057018   0.659926   1.429207  0.378236   0.295610   \n",
      "...                       ...        ...        ...       ...        ...   \n",
      "2016-12-31 19:00:00  2.041825  15.021540  57.588103  8.584190  18.199160   \n",
      "2016-12-31 20:00:00  1.489933  11.377950  42.108124  5.073990  14.104600   \n",
      "2016-12-31 21:00:00  1.135858   7.870760  32.153849  3.876170  10.532530   \n",
      "2016-12-31 22:00:00  0.757097   5.339474  21.398437  2.842884   6.707452   \n",
      "2016-12-31 23:00:00  0.511807   3.178236  14.417734  1.853128   4.568256   \n",
      "\n",
      "State                      VT         WA         WI        WV        WY  \n",
      "Local Time                                                               \n",
      "2016-01-01 00:00:00  0.454573   7.378565   3.545615  1.730443  1.598664  \n",
      "2016-01-01 01:00:00  0.182593   2.926854   1.420139  0.704522  0.664626  \n",
      "2016-01-01 02:00:00  0.149462   2.410490   1.190515  0.596001  0.590339  \n",
      "2016-01-01 03:00:00  0.102761   1.715069   0.863367  0.428755  0.423003  \n",
      "2016-01-01 04:00:00  0.025234   0.397106   0.207520  0.104953  0.091778  \n",
      "...                       ...        ...        ...       ...       ...  \n",
      "2016-12-31 19:00:00  1.308432  22.957590  10.368640  4.542330  4.182160  \n",
      "2016-12-31 20:00:00  1.019015  17.497380   7.928850  3.504817  3.262063  \n",
      "2016-12-31 21:00:00  0.776912  13.054660   5.875900  2.638903  2.497993  \n",
      "2016-12-31 22:00:00  0.518870   8.393358   3.784385  1.716076  1.664651  \n",
      "2016-12-31 23:00:00  0.358382   5.720577   2.644097  1.189741  1.174841  \n",
      "\n",
      "[8784 rows x 48 columns]\n"
     ]
    }
   ],
   "source": [
    "sect_flex = partition_flexibility_by_sector(\n",
    "    es=\"Reference\", ta=\"Slow\", flex=\"Base\", year=2030, fpath=\"\"\n",
    ")\n",
    "\n",
    "print(sect_flex.keys())\n",
    "print(sect_flex[\"Transportation\"])"
   ]
  },
  {
   "cell_type": "markdown",
   "metadata": {},
   "source": [
    "`partition_flexibility_by_sector` can also retain only a subset of sectoral flexibility data, if desired:"
   ]
  },
  {
   "cell_type": "code",
   "execution_count": 6,
   "metadata": {},
   "outputs": [
    {
     "name": "stdout",
     "output_type": "stream",
     "text": [
      "EFS Flexible Load Profiles - Reference Electrification.zip successfully downloaded!\n",
      "EFS Flexible Load Profiles - Reference Electrification.zip is compressed using a method that is not supported by the zipfile module.\n",
      "Trying other extraction methods supported by your OS.\n",
      "EFSFlexLoadProfiles_Reference.csv successfully extracted!\n",
      "dict_keys(['Commercial', 'Industrial'])\n"
     ]
    }
   ],
   "source": [
    "sect_flex = partition_flexibility_by_sector(\n",
    "    es=\"Reference\", \n",
    "    ta=\"Slow\",\n",
    "    flex=\"Base\",\n",
    "    year=2030, \n",
    "    sect={\"Commercial\", \"Industrial\"}, \n",
    "    fpath=\"\",\n",
    ")\n",
    "\n",
    "print(sect_flex.keys())"
   ]
  },
  {
   "cell_type": "markdown",
   "metadata": {},
   "source": [
    "Note that `partition_flexibility_by_sector` calls the `account_for_leap_year` function to create an extra day's worth of data (the EFS data sets have 8760-hour profiles whereas Breakthrough Energy uses 8784-hour profiles). To account for the extra day, flexibility data from January 2nd is copied and added to the end of the data set to create flexibility data for December 31st; January 2nd is chosen since it occurs on the same day of the week as December 31st (in a leap year), so as to preserve any weekly trends that may be present.\n",
    "\n",
    "`partition_flexibility_by_sector` has the ability to save the resulting sectoral flexibility DataFrames, though it is not enabled by default. To save the DataFrames, set `save=True` when calling `partition_flexibility_by_sector`."
   ]
  },
  {
   "cell_type": "markdown",
   "metadata": {},
   "source": [
    "## Mapping the State Flexibility to the Appropriate Load Zones"
   ]
  },
  {
   "cell_type": "markdown",
   "metadata": {},
   "source": [
    "Breakthrough Energy's production cost model requires flexibility to be specified for each load zone. The production cost model also considers operation in terms of UTC time, meaning that the flexibility provided according to each states' local time must be converted. The `decompose_demand_profile_by_state_to_loadzone` function takes a DataFrame of 8784-hour state-level flexibility and produces a DataFrame of 8784-hour load zone-level flexibility. `decompose_demand_profile_by_state_to_loadzone` calls the `shift_local_time_by_loadzone_to_utc` function, which is responsible for shifting the flexibility data (provided with respect to each state's local time) to be in terms of UTC time. Since this function causes the flexibility to shift, the last few hours' worth of flexibility are discarded and the first few hours' worth of flexibility are empty. To account for the first few hours' worth of flexibility (i.e., first five hours for EST load zones and first eight hours for PST load zones), the corresponding flexibility from the morning of December 30th is copied and added to the empty flexibility slots. Similar to the reasoning used in `account_for_leap_year`, December 30th was chosen since it occurs on the same day of the week as January 1st (in a leap year)."
   ]
  },
  {
   "cell_type": "code",
   "execution_count": 7,
   "metadata": {
    "scrolled": true
   },
   "outputs": [
    {
     "name": "stdout",
     "output_type": "stream",
     "text": [
      "EFS Flexible Load Profiles - Reference Electrification.zip successfully downloaded!\n",
      "EFS Flexible Load Profiles - Reference Electrification.zip is compressed using a method that is not supported by the zipfile module.\n",
      "Trying other extraction methods supported by your OS.\n",
      "EFSFlexLoadProfiles_Reference.csv successfully extracted!\n",
      "Reading bus.csv\n",
      "Reading plant.csv\n",
      "Reading gencost.csv\n",
      "Reading branch.csv\n",
      "Reading dcline.csv\n",
      "Reading sub.csv\n",
      "Reading bus2sub.csv\n",
      "Reading zone.csv\n",
      "                       zone.1    zone.2    zone.3     zone.4    zone.5  \\\n",
      "UTC Time                                                                 \n",
      "2016-01-01 00:00:00  4.491140  4.233990  2.350403  20.020450  2.359207   \n",
      "2016-01-01 01:00:00  3.773710  3.561734  1.977204  17.036360  2.012111   \n",
      "2016-01-01 02:00:00  3.104323  2.942024  1.641418  14.150630  1.656902   \n",
      "2016-01-01 03:00:00  2.472214  2.345708  1.337440  11.257375  1.307822   \n",
      "2016-01-01 04:00:00  1.673279  1.554680  0.893560   7.581477  0.869688   \n",
      "...                       ...       ...       ...        ...       ...   \n",
      "2016-12-31 19:00:00  2.606456  2.447300  1.434717  12.258610  1.402231   \n",
      "2016-12-31 20:00:00  3.486962  3.232406  1.907698  16.504390  1.881949   \n",
      "2016-12-31 21:00:00  4.414250  4.086880  2.403825  20.924430  2.404618   \n",
      "2016-12-31 22:00:00  5.563310  5.005250  2.872243  25.653410  2.999755   \n",
      "2016-12-31 23:00:00  4.483690  4.126970  2.342431  21.243120  2.519275   \n",
      "\n",
      "                        zone.6     zone.7     zone.8     zone.9    zone.10  \\\n",
      "UTC Time                                                                     \n",
      "2016-01-01 00:00:00  11.288880  28.735246  13.645254  32.663480  34.532725   \n",
      "2016-01-01 01:00:00   9.524980  24.184920  11.484480  27.494980  28.900043   \n",
      "2016-01-01 02:00:00   7.847850  20.068458   9.529732  22.685230  23.695819   \n",
      "2016-01-01 03:00:00   6.199917  16.176694   7.681684  17.757934  18.625471   \n",
      "2016-01-01 04:00:00   4.127121  10.986100   5.216872  11.727794  12.486365   \n",
      "...                        ...        ...        ...        ...        ...   \n",
      "2016-12-31 19:00:00   6.490940  16.067587   7.629873  17.225840  18.818082   \n",
      "2016-12-31 20:00:00   8.776240  21.521869  10.219901  23.717030  25.531410   \n",
      "2016-12-31 21:00:00  11.282310  27.633855  13.122245  32.337950  34.298672   \n",
      "2016-12-31 22:00:00  13.833020  33.061959  15.699841  40.935000  42.516675   \n",
      "2016-12-31 23:00:00  11.775940  27.836518  13.218482  31.789360  32.902487   \n",
      "\n",
      "                     ...  zone.215  zone.216  zone.301  zone.302  zone.303  \\\n",
      "UTC Time             ...                                                     \n",
      "2016-01-01 00:00:00  ...  5.016711  1.934481  1.698612  1.915501  2.178095   \n",
      "2016-01-01 01:00:00  ...  5.103780  2.402238  1.725812  1.946174  2.212973   \n",
      "2016-01-01 02:00:00  ...  5.591692  2.440705  1.483687  1.673133  1.902501   \n",
      "2016-01-01 03:00:00  ...  5.250485  2.098283  1.240065  1.398404  1.590110   \n",
      "2016-01-01 04:00:00  ...  4.378962  1.753744  0.950667  1.072055  1.219021   \n",
      "...                  ...       ...       ...       ...       ...       ...   \n",
      "2016-12-31 19:00:00  ...  2.929574  1.067882  0.778028  0.877371  0.997649   \n",
      "2016-12-31 20:00:00  ...  3.234654  1.100315  0.863911  0.974221  1.107775   \n",
      "2016-12-31 21:00:00  ...  3.365076  1.221774  1.145346  1.291591  1.468654   \n",
      "2016-12-31 22:00:00  ...  3.998703  1.619790  1.521769  1.716078  1.951333   \n",
      "2016-12-31 23:00:00  ...  5.482203  2.152140  1.887392  2.128386  2.420163   \n",
      "\n",
      "                     zone.304   zone.305   zone.306   zone.307  zone.308  \n",
      "UTC Time                                                                  \n",
      "2016-01-01 00:00:00  8.776090  28.938050  15.941142  23.644641  4.143487  \n",
      "2016-01-01 01:00:00  8.916621  29.401434  16.196407  24.023262  4.209837  \n",
      "2016-01-01 02:00:00  7.665651  25.276518  13.924109  20.652883  3.619212  \n",
      "2016-01-01 03:00:00  6.406949  21.126106  11.637766  17.261674  3.024936  \n",
      "2016-01-01 04:00:00  4.911741  16.195846   8.921827  13.233268  2.318998  \n",
      "...                       ...        ...        ...        ...       ...  \n",
      "2016-12-31 19:00:00  4.019776  13.254706   7.301638  10.830127  1.897872  \n",
      "2016-12-31 20:00:00  4.463503  14.717839   8.107635  12.025621  2.107370  \n",
      "2016-12-31 21:00:00  5.917573  19.512453  10.748851  15.943194  2.793886  \n",
      "2016-12-31 22:00:00  7.862407  25.925297  14.281503  21.182987  3.712107  \n",
      "2016-12-31 23:00:00  9.751442  32.154153  17.712800  26.272447  4.603984  \n",
      "\n",
      "[8784 rows x 76 columns]\n"
     ]
    }
   ],
   "source": [
    "sect_flex = partition_flexibility_by_sector(\n",
    "    es=\"Reference\", ta=\"Slow\", flex=\"Base\", year=2030, fpath=\"\"\n",
    ")\n",
    "sect_flex_lz = {\n",
    "    k: decompose_demand_profile_by_state_to_loadzone(\n",
    "        df=v, profile_type=\"demand_flexibility\"\n",
    "    )\n",
    "    for k, v in sect_flex.items()\n",
    "}\n",
    "\n",
    "print(sect_flex_lz[\"Transportation\"])"
   ]
  },
  {
   "cell_type": "markdown",
   "metadata": {},
   "source": [
    "Note that the above is the most direct path to acquiring EFS flexibility data for a particular electrification scenario, technology advancement, flexibility scenario, and year and formatting it for use in the Breakthrough Energy production cost model. Unlike the base demand case (which is described in a separate demo notebook), flexibility data for each state and time step is not aggregated, but instead kept separate for each sector. As mentioned above, this is useful since different sectors may have different operational characteristics. `decompose_demand_profile_by_state_to_loadzone` can also be used to create a profile for a user-specified combination of interconnections and states.\n",
    "\n"
   ]
  },
  {
   "cell_type": "code",
   "execution_count": 8,
   "metadata": {
    "scrolled": true
   },
   "outputs": [
    {
     "name": "stdout",
     "output_type": "stream",
     "text": [
      "EFS Flexible Load Profiles - Reference Electrification.zip successfully downloaded!\n",
      "EFS Flexible Load Profiles - Reference Electrification.zip is compressed using a method that is not supported by the zipfile module.\n",
      "Trying other extraction methods supported by your OS.\n",
      "EFSFlexLoadProfiles_Reference.csv successfully extracted!\n",
      "                     zone.301  zone.302  zone.303  zone.304   zone.305  \\\n",
      "UTC Time                                                                 \n",
      "2016-01-01 00:00:00  1.698612  1.915501  2.178095  8.776090  28.938050   \n",
      "2016-01-01 01:00:00  1.725812  1.946174  2.212973  8.916621  29.401434   \n",
      "2016-01-01 02:00:00  1.483687  1.673133  1.902501  7.665651  25.276518   \n",
      "2016-01-01 03:00:00  1.240065  1.398404  1.590110  6.406949  21.126106   \n",
      "2016-01-01 04:00:00  0.950667  1.072055  1.219021  4.911741  16.195846   \n",
      "...                       ...       ...       ...       ...        ...   \n",
      "2016-12-31 19:00:00  0.778028  0.877371  0.997649  4.019776  13.254706   \n",
      "2016-12-31 20:00:00  0.863911  0.974221  1.107775  4.463503  14.717839   \n",
      "2016-12-31 21:00:00  1.145346  1.291591  1.468654  5.917573  19.512453   \n",
      "2016-12-31 22:00:00  1.521769  1.716078  1.951333  7.862407  25.925297   \n",
      "2016-12-31 23:00:00  1.887392  2.128386  2.420163  9.751442  32.154153   \n",
      "\n",
      "                      zone.306   zone.307  zone.308  \n",
      "UTC Time                                             \n",
      "2016-01-01 00:00:00  15.941142  23.644641  4.143487  \n",
      "2016-01-01 01:00:00  16.196407  24.023262  4.209837  \n",
      "2016-01-01 02:00:00  13.924109  20.652883  3.619212  \n",
      "2016-01-01 03:00:00  11.637766  17.261674  3.024936  \n",
      "2016-01-01 04:00:00   8.921827  13.233268  2.318998  \n",
      "...                        ...        ...       ...  \n",
      "2016-12-31 19:00:00   7.301638  10.830127  1.897872  \n",
      "2016-12-31 20:00:00   8.107635  12.025621  2.107370  \n",
      "2016-12-31 21:00:00  10.748851  15.943194  2.793886  \n",
      "2016-12-31 22:00:00  14.281503  21.182987  3.712107  \n",
      "2016-12-31 23:00:00  17.712800  26.272447  4.603984  \n",
      "\n",
      "[8784 rows x 8 columns]\n"
     ]
    }
   ],
   "source": [
    "sect_flex = partition_flexibility_by_sector(\n",
    "    es=\"Reference\", ta=\"Slow\", flex=\"Base\", year=2030, fpath=\"\"\n",
    ")\n",
    "sect_flex_lz = {\n",
    "    k: decompose_demand_profile_by_state_to_loadzone(\n",
    "        df=v, profile_type=\"demand_flexibility\", regions=[\"Texas\"]\n",
    "    )\n",
    "    for k, v in sect_flex.items()\n",
    "}\n",
    "\n",
    "print(sect_flex_lz[\"Transportation\"])"
   ]
  },
  {
   "cell_type": "markdown",
   "metadata": {},
   "source": [
    "`decompose_demand_profile_by_state_to_loadzone` has the ability to save the resulting flexibility DataFrame, though it is not enabled by default. To save the DataFrame, set `save` equal to a valid file path and file name when calling `decompose_demand_profile_by_state_to_loadzone`."
   ]
  }
 ],
 "metadata": {
  "kernelspec": {
   "display_name": "PostREISE",
   "language": "python",
   "name": "postreise"
  },
  "language_info": {
   "codemirror_mode": {
    "name": "ipython",
    "version": 3
   },
   "file_extension": ".py",
   "mimetype": "text/x-python",
   "name": "python",
   "nbconvert_exporter": "python",
   "pygments_lexer": "ipython3",
   "version": "3.8.3"
  }
 },
 "nbformat": 4,
 "nbformat_minor": 4
}
