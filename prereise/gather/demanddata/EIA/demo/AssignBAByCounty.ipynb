{
 "cells": [
  {
   "cell_type": "markdown",
   "metadata": {},
   "source": [
    "#### Assign BA counts by County\n",
    "\n",
    "The current version of assigning BA counts to a bus uses state-level population fractions, for example, if a BA is known to offer service in both WA and OR, e.g., BA=BPAT, then the BA counts, for example, are\n",
    "\n",
    "BPATcount(WA) = BPATtotal * pop(WA)/(pop(WA) + pop(OR)\n",
    "demandCount(WA) = sum(all fractional BA counts assigned to WA)\n",
    "\n",
    "However, we actually know what counties each BA serves, so instead of using state-level population, we can use county level population. So \n",
    "\n",
    "* Demand in LoadZone = sumOverCountiesInLoadZone(demandPerCounty)\n",
    "* demandPerCounty = sumOverBAs(BAcount(County))\n",
    "* BAcounty(County) = BAtotal * CountyPopulation/sumOverCountyPopulationServedByBA\n",
    "\n",
    "So we need to make a list of Counties per LoadZone and the corresponing populations for those Counties.\n",
    "                   \n",
    "<img src=\"BA-county_array.png\">\n",
    "\n",
    "Note that the array values have to be updated as county census data are updated anda as BA-county assignments change."
   ]
  },
  {
   "cell_type": "code",
   "execution_count": 1,
   "metadata": {},
   "outputs": [],
   "source": [
    "import pandas as pd\n",
    "import numpy as np"
   ]
  },
  {
   "cell_type": "code",
   "execution_count": 2,
   "metadata": {},
   "outputs": [],
   "source": [
    "WA = ['AVA', 'BPAT','CHPD','DOPD','GCPD','PSEI','SCL','TPWR','AVA', 'BPAT']\n",
    "OR = ['BPAT','GRID','IPCO','PACW','PGE']\n",
    "CAnorth = ['BANC','CISO','PACW','BPAT']\n",
    "CABayArea = ['CISO']\n",
    "CAcentral = ['CISO', 'TIDC']\n",
    "CAsw = ['CISO', 'LDWP']\n",
    "CAse = ['CISO', 'IID']\n",
    "NV = ['NEVP']\n",
    "AZ = ['AZPS','DEAA','GRIF','GRMA','HGMA','PNM','SRP','TEPC','WALC']\n",
    "UT = ['PACE']\n",
    "NM = ['EPE','PNM']\n",
    "CO = ['PSCO','WACM']\n",
    "WY = ['PACE','WACM']\n",
    "ID = ['AVA','BPAT','IPCO','PACE']\n",
    "MT = ['BPAT','GWA','NWMT','WAUW','WWA'] \n",
    "ElPaso = ['EPE']\n",
    "\n",
    "ba_all = sorted(list(set().union(WA,OR,CAnorth,CABayArea,CAcentral,CAsw,CAse,NV,AZ,UT,NM,CO,WY,ID,MT,ElPaso)))"
   ]
  },
  {
   "cell_type": "code",
   "execution_count": 3,
   "metadata": {},
   "outputs": [],
   "source": [
    "us_state_abbrev = {\n",
    "    'Alabama': 'AL',\n",
    "    'Alaska': 'AK',\n",
    "    'Arizona': 'AZ',\n",
    "    'Arkansas': 'AR',\n",
    "    'California': 'CA',\n",
    "    'Colorado': 'CO',\n",
    "    'Connecticut': 'CT',\n",
    "    'Delaware': 'DE',\n",
    "    'District of Columbia': 'DC',\n",
    "    'Florida': 'FL',\n",
    "    'Georgia': 'GA',\n",
    "    'Hawaii': 'HI',\n",
    "    'Idaho': 'ID',\n",
    "    'Illinois': 'IL',\n",
    "    'Indiana': 'IN',\n",
    "    'Iowa': 'IA',\n",
    "    'Kansas': 'KS',\n",
    "    'Kentucky': 'KY',\n",
    "    'Louisiana': 'LA',\n",
    "    'Maine': 'ME',\n",
    "    'Maryland': 'MD',\n",
    "    'Massachusetts': 'MA',\n",
    "    'Michigan': 'MI',\n",
    "    'Minnesota': 'MN',\n",
    "    'Mississippi': 'MS',\n",
    "    'Missouri': 'MO',\n",
    "    'Montana': 'MT',\n",
    "    'Nebraska': 'NE',\n",
    "    'Nevada': 'NV',\n",
    "    'New Hampshire': 'NH',\n",
    "    'New Jersey': 'NJ',\n",
    "    'New Mexico': 'NM',\n",
    "    'New York': 'NY',\n",
    "    'North Carolina': 'NC',\n",
    "    'North Dakota': 'ND',\n",
    "    'Ohio': 'OH',\n",
    "    'Oklahoma': 'OK',\n",
    "    'Oregon': 'OR',\n",
    "    'Pennsylvania': 'PA',\n",
    "    'Rhode Island': 'RI',\n",
    "    'South Carolina': 'SC',\n",
    "    'South Dakota': 'SD',\n",
    "    'Tennessee': 'TN',\n",
    "    'Texas': 'TX',\n",
    "    'Utah': 'UT',\n",
    "    'Vermont': 'VT',\n",
    "    'Virginia': 'VA',\n",
    "    'Washington': 'WA',\n",
    "    'West Virginia': 'WV',\n",
    "    'Wisconsin': 'WI',\n",
    "    'Wyoming': 'WY',\n",
    "}"
   ]
  },
  {
   "cell_type": "code",
   "execution_count": 4,
   "metadata": {},
   "outputs": [
    {
     "ename": "SyntaxError",
     "evalue": "invalid syntax (<ipython-input-4-679734615c73>, line 4)",
     "output_type": "error",
     "traceback": [
      "\u001b[1;36m  File \u001b[1;32m\"<ipython-input-4-679734615c73>\"\u001b[1;36m, line \u001b[1;32m4\u001b[0m\n\u001b[1;33m    service_territory_file = 'Service_Territory_2016.xlsx'  #get utility-county mapping\u001b[0m\n\u001b[1;37m                                                                                       \n^\u001b[0m\n\u001b[1;31mSyntaxError\u001b[0m\u001b[1;31m:\u001b[0m invalid syntax\n"
     ]
    }
   ],
   "source": [
    "dir_861 = 'U:\\\\src\\\\PreREISE\\\\prereise\\\\gather\\\\demanddata\\\\EIA\\\\demo\\\\data\\\\f8612016\\\\'\n",
    "dir_pop = 'U:\\\\src\\\\PreREISE\\\\prereise\\\\gather\\\\demanddata\\\\EIA\\\\demo\\\\data\\\\US_Counties_Population\\\\'\n",
    "dir_BA =  'U:\\\\src\\\\PreREISE\\\\prereise\\\\gather\\\\demanddata\\\\EIA\\\\test\\\\data\\\\\n",
    "\n",
    "service_territory_file = 'Service_Territory_2016.xlsx'  #get utility-county mapping\n",
    "ba_counts_file = 'Sales_Ult_Cust_2016.xlsx'  #Get utility-BAname mapping\n",
    "ba_id_map_file = 'Balancing_Authority_2016.xlsx'  #use for checking final join: which BAs by state\n",
    "\n",
    "#This assumes data has been through outlier fixing for now\n",
    "ba_demand_file = 'BA_2016.csv'\n",
    "\n",
    "#This file is edited from original due to mysterious read problems\n",
    "us_counties_pop_file = 'USCountyPop.csv'\n",
    "\n",
    "service_territory =  pd.read_excel(io = dir_861 + '/' + service_territory_file, \n",
    "                                   header = 0,\n",
    "                                   dtype = {'Utility Number': str, 'County': str, 'State': str}\n",
    "                                  )\n",
    "ba_counts = pd.read_excel(io = dir_861 + '/' + ba_counts_file, \n",
    "                          header = 0, usecols = 'B,G,I,W', skiprows = [0,1], \n",
    "                          dtype = {'Utility Number': str, 'BA_CODE': str, 'State': str}\n",
    "                          #sheet_name = ['States']\n",
    "                         )\n",
    "counties_pop = pd.read_csv(dir_pop + '/' + us_counties_pop_file, header=0)\n",
    "ba_id_map = pd.read_excel(io = dir_861 + '/' + ba_id_map_file, header = 0)\n",
    "ba_demand = pd.read_csv(dir_BA + '/' + ba_demand_file, header = 0, parse_dates = True, index_col = 'UTC Time')"
   ]
  },
  {
   "cell_type": "code",
   "execution_count": null,
   "metadata": {},
   "outputs": [],
   "source": [
    "service_territory.head()"
   ]
  },
  {
   "cell_type": "code",
   "execution_count": null,
   "metadata": {},
   "outputs": [],
   "source": [
    "ba_counts.head()"
   ]
  },
  {
   "cell_type": "code",
   "execution_count": null,
   "metadata": {},
   "outputs": [],
   "source": [
    "ba_county = pd.merge(service_territory, ba_counts, how='outer', on ='Utility Number')"
   ]
  },
  {
   "cell_type": "code",
   "execution_count": null,
   "metadata": {},
   "outputs": [],
   "source": [
    "ba_county.head(10)"
   ]
  },
  {
   "cell_type": "code",
   "execution_count": null,
   "metadata": {},
   "outputs": [],
   "source": [
    "ba_county.loc[ba_county['BA_CODE'].isin(ba_all)].sort_values('BA_CODE').head(20)"
   ]
  },
  {
   "cell_type": "code",
   "execution_count": null,
   "metadata": {},
   "outputs": [],
   "source": [
    "counties_pop.drop(columns = ['GEO.id', 'GEO.id2', 'rescen42010', 'resbase42010',\n",
    "       'respop72010', 'respop72011', 'respop72012', 'respop72013',\n",
    "       'respop72014', 'respop72015','respop72017'], inplace = True)"
   ]
  },
  {
   "cell_type": "code",
   "execution_count": null,
   "metadata": {},
   "outputs": [],
   "source": [
    "counties_pop.columns"
   ]
  },
  {
   "cell_type": "code",
   "execution_count": null,
   "metadata": {},
   "outputs": [],
   "source": [
    "counties_pop.head()"
   ]
  },
  {
   "cell_type": "code",
   "execution_count": null,
   "metadata": {},
   "outputs": [],
   "source": [
    "counties_pop['County'] = counties_pop['GEO.display-label'].str.split(',',expand=True)[0].str.replace(' County','')\n",
    "counties_pop['State'] = counties_pop['GEO.display-label'].str.split(',',expand=True)[1].str.replace('^ ','')\n",
    "counties_pop['State'] = counties_pop['State'].apply(lambda x: us_state_abbrev[x])\n",
    "counties_pop.drop(columns = 'GEO.display-label', inplace = True)\n",
    "counties_pop.rename(columns = {'respop72016':'pop2016'}, inplace=True)"
   ]
  },
  {
   "cell_type": "code",
   "execution_count": null,
   "metadata": {},
   "outputs": [],
   "source": [
    "counties_pop.head()"
   ]
  },
  {
   "cell_type": "code",
   "execution_count": null,
   "metadata": {},
   "outputs": [],
   "source": [
    "# Match BA to county: make table :  BAname-County-State-Population"
   ]
  },
  {
   "cell_type": "code",
   "execution_count": null,
   "metadata": {},
   "outputs": [],
   "source": [
    "ba_county.head()\n"
   ]
  },
  {
   "cell_type": "code",
   "execution_count": null,
   "metadata": {},
   "outputs": [],
   "source": [
    "ba_county_uniq = ba_county[['BA_CODE','County','State_x','State_y']].drop_duplicates(keep='first')\n",
    "ba_county_uniq.drop(columns = ['State_y'], inplace=True)\n",
    "ba_county_uniq.rename(columns = {'State_x':'State'}, inplace=True)\n",
    "ba_county_uniq.dropna(axis = 0, how = 'any', inplace=True)\n",
    "ba_county_uniq.drop_duplicates(keep = 'first', inplace=True)"
   ]
  },
  {
   "cell_type": "code",
   "execution_count": null,
   "metadata": {},
   "outputs": [],
   "source": [
    "ba_county_uniq.head()"
   ]
  },
  {
   "cell_type": "code",
   "execution_count": null,
   "metadata": {},
   "outputs": [],
   "source": [
    "counties_pop.head()"
   ]
  },
  {
   "cell_type": "code",
   "execution_count": null,
   "metadata": {},
   "outputs": [],
   "source": [
    "ba_counties_pop = pd.merge(ba_county_uniq, counties_pop, how = 'inner', on = ['County','State'])\n",
    "ba_counties_pop['County_State'] = ba_counties_pop['County'] + ',' + ba_counties_pop['State']"
   ]
  },
  {
   "cell_type": "code",
   "execution_count": null,
   "metadata": {},
   "outputs": [],
   "source": [
    "ba_counties_pop.head()"
   ]
  },
  {
   "cell_type": "code",
   "execution_count": null,
   "metadata": {},
   "outputs": [],
   "source": [
    "ba_county_uniq['BA_CODE'].unique()"
   ]
  },
  {
   "cell_type": "code",
   "execution_count": null,
   "metadata": {},
   "outputs": [],
   "source": [
    "ba_counties_pop['BA_CODE'].unique()"
   ]
  },
  {
   "cell_type": "code",
   "execution_count": null,
   "metadata": {},
   "outputs": [],
   "source": [
    "print(len(ba_county_uniq['BA_CODE'].unique()))\n",
    "print(len(ba_counties_pop['BA_CODE'].unique()))"
   ]
  },
  {
   "cell_type": "code",
   "execution_count": null,
   "metadata": {},
   "outputs": [],
   "source": [
    "# Get WECC BAs"
   ]
  },
  {
   "cell_type": "code",
   "execution_count": null,
   "metadata": {},
   "outputs": [],
   "source": [
    "wecc_ba_counties_pop = ba_counties_pop.loc[ba_counties_pop['BA_CODE'].isin(ba_all)]"
   ]
  },
  {
   "cell_type": "code",
   "execution_count": null,
   "metadata": {},
   "outputs": [],
   "source": [
    "wecc_ba_counties_pop.shape"
   ]
  },
  {
   "cell_type": "code",
   "execution_count": null,
   "metadata": {},
   "outputs": [],
   "source": [
    "wecc_ba_counties_pop.loc[wecc_ba_counties_pop['State']=='NV'].sort_values('BA_CODE')\n"
   ]
  },
  {
   "cell_type": "code",
   "execution_count": null,
   "metadata": {},
   "outputs": [],
   "source": [
    "wecc_ba_counties_pop.loc[wecc_ba_counties_pop['BA_CODE']=='IID']"
   ]
  },
  {
   "cell_type": "markdown",
   "metadata": {},
   "source": [
    "* Comparing with Balancing_Authority_2016.xlsx, BA='IID' is missing in NV list\n",
    "* Comparing with Balancing_Authority_JAN17.pdf (which can arguably be lower resolution): only NEVP serves NV\n",
    "* Document inconsistencies for later checking: which are real and which are due to the joins? (if any of BA, County, or State are missing, they drop off the list); How many counties are covered? For example, 'Fond du Lac, WI' is only present in county_pop file."
   ]
  },
  {
   "cell_type": "code",
   "execution_count": null,
   "metadata": {},
   "outputs": [],
   "source": [
    "wecc_ba_counties_pop.loc[wecc_ba_counties_pop['State']=='UT']['BA_CODE'].unique()"
   ]
  },
  {
   "cell_type": "code",
   "execution_count": null,
   "metadata": {},
   "outputs": [],
   "source": [
    "wecc_ba_counties_pop['BA_CODE'].unique()"
   ]
  },
  {
   "cell_type": "code",
   "execution_count": null,
   "metadata": {},
   "outputs": [],
   "source": [
    "len(wecc_ba_counties_pop['BA_CODE'].unique())"
   ]
  },
  {
   "cell_type": "code",
   "execution_count": null,
   "metadata": {},
   "outputs": [],
   "source": [
    "wecc_ba_counties_pop.loc[wecc_ba_counties_pop['BA_CODE']=='TEPC']"
   ]
  },
  {
   "cell_type": "code",
   "execution_count": null,
   "metadata": {},
   "outputs": [],
   "source": [
    "counties_pop.head()"
   ]
  },
  {
   "cell_type": "code",
   "execution_count": null,
   "metadata": {},
   "outputs": [],
   "source": [
    "ba_counties_pop.loc[ba_counties_pop['BA_CODE']== 'EPE']['County'].tolist()"
   ]
  },
  {
   "cell_type": "code",
   "execution_count": null,
   "metadata": {},
   "outputs": [],
   "source": [
    "# Load Zone mapping: use county-pop file; except CA and ElPaso\n",
    "wecc_states_list = ['WA','OR','CA','NV','AZ','UT','NM','CO','WY','MT']\n",
    "\n",
    "zone_county = {}\n",
    "for r in wecc_states_list:\n",
    "    zone_county[r] = counties_pop.loc[counties_pop['State'] == r]['County'].tolist()\n",
    "\n",
    "zone_county['Northern_California'] = ['Butte','Colusa','Del Norte','El Dorado','Glenn','Humboldt',\n",
    "                       'Lake','Lassen','Mendocino','Modoc','Nevada','Placer','Plumas',\n",
    "                       'Sacramento','Shasta','Sierra','Siskiyou','Sutter','Tehama',\n",
    "                       'Trinity','Yolo','Yuba']\n",
    "zone_county['Bay_Area'] = ['Alameda','Contra Costa','Marin','Napa','San Francisco','San Mateo',\n",
    "            'Santa Clara','Santa Cruz','Solano','Sonoma']\n",
    "zone_county['Central_California'] = ['Alpine','Amador','Calaveras','Fresno','Inyo','Kings','Madera',\n",
    "                      'Mariposa','Merced','Mono','Monterey','San Benito','San Joaquin',\n",
    "                      'Stanislaus','Tulare','Tuolumne']\n",
    "zone_county['Southeast_California'] = ['Imperial','Orange','Riverside','San Bernardino','San Diego']\n",
    "zone_county['Southwest_California'] = ['Kern','Los Angeles','San Luis Obispo','Santa Barbara','Ventura']\n",
    "\n",
    "#El Paso is defined by BA= EPE, so counties served by EPE\n",
    "zone_county['El_Paso'] = ba_counties_pop.loc[ba_counties_pop['BA_CODE']== 'EPE']['County'].tolist()"
   ]
  },
  {
   "cell_type": "markdown",
   "metadata": {},
   "source": [
    "* WA = ['AVA', 'BPAT','CHPD','DOPD','GCPD','PSEI','SCL','TPWR','AVA', 'BPAT']\n",
    "* OR = ['BPAT','GRID','IPCO','PACW','PGE']\n",
    "* CAnorth = ['BANC','CISO','PACW','BPAT']\n",
    "* CABayArea = ['CISO']\n",
    "* CAcentral = ['CISO', 'TIDC']\n",
    "* CAsw = ['CISO', 'LDWP']\n",
    "* CAse = ['CISO', 'IID']\n",
    "* NV = ['NEVP']\n",
    "* AZ = ['AZPS','DEAA','GRIF','GRMA','HGMA','PNM','SRP','TEPC','WALC']\n",
    "* UT = ['PACE']\n",
    "* NM = ['EPE','PNM']\n",
    "* CO = ['PSCO','WACM']\n",
    "* WY = ['PACE','WACM']\n",
    "* ID = ['AVA','BPAT','IPCO','PACE']\n",
    "* MT = ['BPAT','GWA','NWMT','WAUW','WWA'] \n",
    "* ElPaso = ['EPE']"
   ]
  },
  {
   "cell_type": "code",
   "execution_count": null,
   "metadata": {},
   "outputs": [],
   "source": [
    "wecc_ba_counties_pop.head()"
   ]
  },
  {
   "cell_type": "code",
   "execution_count": null,
   "metadata": {},
   "outputs": [],
   "source": [
    "def assign_demand_by_county(ba_county_pop, zone_county_dict, ba_demand):\n",
    "    '''\n",
    "    ba_county_pop = dataframe containing BA-county-population mapping\n",
    "    zone_county_dict = dict containing zone-counties mapping\n",
    "    ba_demand = dataframe of counts of all BAs for 2016\n",
    "    '''\n",
    "    \n",
    "    \n",
    "    #for each load zone:\n",
    "    \n",
    "\n",
    "    \n",
    "    \n",
    "    \n",
    "    \n",
    "    \n",
    "    \n",
    "    "
   ]
  },
  {
   "cell_type": "code",
   "execution_count": null,
   "metadata": {},
   "outputs": [],
   "source": [
    "BA_list = ba_counties_pop['BA_CODE'].unique()\n",
    "ba_county_dict = {}\n",
    "\n",
    "for ba in BA_list:\n",
    "    ba_county_dict[ba] = "
   ]
  },
  {
   "cell_type": "code",
   "execution_count": null,
   "metadata": {},
   "outputs": [],
   "source": [
    "ba_counties_pop.head()"
   ]
  },
  {
   "cell_type": "code",
   "execution_count": null,
   "metadata": {},
   "outputs": [],
   "source": [
    "ba_counties_pop['County'] + ',' + ba_counties_pop['State']"
   ]
  },
  {
   "cell_type": "code",
   "execution_count": null,
   "metadata": {},
   "outputs": [],
   "source": []
  }
 ],
 "metadata": {
  "kernelspec": {
   "display_name": "Python 3",
   "language": "python",
   "name": "python3"
  },
  "language_info": {
   "codemirror_mode": {
    "name": "ipython",
    "version": 3
   },
   "file_extension": ".py",
   "mimetype": "text/x-python",
   "name": "python",
   "nbconvert_exporter": "python",
   "pygments_lexer": "ipython3",
   "version": "3.6.5"
  }
 },
 "nbformat": 4,
 "nbformat_minor": 2
}
