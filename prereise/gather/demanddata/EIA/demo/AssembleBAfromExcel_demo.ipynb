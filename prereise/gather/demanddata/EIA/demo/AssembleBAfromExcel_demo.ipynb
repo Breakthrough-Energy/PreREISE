{
 "cells": [
  {
   "cell_type": "markdown",
   "metadata": {},
   "source": [
    "Create BA demand counts dataframe from Excel Spreadsheets.\n"
   ]
  },
  {
   "cell_type": "code",
   "execution_count": 1,
   "metadata": {},
   "outputs": [],
   "source": [
    "import numpy as np\n",
    "import pandas as pd\n",
    "\n",
    "from datetime import datetime\n",
    "from dateutil.parser import parse\n",
    "\n",
    "import os\n",
    "\n",
    "from prereise.gather.demanddata.eia import get_eia_data"
   ]
  },
  {
   "cell_type": "code",
   "execution_count": 2,
   "metadata": {},
   "outputs": [],
   "source": [
    "#Set location of EIA data\n",
    "dir1 = os.path.join('..','test','data')\n",
    "#Set dates\n",
    "start = pd.to_datetime('2016-01-01 00:00:00')\n",
    "end = pd.to_datetime('2016-12-31 23:00:00')"
   ]
  },
  {
   "cell_type": "markdown",
   "metadata": {},
   "source": [
    "These are the regions corresponding to bus areas 1-16 in numerical order from the case10K file."
   ]
  },
  {
   "cell_type": "code",
   "execution_count": 3,
   "metadata": {},
   "outputs": [],
   "source": [
    "WA = ['AVA', 'BPAT','CHPD','DOPD','GCPD','PSEI','SCL','TPWR','AVA', 'BPAT']\n",
    "OR = ['BPAT','GRID','IPCO','PACW','PGE']\n",
    "CAnorth = ['BANC','CISO','PACW','BPAT']\n",
    "CABayArea = ['CISO']\n",
    "CAcentral = ['CISO', 'TIDC']\n",
    "CAsw = ['CISO', 'LDWP']\n",
    "CAse = ['CISO', 'IID']\n",
    "NV = ['NEVP']\n",
    "AZ = ['AZPS','DEAA','GRIF','GRMA','HGMA','PNM','SRP','TEPC','WALC']\n",
    "UT = ['PACE']\n",
    "NM = ['EPE','PNM']\n",
    "CO = ['PSCO','WACM']\n",
    "WY = ['PACE','WACM']\n",
    "ID = ['AVA','BPAT','IPCO','PACE']\n",
    "MT = ['BPAT','GWA','NWMT','WAUW','WWA'] \n",
    "ElPaso = ['EPE']\n",
    "\n",
    "BA_all = sorted(list(set().union(WA,OR,CAnorth,CABayArea,CAcentral,CAsw,CAse,NV,AZ,UT,NM,CO,WY,ID,MT,ElPaso)))\n"
   ]
  },
  {
   "cell_type": "code",
   "execution_count": 4,
   "metadata": {},
   "outputs": [
    {
     "name": "stdout",
     "output_type": "stream",
     "text": [
      "['AVA', 'AZPS', 'BANC', 'BPAT', 'CHPD', 'CISO', 'DEAA', 'DOPD', 'EPE', 'GCPD', 'GRID', 'GRIF', 'GRMA', 'GWA', 'HGMA', 'IID', 'IPCO', 'LDWP', 'NEVP', 'NWMT', 'PACE', 'PACW', 'PGE', 'PNM', 'PSCO', 'PSEI', 'SCL', 'SRP', 'TEPC', 'TIDC', 'TPWR', 'WACM', 'WALC', 'WAUW', 'WWA']\n"
     ]
    }
   ],
   "source": [
    "print(BA_all)"
   ]
  },
  {
   "cell_type": "markdown",
   "metadata": {},
   "source": [
    "Can replace this list with BA_all; that will take about 20 minutes"
   ]
  },
  {
   "cell_type": "code",
   "execution_count": 5,
   "metadata": {},
   "outputs": [
    {
     "name": "stdout",
     "output_type": "stream",
     "text": [
      "BPAT\n",
      "CISO\n",
      "EPE\n"
     ]
    },
    {
     "data": {
      "text/html": [
       "<div>\n",
       "<style scoped>\n",
       "    .dataframe tbody tr th:only-of-type {\n",
       "        vertical-align: middle;\n",
       "    }\n",
       "\n",
       "    .dataframe tbody tr th {\n",
       "        vertical-align: top;\n",
       "    }\n",
       "\n",
       "    .dataframe thead th {\n",
       "        text-align: right;\n",
       "    }\n",
       "</style>\n",
       "<table border=\"1\" class=\"dataframe\">\n",
       "  <thead>\n",
       "    <tr style=\"text-align: right;\">\n",
       "      <th></th>\n",
       "      <th>BPAT</th>\n",
       "      <th>CISO</th>\n",
       "      <th>EPE</th>\n",
       "    </tr>\n",
       "  </thead>\n",
       "  <tbody>\n",
       "  </tbody>\n",
       "</table>\n",
       "</div>"
      ],
      "text/plain": [
       "Empty DataFrame\n",
       "Columns: [BPAT, CISO, EPE]\n",
       "Index: []"
      ]
     },
     "execution_count": 5,
     "metadata": {},
     "output_type": "execute_result"
    }
   ],
   "source": [
    "sample_BA_list = ['BPAT','CISO','EPE']\n",
    "BA_from_excel = get_eia_data.from_excel(dir1, sample_BA_list, start, end)\n",
    "\n",
    "BA_from_excel.head()"
   ]
  },
  {
   "cell_type": "markdown",
   "metadata": {},
   "source": [
    "Save file since method 'from_excel' is slow; further preprocessing can be done with this csv file, e.g., the demo/OutputDemandProfiles.ipynb"
   ]
  }
 ],
 "metadata": {
  "kernelspec": {
   "display_name": "Python 3",
   "language": "python",
   "name": "python3"
  },
  "language_info": {
   "codemirror_mode": {
    "name": "ipython",
    "version": 3
   },
   "file_extension": ".py",
   "mimetype": "text/x-python",
   "name": "python",
   "nbconvert_exporter": "python",
   "pygments_lexer": "ipython3",
   "version": "3.6.7rc2"
  }
 },
 "nbformat": 4,
 "nbformat_minor": 2
}
