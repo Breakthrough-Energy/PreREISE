{
 "cells": [
  {
   "cell_type": "markdown",
   "metadata": {},
   "source": [
    "Create BA demand counts dataframe from Excel Spreadsheets.\n"
   ]
  },
  {
   "cell_type": "code",
   "execution_count": 1,
   "metadata": {},
   "outputs": [],
   "source": [
    "import numpy as np\n",
    "import pandas as pd\n",
    "\n",
    "from datetime import datetime\n",
    "from dateutil.parser import parse\n",
    "\n",
    "import sys\n",
    "sys.path.append(\"..\")\n",
    "\n",
    "import getEIAdata"
   ]
  },
  {
   "cell_type": "code",
   "execution_count": 2,
   "metadata": {},
   "outputs": [],
   "source": [
    "#Data directories\n",
    "dir1 = 'L:\\\\Renewable Energy\\\\EnergyGridModeling\\\\Data\\\\Western\\\\demand_data\\\\raw\\\\WECC_demand_2015-2018'\n",
    "savedir = 'C:\\\\Users\\\\mlamherr\\\\Data'\n",
    "\n",
    "#Dates\n",
    "start = pd.to_datetime('2016-01-01 00:00:00')\n",
    "end = pd.to_datetime('2016-12-31 23:00:00')"
   ]
  },
  {
   "cell_type": "markdown",
   "metadata": {},
   "source": [
    "These are the regions corresponding to bus areas 1-16 in numerical order from the case10K file."
   ]
  },
  {
   "cell_type": "code",
   "execution_count": 3,
   "metadata": {},
   "outputs": [],
   "source": [
    "WA = ['AVA', 'BPAT','CHPD','DOPD','GCPD','PSEI','SCL','TPWR','AVA', 'BPAT']\n",
    "OR = ['BPAT','GRID','IPCO','PACW','PGE']\n",
    "CAnorth = ['BANC','CISO','PACW','BPAT']\n",
    "CABayArea = ['CISO']\n",
    "CAcentral = ['CISO', 'TIDC']\n",
    "CAsw = ['CISO', 'LDWP']\n",
    "CAse = ['CISO', 'IID']\n",
    "NV = ['NEVP']\n",
    "AZ = ['AZPS','DEAA','GRIF','GRMA','HGMA','PNM','SRP','TEPC','WALC']\n",
    "UT = ['PACE']\n",
    "NM = ['EPE','PNM']\n",
    "CO = ['PSCO','WACM']\n",
    "WY = ['PACE','WACM']\n",
    "ID = ['AVA','BPAT','IPCO','PACE']\n",
    "MT = ['BPAT','GWA','NWMT','WAUW','WWA'] \n",
    "ElPaso = ['EPE']\n",
    "\n",
    "BA_all = sorted(list(set().union(WA,OR,CAnorth,CABayArea,CAcentral,CAsw,CAse,NV,AZ,UT,NM,CO,WY,ID,MT,ElPaso)))\n"
   ]
  },
  {
   "cell_type": "code",
   "execution_count": 4,
   "metadata": {},
   "outputs": [
    {
     "name": "stdout",
     "output_type": "stream",
     "text": [
      "['AVA', 'AZPS', 'BANC', 'BPAT', 'CHPD', 'CISO', 'DEAA', 'DOPD', 'EPE', 'GCPD', 'GRID', 'GRIF', 'GRMA', 'GWA', 'HGMA', 'IID', 'IPCO', 'LDWP', 'NEVP', 'NWMT', 'PACE', 'PACW', 'PGE', 'PNM', 'PSCO', 'PSEI', 'SCL', 'SRP', 'TEPC', 'TIDC', 'TPWR', 'WACM', 'WALC', 'WAUW', 'WWA']\n"
     ]
    }
   ],
   "source": [
    "print(BA_all)"
   ]
  },
  {
   "cell_type": "markdown",
   "metadata": {},
   "source": [
    "Can replace this list with BA_all; that will take about 20 minutes"
   ]
  },
  {
   "cell_type": "code",
   "execution_count": 5,
   "metadata": {},
   "outputs": [
    {
     "name": "stdout",
     "output_type": "stream",
     "text": [
      "BPAT\n",
      "CISO\n",
      "EPE\n"
     ]
    },
    {
     "data": {
      "text/html": [
       "<div>\n",
       "<style scoped>\n",
       "    .dataframe tbody tr th:only-of-type {\n",
       "        vertical-align: middle;\n",
       "    }\n",
       "\n",
       "    .dataframe tbody tr th {\n",
       "        vertical-align: top;\n",
       "    }\n",
       "\n",
       "    .dataframe thead th {\n",
       "        text-align: right;\n",
       "    }\n",
       "</style>\n",
       "<table border=\"1\" class=\"dataframe\">\n",
       "  <thead>\n",
       "    <tr style=\"text-align: right;\">\n",
       "      <th></th>\n",
       "      <th>BPAT</th>\n",
       "      <th>CISO</th>\n",
       "      <th>EPE</th>\n",
       "    </tr>\n",
       "  </thead>\n",
       "  <tbody>\n",
       "    <tr>\n",
       "      <th>2016-01-01 00:00:00</th>\n",
       "      <td>7689.0</td>\n",
       "      <td>23745.0</td>\n",
       "      <td>848.0</td>\n",
       "    </tr>\n",
       "    <tr>\n",
       "      <th>2016-01-01 01:00:00</th>\n",
       "      <td>8143.0</td>\n",
       "      <td>24213.0</td>\n",
       "      <td>948.0</td>\n",
       "    </tr>\n",
       "    <tr>\n",
       "      <th>2016-01-01 02:00:00</th>\n",
       "      <td>8634.0</td>\n",
       "      <td>25174.0</td>\n",
       "      <td>988.0</td>\n",
       "    </tr>\n",
       "    <tr>\n",
       "      <th>2016-01-01 03:00:00</th>\n",
       "      <td>8598.0</td>\n",
       "      <td>28423.0</td>\n",
       "      <td>959.0</td>\n",
       "    </tr>\n",
       "    <tr>\n",
       "      <th>2016-01-01 04:00:00</th>\n",
       "      <td>8390.0</td>\n",
       "      <td>28784.0</td>\n",
       "      <td>929.0</td>\n",
       "    </tr>\n",
       "  </tbody>\n",
       "</table>\n",
       "</div>"
      ],
      "text/plain": [
       "                       BPAT     CISO    EPE\n",
       "2016-01-01 00:00:00  7689.0  23745.0  848.0\n",
       "2016-01-01 01:00:00  8143.0  24213.0  948.0\n",
       "2016-01-01 02:00:00  8634.0  25174.0  988.0\n",
       "2016-01-01 03:00:00  8598.0  28423.0  959.0\n",
       "2016-01-01 04:00:00  8390.0  28784.0  929.0"
      ]
     },
     "execution_count": 5,
     "metadata": {},
     "output_type": "execute_result"
    }
   ],
   "source": [
    "sample_BA_list = ['BPAT','CISO','EPE']\n",
    "BA_from_excel = getEIAdata.from_excel(dir1, sample_BA_list, start, end)\n",
    "\n",
    "BA_from_excel.head()"
   ]
  },
  {
   "cell_type": "markdown",
   "metadata": {},
   "source": [
    "Save file since method 'from_excel' is slow; further preprocessing can be done with this csv file, e.g., the demo/OutputDemandProfiles.ipynb"
   ]
  },
  {
   "cell_type": "code",
   "execution_count": 6,
   "metadata": {},
   "outputs": [],
   "source": [
    "BA_from_excel.to_csv(savedir + \"/\" + 'BA_2016_test.csv', index_label = 'UTC Time')"
   ]
  }
 ],
 "metadata": {
  "kernelspec": {
   "display_name": "Python 3",
   "language": "python",
   "name": "python3"
  },
  "language_info": {
   "codemirror_mode": {
    "name": "ipython",
    "version": 3
   },
   "file_extension": ".py",
   "mimetype": "text/x-python",
   "name": "python",
   "nbconvert_exporter": "python",
   "pygments_lexer": "ipython3",
   "version": "3.6.5"
  }
 },
 "nbformat": 4,
 "nbformat_minor": 2
}
