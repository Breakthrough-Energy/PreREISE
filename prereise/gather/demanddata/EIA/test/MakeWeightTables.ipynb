{
 "cells": [
  {
   "cell_type": "code",
   "execution_count": 1,
   "metadata": {},
   "outputs": [],
   "source": [
    "import numpy as np\n",
    "import pandas as pd\n",
    "\n",
    "from datetime import datetime\n",
    "from dateutil.parser import parse\n"
   ]
  },
  {
   "cell_type": "code",
   "execution_count": 2,
   "metadata": {},
   "outputs": [],
   "source": [
    "#Data directories\n",
    "popdir = 'C:\\\\Users\\\\mlamherr\\\\Data'\n",
    "savedir = 'C:\\\\Users\\\\mlamherr\\\\Data'"
   ]
  },
  {
   "cell_type": "code",
   "execution_count": 3,
   "metadata": {},
   "outputs": [],
   "source": [
    "#Bus areas 1-16 in numerical order as case10K file\n",
    "WA = ['AVA', 'BPAT','CHPD','DOPD','GCPD','PSEI','SCL','TPWR','AVA', 'BPAT']\n",
    "OR = ['BPAT','GRID','IPCO','PACW','PGE']\n",
    "CAnorth = ['BANC','CISO','PACW','BPAT']\n",
    "CABayArea = ['CISO']\n",
    "CAcentral = ['CISO', 'TIDC']\n",
    "CAsw = ['CISO', 'LDWP']\n",
    "CAse = ['CISO', 'IID']\n",
    "NV = ['NEVP']\n",
    "AZ = ['AZPS','DEAA','GRIF','GRMA','HGMA','PNM','SRP','TEPC','WALC']\n",
    "UT = ['PACE']\n",
    "NM = ['EPE','PNM']\n",
    "CO = ['PSCO','WACM']\n",
    "WY = ['PACE','WACM']\n",
    "ID = ['AVA','BPAT','IPCO','PACE']\n",
    "MT = ['BPAT','GWA','NWMT','WAUW','WWA'] \n",
    "ElPaso = ['EPE']\n",
    "\n",
    "BA_all = sorted(list(set().union(WA,OR,CAnorth,CABayArea,CAcentral,CAsw,CAse,NV,AZ,UT,NM,CO,WY,ID,MT,ElPaso)))"
   ]
  },
  {
   "cell_type": "markdown",
   "metadata": {},
   "source": [
    "#### CA regions (county groups)\n",
    "\n",
    "* Northern California: Butte, Colusa, Del Norte, El Dorado, Glenn, Humboldt, Lake, Lassen, Mendocino, Modoc, Nevada, Placer, Plumas, Sacramento, Shasta, Sierra, Siskiyou, Sutter, Tehama, Trinity, Yolo, Yuba\n",
    "* Bay Area: Alameda, Contra Costa, Marin, Napa, San Francisco, San Mateo, Santa Clara, Santa Cruz, Solano, Sonoma\n",
    "* Central California: Alpine, Amador, Calaveras, Fresno, Inyo, Kings, Madera, Mariposa, Merced, Mono, Monterey, San Benito, San Joaquin, Stanislaus, Tulare, Tuolumne\n",
    "* Southeast California: Imperial, Orange, Riverside, San Bernardino, San Diego\n",
    "* Southwest California: Kern, Los Angeles, San Luis Obispo, Santa Barbara, Ventura"
   ]
  },
  {
   "cell_type": "code",
   "execution_count": 4,
   "metadata": {
    "scrolled": true
   },
   "outputs": [
    {
     "name": "stdout",
     "output_type": "stream",
     "text": [
      "22\n",
      "10\n",
      "16\n",
      "5\n",
      "5\n",
      "58\n",
      "58\n",
      "58\n"
     ]
    }
   ],
   "source": [
    "Northern_California = ['Butte','Colusa','Del Norte','El Dorado','Glenn','Humboldt',\n",
    "                       'Lake','Lassen','Mendocino','Modoc','Nevada','Placer','Plumas',\n",
    "                       'Sacramento','Shasta','Sierra','Siskiyou','Sutter','Tehama',\n",
    "                       'Trinity','Yolo','Yuba']\n",
    "Bay_Area = ['Alameda','Contra Costa','Marin','Napa','San Francisco','San Mateo',\n",
    "            'Santa Clara','Santa Cruz','Solano','Sonoma']\n",
    "Central_California = ['Alpine','Amador','Calaveras','Fresno','Inyo','Kings','Madera',\n",
    "                      'Mariposa','Merced','Mono','Monterey','San Benito','San Joaquin',\n",
    "                      'Stanislaus','Tulare','Tuolumne']\n",
    "Southeast_California = ['Imperial','Orange','Riverside','San Bernardino','San Diego']\n",
    "Southwest_California = ['Kern','Los Angeles','San Luis Obispo','Santa Barbara','Ventura']\n",
    "\n",
    "CA = [Northern_California, Bay_Area, Central_California, Southeast_California, Southwest_California]\n",
    "CAnames = ['Northern_California', 'Bay_Area', 'Central_California', 'Southeast_California', 'Southwest_California']\n",
    "CA_all = Northern_California + Bay_Area + Central_California + Southeast_California +Southwest_California\n",
    "CA_union = list(set().union(Northern_California, Bay_Area, Central_California, Southeast_California, Southwest_California))\n",
    "shortCAnames = ['CAnorth','CABayArea','CAcentral','CAsw','CAse']\n",
    "\n",
    "numCounties = 0\n",
    "for x in CA:\n",
    "    print(len(x))\n",
    "    numCounties = numCounties + len(x)\n",
    "print(numCounties)\n",
    "print(len(CA_all))\n",
    "print(len(CA_union))"
   ]
  },
  {
   "cell_type": "code",
   "execution_count": 5,
   "metadata": {},
   "outputs": [],
   "source": [
    "# CA regions: get populations of demand regions\n",
    "\n",
    "CA_population_file = 'Web_ACS2016_Pop-Race.xlsx'\n",
    "df = pd.read_excel(io = popdir + \"/\" + CA_population_file, sheet_name='Total Pop & Median Age', skiprows=[0,1,2,3,4])\n"
   ]
  },
  {
   "cell_type": "code",
   "execution_count": 6,
   "metadata": {},
   "outputs": [
    {
     "data": {
      "text/html": [
       "<div>\n",
       "<style scoped>\n",
       "    .dataframe tbody tr th:only-of-type {\n",
       "        vertical-align: middle;\n",
       "    }\n",
       "\n",
       "    .dataframe tbody tr th {\n",
       "        vertical-align: top;\n",
       "    }\n",
       "\n",
       "    .dataframe thead th {\n",
       "        text-align: right;\n",
       "    }\n",
       "</style>\n",
       "<table border=\"1\" class=\"dataframe\">\n",
       "  <thead>\n",
       "    <tr style=\"text-align: right;\">\n",
       "      <th></th>\n",
       "      <th>Geography</th>\n",
       "      <th>Estimate</th>\n",
       "      <th>Margin of Error</th>\n",
       "      <th>Estimate.1</th>\n",
       "      <th>Margin of Error.1</th>\n",
       "      <th>Unnamed: 5</th>\n",
       "      <th>Summary Level</th>\n",
       "      <th>County</th>\n",
       "      <th>Place</th>\n",
       "    </tr>\n",
       "  </thead>\n",
       "  <tbody>\n",
       "    <tr>\n",
       "      <th>0</th>\n",
       "      <td>California</td>\n",
       "      <td>39250017</td>\n",
       "      <td>*****</td>\n",
       "      <td>36.4</td>\n",
       "      <td>0.2</td>\n",
       "      <td>NaN</td>\n",
       "      <td>40</td>\n",
       "      <td>NaN</td>\n",
       "      <td>NaN</td>\n",
       "    </tr>\n",
       "    <tr>\n",
       "      <th>1</th>\n",
       "      <td>Alameda County</td>\n",
       "      <td>1647704</td>\n",
       "      <td>*****</td>\n",
       "      <td>37.4</td>\n",
       "      <td>0.2</td>\n",
       "      <td>NaN</td>\n",
       "      <td>50</td>\n",
       "      <td>1.0</td>\n",
       "      <td>NaN</td>\n",
       "    </tr>\n",
       "    <tr>\n",
       "      <th>2</th>\n",
       "      <td>Alameda city</td>\n",
       "      <td>78907</td>\n",
       "      <td>29</td>\n",
       "      <td>42.2</td>\n",
       "      <td>2.1</td>\n",
       "      <td>NaN</td>\n",
       "      <td>160</td>\n",
       "      <td>1.0</td>\n",
       "      <td>562.0</td>\n",
       "    </tr>\n",
       "    <tr>\n",
       "      <th>3</th>\n",
       "      <td>Berkeley city</td>\n",
       "      <td>121241</td>\n",
       "      <td>34</td>\n",
       "      <td>32.1</td>\n",
       "      <td>1.6</td>\n",
       "      <td>NaN</td>\n",
       "      <td>160</td>\n",
       "      <td>1.0</td>\n",
       "      <td>6000.0</td>\n",
       "    </tr>\n",
       "    <tr>\n",
       "      <th>4</th>\n",
       "      <td>Castro Valley CDP</td>\n",
       "      <td>65153</td>\n",
       "      <td>4863</td>\n",
       "      <td>43.1</td>\n",
       "      <td>2.9</td>\n",
       "      <td>NaN</td>\n",
       "      <td>160</td>\n",
       "      <td>1.0</td>\n",
       "      <td>11964.0</td>\n",
       "    </tr>\n",
       "  </tbody>\n",
       "</table>\n",
       "</div>"
      ],
      "text/plain": [
       "           Geography  Estimate Margin of Error  Estimate.1  Margin of Error.1  \\\n",
       "0         California  39250017           *****        36.4                0.2   \n",
       "1     Alameda County   1647704           *****        37.4                0.2   \n",
       "2       Alameda city     78907              29        42.2                2.1   \n",
       "3      Berkeley city    121241              34        32.1                1.6   \n",
       "4  Castro Valley CDP     65153            4863        43.1                2.9   \n",
       "\n",
       "   Unnamed: 5  Summary Level  County    Place  \n",
       "0         NaN             40     NaN      NaN  \n",
       "1         NaN             50     1.0      NaN  \n",
       "2         NaN            160     1.0    562.0  \n",
       "3         NaN            160     1.0   6000.0  \n",
       "4         NaN            160     1.0  11964.0  "
      ]
     },
     "execution_count": 6,
     "metadata": {},
     "output_type": "execute_result"
    }
   ],
   "source": [
    "df.head()"
   ]
  },
  {
   "cell_type": "code",
   "execution_count": 7,
   "metadata": {},
   "outputs": [
    {
     "data": {
      "text/plain": [
       "Index(['Geography', 'Estimate', 'Margin of Error', 'Estimate.1',\n",
       "       'Margin of Error.1', 'Unnamed: 5', 'Summary Level', 'County', 'Place'],\n",
       "      dtype='object')"
      ]
     },
     "execution_count": 7,
     "metadata": {},
     "output_type": "execute_result"
    }
   ],
   "source": [
    "df.columns"
   ]
  },
  {
   "cell_type": "code",
   "execution_count": 8,
   "metadata": {},
   "outputs": [],
   "source": [
    "df.drop(columns =['Margin of Error', 'Estimate.1',\n",
    "       'Margin of Error.1', 'Unnamed: 5', 'Summary Level', 'County', 'Place'], inplace=True)"
   ]
  },
  {
   "cell_type": "code",
   "execution_count": 9,
   "metadata": {},
   "outputs": [
    {
     "data": {
      "text/html": [
       "<div>\n",
       "<style scoped>\n",
       "    .dataframe tbody tr th:only-of-type {\n",
       "        vertical-align: middle;\n",
       "    }\n",
       "\n",
       "    .dataframe tbody tr th {\n",
       "        vertical-align: top;\n",
       "    }\n",
       "\n",
       "    .dataframe thead th {\n",
       "        text-align: right;\n",
       "    }\n",
       "</style>\n",
       "<table border=\"1\" class=\"dataframe\">\n",
       "  <thead>\n",
       "    <tr style=\"text-align: right;\">\n",
       "      <th></th>\n",
       "      <th>Geography</th>\n",
       "      <th>Estimate</th>\n",
       "    </tr>\n",
       "  </thead>\n",
       "  <tbody>\n",
       "    <tr>\n",
       "      <th>0</th>\n",
       "      <td>California</td>\n",
       "      <td>39250017</td>\n",
       "    </tr>\n",
       "    <tr>\n",
       "      <th>1</th>\n",
       "      <td>Alameda County</td>\n",
       "      <td>1647704</td>\n",
       "    </tr>\n",
       "    <tr>\n",
       "      <th>2</th>\n",
       "      <td>Alameda city</td>\n",
       "      <td>78907</td>\n",
       "    </tr>\n",
       "    <tr>\n",
       "      <th>3</th>\n",
       "      <td>Berkeley city</td>\n",
       "      <td>121241</td>\n",
       "    </tr>\n",
       "    <tr>\n",
       "      <th>4</th>\n",
       "      <td>Castro Valley CDP</td>\n",
       "      <td>65153</td>\n",
       "    </tr>\n",
       "  </tbody>\n",
       "</table>\n",
       "</div>"
      ],
      "text/plain": [
       "           Geography  Estimate\n",
       "0         California  39250017\n",
       "1     Alameda County   1647704\n",
       "2       Alameda city     78907\n",
       "3      Berkeley city    121241\n",
       "4  Castro Valley CDP     65153"
      ]
     },
     "execution_count": 9,
     "metadata": {},
     "output_type": "execute_result"
    }
   ],
   "source": [
    "df.head()"
   ]
  },
  {
   "cell_type": "code",
   "execution_count": 10,
   "metadata": {},
   "outputs": [],
   "source": [
    "counties = df.loc[df['Geography'].str.contains('County')][['Geography','Estimate']]\n",
    "counties = counties.reset_index(drop=True)"
   ]
  },
  {
   "cell_type": "code",
   "execution_count": 11,
   "metadata": {},
   "outputs": [
    {
     "data": {
      "text/html": [
       "<div>\n",
       "<style scoped>\n",
       "    .dataframe tbody tr th:only-of-type {\n",
       "        vertical-align: middle;\n",
       "    }\n",
       "\n",
       "    .dataframe tbody tr th {\n",
       "        vertical-align: top;\n",
       "    }\n",
       "\n",
       "    .dataframe thead th {\n",
       "        text-align: right;\n",
       "    }\n",
       "</style>\n",
       "<table border=\"1\" class=\"dataframe\">\n",
       "  <thead>\n",
       "    <tr style=\"text-align: right;\">\n",
       "      <th></th>\n",
       "      <th>Geography</th>\n",
       "      <th>Estimate</th>\n",
       "    </tr>\n",
       "  </thead>\n",
       "  <tbody>\n",
       "    <tr>\n",
       "      <th>0</th>\n",
       "      <td>Alameda</td>\n",
       "      <td>1647704</td>\n",
       "    </tr>\n",
       "    <tr>\n",
       "      <th>1</th>\n",
       "      <td>Butte</td>\n",
       "      <td>226864</td>\n",
       "    </tr>\n",
       "    <tr>\n",
       "      <th>2</th>\n",
       "      <td>Contra Costa</td>\n",
       "      <td>1135127</td>\n",
       "    </tr>\n",
       "    <tr>\n",
       "      <th>3</th>\n",
       "      <td>El Dorado</td>\n",
       "      <td>185625</td>\n",
       "    </tr>\n",
       "    <tr>\n",
       "      <th>4</th>\n",
       "      <td>Fresno</td>\n",
       "      <td>979915</td>\n",
       "    </tr>\n",
       "  </tbody>\n",
       "</table>\n",
       "</div>"
      ],
      "text/plain": [
       "      Geography  Estimate\n",
       "0       Alameda   1647704\n",
       "1         Butte    226864\n",
       "2  Contra Costa   1135127\n",
       "3     El Dorado    185625\n",
       "4        Fresno    979915"
      ]
     },
     "execution_count": 11,
     "metadata": {},
     "output_type": "execute_result"
    }
   ],
   "source": [
    "counties['Geography'] = counties['Geography'].str.replace(' County','')\n",
    "counties.head()"
   ]
  },
  {
   "cell_type": "markdown",
   "metadata": {},
   "source": [
    "Some counties do not have population data (from this source) because they have less than 65000 residents. There are total of 58 counties but only 40 have >65000 in 2016."
   ]
  },
  {
   "cell_type": "code",
   "execution_count": 12,
   "metadata": {},
   "outputs": [
    {
     "name": "stdout",
     "output_type": "stream",
     "text": [
      "{'Lassen', 'Trinity', 'Sierra', 'Colusa', 'Mono', 'Modoc', 'San Benito', 'Tuolumne', 'Calaveras', 'Mariposa', 'Amador', 'Plumas', 'Glenn', 'Alpine', 'Tehama', 'Inyo', 'Del Norte', 'Siskiyou'}\n"
     ]
    }
   ],
   "source": [
    "intersection = set(counties['Geography']) & set(pd.Series(CA_union))\n",
    "union = set(counties['Geography']) | set(pd.Series(CA_union))\n",
    "print(set(union - intersection))  ## counties with < 65000 in 2016"
   ]
  },
  {
   "cell_type": "code",
   "execution_count": 13,
   "metadata": {},
   "outputs": [],
   "source": [
    "popcount = {}\n",
    "for i in zip(shortCAnames, CA):\n",
    "    region_name = i[0]\n",
    "    region_county_list = i[1]\n",
    "\n",
    "    popcount[region_name] = counties[counties['Geography'].isin(region_county_list)]['Estimate'].sum()\n",
    "\n",
    "    "
   ]
  },
  {
   "cell_type": "code",
   "execution_count": 14,
   "metadata": {},
   "outputs": [
    {
     "data": {
      "text/plain": [
       "{'CAnorth': 3262336,\n",
       " 'CABayArea': 7958684,\n",
       " 'CAcentral': 3724007,\n",
       " 'CAsw': 11199001,\n",
       " 'CAse': 12601498}"
      ]
     },
     "execution_count": 14,
     "metadata": {},
     "output_type": "execute_result"
    }
   ],
   "source": [
    "popcount"
   ]
  },
  {
   "cell_type": "code",
   "execution_count": 15,
   "metadata": {},
   "outputs": [],
   "source": [
    "#Add other population data cut and paste from other sources\n",
    "#To do: The US Census data is automatable; not about El Paso yet\n",
    "popcount['WA']=7280934\n",
    "popcount['OR']=4085989\n",
    "popcount['NV']=2939254\n",
    "popcount['AZ']=6908642\n",
    "popcount['UT']=3044321\n",
    "popcount['NM']=2085432\n",
    "popcount['CO']=5530105\n",
    "popcount['WY']=584910\n",
    "popcount['ID']=1680026\n",
    "popcount['MT']=1038656\n",
    "popcount['ElPaso']=678058"
   ]
  },
  {
   "cell_type": "code",
   "execution_count": 16,
   "metadata": {},
   "outputs": [
    {
     "data": {
      "text/plain": [
       "{'CAnorth': 3262336,\n",
       " 'CABayArea': 7958684,\n",
       " 'CAcentral': 3724007,\n",
       " 'CAsw': 11199001,\n",
       " 'CAse': 12601498,\n",
       " 'WA': 7280934,\n",
       " 'OR': 4085989,\n",
       " 'NV': 2939254,\n",
       " 'AZ': 6908642,\n",
       " 'UT': 3044321,\n",
       " 'NM': 2085432,\n",
       " 'CO': 5530105,\n",
       " 'WY': 584910,\n",
       " 'ID': 1680026,\n",
       " 'MT': 1038656,\n",
       " 'ElPaso': 678058}"
      ]
     },
     "execution_count": 16,
     "metadata": {},
     "output_type": "execute_result"
    }
   ],
   "source": [
    "popcount"
   ]
  },
  {
   "cell_type": "code",
   "execution_count": 17,
   "metadata": {},
   "outputs": [],
   "source": [
    "#ba2016 = pd.read_csv('')"
   ]
  }
 ],
 "metadata": {
  "kernelspec": {
   "display_name": "Python 3",
   "language": "python",
   "name": "python3"
  },
  "language_info": {
   "codemirror_mode": {
    "name": "ipython",
    "version": 3
   },
   "file_extension": ".py",
   "mimetype": "text/x-python",
   "name": "python",
   "nbconvert_exporter": "python",
   "pygments_lexer": "ipython3",
   "version": "3.6.6"
  }
 },
 "nbformat": 4,
 "nbformat_minor": 2
}
