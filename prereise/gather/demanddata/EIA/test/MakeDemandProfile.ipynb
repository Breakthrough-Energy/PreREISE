{
 "cells": [
  {
   "cell_type": "markdown",
   "metadata": {},
   "source": [
    "### Create 2016 demand profile for input to simulation\n",
    "* Use input hourly balancing authority (BA) demand data from downloaded spreadsheets to use the already imputed data columns\n",
    "* Distribute BA demand counts among 16 predefined WECC regions; for BA's that service multiple regions, assign population fraction of BA count to the region\n",
    "* BA demand data comes only from BAs that submit info to EIA, Population counts come from US and CA census\n",
    "\n",
    "CA has 5 regions composed of counties\n",
    "* Northern California: Butte, Colusa, Del Norte, El Dorado, Glenn, Humboldt, Lake, Lassen, Mendocino, Modoc, Nevada, Placer, Plumas, Sacramento, Shasta, Sierra, Siskiyou, Sutter, Tehama, Trinity, Yolo, Yuba\n",
    "* Bay Area: Alameda, Contra Costa, Marin, Napa, San Francisco, San Mateo, Santa Clara, Santa Cruz, Solano, Sonoma\n",
    "* Central California: Alpine, Amador, Calaveras, Fresno, Inyo, Kings, Madera, Mariposa, Merced, Mono, Monterey, San Benito, San Joaquin, Stanislaus, Tulare, Tuolumne\n",
    "* Southeast California: Imperial, Orange, Riverside, San Bernardino, San Diego\n",
    "* Southwest California: Kern, Los Angeles, San Luis Obispo, Santa Barbara, Ventura\n"
   ]
  },
  {
   "cell_type": "code",
   "execution_count": 1,
   "metadata": {},
   "outputs": [],
   "source": [
    "import numpy as np\n",
    "import pandas as pd\n",
    "\n",
    "from datetime import datetime\n",
    "from dateutil.parser import parse"
   ]
  },
  {
   "cell_type": "code",
   "execution_count": 7,
   "metadata": {},
   "outputs": [],
   "source": [
    "#Bus areas 1-16 in numerical order as case10K file\n",
    "WA = ['AVA', 'BPAT','CHPD','DOPD','GCPD','PSEI','SCL','TPWR','AVA', 'BPAT']\n",
    "OR = ['BPAT','GRIP','IPCO','PACW','PGE']\n",
    "CAnorth = ['BANC','CISO','PACW','BPAT']\n",
    "CABayArea = ['CISO']\n",
    "CAcentral = ['CISO', 'TIDC']\n",
    "CAsw = ['CISO', 'LWDP']\n",
    "CAse = ['CISO', 'IID']\n",
    "NV = ['NEVP']\n",
    "AZ = ['AZPS','DEAA','GRIF','GRMA','HGMA','PNM','SRP','TEPC','WALC']\n",
    "UT = ['PACE']\n",
    "NM = ['EPE','PNM']\n",
    "CO = ['PSCO','WACM']\n",
    "WY = ['PACE','WACM']\n",
    "ID = ['AVA','BPAT','IPCO','PACE']\n",
    "MT = ['BPAT','GWA','NWMT','WAUW','WWA'] \n",
    "ElPaso = ['EPE']\n",
    "\n",
    "BA_all = sorted(list(set().union(WA,OR,CAnorth,CABayArea,CAcentral,CAsw,CAse,NV,AZ,UT,NM,CO,WY,ID,MT,ElPaso)))\n"
   ]
  },
  {
   "cell_type": "code",
   "execution_count": 8,
   "metadata": {},
   "outputs": [
    {
     "name": "stdout",
     "output_type": "stream",
     "text": [
      "['AVA', 'AZPS', 'BANC', 'BPAT', 'CHPD', 'CISO', 'DEAA', 'DOPD', 'EPE', 'GCPD', 'GRIF', 'GRIP', 'GRMA', 'GWA', 'HGMA', 'IID', 'IPCO', 'LWDP', 'NEVP', 'NWMT', 'PACE', 'PACW', 'PGE', 'PNM', 'PSCO', 'PSEI', 'SCL', 'SRP', 'TEPC', 'TIDC', 'TPWR', 'WACM', 'WALC', 'WAUW', 'WWA']\n"
     ]
    }
   ],
   "source": [
    "print(BA_all)"
   ]
  },
  {
   "cell_type": "code",
   "execution_count": 10,
   "metadata": {},
   "outputs": [],
   "source": [
    "#Data dirs\n",
    "dir1 = 'U:\\\\Data\\\\WECC_demand_2015-2018'\n",
    "dir1 = 'C:\\\\Users\\\\mlamherr\\\\Data\\WECC_demand_2015-2018'\n",
    "dir2 = 'C:\\\\Users\\\\mlamherr\\\\Data'\n"
   ]
  },
  {
   "cell_type": "code",
   "execution_count": null,
   "metadata": {},
   "outputs": [],
   "source": []
  },
  {
   "cell_type": "code",
   "execution_count": null,
   "metadata": {},
   "outputs": [],
   "source": [
    "#Get population data and create weights"
   ]
  },
  {
   "cell_type": "code",
   "execution_count": null,
   "metadata": {},
   "outputs": [],
   "source": [
    "def collectBAdata(directory, serieslist):\n",
    "    df={}\n",
    "    \n",
    "    for x in serieslist:\n",
    "        print(x)\n",
    "        filename = x + '.xlsx'\n",
    "        df[BA] = pd.read_excel(io = directory + \"/\" + filename, header = 0)\n",
    "    \n",
    "\n",
    "    #### revise this for excel data\n",
    "    \n",
    "    for x in [[i] for i in serieslist]:\n",
    "        BA = x[0]\n",
    "        print(BA)\n",
    "        d = EIAgov(tok, x)\n",
    "        df[BA] = d.GetData()\n",
    "        \n",
    "        df[BA].drop(columns =['Date'], inplace=True)\n",
    "        df[BA] = df[BA].resample('H').asfreq()   #fills in missing hours\n",
    "\n",
    "    timespan = pd.date_range(startdate, enddate - DateOffset(days=offsetdays), freq='H')\n",
    "    \n",
    "    df_all = pd.DataFrame(index = timespan)\n",
    "    for x in serieslist:\n",
    "        df_all = pd.concat([df_all,df[x]], axis=1)\n",
    "\n",
    "    return df_all\n"
   ]
  },
  {
   "cell_type": "code",
   "execution_count": 18,
   "metadata": {},
   "outputs": [],
   "source": [
    "BA_all = ['AVA','BPAT','SCL']\n",
    "BA_all = ['AVA']\n",
    "\n",
    "start = pd.to_datetime('2016-01-01 00:00:00')\n",
    "end = pd.to_datetime('2017-01-01 00:00:00')\n",
    "df = {}\n",
    "for x in BA_all:\n",
    "    filename = x + '.xlsx'\n",
    "    df[x] = pd.read_excel(io = dir1 + \"/\" + filename, header = 0)\n",
    "    df[x].drop(columns= ['BA', 'Date', 'Hour', 'Local Time', 'Time Zone',\n",
    "       'Generation Only', 'DF', 'D', 'NG', 'TI', 'Missing DIBA',\n",
    "       'Missing NG by Energy Source', 'Missing D by Subregion',\n",
    "       'DF Range Error', 'D Range Error', 'NG Range Error', 'TI Range Error',\n",
    "       'Imputed D', 'Imputed NG',  'Published NG',\n",
    "       'Balance NG D TI', 'Balance TI DIBA', 'Balance NG', 'Balance D',\n",
    "       'Sum (NG) over Energy Sources', 'NG: COL', 'NG: NG', 'NG: NUC',\n",
    "       'NG: OIL', 'NG: WAT', 'NG: SUN', 'NG: WND', 'NG: OTH', 'NG: UNK',\n",
    "       'Sum (D) over Subregions', 'Sum (DIBA)', 'BPAT', 'CHPD', 'GCPD', 'IPCO',\n",
    "       'NWMT', 'PACW', 'Active BPAT', 'Active CHPD', 'Active GCPD',\n",
    "       'Active IPCO', 'Active NWMT', 'Active PACW', 'From BPAT', 'From CHPD',\n",
    "       'From GCPD', 'From IPCO', 'From NWMT', 'From PACW', 'Balance BPAT',\n",
    "       'Balance CHPD', 'Balance GCPD', 'Balance IPCO', 'Balance NWMT',\n",
    "       'Balance PACW', 'Pair Mismatch', 'File 0', 'File 1', 'File 2',\n",
    "       'File D'],  inplace=True)\n",
    "    df[x].index = pd.to_datetime(df[x]['UTC Time']"
   ]
  },
  {
   "cell_type": "code",
   "execution_count": 20,
   "metadata": {},
   "outputs": [
    {
     "data": {
      "text/html": [
       "<div>\n",
       "<style scoped>\n",
       "    .dataframe tbody tr th:only-of-type {\n",
       "        vertical-align: middle;\n",
       "    }\n",
       "\n",
       "    .dataframe tbody tr th {\n",
       "        vertical-align: top;\n",
       "    }\n",
       "\n",
       "    .dataframe thead th {\n",
       "        text-align: right;\n",
       "    }\n",
       "</style>\n",
       "<table border=\"1\" class=\"dataframe\">\n",
       "  <thead>\n",
       "    <tr style=\"text-align: right;\">\n",
       "      <th></th>\n",
       "      <th>UTC Time</th>\n",
       "      <th>Published D</th>\n",
       "    </tr>\n",
       "  </thead>\n",
       "  <tbody>\n",
       "    <tr>\n",
       "      <th>0</th>\n",
       "      <td>2015-07-01 08:00:00</td>\n",
       "      <td>1192.0</td>\n",
       "    </tr>\n",
       "    <tr>\n",
       "      <th>1</th>\n",
       "      <td>2015-07-01 09:00:00</td>\n",
       "      <td>1108.0</td>\n",
       "    </tr>\n",
       "    <tr>\n",
       "      <th>2</th>\n",
       "      <td>2015-07-01 10:00:00</td>\n",
       "      <td>1058.0</td>\n",
       "    </tr>\n",
       "    <tr>\n",
       "      <th>3</th>\n",
       "      <td>2015-07-01 11:00:00</td>\n",
       "      <td>1024.0</td>\n",
       "    </tr>\n",
       "    <tr>\n",
       "      <th>4</th>\n",
       "      <td>2015-07-01 12:00:00</td>\n",
       "      <td>1031.0</td>\n",
       "    </tr>\n",
       "  </tbody>\n",
       "</table>\n",
       "</div>"
      ],
      "text/plain": [
       "             UTC Time  Published D\n",
       "0 2015-07-01 08:00:00       1192.0\n",
       "1 2015-07-01 09:00:00       1108.0\n",
       "2 2015-07-01 10:00:00       1058.0\n",
       "3 2015-07-01 11:00:00       1024.0\n",
       "4 2015-07-01 12:00:00       1031.0"
      ]
     },
     "execution_count": 20,
     "metadata": {},
     "output_type": "execute_result"
    }
   ],
   "source": [
    "df['AVA'].head()"
   ]
  },
  {
   "cell_type": "code",
   "execution_count": 22,
   "metadata": {},
   "outputs": [],
   "source": [
    "df['AVA'].rename(columns={\"Published D\": 'AVA'}, inplace=True)"
   ]
  },
  {
   "cell_type": "code",
   "execution_count": 24,
   "metadata": {},
   "outputs": [
    {
     "data": {
      "text/html": [
       "<div>\n",
       "<style scoped>\n",
       "    .dataframe tbody tr th:only-of-type {\n",
       "        vertical-align: middle;\n",
       "    }\n",
       "\n",
       "    .dataframe tbody tr th {\n",
       "        vertical-align: top;\n",
       "    }\n",
       "\n",
       "    .dataframe thead th {\n",
       "        text-align: right;\n",
       "    }\n",
       "</style>\n",
       "<table border=\"1\" class=\"dataframe\">\n",
       "  <thead>\n",
       "    <tr style=\"text-align: right;\">\n",
       "      <th></th>\n",
       "      <th>UTC Time</th>\n",
       "      <th>AVA</th>\n",
       "    </tr>\n",
       "  </thead>\n",
       "  <tbody>\n",
       "    <tr>\n",
       "      <th>0</th>\n",
       "      <td>2015-07-01 08:00:00</td>\n",
       "      <td>1192.0</td>\n",
       "    </tr>\n",
       "    <tr>\n",
       "      <th>1</th>\n",
       "      <td>2015-07-01 09:00:00</td>\n",
       "      <td>1108.0</td>\n",
       "    </tr>\n",
       "    <tr>\n",
       "      <th>2</th>\n",
       "      <td>2015-07-01 10:00:00</td>\n",
       "      <td>1058.0</td>\n",
       "    </tr>\n",
       "    <tr>\n",
       "      <th>3</th>\n",
       "      <td>2015-07-01 11:00:00</td>\n",
       "      <td>1024.0</td>\n",
       "    </tr>\n",
       "    <tr>\n",
       "      <th>4</th>\n",
       "      <td>2015-07-01 12:00:00</td>\n",
       "      <td>1031.0</td>\n",
       "    </tr>\n",
       "  </tbody>\n",
       "</table>\n",
       "</div>"
      ],
      "text/plain": [
       "             UTC Time     AVA\n",
       "0 2015-07-01 08:00:00  1192.0\n",
       "1 2015-07-01 09:00:00  1108.0\n",
       "2 2015-07-01 10:00:00  1058.0\n",
       "3 2015-07-01 11:00:00  1024.0\n",
       "4 2015-07-01 12:00:00  1031.0"
      ]
     },
     "execution_count": 24,
     "metadata": {},
     "output_type": "execute_result"
    }
   ],
   "source": [
    "df['AVA'].head()"
   ]
  },
  {
   "cell_type": "code",
   "execution_count": null,
   "metadata": {},
   "outputs": [],
   "source": []
  }
 ],
 "metadata": {
  "kernelspec": {
   "display_name": "Python 3",
   "language": "python",
   "name": "python3"
  },
  "language_info": {
   "codemirror_mode": {
    "name": "ipython",
    "version": 3
   },
   "file_extension": ".py",
   "mimetype": "text/x-python",
   "name": "python",
   "nbconvert_exporter": "python",
   "pygments_lexer": "ipython3",
   "version": "3.6.6"
  }
 },
 "nbformat": 4,
 "nbformat_minor": 2
}
