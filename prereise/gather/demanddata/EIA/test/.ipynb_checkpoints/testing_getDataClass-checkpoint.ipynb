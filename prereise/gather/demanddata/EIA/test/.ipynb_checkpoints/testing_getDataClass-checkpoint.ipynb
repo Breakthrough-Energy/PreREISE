{
 "cells": [
  {
   "cell_type": "code",
   "execution_count": 1,
   "metadata": {},
   "outputs": [],
   "source": [
    "import json\n",
    "import numpy as np\n",
    "import pandas as pd\n",
    "from urllib.error import URLError, HTTPError\n",
    "from urllib.request import urlopen\n",
    "\n",
    "class EIAgov(object):\n",
    "    def __init__(self, token, series):\n",
    "        '''\n",
    "        Purpose:\n",
    "        Initialise the EIAgov class by requesting:\n",
    "        - EIA token\n",
    "        - id code(s) of the series to be downloaded\n",
    "\n",
    "        Parameters:\n",
    "        - token: string\n",
    "        - series: string or list of strings\n",
    "        '''\n",
    "        self.token = token\n",
    "        self.series = series\n",
    "\n",
    "    '''\n",
    "    def __repr__(self):\n",
    "        return str(self.series)\n",
    "    '''\n",
    "\n",
    "    def Raw(self, ser):\n",
    "        # Construct url\n",
    "        url = 'http://api.eia.gov/series/?api_key=' + self.token + '&series_id=' + ser.upper()\n",
    "\n",
    "        try:\n",
    "            # URL request, URL opener, read content\n",
    "            response = urlopen(url);\n",
    "            raw_byte = response.read()\n",
    "            raw_string = str(raw_byte, 'utf-8-sig')\n",
    "            jso = json.loads(raw_string)\n",
    "            return jso\n",
    "\n",
    "        except HTTPError as e:\n",
    "            print('HTTP error type.')\n",
    "            print('Error code: ', e.code)\n",
    "\n",
    "        except URLError as e:\n",
    "            print('URL type error.')\n",
    "            print('Reason: ', e.reason)\n",
    "\n",
    "    def GetData(self):\n",
    "        # Deal with the date series                       \n",
    "        date_ = self.Raw(self.series[0])        \n",
    "        date_series = date_['series'][0]['data']\n",
    "        endi = len(date_series) # or len(date_['series'][0]['data'])\n",
    "        date = []\n",
    "        for i in range (endi):\n",
    "            date.append(date_series[i][0])\n",
    "\n",
    "        # Create dataframe\n",
    "        df = pd.DataFrame(data=date)\n",
    "        df.columns = ['Date']\n",
    "\n",
    "        # Deal with data\n",
    "        lenj = len(self.series)\n",
    "        for j in range (lenj):\n",
    "            data_ = self.Raw(self.series[j])\n",
    "            data_series = data_['series'][0]['data']\n",
    "            data = []\n",
    "            endk = len(date_series)         \n",
    "            for k in range (endk):\n",
    "                data.append(data_series[k][1])\n",
    "            df[self.series[j]] = data\n",
    "        \n",
    "        return df\n",
    "\n",
    "\n"
   ]
  },
  {
   "cell_type": "code",
   "execution_count": 9,
   "metadata": {},
   "outputs": [
    {
     "ename": "AttributeError",
     "evalue": "'str' object has no attribute 'token'",
     "output_type": "error",
     "traceback": [
      "\u001b[1;31m---------------------------------------------------------------------------\u001b[0m",
      "\u001b[1;31mAttributeError\u001b[0m                            Traceback (most recent call last)",
      "\u001b[1;32m<ipython-input-9-64f47e2c6102>\u001b[0m in \u001b[0;36m<module>\u001b[1;34m()\u001b[0m\n\u001b[0;32m      6\u001b[0m \u001b[0mng\u001b[0m \u001b[1;33m=\u001b[0m \u001b[1;33m[\u001b[0m\u001b[1;34m'EBA.BANC-ALL.D.H'\u001b[0m\u001b[1;33m]\u001b[0m  \u001b[1;31m# w/ several series at a time ['ELEC.REV.AL-ALL.M', 'ELEC.REV.AK-ALL.M', 'ELEC.REV.CA-ALL.M']\u001b[0m\u001b[1;33m\u001b[0m\u001b[0m\n\u001b[0;32m      7\u001b[0m \u001b[0mdata\u001b[0m \u001b[1;33m=\u001b[0m \u001b[0mEIAgov\u001b[0m\u001b[1;33m(\u001b[0m\u001b[0mtok\u001b[0m\u001b[1;33m,\u001b[0m \u001b[0mng\u001b[0m\u001b[1;33m)\u001b[0m\u001b[1;33m\u001b[0m\u001b[0m\n\u001b[1;32m----> 8\u001b[1;33m \u001b[0mraw\u001b[0m \u001b[1;33m=\u001b[0m \u001b[0mEIAgov\u001b[0m\u001b[1;33m.\u001b[0m\u001b[0mRaw\u001b[0m\u001b[1;33m(\u001b[0m\u001b[0mtok\u001b[0m\u001b[1;33m,\u001b[0m\u001b[0mng\u001b[0m\u001b[1;33m)\u001b[0m\u001b[1;33m\u001b[0m\u001b[0m\n\u001b[0m\u001b[0;32m      9\u001b[0m \u001b[0mprint\u001b[0m\u001b[1;33m(\u001b[0m\u001b[0mdata\u001b[0m\u001b[1;33m.\u001b[0m\u001b[0mGetData\u001b[0m\u001b[1;33m(\u001b[0m\u001b[1;33m)\u001b[0m\u001b[1;33m)\u001b[0m\u001b[1;33m\u001b[0m\u001b[0m\n",
      "\u001b[1;32m<ipython-input-1-bc9b614f66f5>\u001b[0m in \u001b[0;36mRaw\u001b[1;34m(self, ser)\u001b[0m\n\u001b[0;32m     27\u001b[0m     \u001b[1;32mdef\u001b[0m \u001b[0mRaw\u001b[0m\u001b[1;33m(\u001b[0m\u001b[0mself\u001b[0m\u001b[1;33m,\u001b[0m \u001b[0mser\u001b[0m\u001b[1;33m)\u001b[0m\u001b[1;33m:\u001b[0m\u001b[1;33m\u001b[0m\u001b[0m\n\u001b[0;32m     28\u001b[0m         \u001b[1;31m# Construct url\u001b[0m\u001b[1;33m\u001b[0m\u001b[1;33m\u001b[0m\u001b[0m\n\u001b[1;32m---> 29\u001b[1;33m         \u001b[0murl\u001b[0m \u001b[1;33m=\u001b[0m \u001b[1;34m'http://api.eia.gov/series/?api_key='\u001b[0m \u001b[1;33m+\u001b[0m \u001b[0mself\u001b[0m\u001b[1;33m.\u001b[0m\u001b[0mtoken\u001b[0m \u001b[1;33m+\u001b[0m \u001b[1;34m'&series_id='\u001b[0m \u001b[1;33m+\u001b[0m \u001b[0mser\u001b[0m\u001b[1;33m.\u001b[0m\u001b[0mupper\u001b[0m\u001b[1;33m(\u001b[0m\u001b[1;33m)\u001b[0m\u001b[1;33m\u001b[0m\u001b[0m\n\u001b[0m\u001b[0;32m     30\u001b[0m \u001b[1;33m\u001b[0m\u001b[0m\n\u001b[0;32m     31\u001b[0m         \u001b[1;32mtry\u001b[0m\u001b[1;33m:\u001b[0m\u001b[1;33m\u001b[0m\u001b[0m\n",
      "\u001b[1;31mAttributeError\u001b[0m: 'str' object has no attribute 'token'"
     ]
    }
   ],
   "source": [
    "\n",
    "tok = '6d666bb7097e41102ef69a35aa1edb2b'\n",
    "\n",
    "# Natural Gas - Daily prices\n",
    "# http://www.eia.gov/beta/api/qb.cfm?category=462457&sdid=NG.RNGC1.D\n",
    "ng = ['EBA.BANC-ALL.D.H']  # w/ several series at a time ['ELEC.REV.AL-ALL.M', 'ELEC.REV.AK-ALL.M', 'ELEC.REV.CA-ALL.M']\n",
    "data = EIAgov(tok, ng)\n",
    "raw = EIAgov.Raw(tok,ng)\n",
    "print(data.GetData())"
   ]
  },
  {
   "cell_type": "code",
   "execution_count": 4,
   "metadata": {},
   "outputs": [
    {
     "name": "stdout",
     "output_type": "stream",
     "text": [
      "<bound method EIAgov.Raw of <__main__.EIAgov object at 0x000001DE7F79CC18>>\n"
     ]
    }
   ],
   "source": [
    "print(data.Raw)"
   ]
  },
  {
   "cell_type": "code",
   "execution_count": 5,
   "metadata": {},
   "outputs": [
    {
     "data": {
      "text/plain": [
       "['EBA.BANC-ALL.D.H']"
      ]
     },
     "execution_count": 5,
     "metadata": {},
     "output_type": "execute_result"
    }
   ],
   "source": [
    "data.series"
   ]
  },
  {
   "cell_type": "code",
   "execution_count": 6,
   "metadata": {},
   "outputs": [],
   "source": [
    "data.Raw??"
   ]
  },
  {
   "cell_type": "code",
   "execution_count": null,
   "metadata": {},
   "outputs": [],
   "source": []
  }
 ],
 "metadata": {
  "kernelspec": {
   "display_name": "Python 3",
   "language": "python",
   "name": "python3"
  },
  "language_info": {
   "codemirror_mode": {
    "name": "ipython",
    "version": 3
   },
   "file_extension": ".py",
   "mimetype": "text/x-python",
   "name": "python",
   "nbconvert_exporter": "python",
   "pygments_lexer": "ipython3",
   "version": "3.6.5"
  }
 },
 "nbformat": 4,
 "nbformat_minor": 2
}
