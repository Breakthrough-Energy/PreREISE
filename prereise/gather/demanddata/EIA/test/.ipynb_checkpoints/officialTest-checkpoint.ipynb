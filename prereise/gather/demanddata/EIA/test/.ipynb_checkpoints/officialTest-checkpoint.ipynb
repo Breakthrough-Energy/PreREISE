{
 "cells": [
  {
   "cell_type": "markdown",
   "metadata": {},
   "source": [
    "TODO: why is the download version ignoring the start/end dates?"
   ]
  },
  {
   "cell_type": "code",
   "execution_count": 1,
   "metadata": {},
   "outputs": [],
   "source": [
    "import json\n",
    "import numpy as np\n",
    "import pandas as pd\n",
    "from urllib.error import URLError, HTTPError\n",
    "from urllib.request import urlopen\n",
    "\n",
    "from datetime import datetime, timedelta\n",
    "\n",
    "import sys\n",
    "sys.path.append(\"..\")\n",
    "\n",
    "import getEIAdata\n",
    "\n",
    "def test_EIAdownload():\n",
    "    token = '6d666bb7097e41102ef69a35aa1edb2b'\n",
    "    offset = 3    \n",
    "    start = pd.to_datetime('2018-07-01 00:00:00')\n",
    "    end = pd.to_datetime('2018-10-01 00:00:00')\n",
    "    timediff = pd.Period(end, freq='H') - pd.Period(start, freq='H')\n",
    "\n",
    "    demand_list = [\n",
    "                   'EBA.BANC-ALL.D.H',\n",
    "                   'EBA.BPAT-ALL.D.H',\n",
    "                   'EBA.CHPD-ALL.D.H',\n",
    "                   'EBA.CISO-ALL.D.H'\n",
    "                  ]\n",
    "    this = getEIAdata.from_download(token, start, end, offset, demand_list)\n",
    "    assert all(len(this.columns) == len(demand_list))\n",
    "\n",
    "def test_from_excel():\n",
    "    #dir1 = 'L:\\\\Renewable Energy\\\\EnergyGridModeling\\\\Data\\\\Western\\\\demand_data\\\\raw\\\\WECC_demand_2015-2018'\n",
    "    dir1 = './'\n",
    "\n",
    "    start = pd.to_datetime('2018-07-01 07:00:00')\n",
    "    end = pd.to_datetime('2018-10-01 07:00:00')\n",
    "    BA_list = ['BPAT','CISO','EPE']\n",
    "\n",
    "    BA_from_excel = getEIAdata.from_excel(dir1, BA_list, start, end)\n",
    "    assert (len(BA_from_excel.columns) == len(BA_list))\n"
   ]
  },
  {
   "cell_type": "code",
   "execution_count": 4,
   "metadata": {},
   "outputs": [
    {
     "name": "stdout",
     "output_type": "stream",
     "text": [
      "BPAT\n",
      "CISO\n",
      "EPE\n",
      "BPAT\n",
      "CISO\n",
      "EPE\n"
     ]
    }
   ],
   "source": [
    "dir1 = './'\n",
    "\n",
    "start = pd.to_datetime('2015-08-01 07:00:00')\n",
    "end = pd.to_datetime('2015-10-01 07:00:00')\n",
    "BA_list = ['BPAT','CISO','EPE']\n",
    "\n",
    "BA_from_excel = getEIAdata.from_excel(dir1, BA_list, start, end)\n",
    "\n",
    "this = getEIAdata.from_excel(dir1, BA_list, start, end)"
   ]
  },
  {
   "cell_type": "code",
   "execution_count": 5,
   "metadata": {},
   "outputs": [
    {
     "data": {
      "text/html": [
       "<div>\n",
       "<style scoped>\n",
       "    .dataframe tbody tr th:only-of-type {\n",
       "        vertical-align: middle;\n",
       "    }\n",
       "\n",
       "    .dataframe tbody tr th {\n",
       "        vertical-align: top;\n",
       "    }\n",
       "\n",
       "    .dataframe thead th {\n",
       "        text-align: right;\n",
       "    }\n",
       "</style>\n",
       "<table border=\"1\" class=\"dataframe\">\n",
       "  <thead>\n",
       "    <tr style=\"text-align: right;\">\n",
       "      <th></th>\n",
       "      <th>BPAT</th>\n",
       "      <th>CISO</th>\n",
       "      <th>EPE</th>\n",
       "    </tr>\n",
       "  </thead>\n",
       "  <tbody>\n",
       "    <tr>\n",
       "      <th>2015-08-01 07:00:00</th>\n",
       "      <td>6089</td>\n",
       "      <td>32586.0</td>\n",
       "      <td>0</td>\n",
       "    </tr>\n",
       "    <tr>\n",
       "      <th>2015-08-01 08:00:00</th>\n",
       "      <td>5654</td>\n",
       "      <td>29894.0</td>\n",
       "      <td>974</td>\n",
       "    </tr>\n",
       "    <tr>\n",
       "      <th>2015-08-01 09:00:00</th>\n",
       "      <td>5374</td>\n",
       "      <td>27779.0</td>\n",
       "      <td>936</td>\n",
       "    </tr>\n",
       "    <tr>\n",
       "      <th>2015-08-01 10:00:00</th>\n",
       "      <td>5175</td>\n",
       "      <td>26201.0</td>\n",
       "      <td>892</td>\n",
       "    </tr>\n",
       "    <tr>\n",
       "      <th>2015-08-01 11:00:00</th>\n",
       "      <td>5049</td>\n",
       "      <td>25037.0</td>\n",
       "      <td>882</td>\n",
       "    </tr>\n",
       "  </tbody>\n",
       "</table>\n",
       "</div>"
      ],
      "text/plain": [
       "                     BPAT     CISO  EPE\n",
       "2015-08-01 07:00:00  6089  32586.0    0\n",
       "2015-08-01 08:00:00  5654  29894.0  974\n",
       "2015-08-01 09:00:00  5374  27779.0  936\n",
       "2015-08-01 10:00:00  5175  26201.0  892\n",
       "2015-08-01 11:00:00  5049  25037.0  882"
      ]
     },
     "execution_count": 5,
     "metadata": {},
     "output_type": "execute_result"
    }
   ],
   "source": [
    "this.head()"
   ]
  },
  {
   "cell_type": "code",
   "execution_count": null,
   "metadata": {},
   "outputs": [],
   "source": []
  }
 ],
 "metadata": {
  "kernelspec": {
   "display_name": "Python 3",
   "language": "python",
   "name": "python3"
  },
  "language_info": {
   "codemirror_mode": {
    "name": "ipython",
    "version": 3
   },
   "file_extension": ".py",
   "mimetype": "text/x-python",
   "name": "python",
   "nbconvert_exporter": "python",
   "pygments_lexer": "ipython3",
   "version": "3.6.5"
  }
 },
 "nbformat": 4,
 "nbformat_minor": 2
}
