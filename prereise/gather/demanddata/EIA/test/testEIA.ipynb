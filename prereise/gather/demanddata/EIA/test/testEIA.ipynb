{
 "cells": [
  {
   "cell_type": "code",
   "execution_count": 3,
   "metadata": {},
   "outputs": [],
   "source": [
    "import json\n",
    "import numpy as np\n",
    "import pandas as pd\n",
    "from urllib.error import URLError, HTTPError\n",
    "from urllib.request import urlopen\n",
    "\n",
    "from datetime import datetime\n",
    "\n",
    "import sys\n",
    "sys.path.append(\"..\")\n",
    "\n",
    "import getEIAdata\n"
   ]
  },
  {
   "cell_type": "markdown",
   "metadata": {},
   "source": [
    "The demand list of filenames are obtained by going to \n",
    "https://www.eia.gov/opendata/qb.php?category=2122628 to see the full list of available files\n",
    "and, for example, \n",
    "https://www.eia.gov/opendata/qb.php?category=2122628&sdid=EBA.AZPS-ALL.D.H to see what the series-id syntax is."
   ]
  },
  {
   "cell_type": "code",
   "execution_count": 11,
   "metadata": {},
   "outputs": [
    {
     "name": "stdout",
     "output_type": "stream",
     "text": [
      "Downloading EBA.BANC-ALL.D.H\n",
      "Downloading EBA.BPAT-ALL.D.H\n",
      "Downloading EBA.CHPD-ALL.D.H\n",
      "Downloading EBA.CISO-ALL.D.H\n"
     ]
    },
    {
     "data": {
      "text/html": [
       "<div>\n",
       "<style scoped>\n",
       "    .dataframe tbody tr th:only-of-type {\n",
       "        vertical-align: middle;\n",
       "    }\n",
       "\n",
       "    .dataframe tbody tr th {\n",
       "        vertical-align: top;\n",
       "    }\n",
       "\n",
       "    .dataframe thead th {\n",
       "        text-align: right;\n",
       "    }\n",
       "</style>\n",
       "<table border=\"1\" class=\"dataframe\">\n",
       "  <thead>\n",
       "    <tr style=\"text-align: right;\">\n",
       "      <th></th>\n",
       "      <th>EBA.BANC-ALL.D.H</th>\n",
       "      <th>EBA.BPAT-ALL.D.H</th>\n",
       "      <th>EBA.CHPD-ALL.D.H</th>\n",
       "      <th>EBA.CISO-ALL.D.H</th>\n",
       "    </tr>\n",
       "  </thead>\n",
       "  <tbody>\n",
       "    <tr>\n",
       "      <th>2015-07-01 08:00:00</th>\n",
       "      <td>2513.0</td>\n",
       "      <td>NaN</td>\n",
       "      <td>434.0</td>\n",
       "      <td>31486.0</td>\n",
       "    </tr>\n",
       "    <tr>\n",
       "      <th>2015-07-01 09:00:00</th>\n",
       "      <td>2275.0</td>\n",
       "      <td>NaN</td>\n",
       "      <td>422.0</td>\n",
       "      <td>28989.0</td>\n",
       "    </tr>\n",
       "    <tr>\n",
       "      <th>2015-07-01 10:00:00</th>\n",
       "      <td>2104.0</td>\n",
       "      <td>NaN</td>\n",
       "      <td>416.0</td>\n",
       "      <td>27416.0</td>\n",
       "    </tr>\n",
       "    <tr>\n",
       "      <th>2015-07-01 11:00:00</th>\n",
       "      <td>1988.0</td>\n",
       "      <td>NaN</td>\n",
       "      <td>413.0</td>\n",
       "      <td>26388.0</td>\n",
       "    </tr>\n",
       "    <tr>\n",
       "      <th>2015-07-01 12:00:00</th>\n",
       "      <td>1958.0</td>\n",
       "      <td>NaN</td>\n",
       "      <td>413.0</td>\n",
       "      <td>25661.0</td>\n",
       "    </tr>\n",
       "  </tbody>\n",
       "</table>\n",
       "</div>"
      ],
      "text/plain": [
       "                     EBA.BANC-ALL.D.H  EBA.BPAT-ALL.D.H  EBA.CHPD-ALL.D.H  \\\n",
       "2015-07-01 08:00:00            2513.0               NaN             434.0   \n",
       "2015-07-01 09:00:00            2275.0               NaN             422.0   \n",
       "2015-07-01 10:00:00            2104.0               NaN             416.0   \n",
       "2015-07-01 11:00:00            1988.0               NaN             413.0   \n",
       "2015-07-01 12:00:00            1958.0               NaN             413.0   \n",
       "\n",
       "                     EBA.CISO-ALL.D.H  \n",
       "2015-07-01 08:00:00           31486.0  \n",
       "2015-07-01 09:00:00           28989.0  \n",
       "2015-07-01 10:00:00           27416.0  \n",
       "2015-07-01 11:00:00           26388.0  \n",
       "2015-07-01 12:00:00           25661.0  "
      ]
     },
     "execution_count": 11,
     "metadata": {},
     "output_type": "execute_result"
    }
   ],
   "source": [
    "token = '6d666bb7097e41102ef69a35aa1edb2b'\n",
    "offset = 3    \n",
    "start = pd.to_datetime('2018-07-01 07:00:00')\n",
    "end = datetime.today()\n",
    "\n",
    "demand_list = [\n",
    "               'EBA.BANC-ALL.D.H',\n",
    "               'EBA.BPAT-ALL.D.H',\n",
    "               'EBA.CHPD-ALL.D.H',\n",
    "               'EBA.CISO-ALL.D.H'\n",
    "              ]\n",
    "\n",
    "\n",
    "this = getEIAdata.from_download(token, start, end, offset, demand_list)\n",
    "\n",
    "this.head()"
   ]
  },
  {
   "cell_type": "code",
   "execution_count": null,
   "metadata": {},
   "outputs": [],
   "source": [
    "this."
   ]
  },
  {
   "cell_type": "code",
   "execution_count": 10,
   "metadata": {},
   "outputs": [],
   "source": [
    "getEIAdata.HTTPError??"
   ]
  },
  {
   "cell_type": "markdown",
   "metadata": {},
   "source": [
    "These files were first downloaded by clicking the demand data links in https://www.eia.gov/realtime_grid/docs/userguide-knownissues.pdf. "
   ]
  },
  {
   "cell_type": "code",
   "execution_count": 3,
   "metadata": {},
   "outputs": [
    {
     "name": "stdout",
     "output_type": "stream",
     "text": [
      "BPAT\n",
      "CISO\n",
      "EPE\n"
     ]
    },
    {
     "data": {
      "text/html": [
       "<div>\n",
       "<style scoped>\n",
       "    .dataframe tbody tr th:only-of-type {\n",
       "        vertical-align: middle;\n",
       "    }\n",
       "\n",
       "    .dataframe tbody tr th {\n",
       "        vertical-align: top;\n",
       "    }\n",
       "\n",
       "    .dataframe thead th {\n",
       "        text-align: right;\n",
       "    }\n",
       "</style>\n",
       "<table border=\"1\" class=\"dataframe\">\n",
       "  <thead>\n",
       "    <tr style=\"text-align: right;\">\n",
       "      <th></th>\n",
       "      <th>BPAT</th>\n",
       "      <th>CISO</th>\n",
       "      <th>EPE</th>\n",
       "    </tr>\n",
       "  </thead>\n",
       "  <tbody>\n",
       "    <tr>\n",
       "      <th>2018-07-01 07:00:00</th>\n",
       "      <td>NaN</td>\n",
       "      <td>26889.0</td>\n",
       "      <td>970.0</td>\n",
       "    </tr>\n",
       "    <tr>\n",
       "      <th>2018-07-01 08:00:00</th>\n",
       "      <td>NaN</td>\n",
       "      <td>24684.0</td>\n",
       "      <td>905.0</td>\n",
       "    </tr>\n",
       "    <tr>\n",
       "      <th>2018-07-01 09:00:00</th>\n",
       "      <td>NaN</td>\n",
       "      <td>23331.0</td>\n",
       "      <td>860.0</td>\n",
       "    </tr>\n",
       "    <tr>\n",
       "      <th>2018-07-01 10:00:00</th>\n",
       "      <td>NaN</td>\n",
       "      <td>22325.0</td>\n",
       "      <td>823.0</td>\n",
       "    </tr>\n",
       "    <tr>\n",
       "      <th>2018-07-01 11:00:00</th>\n",
       "      <td>NaN</td>\n",
       "      <td>21721.0</td>\n",
       "      <td>801.0</td>\n",
       "    </tr>\n",
       "  </tbody>\n",
       "</table>\n",
       "</div>"
      ],
      "text/plain": [
       "                     BPAT     CISO    EPE\n",
       "2018-07-01 07:00:00   NaN  26889.0  970.0\n",
       "2018-07-01 08:00:00   NaN  24684.0  905.0\n",
       "2018-07-01 09:00:00   NaN  23331.0  860.0\n",
       "2018-07-01 10:00:00   NaN  22325.0  823.0\n",
       "2018-07-01 11:00:00   NaN  21721.0  801.0"
      ]
     },
     "execution_count": 3,
     "metadata": {},
     "output_type": "execute_result"
    }
   ],
   "source": [
    "dir1 = 'L:\\\\Renewable Energy\\\\EnergyGridModeling\\\\Data\\\\Western\\\\demand_data\\\\raw\\\\WECC_demand_2015-2018'\n",
    "\n",
    "start = pd.to_datetime('2018-07-01 07:00:00')\n",
    "end = datetime.today()\n",
    "BA_list = ['BPAT','CISO','EPE']\n",
    "\n",
    "BA_from_excel = getEIAdata.from_excel(dir1, BA_list, start, end)\n",
    "\n",
    "BA_from_excel.head()"
   ]
  },
  {
   "cell_type": "code",
   "execution_count": 10,
   "metadata": {},
   "outputs": [],
   "source": [
    "sys?"
   ]
  },
  {
   "cell_type": "code",
   "execution_count": null,
   "metadata": {},
   "outputs": [],
   "source": []
  }
 ],
 "metadata": {
  "kernelspec": {
   "display_name": "Python 3",
   "language": "python",
   "name": "python3"
  },
  "language_info": {
   "codemirror_mode": {
    "name": "ipython",
    "version": 3
   },
   "file_extension": ".py",
   "mimetype": "text/x-python",
   "name": "python",
   "nbconvert_exporter": "python",
   "pygments_lexer": "ipython3",
   "version": "3.6.5"
  }
 },
 "nbformat": 4,
 "nbformat_minor": 2
}
