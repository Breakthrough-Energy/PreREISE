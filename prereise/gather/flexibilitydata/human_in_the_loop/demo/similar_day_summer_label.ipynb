{
 "cells": [
  {
   "cell_type": "code",
   "execution_count": null,
   "metadata": {},
   "outputs": [],
   "source": [
    "import pandas as pd\n",
    "import numpy as np\n",
    "import os\n",
    "import pickle\n",
    "from datetime import datetime, timedelta\n",
    "import matplotlib.pyplot as plt"
   ]
  },
  {
   "cell_type": "code",
   "execution_count": null,
   "metadata": {},
   "outputs": [],
   "source": [
    "path = os.path.normpath(os.getcwd() + os.sep + os.pardir)\n",
    "summerFlexPath = os.path.join(path, 'Data', 'Flexibility', 'Summer User Full')"
   ]
  },
  {
   "cell_type": "code",
   "execution_count": 3,
   "metadata": {},
   "outputs": [],
   "source": [
    "# Reads the price data, data was obtained through ERCOT website, it is the RTM LMP data\n",
    "\n",
    "price = pd.read_csv(os.path.join(path, 'Data', 'Price', 'price.csv'), index_col='time')\n",
    "price.index = pd.to_datetime(price.index)"
   ]
  },
  {
   "cell_type": "code",
   "execution_count": 4,
   "metadata": {},
   "outputs": [],
   "source": [
    "# Reads the weather data and upsample from 30-minute interval to 15-minute interval by linear interpolation\n",
    "\n",
    "weather = pd.DataFrame()\n",
    "for file in os.listdir(os.path.join(path, 'Data', 'Weather', 'Houston')):\n",
    "    temp = pd.read_csv(os.path.join(path, 'Data', 'Weather', 'Houston', file))\n",
    "    temp.index = pd.to_datetime(temp[['Year', 'Month', 'Day', 'Hour', 'Minute']])\n",
    "    temp = temp.iloc[:, 5:]\n",
    "    \n",
    "    weather = pd.concat((weather, temp))\n",
    "    \n",
    "weather = weather[['Wind Speed', 'Relative Humidity', 'Temperature']]\n",
    "weather = weather.resample('15T').interpolate()"
   ]
  },
  {
   "cell_type": "code",
   "execution_count": 5,
   "metadata": {},
   "outputs": [
    {
     "data": {
      "text/html": [
       "<div>\n",
       "<style scoped>\n",
       "    .dataframe tbody tr th:only-of-type {\n",
       "        vertical-align: middle;\n",
       "    }\n",
       "\n",
       "    .dataframe tbody tr th {\n",
       "        vertical-align: top;\n",
       "    }\n",
       "\n",
       "    .dataframe thead th {\n",
       "        text-align: right;\n",
       "    }\n",
       "</style>\n",
       "<table border=\"1\" class=\"dataframe\">\n",
       "  <thead>\n",
       "    <tr style=\"text-align: right;\">\n",
       "      <th></th>\n",
       "      <th>Wind Speed</th>\n",
       "      <th>Relative Humidity</th>\n",
       "      <th>Temperature</th>\n",
       "    </tr>\n",
       "  </thead>\n",
       "  <tbody>\n",
       "    <tr>\n",
       "      <th>count</th>\n",
       "      <td>1540.000000</td>\n",
       "      <td>1540.000000</td>\n",
       "      <td>1540.000000</td>\n",
       "    </tr>\n",
       "    <tr>\n",
       "      <th>mean</th>\n",
       "      <td>2.019448</td>\n",
       "      <td>72.954338</td>\n",
       "      <td>29.543831</td>\n",
       "    </tr>\n",
       "    <tr>\n",
       "      <th>std</th>\n",
       "      <td>0.797484</td>\n",
       "      <td>14.241159</td>\n",
       "      <td>2.439095</td>\n",
       "    </tr>\n",
       "    <tr>\n",
       "      <th>min</th>\n",
       "      <td>0.300000</td>\n",
       "      <td>38.940000</td>\n",
       "      <td>24.000000</td>\n",
       "    </tr>\n",
       "    <tr>\n",
       "      <th>25%</th>\n",
       "      <td>1.450000</td>\n",
       "      <td>61.650000</td>\n",
       "      <td>27.500000</td>\n",
       "    </tr>\n",
       "    <tr>\n",
       "      <th>50%</th>\n",
       "      <td>2.000000</td>\n",
       "      <td>73.180000</td>\n",
       "      <td>29.500000</td>\n",
       "    </tr>\n",
       "    <tr>\n",
       "      <th>75%</th>\n",
       "      <td>2.500000</td>\n",
       "      <td>84.602500</td>\n",
       "      <td>31.500000</td>\n",
       "    </tr>\n",
       "    <tr>\n",
       "      <th>max</th>\n",
       "      <td>5.600000</td>\n",
       "      <td>100.000000</td>\n",
       "      <td>37.000000</td>\n",
       "    </tr>\n",
       "  </tbody>\n",
       "</table>\n",
       "</div>"
      ],
      "text/plain": [
       "        Wind Speed  Relative Humidity  Temperature\n",
       "count  1540.000000        1540.000000  1540.000000\n",
       "mean      2.019448          72.954338    29.543831\n",
       "std       0.797484          14.241159     2.439095\n",
       "min       0.300000          38.940000    24.000000\n",
       "25%       1.450000          61.650000    27.500000\n",
       "50%       2.000000          73.180000    29.500000\n",
       "75%       2.500000          84.602500    31.500000\n",
       "max       5.600000         100.000000    37.000000"
      ]
     },
     "execution_count": 5,
     "metadata": {},
     "output_type": "execute_result"
    }
   ],
   "source": [
    "# Here, we will use the temperature's 75% & 50% percentile as thresholds for label creation\n",
    "\n",
    "weather.loc[(weather.index >= datetime(2017, 6, 10)) & (weather.index <= datetime(2017, 8, 26)) & \\\n",
    "            (weather.index.hour >= 15) & (weather.index.hour <= 19)].describe()"
   ]
  },
  {
   "cell_type": "markdown",
   "metadata": {},
   "source": [
    "This section reads in the flexibility data and goes through it day by day along with price and weather data. It calculates the flexibility by comparing the peak-hour time period to the non-peak time period and see if the difference is greater than 0.4.\n",
    "\n",
    "For price, $40/MWh was set as the threshold and for weather, temperature's 75% & 50% percentile points are used as thresholds.\n",
    "\n",
    "After stepping through each day in each user's flexibility file (remember each column is an individual day with the header being the date and there are totally 24 time steps.), the labels are concatenated at the end for cGAN. "
   ]
  },
  {
   "cell_type": "code",
   "execution_count": 24,
   "metadata": {},
   "outputs": [],
   "source": [
    "for file in os.listdir(summerFlexPath):\n",
    "    temp = pd.read_csv(os.path.join(summerFlexPath, file))\n",
    "    dates = temp.columns\n",
    "    \n",
    "    flex_label = np.array([])\n",
    "    temperature_label = np.array([])\n",
    "    price_label = np.array([])\n",
    "    \n",
    "    for i in temp.columns:\n",
    "        flex_avg = temp[i].iloc[15:20].copy()\n",
    "        flex_avg = flex_avg.mean()\n",
    "        \n",
    "        other_avg = (temp[i].loc[0:15]).mean()\n",
    "        \n",
    "        delta = (other_avg - flex_avg)/other_avg\n",
    "        \n",
    "        if delta >= 0.4 and other_avg >= 1 and (np.count_nonzero(temp[i].iloc[15:20] < 1)) > 2:\n",
    "            flex_label = np.append(flex_label, 2)\n",
    "        # elif (delta < 0.3 and delta >= 0.01) and (np.count_nonzero(temp[i].iloc[15:20] < 1) < 2 and np.count_nonzero(temp[i].iloc[15:20] < 1) <= 1):\n",
    "        elif (delta < 0.4 and delta >= 0.2) and other_avg >= 1 and (np.count_nonzero(temp[i].iloc[15:20] < 1)) > 1:\n",
    "            flex_label = np.append(flex_label, 1)\n",
    "        else:\n",
    "            flex_label = np.append(flex_label, 0)\n",
    "        \n",
    "        price_dr_avg = price.loc[i][60:80]\n",
    "        \n",
    "        if (price_dr_avg.values >= 40).any():\n",
    "            price_label = np.append(price_label, 2)\n",
    "        else:\n",
    "            price_label = np.append(price_label, 0)\n",
    "        \n",
    "        weather_temp = weather.loc[i].copy()\n",
    "        temp_avg = weather_temp['Temperature'][60:80].copy()\n",
    "        \n",
    "        if temp_avg.mean() >= 31.5:\n",
    "           temperature_label = np.append(temperature_label, 2)\n",
    "        elif temp_avg.mean() < 31.5 and temp_avg.mean() >= 29.5:\n",
    "           temperature_label = np.append(temperature_label, 1)\n",
    "        elif temp_avg.mean() < 29.5:\n",
    "           temperature_label = np.append(temperature_label, 0)\n",
    "    \n",
    "    temp.loc[len(temp)] = flex_label\n",
    "    temp.loc[len(temp)] = price_label\n",
    "    temp.loc[len(temp)] = temperature_label\n",
    "    \n",
    "    temp.to_csv(os.path.join(path, 'Data', 'Flexibility', 'Summer with label', f'{file} label.csv'), index=False)"
   ]
  },
  {
   "cell_type": "code",
   "execution_count": 25,
   "metadata": {
    "tags": []
   },
   "outputs": [],
   "source": [
    "# This puts all flexibility profiles with the labels from all users into one file\n",
    "\n",
    "flex_full = pd.DataFrame()\n",
    "\n",
    "for file in os.listdir(os.path.join(path, 'Data', 'Flexibility', 'Summer with label')):\n",
    "    temp = pd.read_csv(os.path.join(path, 'Data', 'Flexibility', 'Summer with label', file))\n",
    "    for i in temp.columns:\n",
    "        flex_full = pd.concat([flex_full, temp[i]], axis = 1)\n",
    "        \n",
    "flex_full.columns = range(flex_full.columns.size)\n",
    "flex_full.to_csv(os.path.join(path, 'Data', 'Flexibility', 'Summer Full.csv'), index=False)"
   ]
  },
  {
   "cell_type": "code",
   "execution_count": 26,
   "metadata": {},
   "outputs": [
    {
     "data": {
      "text/plain": [
       "[<matplotlib.lines.Line2D at 0x2b0d1e96640>]"
      ]
     },
     "execution_count": 26,
     "metadata": {},
     "output_type": "execute_result"
    },
    {
     "data": {
      "image/png": "[encoded data removed]",
      "text/plain": [
       "<Figure size 432x288 with 1 Axes>"
      ]
     },
     "metadata": {
      "needs_background": "light"
     },
     "output_type": "display_data"
    }
   ],
   "source": [
    "# This just plots the average flexibility profiles and verify the labelling.\n",
    "\n",
    "flex = pd.DataFrame()\n",
    "\n",
    "for i in flex_full.columns:\n",
    "    temp = flex_full[i].copy()\n",
    "    if temp.iloc[-3] == 2:\n",
    "        flex = pd.concat([flex, temp], axis=1)\n",
    "\n",
    "plt.plot(flex.iloc[:-3, :].mean(axis=1), c='red')"
   ]
  }
 ],
 "metadata": {
  "kernelspec": {
   "display_name": "Python 3",
   "language": "python",
   "name": "python3"
  },
  "language_info": {
   "codemirror_mode": {
    "name": "ipython",
    "version": 3
   },
   "file_extension": ".py",
   "mimetype": "text/x-python",
   "name": "python",
   "nbconvert_exporter": "python",
   "pygments_lexer": "ipython3",
   "version": "3.8.3"
  }
 },
 "nbformat": 4,
 "nbformat_minor": 5
}
