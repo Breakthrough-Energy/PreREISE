{
 "cells": [
  {
   "cell_type": "code",
   "execution_count": 27,
   "metadata": {},
   "outputs": [],
   "source": [
    "import pandas as pd\n",
    "import numpy as np\n",
    "from datetime import datetime, timedelta\n",
    "import os"
   ]
  },
  {
   "cell_type": "code",
   "execution_count": 28,
   "metadata": {},
   "outputs": [],
   "source": [
    "path = os.path.normpath(os.getcwd() + os.sep + os.pardir)"
   ]
  },
  {
   "cell_type": "code",
   "execution_count": 29,
   "metadata": {},
   "outputs": [],
   "source": [
    "def get_flexibility(scenario, demand, location, users2bus):\n",
    "    flexibilityPath = os.path.join(path, 'Results', 'Generated', f'{location} scenario {scenario}', 'flexibility')\n",
    "    flex = pd.DataFrame()\n",
    "    for file in os.listdir(flexibilityPath):\n",
    "        user = file.split(sep=' ')[0]\n",
    "        temp = pd.read_csv(os.path.join(flexibilityPath, file), index_col='time')\n",
    "        flex.insert(0, f'{user}', temp)\n",
    "        \n",
    "    # To test the simulation, we are manually increasing the MW amount\n",
    "    flex = flex * 10\n",
    "    flex[flex == 0] = 0.001\n",
    "    flex.index = pd.to_datetime(flex.index)\n",
    "    \n",
    "    flex.columns = flex.columns.map(users2bus)\n",
    "    \n",
    "    # When the total number of users is greater than the total number of buses, there will be duplicated headers for the flexibility, we sum the total flexibility at each bus here\n",
    "    flex = flex.groupby(flex.columns, axis=1).sum()\n",
    "    \n",
    "    return flex\n",
    "\n",
    "def get_bus(path, location, state, sub, bus2sub, bus, demand):\n",
    "    \n",
    "    sub = sub.loc[sub['name'].str.contains(location) & sub['interconnect'].str.contains(state)]\n",
    "    user_bus = sub.merge(bus2sub, left_on='sub_id', right_on='sub_id')\n",
    "    bus2zone = pd.merge(bus, user_bus, on=['bus_id'])\n",
    "    \n",
    "    # Maps users to buses\n",
    "    users2bus = {}\n",
    "    j = 0\n",
    "    for i in range(0, len(demand.columns)):\n",
    "        \n",
    "        # We only want buses where `Pd` is not 0\n",
    "        if len(bus2zone['Pd'].loc[bus2zone['Pd'] != 0]) == 1:\n",
    "            users2bus[demand.columns[i]] = bus2zone['bus_id'].loc[bus2zone['Pd'] != 0].values[0]\n",
    "        else:\n",
    "            while bus2zone['Pd'].loc[bus2zone['bus_id'] == user_bus['bus_id'].iloc[j]].values[0] == 0:\n",
    "                j+=1\n",
    "            users2bus[demand.columns[i]] = user_bus['bus_id'].iloc[j]\n",
    "            j += 1\n",
    "            if j == len(user_bus):\n",
    "                j = 0\n",
    "        \n",
    "    return users2bus, bus2zone"
   ]
  },
  {
   "cell_type": "code",
   "execution_count": 30,
   "metadata": {},
   "outputs": [],
   "source": [
    "sub = pd.read_csv(os.path.join(path, 'Data', 'Simulation', 'sub.csv'))\n",
    "bus2sub = pd.read_csv(os.path.join(path, 'Data', 'Simulation', 'bus2sub.csv'))\n",
    "bus = pd.read_csv(os.path.join(path, 'Data', 'Simulation', 'bus.csv'))\n",
    "demand = pd.read_csv(os.path.join(path, 'Data', 'nonparticipants.csv'), index_col='time')\n",
    "demand.index = pd.to_datetime(demand.index)\n",
    "system_demand = pd.read_csv(os.path.join(path, 'Data', 'Simulation', 'demand.csv'))"
   ]
  },
  {
   "cell_type": "code",
   "execution_count": 31,
   "metadata": {},
   "outputs": [],
   "source": [
    "# To change the city, location is the name of the substation, the full list is found in the 'sub.csv' file. State is the interconnection name.\n",
    "# For example, if we want to see the flexibility in Amarillo, since it's in the Panhandle, we would set location to 'PANHANDLE' and leave state as 'Texas'.\n",
    "\n",
    "location = 'PANHANDLE'\n",
    "state = 'Texas'\n",
    "users2bus, bus2zone = get_bus(path, location, state, sub, bus2sub, bus, demand)\n",
    "\n",
    "flex_up = pd.DataFrame()\n",
    "\n",
    "for key, item in users2bus.items():\n",
    "    bus = item\n",
    "    zone = bus2zone['zone_id'].loc[bus2zone['bus_id'] == bus].values[0]\n",
    "    \n",
    "    # Since right now, we don't have demand response data for increase in consumption, we are just setting it to the total demand at the zone level.\n",
    "    if bus in flex_up.columns:\n",
    "        continue\n",
    "    else:\n",
    "        flex_up. insert(0, bus, system_demand[str(zone)].values)\n",
    "\n",
    "flex_up.index = system_demand.index"
   ]
  },
  {
   "cell_type": "code",
   "execution_count": 32,
   "metadata": {},
   "outputs": [],
   "source": [
    "# Reads the lower bound of flexibility\n",
    "scenario = 3\n",
    "flexibility_location = 'Amarillo'\n",
    "flex_dn = get_flexibility(scenario, demand, flexibility_location, users2bus)\n",
    "\n",
    "flex_up = flex_up[flex_dn.columns]\n",
    "\n",
    "hydro = pd.read_csv(os.path.join(path, 'Data', 'Simulation', 'hydro.csv'), index_col='UTC')\n",
    "hydro.index = pd.to_datetime(hydro.index)\n",
    "\n",
    "flex_up.index = hydro.index\n",
    "flex_dn.index = hydro.index\n",
    "\n",
    "# We have found this bus in Austin casues problems with the simulation, so we are removing it from the data set.\n",
    "if flexibility_location == 'Austin':\n",
    "    flex_up = flex_up.drop(columns=[3006040])\n",
    "    flex_dn = flex_dn.drop(columns=[3006040])"
   ]
  },
  {
   "cell_type": "code",
   "execution_count": 33,
   "metadata": {},
   "outputs": [],
   "source": [
    "os.makedirs(os.path.join(path, 'Results', 'Simulation', flexibility_location))\n",
    "\n",
    "flex_up.to_csv(os.path.join(path, 'Results', 'Simulation', flexibility_location, 'demand_flexibility_up.csv'))\n",
    "flex_dn.to_csv(os.path.join(path, 'Results', 'Simulation', flexibility_location, 'demand_flexibility_dn.csv'))"
   ]
  },
  {
   "cell_type": "markdown",
   "metadata": {},
   "source": [
    "The code above shows how to generate the flexibility files for individual cities for the simulation, now we will simply combine them all together into one file.\n",
    "\n",
    "To do so, we iterate through the scenario files "
   ]
  },
  {
   "cell_type": "code",
   "execution_count": 34,
   "metadata": {},
   "outputs": [],
   "source": [
    "flex_up_full = pd.DataFrame()\n",
    "flex_dn_full = pd.DataFrame()\n",
    "\n",
    "for subdir, dirs, files in os.walk(os.path.join(path, 'Results', 'Simulation')):\n",
    "    for file in files:\n",
    "        if 'up' in file:\n",
    "            flex_up_full = pd.concat([flex_up_full, pd.read_csv(os.path.join(subdir, file), index_col=[0])], axis=1)\n",
    "        if 'dn' in file:\n",
    "            flex_dn_full = pd.concat([flex_dn_full, pd.read_csv(os.path.join(subdir, file), index_col=[0])], axis=1)\n",
    "\n",
    "flex_up_full.to_csv(os.path.join(path, 'Results', 'Simulation', 'demand_flexibility_up.csv'))\n",
    "flex_dn_full.to_csv(os.path.join(path, 'Results', 'Simulation', 'demand_flexibility_dn.csv'))"
   ]
  }
 ],
 "metadata": {
  "kernelspec": {
   "display_name": "Python 3",
   "language": "python",
   "name": "python3"
  },
  "language_info": {
   "codemirror_mode": {
    "name": "ipython",
    "version": 3
   },
   "file_extension": ".py",
   "mimetype": "text/x-python",
   "name": "python",
   "nbconvert_exporter": "python",
   "pygments_lexer": "ipython3",
   "version": "3.8.3"
  }
 },
 "nbformat": 4,
 "nbformat_minor": 5
}
