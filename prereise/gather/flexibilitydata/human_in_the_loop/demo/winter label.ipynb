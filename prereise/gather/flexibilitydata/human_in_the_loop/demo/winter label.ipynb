{
 "cells": [
  {
   "cell_type": "code",
   "execution_count": 1,
   "id": "2b94269f-43f9-4015-8103-2063d5ac88cb",
   "metadata": {},
   "outputs": [],
   "source": [
    "import pandas as pd\n",
    "import numpy as np\n",
    "import os\n",
    "import pickle\n",
    "from datetime import datetime, timedelta\n",
    "import matplotlib.pyplot as plt"
   ]
  },
  {
   "cell_type": "code",
   "execution_count": 2,
   "id": "38efc254-476f-42ba-a1c5-fb9de83201f1",
   "metadata": {},
   "outputs": [],
   "source": [
    "path = os.path.normpath(os.getcwd() + os.sep + os.pardir)"
   ]
  },
  {
   "cell_type": "code",
   "execution_count": 3,
   "id": "27a84f12-15bc-4777-9e10-d9480ee618aa",
   "metadata": {},
   "outputs": [],
   "source": [
    "winterFlexPath = os.path.join(path, 'Data', 'Flexibility', 'Winter User Full')"
   ]
  },
  {
   "cell_type": "code",
   "execution_count": 4,
   "id": "57feb7d8-f3bf-4187-9832-da688578528a",
   "metadata": {},
   "outputs": [],
   "source": [
    "# Reads the price data, data was obtained through ERCOT website, it is the RTM LMP data\n",
    "\n",
    "price = pd.read_csv(os.path.join(path, 'Data', 'Price', 'price.csv'), index_col='time')\n",
    "price.index = pd.to_datetime(price.index)"
   ]
  },
  {
   "cell_type": "code",
   "execution_count": 5,
   "id": "a885ce06-dafa-4d14-b337-dab14779d489",
   "metadata": {},
   "outputs": [],
   "source": [
    "with open(os.path.join(path, 'Data', 'summer2winter days.pickle'), 'rb') as handle:\n",
    "    summer2winter = pickle.load(handle)\n",
    "    \n",
    "summer2winter = dict([(value, key) for key, value in summer2winter.items()])"
   ]
  },
  {
   "cell_type": "code",
   "execution_count": 6,
   "id": "ecb9a1b1-c555-4081-b3a2-ee35b7df0fe9",
   "metadata": {},
   "outputs": [
    {
     "data": {
      "text/html": [
       "<div>\n",
       "<style scoped>\n",
       "    .dataframe tbody tr th:only-of-type {\n",
       "        vertical-align: middle;\n",
       "    }\n",
       "\n",
       "    .dataframe tbody tr th {\n",
       "        vertical-align: top;\n",
       "    }\n",
       "\n",
       "    .dataframe thead th {\n",
       "        text-align: right;\n",
       "    }\n",
       "</style>\n",
       "<table border=\"1\" class=\"dataframe\">\n",
       "  <thead>\n",
       "    <tr style=\"text-align: right;\">\n",
       "      <th></th>\n",
       "      <th>Wind Speed</th>\n",
       "      <th>Relative Humidity</th>\n",
       "      <th>Temperature</th>\n",
       "    </tr>\n",
       "  </thead>\n",
       "  <tbody>\n",
       "    <tr>\n",
       "      <th>count</th>\n",
       "      <td>3620.000000</td>\n",
       "      <td>3620.000000</td>\n",
       "      <td>3620.000000</td>\n",
       "    </tr>\n",
       "    <tr>\n",
       "      <th>mean</th>\n",
       "      <td>1.989959</td>\n",
       "      <td>81.368392</td>\n",
       "      <td>17.792541</td>\n",
       "    </tr>\n",
       "    <tr>\n",
       "      <th>std</th>\n",
       "      <td>0.978456</td>\n",
       "      <td>15.958097</td>\n",
       "      <td>5.522098</td>\n",
       "    </tr>\n",
       "    <tr>\n",
       "      <th>min</th>\n",
       "      <td>0.200000</td>\n",
       "      <td>29.850000</td>\n",
       "      <td>-1.000000</td>\n",
       "    </tr>\n",
       "    <tr>\n",
       "      <th>25%</th>\n",
       "      <td>1.200000</td>\n",
       "      <td>70.813750</td>\n",
       "      <td>14.500000</td>\n",
       "    </tr>\n",
       "    <tr>\n",
       "      <th>50%</th>\n",
       "      <td>1.800000</td>\n",
       "      <td>83.680000</td>\n",
       "      <td>18.750000</td>\n",
       "    </tr>\n",
       "    <tr>\n",
       "      <th>75%</th>\n",
       "      <td>2.600000</td>\n",
       "      <td>95.663750</td>\n",
       "      <td>22.000000</td>\n",
       "    </tr>\n",
       "    <tr>\n",
       "      <th>max</th>\n",
       "      <td>6.200000</td>\n",
       "      <td>100.000000</td>\n",
       "      <td>30.000000</td>\n",
       "    </tr>\n",
       "  </tbody>\n",
       "</table>\n",
       "</div>"
      ],
      "text/plain": [
       "        Wind Speed  Relative Humidity  Temperature\n",
       "count  3620.000000        3620.000000  3620.000000\n",
       "mean      1.989959          81.368392    17.792541\n",
       "std       0.978456          15.958097     5.522098\n",
       "min       0.200000          29.850000    -1.000000\n",
       "25%       1.200000          70.813750    14.500000\n",
       "50%       1.800000          83.680000    18.750000\n",
       "75%       2.600000          95.663750    22.000000\n",
       "max       6.200000         100.000000    30.000000"
      ]
     },
     "execution_count": 6,
     "metadata": {},
     "output_type": "execute_result"
    }
   ],
   "source": [
    "weather = pd.DataFrame()\n",
    "for file in os.listdir(os.path.join(path, 'Data', 'Weather')):\n",
    "    temp = pd.read_csv(os.path.join(path, 'Data', 'Weather', file))\n",
    "    temp.index = pd.to_datetime(temp[['Year', 'Month', 'Day', 'Hour', 'Minute']])\n",
    "    temp = temp.iloc[:, 5:]\n",
    "    \n",
    "    weather = pd.concat((weather, temp))\n",
    "    \n",
    "weather = weather[['Wind Speed', 'Relative Humidity', 'Temperature']]\n",
    "weather = weather.resample('15T').interpolate()\n",
    "weather = weather.loc[weather.index.year==2017]\n",
    "weather = weather.loc[(weather.index.month == 1) | (weather.index.month == 11) | (weather.index.month == 12)\n",
    "                  | (weather.index.month == 4)| (weather.index.month == 2)| (weather.index.month == 3)]\n",
    "\n",
    "weather.loc[(weather.index.hour >= 15) & (weather.index.hour <= 19)].describe()"
   ]
  },
  {
   "cell_type": "code",
   "execution_count": 7,
   "id": "602c65f8-0e92-4320-881b-bd49a8779d4e",
   "metadata": {
    "collapsed": true,
    "jupyter": {
     "outputs_hidden": true
    },
    "tags": []
   },
   "outputs": [
    {
     "name": "stderr",
     "output_type": "stream",
     "text": [
      "C:\\Users\\sienna\\AppData\\Local\\Temp\\ipykernel_26480\\3113503402.py:24: RuntimeWarning: divide by zero encountered in double_scalars\n",
      "  delta = (flex_avg - other_avg)/flex_avg\n",
      "C:\\Users\\sienna\\AppData\\Local\\Temp\\ipykernel_26480\\3113503402.py:24: RuntimeWarning: divide by zero encountered in double_scalars\n",
      "  delta = (flex_avg - other_avg)/flex_avg\n",
      "C:\\Users\\sienna\\AppData\\Local\\Temp\\ipykernel_26480\\3113503402.py:24: RuntimeWarning: divide by zero encountered in double_scalars\n",
      "  delta = (flex_avg - other_avg)/flex_avg\n",
      "C:\\Users\\sienna\\AppData\\Local\\Temp\\ipykernel_26480\\3113503402.py:24: RuntimeWarning: divide by zero encountered in double_scalars\n",
      "  delta = (flex_avg - other_avg)/flex_avg\n",
      "C:\\Users\\sienna\\AppData\\Local\\Temp\\ipykernel_26480\\3113503402.py:24: RuntimeWarning: divide by zero encountered in double_scalars\n",
      "  delta = (flex_avg - other_avg)/flex_avg\n",
      "C:\\Users\\sienna\\AppData\\Local\\Temp\\ipykernel_26480\\3113503402.py:24: RuntimeWarning: divide by zero encountered in double_scalars\n",
      "  delta = (flex_avg - other_avg)/flex_avg\n",
      "C:\\Users\\sienna\\AppData\\Local\\Temp\\ipykernel_26480\\3113503402.py:24: RuntimeWarning: divide by zero encountered in double_scalars\n",
      "  delta = (flex_avg - other_avg)/flex_avg\n",
      "C:\\Users\\sienna\\AppData\\Local\\Temp\\ipykernel_26480\\3113503402.py:24: RuntimeWarning: divide by zero encountered in double_scalars\n",
      "  delta = (flex_avg - other_avg)/flex_avg\n",
      "C:\\Users\\sienna\\AppData\\Local\\Temp\\ipykernel_26480\\3113503402.py:24: RuntimeWarning: divide by zero encountered in double_scalars\n",
      "  delta = (flex_avg - other_avg)/flex_avg\n",
      "C:\\Users\\sienna\\AppData\\Local\\Temp\\ipykernel_26480\\3113503402.py:24: RuntimeWarning: divide by zero encountered in double_scalars\n",
      "  delta = (flex_avg - other_avg)/flex_avg\n",
      "C:\\Users\\sienna\\AppData\\Local\\Temp\\ipykernel_26480\\3113503402.py:24: RuntimeWarning: divide by zero encountered in double_scalars\n",
      "  delta = (flex_avg - other_avg)/flex_avg\n",
      "C:\\Users\\sienna\\AppData\\Local\\Temp\\ipykernel_26480\\3113503402.py:24: RuntimeWarning: divide by zero encountered in double_scalars\n",
      "  delta = (flex_avg - other_avg)/flex_avg\n",
      "C:\\Users\\sienna\\AppData\\Local\\Temp\\ipykernel_26480\\3113503402.py:24: RuntimeWarning: divide by zero encountered in double_scalars\n",
      "  delta = (flex_avg - other_avg)/flex_avg\n",
      "C:\\Users\\sienna\\AppData\\Local\\Temp\\ipykernel_26480\\3113503402.py:24: RuntimeWarning: divide by zero encountered in double_scalars\n",
      "  delta = (flex_avg - other_avg)/flex_avg\n",
      "C:\\Users\\sienna\\AppData\\Local\\Temp\\ipykernel_26480\\3113503402.py:24: RuntimeWarning: divide by zero encountered in double_scalars\n",
      "  delta = (flex_avg - other_avg)/flex_avg\n",
      "C:\\Users\\sienna\\AppData\\Local\\Temp\\ipykernel_26480\\3113503402.py:24: RuntimeWarning: divide by zero encountered in double_scalars\n",
      "  delta = (flex_avg - other_avg)/flex_avg\n",
      "C:\\Users\\sienna\\AppData\\Local\\Temp\\ipykernel_26480\\3113503402.py:24: RuntimeWarning: divide by zero encountered in double_scalars\n",
      "  delta = (flex_avg - other_avg)/flex_avg\n",
      "C:\\Users\\sienna\\AppData\\Local\\Temp\\ipykernel_26480\\3113503402.py:24: RuntimeWarning: divide by zero encountered in double_scalars\n",
      "  delta = (flex_avg - other_avg)/flex_avg\n",
      "C:\\Users\\sienna\\AppData\\Local\\Temp\\ipykernel_26480\\3113503402.py:24: RuntimeWarning: divide by zero encountered in double_scalars\n",
      "  delta = (flex_avg - other_avg)/flex_avg\n",
      "C:\\Users\\sienna\\AppData\\Local\\Temp\\ipykernel_26480\\3113503402.py:24: RuntimeWarning: divide by zero encountered in double_scalars\n",
      "  delta = (flex_avg - other_avg)/flex_avg\n",
      "C:\\Users\\sienna\\AppData\\Local\\Temp\\ipykernel_26480\\3113503402.py:24: RuntimeWarning: divide by zero encountered in double_scalars\n",
      "  delta = (flex_avg - other_avg)/flex_avg\n",
      "C:\\Users\\sienna\\AppData\\Local\\Temp\\ipykernel_26480\\3113503402.py:24: RuntimeWarning: divide by zero encountered in double_scalars\n",
      "  delta = (flex_avg - other_avg)/flex_avg\n",
      "C:\\Users\\sienna\\AppData\\Local\\Temp\\ipykernel_26480\\3113503402.py:24: RuntimeWarning: divide by zero encountered in double_scalars\n",
      "  delta = (flex_avg - other_avg)/flex_avg\n",
      "C:\\Users\\sienna\\AppData\\Local\\Temp\\ipykernel_26480\\3113503402.py:24: RuntimeWarning: divide by zero encountered in double_scalars\n",
      "  delta = (flex_avg - other_avg)/flex_avg\n",
      "C:\\Users\\sienna\\AppData\\Local\\Temp\\ipykernel_26480\\3113503402.py:24: RuntimeWarning: divide by zero encountered in double_scalars\n",
      "  delta = (flex_avg - other_avg)/flex_avg\n",
      "C:\\Users\\sienna\\AppData\\Local\\Temp\\ipykernel_26480\\3113503402.py:24: RuntimeWarning: divide by zero encountered in double_scalars\n",
      "  delta = (flex_avg - other_avg)/flex_avg\n",
      "C:\\Users\\sienna\\AppData\\Local\\Temp\\ipykernel_26480\\3113503402.py:24: RuntimeWarning: divide by zero encountered in double_scalars\n",
      "  delta = (flex_avg - other_avg)/flex_avg\n",
      "C:\\Users\\sienna\\AppData\\Local\\Temp\\ipykernel_26480\\3113503402.py:24: RuntimeWarning: divide by zero encountered in double_scalars\n",
      "  delta = (flex_avg - other_avg)/flex_avg\n",
      "C:\\Users\\sienna\\AppData\\Local\\Temp\\ipykernel_26480\\3113503402.py:24: RuntimeWarning: divide by zero encountered in double_scalars\n",
      "  delta = (flex_avg - other_avg)/flex_avg\n",
      "C:\\Users\\sienna\\AppData\\Local\\Temp\\ipykernel_26480\\3113503402.py:24: RuntimeWarning: divide by zero encountered in double_scalars\n",
      "  delta = (flex_avg - other_avg)/flex_avg\n",
      "C:\\Users\\sienna\\AppData\\Local\\Temp\\ipykernel_26480\\3113503402.py:24: RuntimeWarning: divide by zero encountered in double_scalars\n",
      "  delta = (flex_avg - other_avg)/flex_avg\n"
     ]
    }
   ],
   "source": [
    "for file in os.listdir(winterFlexPath):\n",
    "    \n",
    "    temp = pd.read_csv(os.path.join(winterFlexPath, file))\n",
    "    dates = temp.columns\n",
    "    flex_label = np.array([])\n",
    "    temperature_label = np.array([])\n",
    "    price_label = np.array([])\n",
    "    existing_days = []\n",
    "    \n",
    "    for i in temp.columns:\n",
    "        \n",
    "        if pd.to_datetime(i) not in summer2winter:\n",
    "            continue\n",
    "        else:\n",
    "            existing_days.append(i)\n",
    "            \n",
    "        new_winter_day = pd.to_datetime(summer2winter[pd.to_datetime(i)])\n",
    "        \n",
    "        flex_avg = temp[i].iloc[15:20].copy()\n",
    "        flex_avg = flex_avg.mean()\n",
    "        \n",
    "        other_avg = np.concatenate((temp[i].loc[0:14], temp[i].loc[20:])).mean()\n",
    "        \n",
    "        delta = (flex_avg - other_avg)/flex_avg\n",
    "        \n",
    "        # Flexibility label\n",
    "        if delta >= 0.4 and np.count_nonzero(temp[i].iloc[15:20] > 0) > 0:\n",
    "            flex_label = np.append(flex_label, 2)\n",
    "        elif (delta < 0.4 and delta >= 0.2) and (np.count_nonzero(temp[i].iloc[15:20] > 0) > 0):\n",
    "            flex_label = np.append(flex_label, 1)\n",
    "        else:\n",
    "            flex_label = np.append(flex_label, 0)\n",
    "        \n",
    "        # Price label - here the price is much lower than Summer\n",
    "        price_dr_avg = price.loc[new_winter_day:new_winter_day+timedelta(days=1)-timedelta(minutes=15)][60:80]\n",
    "        \n",
    "        if (price_dr_avg.values >= 28).any():\n",
    "            price_label = np.append(price_label, 2)\n",
    "        else:\n",
    "            price_label = np.append(price_label, 0)\n",
    "        \n",
    "        # Temperature label\n",
    "        weather_temp = weather.loc[new_winter_day:new_winter_day+timedelta(days=1)-timedelta(minutes=15)].copy()\n",
    "        temp_avg = weather_temp['Temperature'][60:80].copy()\n",
    "        \n",
    "        if temp_avg.mean() >= 22:\n",
    "           temperature_label = np.append(temperature_label, 0)\n",
    "        elif temp_avg.mean() < 22 and temp_avg.mean() >= 18.75:\n",
    "           temperature_label = np.append(temperature_label, 1)\n",
    "        elif temp_avg.mean() < 18.75:\n",
    "           temperature_label = np.append(temperature_label, 2)\n",
    "                \n",
    "    temp = temp[existing_days]\n",
    "    temp.loc[len(temp)] = flex_label\n",
    "    temp.loc[len(temp)] = price_label\n",
    "    temp.loc[len(temp)] = temperature_label\n",
    "    \n",
    "    temp.to_csv(os.path.join(path, 'Data', 'Flexibility', 'Winter with label', f'{file} label.csv'), index=False)\n",
    "    "
   ]
  },
  {
   "cell_type": "code",
   "execution_count": 8,
   "id": "da4e1be5-9e5f-426f-81ee-46a712f69d1f",
   "metadata": {
    "tags": []
   },
   "outputs": [],
   "source": [
    "flex_full = pd.DataFrame()\n",
    "\n",
    "for file in os.listdir(os.path.join(path, 'Data', 'Flexibility', 'Winter with label')):\n",
    "    temp = pd.read_csv(os.path.join(path, 'Data', 'Flexibility', 'Winter with label', file))\n",
    "    for i in temp.columns:\n",
    "        flex_full = pd.concat([flex_full, temp[i]], axis=1)\n",
    "        \n",
    "flex_full.columns = range(flex_full.columns.size)\n",
    "flex_full.to_csv(os.path.join(path, 'Data', 'Flexibility', 'Winter Full.csv'), index=False)"
   ]
  },
  {
   "cell_type": "code",
   "execution_count": 12,
   "id": "3a5b9640-20b5-4f1e-891e-1a0e94d675bb",
   "metadata": {},
   "outputs": [
    {
     "data": {
      "text/plain": [
       "[<matplotlib.lines.Line2D at 0x1518dfcafd0>]"
      ]
     },
     "execution_count": 12,
     "metadata": {},
     "output_type": "execute_result"
    },
    {
     "data": {
      "image/png": "[encoded data removed]",
      "text/plain": [
       "<Figure size 432x288 with 1 Axes>"
      ]
     },
     "metadata": {
      "needs_background": "light"
     },
     "output_type": "display_data"
    }
   ],
   "source": [
    "flex = pd.DataFrame()\n",
    "\n",
    "for i in flex_full.columns:\n",
    "    temp = flex_full[i].copy()\n",
    "    if temp.iloc[-3] == 2:\n",
    "        flex = pd.concat([flex, temp], axis=1)\n",
    "\n",
    "plt.plot(flex.iloc[:-3, :].mean(axis=1), c='red')"
   ]
  }
 ],
 "metadata": {
  "kernelspec": {
   "display_name": "Python 3 (ipykernel)",
   "language": "python",
   "name": "python3"
  },
  "language_info": {
   "codemirror_mode": {
    "name": "ipython",
    "version": 3
   },
   "file_extension": ".py",
   "mimetype": "text/x-python",
   "name": "python",
   "nbconvert_exporter": "python",
   "pygments_lexer": "ipython3",
   "version": "3.9.13"
  }
 },
 "nbformat": 4,
 "nbformat_minor": 5
}
